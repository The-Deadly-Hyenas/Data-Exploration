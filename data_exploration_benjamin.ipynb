{
 "cells": [
  {
   "cell_type": "markdown",
   "id": "5b621ef2-822a-4c6b-9ab7-d8c1979ce92e",
   "metadata": {},
   "source": [
    "# Exploring the Dataset\n",
    "---"
   ]
  },
  {
   "cell_type": "code",
   "execution_count": 8,
   "id": "4ffcf583-ac4e-47e9-a1da-3a836a5600a4",
   "metadata": {},
   "outputs": [],
   "source": [
    "# imports\n",
    "import os\n",
    "import numpy as np\n",
    "import pandas as pd\n",
    "import seaborn as sns\n",
    "import sklearn\n",
    "import matplotlib.pyplot as plt\n",
    "import plotly.express as px"
   ]
  },
  {
   "cell_type": "code",
   "execution_count": 9,
   "id": "05b478f6-f6d1-4505-bfc5-f2fe5c563c46",
   "metadata": {},
   "outputs": [
    {
     "data": {
      "text/html": [
       "<div>\n",
       "<style scoped>\n",
       "    .dataframe tbody tr th:only-of-type {\n",
       "        vertical-align: middle;\n",
       "    }\n",
       "\n",
       "    .dataframe tbody tr th {\n",
       "        vertical-align: top;\n",
       "    }\n",
       "\n",
       "    .dataframe thead th {\n",
       "        text-align: right;\n",
       "    }\n",
       "</style>\n",
       "<table border=\"1\" class=\"dataframe\">\n",
       "  <thead>\n",
       "    <tr style=\"text-align: right;\">\n",
       "      <th></th>\n",
       "      <th>pianist_id</th>\n",
       "      <th>segment_id</th>\n",
       "      <th>annotator_id</th>\n",
       "      <th>arousal</th>\n",
       "      <th>valence</th>\n",
       "      <th>gems_wonder</th>\n",
       "      <th>gems_transcendence</th>\n",
       "      <th>gems_tenderness</th>\n",
       "      <th>gems_nostalgia</th>\n",
       "      <th>gems_peacefulness</th>\n",
       "      <th>gems_power</th>\n",
       "      <th>gems_joyful_activation</th>\n",
       "      <th>gems_tension</th>\n",
       "      <th>gems_sadness</th>\n",
       "      <th>gemmes_flow</th>\n",
       "      <th>gemmes_movement</th>\n",
       "      <th>gemmes_force</th>\n",
       "      <th>gemmes_interior</th>\n",
       "      <th>gemmes_wandering</th>\n",
       "    </tr>\n",
       "  </thead>\n",
       "  <tbody>\n",
       "    <tr>\n",
       "      <th>0</th>\n",
       "      <td>1</td>\n",
       "      <td>0</td>\n",
       "      <td>91</td>\n",
       "      <td>1</td>\n",
       "      <td>-1</td>\n",
       "      <td>2</td>\n",
       "      <td>1</td>\n",
       "      <td>2</td>\n",
       "      <td>4</td>\n",
       "      <td>2.0</td>\n",
       "      <td>1</td>\n",
       "      <td>1</td>\n",
       "      <td>1</td>\n",
       "      <td>2</td>\n",
       "      <td>3</td>\n",
       "      <td>2</td>\n",
       "      <td>1</td>\n",
       "      <td>1.0</td>\n",
       "      <td>2</td>\n",
       "    </tr>\n",
       "    <tr>\n",
       "      <th>31</th>\n",
       "      <td>1</td>\n",
       "      <td>0</td>\n",
       "      <td>19</td>\n",
       "      <td>2</td>\n",
       "      <td>-1</td>\n",
       "      <td>3</td>\n",
       "      <td>3</td>\n",
       "      <td>3</td>\n",
       "      <td>4</td>\n",
       "      <td>4.0</td>\n",
       "      <td>1</td>\n",
       "      <td>2</td>\n",
       "      <td>3</td>\n",
       "      <td>3</td>\n",
       "      <td>3</td>\n",
       "      <td>2</td>\n",
       "      <td>2</td>\n",
       "      <td>3.0</td>\n",
       "      <td>3</td>\n",
       "    </tr>\n",
       "    <tr>\n",
       "      <th>62</th>\n",
       "      <td>1</td>\n",
       "      <td>0</td>\n",
       "      <td>189</td>\n",
       "      <td>2</td>\n",
       "      <td>0</td>\n",
       "      <td>2</td>\n",
       "      <td>1</td>\n",
       "      <td>2</td>\n",
       "      <td>1</td>\n",
       "      <td>4.0</td>\n",
       "      <td>2</td>\n",
       "      <td>2</td>\n",
       "      <td>1</td>\n",
       "      <td>1</td>\n",
       "      <td>3</td>\n",
       "      <td>2</td>\n",
       "      <td>1</td>\n",
       "      <td>1.0</td>\n",
       "      <td>4</td>\n",
       "    </tr>\n",
       "    <tr>\n",
       "      <th>93</th>\n",
       "      <td>1</td>\n",
       "      <td>0</td>\n",
       "      <td>126</td>\n",
       "      <td>2</td>\n",
       "      <td>2</td>\n",
       "      <td>4</td>\n",
       "      <td>5</td>\n",
       "      <td>2</td>\n",
       "      <td>3</td>\n",
       "      <td>5.0</td>\n",
       "      <td>2</td>\n",
       "      <td>4</td>\n",
       "      <td>1</td>\n",
       "      <td>3</td>\n",
       "      <td>5</td>\n",
       "      <td>1</td>\n",
       "      <td>2</td>\n",
       "      <td>2.0</td>\n",
       "      <td>5</td>\n",
       "    </tr>\n",
       "    <tr>\n",
       "      <th>124</th>\n",
       "      <td>1</td>\n",
       "      <td>0</td>\n",
       "      <td>26</td>\n",
       "      <td>4</td>\n",
       "      <td>2</td>\n",
       "      <td>3</td>\n",
       "      <td>5</td>\n",
       "      <td>2</td>\n",
       "      <td>3</td>\n",
       "      <td>3.0</td>\n",
       "      <td>1</td>\n",
       "      <td>3</td>\n",
       "      <td>4</td>\n",
       "      <td>1</td>\n",
       "      <td>4</td>\n",
       "      <td>1</td>\n",
       "      <td>2</td>\n",
       "      <td>3.0</td>\n",
       "      <td>1</td>\n",
       "    </tr>\n",
       "    <tr>\n",
       "      <th>...</th>\n",
       "      <td>...</td>\n",
       "      <td>...</td>\n",
       "      <td>...</td>\n",
       "      <td>...</td>\n",
       "      <td>...</td>\n",
       "      <td>...</td>\n",
       "      <td>...</td>\n",
       "      <td>...</td>\n",
       "      <td>...</td>\n",
       "      <td>...</td>\n",
       "      <td>...</td>\n",
       "      <td>...</td>\n",
       "      <td>...</td>\n",
       "      <td>...</td>\n",
       "      <td>...</td>\n",
       "      <td>...</td>\n",
       "      <td>...</td>\n",
       "      <td>...</td>\n",
       "      <td>...</td>\n",
       "    </tr>\n",
       "    <tr>\n",
       "      <th>3888</th>\n",
       "      <td>11</td>\n",
       "      <td>26</td>\n",
       "      <td>36</td>\n",
       "      <td>3</td>\n",
       "      <td>-1</td>\n",
       "      <td>3</td>\n",
       "      <td>2</td>\n",
       "      <td>1</td>\n",
       "      <td>4</td>\n",
       "      <td>1.0</td>\n",
       "      <td>3</td>\n",
       "      <td>2</td>\n",
       "      <td>3</td>\n",
       "      <td>5</td>\n",
       "      <td>4</td>\n",
       "      <td>2</td>\n",
       "      <td>2</td>\n",
       "      <td>5.0</td>\n",
       "      <td>3</td>\n",
       "    </tr>\n",
       "    <tr>\n",
       "      <th>3919</th>\n",
       "      <td>11</td>\n",
       "      <td>26</td>\n",
       "      <td>55</td>\n",
       "      <td>2</td>\n",
       "      <td>0</td>\n",
       "      <td>2</td>\n",
       "      <td>2</td>\n",
       "      <td>2</td>\n",
       "      <td>3</td>\n",
       "      <td>3.0</td>\n",
       "      <td>3</td>\n",
       "      <td>1</td>\n",
       "      <td>3</td>\n",
       "      <td>1</td>\n",
       "      <td>2</td>\n",
       "      <td>3</td>\n",
       "      <td>2</td>\n",
       "      <td>1.0</td>\n",
       "      <td>1</td>\n",
       "    </tr>\n",
       "    <tr>\n",
       "      <th>3950</th>\n",
       "      <td>11</td>\n",
       "      <td>26</td>\n",
       "      <td>136</td>\n",
       "      <td>2</td>\n",
       "      <td>1</td>\n",
       "      <td>2</td>\n",
       "      <td>1</td>\n",
       "      <td>1</td>\n",
       "      <td>2</td>\n",
       "      <td>2.0</td>\n",
       "      <td>2</td>\n",
       "      <td>2</td>\n",
       "      <td>1</td>\n",
       "      <td>1</td>\n",
       "      <td>2</td>\n",
       "      <td>2</td>\n",
       "      <td>1</td>\n",
       "      <td>2.0</td>\n",
       "      <td>2</td>\n",
       "    </tr>\n",
       "    <tr>\n",
       "      <th>3981</th>\n",
       "      <td>11</td>\n",
       "      <td>26</td>\n",
       "      <td>169</td>\n",
       "      <td>2</td>\n",
       "      <td>0</td>\n",
       "      <td>2</td>\n",
       "      <td>1</td>\n",
       "      <td>2</td>\n",
       "      <td>2</td>\n",
       "      <td>1.0</td>\n",
       "      <td>3</td>\n",
       "      <td>4</td>\n",
       "      <td>3</td>\n",
       "      <td>2</td>\n",
       "      <td>2</td>\n",
       "      <td>3</td>\n",
       "      <td>3</td>\n",
       "      <td>1.0</td>\n",
       "      <td>1</td>\n",
       "    </tr>\n",
       "    <tr>\n",
       "      <th>4012</th>\n",
       "      <td>11</td>\n",
       "      <td>26</td>\n",
       "      <td>76</td>\n",
       "      <td>3</td>\n",
       "      <td>-1</td>\n",
       "      <td>3</td>\n",
       "      <td>2</td>\n",
       "      <td>3</td>\n",
       "      <td>3</td>\n",
       "      <td>3.0</td>\n",
       "      <td>2</td>\n",
       "      <td>1</td>\n",
       "      <td>1</td>\n",
       "      <td>2</td>\n",
       "      <td>3</td>\n",
       "      <td>2</td>\n",
       "      <td>2</td>\n",
       "      <td>3.0</td>\n",
       "      <td>3</td>\n",
       "    </tr>\n",
       "  </tbody>\n",
       "</table>\n",
       "<p>2638 rows × 19 columns</p>\n",
       "</div>"
      ],
      "text/plain": [
       "      pianist_id  segment_id  annotator_id  arousal  valence  gems_wonder  \\\n",
       "0              1           0            91        1       -1            2   \n",
       "31             1           0            19        2       -1            3   \n",
       "62             1           0           189        2        0            2   \n",
       "93             1           0           126        2        2            4   \n",
       "124            1           0            26        4        2            3   \n",
       "...          ...         ...           ...      ...      ...          ...   \n",
       "3888          11          26            36        3       -1            3   \n",
       "3919          11          26            55        2        0            2   \n",
       "3950          11          26           136        2        1            2   \n",
       "3981          11          26           169        2        0            2   \n",
       "4012          11          26            76        3       -1            3   \n",
       "\n",
       "      gems_transcendence  gems_tenderness  gems_nostalgia  gems_peacefulness  \\\n",
       "0                      1                2               4                2.0   \n",
       "31                     3                3               4                4.0   \n",
       "62                     1                2               1                4.0   \n",
       "93                     5                2               3                5.0   \n",
       "124                    5                2               3                3.0   \n",
       "...                  ...              ...             ...                ...   \n",
       "3888                   2                1               4                1.0   \n",
       "3919                   2                2               3                3.0   \n",
       "3950                   1                1               2                2.0   \n",
       "3981                   1                2               2                1.0   \n",
       "4012                   2                3               3                3.0   \n",
       "\n",
       "      gems_power  gems_joyful_activation  gems_tension  gems_sadness  \\\n",
       "0              1                       1             1             2   \n",
       "31             1                       2             3             3   \n",
       "62             2                       2             1             1   \n",
       "93             2                       4             1             3   \n",
       "124            1                       3             4             1   \n",
       "...          ...                     ...           ...           ...   \n",
       "3888           3                       2             3             5   \n",
       "3919           3                       1             3             1   \n",
       "3950           2                       2             1             1   \n",
       "3981           3                       4             3             2   \n",
       "4012           2                       1             1             2   \n",
       "\n",
       "      gemmes_flow  gemmes_movement  gemmes_force  gemmes_interior  \\\n",
       "0               3                2             1              1.0   \n",
       "31              3                2             2              3.0   \n",
       "62              3                2             1              1.0   \n",
       "93              5                1             2              2.0   \n",
       "124             4                1             2              3.0   \n",
       "...           ...              ...           ...              ...   \n",
       "3888            4                2             2              5.0   \n",
       "3919            2                3             2              1.0   \n",
       "3950            2                2             1              2.0   \n",
       "3981            2                3             3              1.0   \n",
       "4012            3                2             2              3.0   \n",
       "\n",
       "      gemmes_wandering  \n",
       "0                    2  \n",
       "31                   3  \n",
       "62                   4  \n",
       "93                   5  \n",
       "124                  1  \n",
       "...                ...  \n",
       "3888                 3  \n",
       "3919                 1  \n",
       "3950                 2  \n",
       "3981                 1  \n",
       "4012                 3  \n",
       "\n",
       "[2638 rows x 19 columns]"
      ]
     },
     "execution_count": 9,
     "metadata": {},
     "output_type": "execute_result"
    }
   ],
   "source": [
    "# annotated features\n",
    "annot = pd.read_pickle(os.path.join('dataset', 'task_2_annotations_82d1d6d1093eaab6_e330cbf_pandas.pkl'))\n",
    "annot_df = pd.DataFrame.from_dict(annot)\n",
    "annot_df"
   ]
  },
  {
   "cell_type": "code",
   "execution_count": 10,
   "id": "2efed1c6-bc4b-4174-9141-017a87979d5d",
   "metadata": {},
   "outputs": [],
   "source": [
    "# calculated features\n",
    "# pandas_features = pd.read_pickle(os.path.join('dataset', 'task_2_features_1d8b658c21ddc127_e330cbf_pandas.pkl'))\n",
    "# pandas_feature_df = pd.DataFrame.from_dict(pandas_features)\n",
    "# pandas_feature_df"
   ]
  },
  {
   "cell_type": "code",
   "execution_count": 11,
   "id": "8ee8b88f-63e0-4b1c-ba4e-99795a38d9f3",
   "metadata": {},
   "outputs": [],
   "source": [
    "# pandas_feature_df"
   ]
  },
  {
   "cell_type": "markdown",
   "id": "4158ea34-df61-41ad-a650-5203b65a4857",
   "metadata": {},
   "source": [
    "### Dataset Preprocessing\n",
    "---"
   ]
  },
  {
   "cell_type": "code",
   "execution_count": 12,
   "id": "13a315bf-0df2-408b-88bb-9cba4f107124",
   "metadata": {},
   "outputs": [
    {
     "data": {
      "text/html": [
       "<div>\n",
       "<style scoped>\n",
       "    .dataframe tbody tr th:only-of-type {\n",
       "        vertical-align: middle;\n",
       "    }\n",
       "\n",
       "    .dataframe tbody tr th {\n",
       "        vertical-align: top;\n",
       "    }\n",
       "\n",
       "    .dataframe thead th {\n",
       "        text-align: right;\n",
       "    }\n",
       "</style>\n",
       "<table border=\"1\" class=\"dataframe\">\n",
       "  <thead>\n",
       "    <tr style=\"text-align: right;\">\n",
       "      <th></th>\n",
       "      <th>pianist_id</th>\n",
       "      <th>segment_id</th>\n",
       "      <th>annotator_id</th>\n",
       "      <th>arousal</th>\n",
       "      <th>valence</th>\n",
       "      <th>gems_wonder</th>\n",
       "      <th>gems_transcendence</th>\n",
       "      <th>gems_tenderness</th>\n",
       "      <th>gems_nostalgia</th>\n",
       "      <th>gems_peacefulness</th>\n",
       "      <th>gems_power</th>\n",
       "      <th>gems_joyful_activation</th>\n",
       "      <th>gems_tension</th>\n",
       "      <th>gems_sadness</th>\n",
       "      <th>gemmes_flow</th>\n",
       "      <th>gemmes_movement</th>\n",
       "      <th>gemmes_force</th>\n",
       "      <th>gemmes_interior</th>\n",
       "      <th>gemmes_wandering</th>\n",
       "    </tr>\n",
       "  </thead>\n",
       "  <tbody>\n",
       "    <tr>\n",
       "      <th>0</th>\n",
       "      <td>-1.584129</td>\n",
       "      <td>-1.665261</td>\n",
       "      <td>-0.107767</td>\n",
       "      <td>-1.629596</td>\n",
       "      <td>-0.928178</td>\n",
       "      <td>-0.711373</td>\n",
       "      <td>-1.354151</td>\n",
       "      <td>-0.282325</td>\n",
       "      <td>0.930731</td>\n",
       "      <td>-0.289144</td>\n",
       "      <td>-1.065984</td>\n",
       "      <td>-1.030209</td>\n",
       "      <td>-1.130637</td>\n",
       "      <td>-0.125896</td>\n",
       "      <td>0.023672</td>\n",
       "      <td>-0.444882</td>\n",
       "      <td>-1.134149</td>\n",
       "      <td>-1.342541</td>\n",
       "      <td>-0.387798</td>\n",
       "    </tr>\n",
       "    <tr>\n",
       "      <th>31</th>\n",
       "      <td>-1.584129</td>\n",
       "      <td>-1.665261</td>\n",
       "      <td>-1.385706</td>\n",
       "      <td>-0.785024</td>\n",
       "      <td>-0.928178</td>\n",
       "      <td>0.077778</td>\n",
       "      <td>0.264082</td>\n",
       "      <td>0.488661</td>\n",
       "      <td>0.930731</td>\n",
       "      <td>1.172934</td>\n",
       "      <td>-1.065984</td>\n",
       "      <td>-0.223294</td>\n",
       "      <td>0.285612</td>\n",
       "      <td>0.723497</td>\n",
       "      <td>0.023672</td>\n",
       "      <td>-0.444882</td>\n",
       "      <td>-0.343482</td>\n",
       "      <td>0.246097</td>\n",
       "      <td>0.393723</td>\n",
       "    </tr>\n",
       "    <tr>\n",
       "      <th>62</th>\n",
       "      <td>-1.584129</td>\n",
       "      <td>-1.665261</td>\n",
       "      <td>1.631651</td>\n",
       "      <td>-0.785024</td>\n",
       "      <td>-0.018956</td>\n",
       "      <td>-0.711373</td>\n",
       "      <td>-1.354151</td>\n",
       "      <td>-0.282325</td>\n",
       "      <td>-1.256266</td>\n",
       "      <td>1.172934</td>\n",
       "      <td>-0.254421</td>\n",
       "      <td>-0.223294</td>\n",
       "      <td>-1.130637</td>\n",
       "      <td>-0.975288</td>\n",
       "      <td>0.023672</td>\n",
       "      <td>-0.444882</td>\n",
       "      <td>-1.134149</td>\n",
       "      <td>-1.342541</td>\n",
       "      <td>1.175244</td>\n",
       "    </tr>\n",
       "    <tr>\n",
       "      <th>93</th>\n",
       "      <td>-1.584129</td>\n",
       "      <td>-1.665261</td>\n",
       "      <td>0.513454</td>\n",
       "      <td>-0.785024</td>\n",
       "      <td>1.799487</td>\n",
       "      <td>0.866930</td>\n",
       "      <td>1.882316</td>\n",
       "      <td>-0.282325</td>\n",
       "      <td>0.201732</td>\n",
       "      <td>1.903973</td>\n",
       "      <td>-0.254421</td>\n",
       "      <td>1.390537</td>\n",
       "      <td>-1.130637</td>\n",
       "      <td>0.723497</td>\n",
       "      <td>1.528432</td>\n",
       "      <td>-1.237854</td>\n",
       "      <td>-0.343482</td>\n",
       "      <td>-0.548222</td>\n",
       "      <td>1.956766</td>\n",
       "    </tr>\n",
       "    <tr>\n",
       "      <th>124</th>\n",
       "      <td>-1.584129</td>\n",
       "      <td>-1.665261</td>\n",
       "      <td>-1.261462</td>\n",
       "      <td>0.904122</td>\n",
       "      <td>1.799487</td>\n",
       "      <td>0.077778</td>\n",
       "      <td>1.882316</td>\n",
       "      <td>-0.282325</td>\n",
       "      <td>0.201732</td>\n",
       "      <td>0.441895</td>\n",
       "      <td>-1.065984</td>\n",
       "      <td>0.583622</td>\n",
       "      <td>0.993737</td>\n",
       "      <td>-0.975288</td>\n",
       "      <td>0.776052</td>\n",
       "      <td>-1.237854</td>\n",
       "      <td>-0.343482</td>\n",
       "      <td>0.246097</td>\n",
       "      <td>-1.169319</td>\n",
       "    </tr>\n",
       "    <tr>\n",
       "      <th>...</th>\n",
       "      <td>...</td>\n",
       "      <td>...</td>\n",
       "      <td>...</td>\n",
       "      <td>...</td>\n",
       "      <td>...</td>\n",
       "      <td>...</td>\n",
       "      <td>...</td>\n",
       "      <td>...</td>\n",
       "      <td>...</td>\n",
       "      <td>...</td>\n",
       "      <td>...</td>\n",
       "      <td>...</td>\n",
       "      <td>...</td>\n",
       "      <td>...</td>\n",
       "      <td>...</td>\n",
       "      <td>...</td>\n",
       "      <td>...</td>\n",
       "      <td>...</td>\n",
       "      <td>...</td>\n",
       "    </tr>\n",
       "    <tr>\n",
       "      <th>3888</th>\n",
       "      <td>1.560763</td>\n",
       "      <td>1.665261</td>\n",
       "      <td>-1.083970</td>\n",
       "      <td>0.059549</td>\n",
       "      <td>-0.928178</td>\n",
       "      <td>0.077778</td>\n",
       "      <td>-0.545034</td>\n",
       "      <td>-1.053310</td>\n",
       "      <td>0.930731</td>\n",
       "      <td>-1.020183</td>\n",
       "      <td>0.557142</td>\n",
       "      <td>-0.223294</td>\n",
       "      <td>0.285612</td>\n",
       "      <td>2.422283</td>\n",
       "      <td>0.776052</td>\n",
       "      <td>-0.444882</td>\n",
       "      <td>-0.343482</td>\n",
       "      <td>1.834735</td>\n",
       "      <td>0.393723</td>\n",
       "    </tr>\n",
       "    <tr>\n",
       "      <th>3919</th>\n",
       "      <td>1.560763</td>\n",
       "      <td>1.665261</td>\n",
       "      <td>-0.746736</td>\n",
       "      <td>-0.785024</td>\n",
       "      <td>-0.018956</td>\n",
       "      <td>-0.711373</td>\n",
       "      <td>-0.545034</td>\n",
       "      <td>-0.282325</td>\n",
       "      <td>0.201732</td>\n",
       "      <td>0.441895</td>\n",
       "      <td>0.557142</td>\n",
       "      <td>-1.030209</td>\n",
       "      <td>0.285612</td>\n",
       "      <td>-0.975288</td>\n",
       "      <td>-0.728708</td>\n",
       "      <td>0.348090</td>\n",
       "      <td>-0.343482</td>\n",
       "      <td>-1.342541</td>\n",
       "      <td>-1.169319</td>\n",
       "    </tr>\n",
       "    <tr>\n",
       "      <th>3950</th>\n",
       "      <td>1.560763</td>\n",
       "      <td>1.665261</td>\n",
       "      <td>0.690945</td>\n",
       "      <td>-0.785024</td>\n",
       "      <td>0.890265</td>\n",
       "      <td>-0.711373</td>\n",
       "      <td>-1.354151</td>\n",
       "      <td>-1.053310</td>\n",
       "      <td>-0.527267</td>\n",
       "      <td>-0.289144</td>\n",
       "      <td>-0.254421</td>\n",
       "      <td>-0.223294</td>\n",
       "      <td>-1.130637</td>\n",
       "      <td>-0.975288</td>\n",
       "      <td>-0.728708</td>\n",
       "      <td>-0.444882</td>\n",
       "      <td>-1.134149</td>\n",
       "      <td>-0.548222</td>\n",
       "      <td>-0.387798</td>\n",
       "    </tr>\n",
       "    <tr>\n",
       "      <th>3981</th>\n",
       "      <td>1.560763</td>\n",
       "      <td>1.665261</td>\n",
       "      <td>1.276667</td>\n",
       "      <td>-0.785024</td>\n",
       "      <td>-0.018956</td>\n",
       "      <td>-0.711373</td>\n",
       "      <td>-1.354151</td>\n",
       "      <td>-0.282325</td>\n",
       "      <td>-0.527267</td>\n",
       "      <td>-1.020183</td>\n",
       "      <td>0.557142</td>\n",
       "      <td>1.390537</td>\n",
       "      <td>0.285612</td>\n",
       "      <td>-0.125896</td>\n",
       "      <td>-0.728708</td>\n",
       "      <td>0.348090</td>\n",
       "      <td>0.447186</td>\n",
       "      <td>-1.342541</td>\n",
       "      <td>-1.169319</td>\n",
       "    </tr>\n",
       "    <tr>\n",
       "      <th>4012</th>\n",
       "      <td>1.560763</td>\n",
       "      <td>1.665261</td>\n",
       "      <td>-0.374004</td>\n",
       "      <td>0.059549</td>\n",
       "      <td>-0.928178</td>\n",
       "      <td>0.077778</td>\n",
       "      <td>-0.545034</td>\n",
       "      <td>0.488661</td>\n",
       "      <td>0.201732</td>\n",
       "      <td>0.441895</td>\n",
       "      <td>-0.254421</td>\n",
       "      <td>-1.030209</td>\n",
       "      <td>-1.130637</td>\n",
       "      <td>-0.125896</td>\n",
       "      <td>0.023672</td>\n",
       "      <td>-0.444882</td>\n",
       "      <td>-0.343482</td>\n",
       "      <td>0.246097</td>\n",
       "      <td>0.393723</td>\n",
       "    </tr>\n",
       "  </tbody>\n",
       "</table>\n",
       "<p>2638 rows × 19 columns</p>\n",
       "</div>"
      ],
      "text/plain": [
       "      pianist_id  segment_id  annotator_id   arousal   valence  gems_wonder  \\\n",
       "0      -1.584129   -1.665261     -0.107767 -1.629596 -0.928178    -0.711373   \n",
       "31     -1.584129   -1.665261     -1.385706 -0.785024 -0.928178     0.077778   \n",
       "62     -1.584129   -1.665261      1.631651 -0.785024 -0.018956    -0.711373   \n",
       "93     -1.584129   -1.665261      0.513454 -0.785024  1.799487     0.866930   \n",
       "124    -1.584129   -1.665261     -1.261462  0.904122  1.799487     0.077778   \n",
       "...          ...         ...           ...       ...       ...          ...   \n",
       "3888    1.560763    1.665261     -1.083970  0.059549 -0.928178     0.077778   \n",
       "3919    1.560763    1.665261     -0.746736 -0.785024 -0.018956    -0.711373   \n",
       "3950    1.560763    1.665261      0.690945 -0.785024  0.890265    -0.711373   \n",
       "3981    1.560763    1.665261      1.276667 -0.785024 -0.018956    -0.711373   \n",
       "4012    1.560763    1.665261     -0.374004  0.059549 -0.928178     0.077778   \n",
       "\n",
       "      gems_transcendence  gems_tenderness  gems_nostalgia  gems_peacefulness  \\\n",
       "0              -1.354151        -0.282325        0.930731          -0.289144   \n",
       "31              0.264082         0.488661        0.930731           1.172934   \n",
       "62             -1.354151        -0.282325       -1.256266           1.172934   \n",
       "93              1.882316        -0.282325        0.201732           1.903973   \n",
       "124             1.882316        -0.282325        0.201732           0.441895   \n",
       "...                  ...              ...             ...                ...   \n",
       "3888           -0.545034        -1.053310        0.930731          -1.020183   \n",
       "3919           -0.545034        -0.282325        0.201732           0.441895   \n",
       "3950           -1.354151        -1.053310       -0.527267          -0.289144   \n",
       "3981           -1.354151        -0.282325       -0.527267          -1.020183   \n",
       "4012           -0.545034         0.488661        0.201732           0.441895   \n",
       "\n",
       "      gems_power  gems_joyful_activation  gems_tension  gems_sadness  \\\n",
       "0      -1.065984               -1.030209     -1.130637     -0.125896   \n",
       "31     -1.065984               -0.223294      0.285612      0.723497   \n",
       "62     -0.254421               -0.223294     -1.130637     -0.975288   \n",
       "93     -0.254421                1.390537     -1.130637      0.723497   \n",
       "124    -1.065984                0.583622      0.993737     -0.975288   \n",
       "...          ...                     ...           ...           ...   \n",
       "3888    0.557142               -0.223294      0.285612      2.422283   \n",
       "3919    0.557142               -1.030209      0.285612     -0.975288   \n",
       "3950   -0.254421               -0.223294     -1.130637     -0.975288   \n",
       "3981    0.557142                1.390537      0.285612     -0.125896   \n",
       "4012   -0.254421               -1.030209     -1.130637     -0.125896   \n",
       "\n",
       "      gemmes_flow  gemmes_movement  gemmes_force  gemmes_interior  \\\n",
       "0        0.023672        -0.444882     -1.134149        -1.342541   \n",
       "31       0.023672        -0.444882     -0.343482         0.246097   \n",
       "62       0.023672        -0.444882     -1.134149        -1.342541   \n",
       "93       1.528432        -1.237854     -0.343482        -0.548222   \n",
       "124      0.776052        -1.237854     -0.343482         0.246097   \n",
       "...           ...              ...           ...              ...   \n",
       "3888     0.776052        -0.444882     -0.343482         1.834735   \n",
       "3919    -0.728708         0.348090     -0.343482        -1.342541   \n",
       "3950    -0.728708        -0.444882     -1.134149        -0.548222   \n",
       "3981    -0.728708         0.348090      0.447186        -1.342541   \n",
       "4012     0.023672        -0.444882     -0.343482         0.246097   \n",
       "\n",
       "      gemmes_wandering  \n",
       "0            -0.387798  \n",
       "31            0.393723  \n",
       "62            1.175244  \n",
       "93            1.956766  \n",
       "124          -1.169319  \n",
       "...                ...  \n",
       "3888          0.393723  \n",
       "3919         -1.169319  \n",
       "3950         -0.387798  \n",
       "3981         -1.169319  \n",
       "4012          0.393723  \n",
       "\n",
       "[2638 rows x 19 columns]"
      ]
     },
     "execution_count": 12,
     "metadata": {},
     "output_type": "execute_result"
    }
   ],
   "source": [
    "# normalize dataset\n",
    "annot_df = (annot_df-annot_df.mean())/annot_df.std()\n",
    "annot_df"
   ]
  },
  {
   "cell_type": "markdown",
   "id": "5981d87c-e2ee-402e-942f-6cf213b8d5ec",
   "metadata": {},
   "source": [
    "### Feature Correlation\n",
    "---"
   ]
  },
  {
   "cell_type": "code",
   "execution_count": 13,
   "id": "569de73c-f669-46d3-99d3-fb15169845a8",
   "metadata": {},
   "outputs": [],
   "source": [
    "annot_df_corr = annot_df.copy()\n",
    "annot_df_corr = annot_df_corr.drop(['pianist_id', 'segment_id', 'annotator_id'], axis=1)\n",
    "\n",
    "def corr(df):\n",
    "    data_x, data_y = [], []\n",
    "    model = df.columns.to_list()[0:2]\n",
    "    features = df.columns.to_list()[2:16]\n",
    "    for idx, x in enumerate(features):\n",
    "        for idy, y in enumerate(model):\n",
    "            if idy == 0:\n",
    "                corr_arousal = df[y].corr(df[x])\n",
    "            elif idy == 1:\n",
    "                corr_valence = df[y].corr(df[x])    \n",
    "        data_x.append(corr_valence)\n",
    "        data_y.append(corr_arousal)\n",
    "    return data_x, data_y\n",
    "\n",
    "x, y = corr(annot_df_corr)"
   ]
  },
  {
   "cell_type": "code",
   "execution_count": 21,
   "id": "412b57b1-80ea-46f5-8c5e-cfeceb3f8e09",
   "metadata": {},
   "outputs": [
    {
     "data": {
      "application/vnd.plotly.v1+json": {
       "config": {
        "plotlyServerURL": "https://plot.ly"
       },
       "data": [
        {
         "hovertemplate": "x=%{x}<br>y=%{y}<extra></extra>",
         "legendgroup": "",
         "marker": {
          "color": "#636efa",
          "symbol": "circle"
         },
         "mode": "markers",
         "name": "",
         "orientation": "v",
         "showlegend": false,
         "type": "scatter",
         "x": [
          0.3935633614068816,
          0.2505090841249058,
          0.3253401111779433,
          0.043539592013233056,
          0.25504486064254117,
          -0.005944041324005098,
          0.39946208252942433,
          -0.4076974375964289,
          -0.4636505726964172,
          0.2588272683168868,
          0.12608203377906865,
          -0.07848463674797813,
          -0.04683073022242603,
          0.20255820247686382
         ],
         "xaxis": "x",
         "y": [
          0.14726803098339705,
          0.2734708612816341,
          -0.11257260713717182,
          -0.1962350826227733,
          -0.29398252287244386,
          0.47522463191979164,
          0.25003041762771167,
          0.2682957606140622,
          -0.08254600151131136,
          -0.1553904425069054,
          0.35412535394656675,
          0.46260706043830463,
          -0.0318907770213312,
          -0.059498524362616344
         ],
         "yaxis": "y"
        }
       ],
       "layout": {
        "height": 800,
        "legend": {
         "tracegroupgap": 0
        },
        "margin": {
         "t": 60
        },
        "template": {
         "data": {
          "bar": [
           {
            "error_x": {
             "color": "#2a3f5f"
            },
            "error_y": {
             "color": "#2a3f5f"
            },
            "marker": {
             "line": {
              "color": "#E5ECF6",
              "width": 0.5
             },
             "pattern": {
              "fillmode": "overlay",
              "size": 10,
              "solidity": 0.2
             }
            },
            "type": "bar"
           }
          ],
          "barpolar": [
           {
            "marker": {
             "line": {
              "color": "#E5ECF6",
              "width": 0.5
             },
             "pattern": {
              "fillmode": "overlay",
              "size": 10,
              "solidity": 0.2
             }
            },
            "type": "barpolar"
           }
          ],
          "carpet": [
           {
            "aaxis": {
             "endlinecolor": "#2a3f5f",
             "gridcolor": "white",
             "linecolor": "white",
             "minorgridcolor": "white",
             "startlinecolor": "#2a3f5f"
            },
            "baxis": {
             "endlinecolor": "#2a3f5f",
             "gridcolor": "white",
             "linecolor": "white",
             "minorgridcolor": "white",
             "startlinecolor": "#2a3f5f"
            },
            "type": "carpet"
           }
          ],
          "choropleth": [
           {
            "colorbar": {
             "outlinewidth": 0,
             "ticks": ""
            },
            "type": "choropleth"
           }
          ],
          "contour": [
           {
            "colorbar": {
             "outlinewidth": 0,
             "ticks": ""
            },
            "colorscale": [
             [
              0,
              "#0d0887"
             ],
             [
              0.1111111111111111,
              "#46039f"
             ],
             [
              0.2222222222222222,
              "#7201a8"
             ],
             [
              0.3333333333333333,
              "#9c179e"
             ],
             [
              0.4444444444444444,
              "#bd3786"
             ],
             [
              0.5555555555555556,
              "#d8576b"
             ],
             [
              0.6666666666666666,
              "#ed7953"
             ],
             [
              0.7777777777777778,
              "#fb9f3a"
             ],
             [
              0.8888888888888888,
              "#fdca26"
             ],
             [
              1,
              "#f0f921"
             ]
            ],
            "type": "contour"
           }
          ],
          "contourcarpet": [
           {
            "colorbar": {
             "outlinewidth": 0,
             "ticks": ""
            },
            "type": "contourcarpet"
           }
          ],
          "heatmap": [
           {
            "colorbar": {
             "outlinewidth": 0,
             "ticks": ""
            },
            "colorscale": [
             [
              0,
              "#0d0887"
             ],
             [
              0.1111111111111111,
              "#46039f"
             ],
             [
              0.2222222222222222,
              "#7201a8"
             ],
             [
              0.3333333333333333,
              "#9c179e"
             ],
             [
              0.4444444444444444,
              "#bd3786"
             ],
             [
              0.5555555555555556,
              "#d8576b"
             ],
             [
              0.6666666666666666,
              "#ed7953"
             ],
             [
              0.7777777777777778,
              "#fb9f3a"
             ],
             [
              0.8888888888888888,
              "#fdca26"
             ],
             [
              1,
              "#f0f921"
             ]
            ],
            "type": "heatmap"
           }
          ],
          "heatmapgl": [
           {
            "colorbar": {
             "outlinewidth": 0,
             "ticks": ""
            },
            "colorscale": [
             [
              0,
              "#0d0887"
             ],
             [
              0.1111111111111111,
              "#46039f"
             ],
             [
              0.2222222222222222,
              "#7201a8"
             ],
             [
              0.3333333333333333,
              "#9c179e"
             ],
             [
              0.4444444444444444,
              "#bd3786"
             ],
             [
              0.5555555555555556,
              "#d8576b"
             ],
             [
              0.6666666666666666,
              "#ed7953"
             ],
             [
              0.7777777777777778,
              "#fb9f3a"
             ],
             [
              0.8888888888888888,
              "#fdca26"
             ],
             [
              1,
              "#f0f921"
             ]
            ],
            "type": "heatmapgl"
           }
          ],
          "histogram": [
           {
            "marker": {
             "pattern": {
              "fillmode": "overlay",
              "size": 10,
              "solidity": 0.2
             }
            },
            "type": "histogram"
           }
          ],
          "histogram2d": [
           {
            "colorbar": {
             "outlinewidth": 0,
             "ticks": ""
            },
            "colorscale": [
             [
              0,
              "#0d0887"
             ],
             [
              0.1111111111111111,
              "#46039f"
             ],
             [
              0.2222222222222222,
              "#7201a8"
             ],
             [
              0.3333333333333333,
              "#9c179e"
             ],
             [
              0.4444444444444444,
              "#bd3786"
             ],
             [
              0.5555555555555556,
              "#d8576b"
             ],
             [
              0.6666666666666666,
              "#ed7953"
             ],
             [
              0.7777777777777778,
              "#fb9f3a"
             ],
             [
              0.8888888888888888,
              "#fdca26"
             ],
             [
              1,
              "#f0f921"
             ]
            ],
            "type": "histogram2d"
           }
          ],
          "histogram2dcontour": [
           {
            "colorbar": {
             "outlinewidth": 0,
             "ticks": ""
            },
            "colorscale": [
             [
              0,
              "#0d0887"
             ],
             [
              0.1111111111111111,
              "#46039f"
             ],
             [
              0.2222222222222222,
              "#7201a8"
             ],
             [
              0.3333333333333333,
              "#9c179e"
             ],
             [
              0.4444444444444444,
              "#bd3786"
             ],
             [
              0.5555555555555556,
              "#d8576b"
             ],
             [
              0.6666666666666666,
              "#ed7953"
             ],
             [
              0.7777777777777778,
              "#fb9f3a"
             ],
             [
              0.8888888888888888,
              "#fdca26"
             ],
             [
              1,
              "#f0f921"
             ]
            ],
            "type": "histogram2dcontour"
           }
          ],
          "mesh3d": [
           {
            "colorbar": {
             "outlinewidth": 0,
             "ticks": ""
            },
            "type": "mesh3d"
           }
          ],
          "parcoords": [
           {
            "line": {
             "colorbar": {
              "outlinewidth": 0,
              "ticks": ""
             }
            },
            "type": "parcoords"
           }
          ],
          "pie": [
           {
            "automargin": true,
            "type": "pie"
           }
          ],
          "scatter": [
           {
            "marker": {
             "colorbar": {
              "outlinewidth": 0,
              "ticks": ""
             }
            },
            "type": "scatter"
           }
          ],
          "scatter3d": [
           {
            "line": {
             "colorbar": {
              "outlinewidth": 0,
              "ticks": ""
             }
            },
            "marker": {
             "colorbar": {
              "outlinewidth": 0,
              "ticks": ""
             }
            },
            "type": "scatter3d"
           }
          ],
          "scattercarpet": [
           {
            "marker": {
             "colorbar": {
              "outlinewidth": 0,
              "ticks": ""
             }
            },
            "type": "scattercarpet"
           }
          ],
          "scattergeo": [
           {
            "marker": {
             "colorbar": {
              "outlinewidth": 0,
              "ticks": ""
             }
            },
            "type": "scattergeo"
           }
          ],
          "scattergl": [
           {
            "marker": {
             "colorbar": {
              "outlinewidth": 0,
              "ticks": ""
             }
            },
            "type": "scattergl"
           }
          ],
          "scattermapbox": [
           {
            "marker": {
             "colorbar": {
              "outlinewidth": 0,
              "ticks": ""
             }
            },
            "type": "scattermapbox"
           }
          ],
          "scatterpolar": [
           {
            "marker": {
             "colorbar": {
              "outlinewidth": 0,
              "ticks": ""
             }
            },
            "type": "scatterpolar"
           }
          ],
          "scatterpolargl": [
           {
            "marker": {
             "colorbar": {
              "outlinewidth": 0,
              "ticks": ""
             }
            },
            "type": "scatterpolargl"
           }
          ],
          "scatterternary": [
           {
            "marker": {
             "colorbar": {
              "outlinewidth": 0,
              "ticks": ""
             }
            },
            "type": "scatterternary"
           }
          ],
          "surface": [
           {
            "colorbar": {
             "outlinewidth": 0,
             "ticks": ""
            },
            "colorscale": [
             [
              0,
              "#0d0887"
             ],
             [
              0.1111111111111111,
              "#46039f"
             ],
             [
              0.2222222222222222,
              "#7201a8"
             ],
             [
              0.3333333333333333,
              "#9c179e"
             ],
             [
              0.4444444444444444,
              "#bd3786"
             ],
             [
              0.5555555555555556,
              "#d8576b"
             ],
             [
              0.6666666666666666,
              "#ed7953"
             ],
             [
              0.7777777777777778,
              "#fb9f3a"
             ],
             [
              0.8888888888888888,
              "#fdca26"
             ],
             [
              1,
              "#f0f921"
             ]
            ],
            "type": "surface"
           }
          ],
          "table": [
           {
            "cells": {
             "fill": {
              "color": "#EBF0F8"
             },
             "line": {
              "color": "white"
             }
            },
            "header": {
             "fill": {
              "color": "#C8D4E3"
             },
             "line": {
              "color": "white"
             }
            },
            "type": "table"
           }
          ]
         },
         "layout": {
          "annotationdefaults": {
           "arrowcolor": "#2a3f5f",
           "arrowhead": 0,
           "arrowwidth": 1
          },
          "autotypenumbers": "strict",
          "coloraxis": {
           "colorbar": {
            "outlinewidth": 0,
            "ticks": ""
           }
          },
          "colorscale": {
           "diverging": [
            [
             0,
             "#8e0152"
            ],
            [
             0.1,
             "#c51b7d"
            ],
            [
             0.2,
             "#de77ae"
            ],
            [
             0.3,
             "#f1b6da"
            ],
            [
             0.4,
             "#fde0ef"
            ],
            [
             0.5,
             "#f7f7f7"
            ],
            [
             0.6,
             "#e6f5d0"
            ],
            [
             0.7,
             "#b8e186"
            ],
            [
             0.8,
             "#7fbc41"
            ],
            [
             0.9,
             "#4d9221"
            ],
            [
             1,
             "#276419"
            ]
           ],
           "sequential": [
            [
             0,
             "#0d0887"
            ],
            [
             0.1111111111111111,
             "#46039f"
            ],
            [
             0.2222222222222222,
             "#7201a8"
            ],
            [
             0.3333333333333333,
             "#9c179e"
            ],
            [
             0.4444444444444444,
             "#bd3786"
            ],
            [
             0.5555555555555556,
             "#d8576b"
            ],
            [
             0.6666666666666666,
             "#ed7953"
            ],
            [
             0.7777777777777778,
             "#fb9f3a"
            ],
            [
             0.8888888888888888,
             "#fdca26"
            ],
            [
             1,
             "#f0f921"
            ]
           ],
           "sequentialminus": [
            [
             0,
             "#0d0887"
            ],
            [
             0.1111111111111111,
             "#46039f"
            ],
            [
             0.2222222222222222,
             "#7201a8"
            ],
            [
             0.3333333333333333,
             "#9c179e"
            ],
            [
             0.4444444444444444,
             "#bd3786"
            ],
            [
             0.5555555555555556,
             "#d8576b"
            ],
            [
             0.6666666666666666,
             "#ed7953"
            ],
            [
             0.7777777777777778,
             "#fb9f3a"
            ],
            [
             0.8888888888888888,
             "#fdca26"
            ],
            [
             1,
             "#f0f921"
            ]
           ]
          },
          "colorway": [
           "#636efa",
           "#EF553B",
           "#00cc96",
           "#ab63fa",
           "#FFA15A",
           "#19d3f3",
           "#FF6692",
           "#B6E880",
           "#FF97FF",
           "#FECB52"
          ],
          "font": {
           "color": "#2a3f5f"
          },
          "geo": {
           "bgcolor": "white",
           "lakecolor": "white",
           "landcolor": "#E5ECF6",
           "showlakes": true,
           "showland": true,
           "subunitcolor": "white"
          },
          "hoverlabel": {
           "align": "left"
          },
          "hovermode": "closest",
          "mapbox": {
           "style": "light"
          },
          "paper_bgcolor": "white",
          "plot_bgcolor": "#E5ECF6",
          "polar": {
           "angularaxis": {
            "gridcolor": "white",
            "linecolor": "white",
            "ticks": ""
           },
           "bgcolor": "#E5ECF6",
           "radialaxis": {
            "gridcolor": "white",
            "linecolor": "white",
            "ticks": ""
           }
          },
          "scene": {
           "xaxis": {
            "backgroundcolor": "#E5ECF6",
            "gridcolor": "white",
            "gridwidth": 2,
            "linecolor": "white",
            "showbackground": true,
            "ticks": "",
            "zerolinecolor": "white"
           },
           "yaxis": {
            "backgroundcolor": "#E5ECF6",
            "gridcolor": "white",
            "gridwidth": 2,
            "linecolor": "white",
            "showbackground": true,
            "ticks": "",
            "zerolinecolor": "white"
           },
           "zaxis": {
            "backgroundcolor": "#E5ECF6",
            "gridcolor": "white",
            "gridwidth": 2,
            "linecolor": "white",
            "showbackground": true,
            "ticks": "",
            "zerolinecolor": "white"
           }
          },
          "shapedefaults": {
           "line": {
            "color": "#2a3f5f"
           }
          },
          "ternary": {
           "aaxis": {
            "gridcolor": "white",
            "linecolor": "white",
            "ticks": ""
           },
           "baxis": {
            "gridcolor": "white",
            "linecolor": "white",
            "ticks": ""
           },
           "bgcolor": "#E5ECF6",
           "caxis": {
            "gridcolor": "white",
            "linecolor": "white",
            "ticks": ""
           }
          },
          "title": {
           "x": 0.05
          },
          "xaxis": {
           "automargin": true,
           "gridcolor": "white",
           "linecolor": "white",
           "ticks": "",
           "title": {
            "standoff": 15
           },
           "zerolinecolor": "white",
           "zerolinewidth": 2
          },
          "yaxis": {
           "automargin": true,
           "gridcolor": "white",
           "linecolor": "white",
           "ticks": "",
           "title": {
            "standoff": 15
           },
           "zerolinecolor": "white",
           "zerolinewidth": 2
          }
         }
        },
        "width": 800,
        "xaxis": {
         "anchor": "y",
         "domain": [
          0,
          1
         ],
         "range": [
          -1,
          1
         ],
         "title": {
          "text": "valence - correlation"
         },
         "type": "linear"
        },
        "yaxis": {
         "anchor": "x",
         "domain": [
          0,
          1
         ],
         "range": [
          -1,
          1
         ],
         "title": {
          "text": "arousal - correlation"
         },
         "type": "linear"
        }
       }
      },
      "image/png": "[encoded data removed]",
      "text/html": [
       "<div>                            <div id=\"7eb75726-fa62-4d36-a250-d201235c9092\" class=\"plotly-graph-div\" style=\"height:800px; width:800px;\"></div>            <script type=\"text/javascript\">                require([\"plotly\"], function(Plotly) {                    window.PLOTLYENV=window.PLOTLYENV || {};                                    if (document.getElementById(\"7eb75726-fa62-4d36-a250-d201235c9092\")) {                    Plotly.newPlot(                        \"7eb75726-fa62-4d36-a250-d201235c9092\",                        [{\"hovertemplate\":\"x=%{x}<br>y=%{y}<extra></extra>\",\"legendgroup\":\"\",\"marker\":{\"color\":\"#636efa\",\"symbol\":\"circle\"},\"mode\":\"markers\",\"name\":\"\",\"orientation\":\"v\",\"showlegend\":false,\"x\":[0.3935633614068816,0.2505090841249058,0.3253401111779433,0.043539592013233056,0.25504486064254117,-0.005944041324005098,0.39946208252942433,-0.4076974375964289,-0.4636505726964172,0.2588272683168868,0.12608203377906865,-0.07848463674797813,-0.04683073022242603,0.20255820247686382],\"xaxis\":\"x\",\"y\":[0.14726803098339705,0.2734708612816341,-0.11257260713717182,-0.1962350826227733,-0.29398252287244386,0.47522463191979164,0.25003041762771167,0.2682957606140622,-0.08254600151131136,-0.1553904425069054,0.35412535394656675,0.46260706043830463,-0.0318907770213312,-0.059498524362616344],\"yaxis\":\"y\",\"type\":\"scatter\"}],                        {\"template\":{\"data\":{\"bar\":[{\"error_x\":{\"color\":\"#2a3f5f\"},\"error_y\":{\"color\":\"#2a3f5f\"},\"marker\":{\"line\":{\"color\":\"#E5ECF6\",\"width\":0.5},\"pattern\":{\"fillmode\":\"overlay\",\"size\":10,\"solidity\":0.2}},\"type\":\"bar\"}],\"barpolar\":[{\"marker\":{\"line\":{\"color\":\"#E5ECF6\",\"width\":0.5},\"pattern\":{\"fillmode\":\"overlay\",\"size\":10,\"solidity\":0.2}},\"type\":\"barpolar\"}],\"carpet\":[{\"aaxis\":{\"endlinecolor\":\"#2a3f5f\",\"gridcolor\":\"white\",\"linecolor\":\"white\",\"minorgridcolor\":\"white\",\"startlinecolor\":\"#2a3f5f\"},\"baxis\":{\"endlinecolor\":\"#2a3f5f\",\"gridcolor\":\"white\",\"linecolor\":\"white\",\"minorgridcolor\":\"white\",\"startlinecolor\":\"#2a3f5f\"},\"type\":\"carpet\"}],\"choropleth\":[{\"colorbar\":{\"outlinewidth\":0,\"ticks\":\"\"},\"type\":\"choropleth\"}],\"contour\":[{\"colorbar\":{\"outlinewidth\":0,\"ticks\":\"\"},\"colorscale\":[[0.0,\"#0d0887\"],[0.1111111111111111,\"#46039f\"],[0.2222222222222222,\"#7201a8\"],[0.3333333333333333,\"#9c179e\"],[0.4444444444444444,\"#bd3786\"],[0.5555555555555556,\"#d8576b\"],[0.6666666666666666,\"#ed7953\"],[0.7777777777777778,\"#fb9f3a\"],[0.8888888888888888,\"#fdca26\"],[1.0,\"#f0f921\"]],\"type\":\"contour\"}],\"contourcarpet\":[{\"colorbar\":{\"outlinewidth\":0,\"ticks\":\"\"},\"type\":\"contourcarpet\"}],\"heatmap\":[{\"colorbar\":{\"outlinewidth\":0,\"ticks\":\"\"},\"colorscale\":[[0.0,\"#0d0887\"],[0.1111111111111111,\"#46039f\"],[0.2222222222222222,\"#7201a8\"],[0.3333333333333333,\"#9c179e\"],[0.4444444444444444,\"#bd3786\"],[0.5555555555555556,\"#d8576b\"],[0.6666666666666666,\"#ed7953\"],[0.7777777777777778,\"#fb9f3a\"],[0.8888888888888888,\"#fdca26\"],[1.0,\"#f0f921\"]],\"type\":\"heatmap\"}],\"heatmapgl\":[{\"colorbar\":{\"outlinewidth\":0,\"ticks\":\"\"},\"colorscale\":[[0.0,\"#0d0887\"],[0.1111111111111111,\"#46039f\"],[0.2222222222222222,\"#7201a8\"],[0.3333333333333333,\"#9c179e\"],[0.4444444444444444,\"#bd3786\"],[0.5555555555555556,\"#d8576b\"],[0.6666666666666666,\"#ed7953\"],[0.7777777777777778,\"#fb9f3a\"],[0.8888888888888888,\"#fdca26\"],[1.0,\"#f0f921\"]],\"type\":\"heatmapgl\"}],\"histogram\":[{\"marker\":{\"pattern\":{\"fillmode\":\"overlay\",\"size\":10,\"solidity\":0.2}},\"type\":\"histogram\"}],\"histogram2d\":[{\"colorbar\":{\"outlinewidth\":0,\"ticks\":\"\"},\"colorscale\":[[0.0,\"#0d0887\"],[0.1111111111111111,\"#46039f\"],[0.2222222222222222,\"#7201a8\"],[0.3333333333333333,\"#9c179e\"],[0.4444444444444444,\"#bd3786\"],[0.5555555555555556,\"#d8576b\"],[0.6666666666666666,\"#ed7953\"],[0.7777777777777778,\"#fb9f3a\"],[0.8888888888888888,\"#fdca26\"],[1.0,\"#f0f921\"]],\"type\":\"histogram2d\"}],\"histogram2dcontour\":[{\"colorbar\":{\"outlinewidth\":0,\"ticks\":\"\"},\"colorscale\":[[0.0,\"#0d0887\"],[0.1111111111111111,\"#46039f\"],[0.2222222222222222,\"#7201a8\"],[0.3333333333333333,\"#9c179e\"],[0.4444444444444444,\"#bd3786\"],[0.5555555555555556,\"#d8576b\"],[0.6666666666666666,\"#ed7953\"],[0.7777777777777778,\"#fb9f3a\"],[0.8888888888888888,\"#fdca26\"],[1.0,\"#f0f921\"]],\"type\":\"histogram2dcontour\"}],\"mesh3d\":[{\"colorbar\":{\"outlinewidth\":0,\"ticks\":\"\"},\"type\":\"mesh3d\"}],\"parcoords\":[{\"line\":{\"colorbar\":{\"outlinewidth\":0,\"ticks\":\"\"}},\"type\":\"parcoords\"}],\"pie\":[{\"automargin\":true,\"type\":\"pie\"}],\"scatter\":[{\"marker\":{\"colorbar\":{\"outlinewidth\":0,\"ticks\":\"\"}},\"type\":\"scatter\"}],\"scatter3d\":[{\"line\":{\"colorbar\":{\"outlinewidth\":0,\"ticks\":\"\"}},\"marker\":{\"colorbar\":{\"outlinewidth\":0,\"ticks\":\"\"}},\"type\":\"scatter3d\"}],\"scattercarpet\":[{\"marker\":{\"colorbar\":{\"outlinewidth\":0,\"ticks\":\"\"}},\"type\":\"scattercarpet\"}],\"scattergeo\":[{\"marker\":{\"colorbar\":{\"outlinewidth\":0,\"ticks\":\"\"}},\"type\":\"scattergeo\"}],\"scattergl\":[{\"marker\":{\"colorbar\":{\"outlinewidth\":0,\"ticks\":\"\"}},\"type\":\"scattergl\"}],\"scattermapbox\":[{\"marker\":{\"colorbar\":{\"outlinewidth\":0,\"ticks\":\"\"}},\"type\":\"scattermapbox\"}],\"scatterpolar\":[{\"marker\":{\"colorbar\":{\"outlinewidth\":0,\"ticks\":\"\"}},\"type\":\"scatterpolar\"}],\"scatterpolargl\":[{\"marker\":{\"colorbar\":{\"outlinewidth\":0,\"ticks\":\"\"}},\"type\":\"scatterpolargl\"}],\"scatterternary\":[{\"marker\":{\"colorbar\":{\"outlinewidth\":0,\"ticks\":\"\"}},\"type\":\"scatterternary\"}],\"surface\":[{\"colorbar\":{\"outlinewidth\":0,\"ticks\":\"\"},\"colorscale\":[[0.0,\"#0d0887\"],[0.1111111111111111,\"#46039f\"],[0.2222222222222222,\"#7201a8\"],[0.3333333333333333,\"#9c179e\"],[0.4444444444444444,\"#bd3786\"],[0.5555555555555556,\"#d8576b\"],[0.6666666666666666,\"#ed7953\"],[0.7777777777777778,\"#fb9f3a\"],[0.8888888888888888,\"#fdca26\"],[1.0,\"#f0f921\"]],\"type\":\"surface\"}],\"table\":[{\"cells\":{\"fill\":{\"color\":\"#EBF0F8\"},\"line\":{\"color\":\"white\"}},\"header\":{\"fill\":{\"color\":\"#C8D4E3\"},\"line\":{\"color\":\"white\"}},\"type\":\"table\"}]},\"layout\":{\"annotationdefaults\":{\"arrowcolor\":\"#2a3f5f\",\"arrowhead\":0,\"arrowwidth\":1},\"autotypenumbers\":\"strict\",\"coloraxis\":{\"colorbar\":{\"outlinewidth\":0,\"ticks\":\"\"}},\"colorscale\":{\"diverging\":[[0,\"#8e0152\"],[0.1,\"#c51b7d\"],[0.2,\"#de77ae\"],[0.3,\"#f1b6da\"],[0.4,\"#fde0ef\"],[0.5,\"#f7f7f7\"],[0.6,\"#e6f5d0\"],[0.7,\"#b8e186\"],[0.8,\"#7fbc41\"],[0.9,\"#4d9221\"],[1,\"#276419\"]],\"sequential\":[[0.0,\"#0d0887\"],[0.1111111111111111,\"#46039f\"],[0.2222222222222222,\"#7201a8\"],[0.3333333333333333,\"#9c179e\"],[0.4444444444444444,\"#bd3786\"],[0.5555555555555556,\"#d8576b\"],[0.6666666666666666,\"#ed7953\"],[0.7777777777777778,\"#fb9f3a\"],[0.8888888888888888,\"#fdca26\"],[1.0,\"#f0f921\"]],\"sequentialminus\":[[0.0,\"#0d0887\"],[0.1111111111111111,\"#46039f\"],[0.2222222222222222,\"#7201a8\"],[0.3333333333333333,\"#9c179e\"],[0.4444444444444444,\"#bd3786\"],[0.5555555555555556,\"#d8576b\"],[0.6666666666666666,\"#ed7953\"],[0.7777777777777778,\"#fb9f3a\"],[0.8888888888888888,\"#fdca26\"],[1.0,\"#f0f921\"]]},\"colorway\":[\"#636efa\",\"#EF553B\",\"#00cc96\",\"#ab63fa\",\"#FFA15A\",\"#19d3f3\",\"#FF6692\",\"#B6E880\",\"#FF97FF\",\"#FECB52\"],\"font\":{\"color\":\"#2a3f5f\"},\"geo\":{\"bgcolor\":\"white\",\"lakecolor\":\"white\",\"landcolor\":\"#E5ECF6\",\"showlakes\":true,\"showland\":true,\"subunitcolor\":\"white\"},\"hoverlabel\":{\"align\":\"left\"},\"hovermode\":\"closest\",\"mapbox\":{\"style\":\"light\"},\"paper_bgcolor\":\"white\",\"plot_bgcolor\":\"#E5ECF6\",\"polar\":{\"angularaxis\":{\"gridcolor\":\"white\",\"linecolor\":\"white\",\"ticks\":\"\"},\"bgcolor\":\"#E5ECF6\",\"radialaxis\":{\"gridcolor\":\"white\",\"linecolor\":\"white\",\"ticks\":\"\"}},\"scene\":{\"xaxis\":{\"backgroundcolor\":\"#E5ECF6\",\"gridcolor\":\"white\",\"gridwidth\":2,\"linecolor\":\"white\",\"showbackground\":true,\"ticks\":\"\",\"zerolinecolor\":\"white\"},\"yaxis\":{\"backgroundcolor\":\"#E5ECF6\",\"gridcolor\":\"white\",\"gridwidth\":2,\"linecolor\":\"white\",\"showbackground\":true,\"ticks\":\"\",\"zerolinecolor\":\"white\"},\"zaxis\":{\"backgroundcolor\":\"#E5ECF6\",\"gridcolor\":\"white\",\"gridwidth\":2,\"linecolor\":\"white\",\"showbackground\":true,\"ticks\":\"\",\"zerolinecolor\":\"white\"}},\"shapedefaults\":{\"line\":{\"color\":\"#2a3f5f\"}},\"ternary\":{\"aaxis\":{\"gridcolor\":\"white\",\"linecolor\":\"white\",\"ticks\":\"\"},\"baxis\":{\"gridcolor\":\"white\",\"linecolor\":\"white\",\"ticks\":\"\"},\"bgcolor\":\"#E5ECF6\",\"caxis\":{\"gridcolor\":\"white\",\"linecolor\":\"white\",\"ticks\":\"\"}},\"title\":{\"x\":0.05},\"xaxis\":{\"automargin\":true,\"gridcolor\":\"white\",\"linecolor\":\"white\",\"ticks\":\"\",\"title\":{\"standoff\":15},\"zerolinecolor\":\"white\",\"zerolinewidth\":2},\"yaxis\":{\"automargin\":true,\"gridcolor\":\"white\",\"linecolor\":\"white\",\"ticks\":\"\",\"title\":{\"standoff\":15},\"zerolinecolor\":\"white\",\"zerolinewidth\":2}}},\"xaxis\":{\"anchor\":\"y\",\"domain\":[0.0,1.0],\"title\":{\"text\":\"valence - correlation\"},\"range\":[-1,1]},\"yaxis\":{\"anchor\":\"x\",\"domain\":[0.0,1.0],\"title\":{\"text\":\"arousal - correlation\"},\"range\":[-1,1]},\"legend\":{\"tracegroupgap\":0},\"margin\":{\"t\":60},\"height\":800,\"width\":800},                        {\"responsive\": true}                    ).then(function(){\n",
       "                            \n",
       "var gd = document.getElementById('7eb75726-fa62-4d36-a250-d201235c9092');\n",
       "var x = new MutationObserver(function (mutations, observer) {{\n",
       "        var display = window.getComputedStyle(gd).display;\n",
       "        if (!display || display === 'none') {{\n",
       "            console.log([gd, 'removed!']);\n",
       "            Plotly.purge(gd);\n",
       "            observer.disconnect();\n",
       "        }}\n",
       "}});\n",
       "\n",
       "// Listen for the removal of the full notebook cells\n",
       "var notebookContainer = gd.closest('#notebook-container');\n",
       "if (notebookContainer) {{\n",
       "    x.observe(notebookContainer, {childList: true});\n",
       "}}\n",
       "\n",
       "// Listen for the clearing of the current output cell\n",
       "var outputEl = gd.closest('.output');\n",
       "if (outputEl) {{\n",
       "    x.observe(outputEl, {childList: true});\n",
       "}}\n",
       "\n",
       "                        })                };                });            </script>        </div>"
      ]
     },
     "metadata": {},
     "output_type": "display_data"
    }
   ],
   "source": [
    "fig = px.scatter(x=x, y=y, width=800, height=800)\n",
    "fig.update_xaxes(range = [-1,1], title=\"valence - correlation\")\n",
    "fig.update_yaxes(range = [-1,1], title=\"arousal - correlation\")\n",
    "fig.show()"
   ]
  },
  {
   "cell_type": "markdown",
   "id": "50d5055f-8480-44da-aa81-01e6c1dcbc29",
   "metadata": {
    "jp-MarkdownHeadingCollapsed": true,
    "tags": []
   },
   "source": [
    "### Appendix\n",
    "---"
   ]
  },
  {
   "cell_type": "code",
   "execution_count": 15,
   "id": "4060711d-581e-44b0-977e-26ecbcca4f60",
   "metadata": {},
   "outputs": [
    {
     "ename": "KeyError",
     "evalue": "'class'",
     "output_type": "error",
     "traceback": [
      "\u001b[0;31m---------------------------------------------------------------------------\u001b[0m",
      "\u001b[0;31mKeyError\u001b[0m                                  Traceback (most recent call last)",
      "File \u001b[0;32m~/opt/anaconda3/lib/python3.8/site-packages/pandas/core/indexes/base.py:3621\u001b[0m, in \u001b[0;36mIndex.get_loc\u001b[0;34m(self, key, method, tolerance)\u001b[0m\n\u001b[1;32m   3620\u001b[0m \u001b[38;5;28;01mtry\u001b[39;00m:\n\u001b[0;32m-> 3621\u001b[0m     \u001b[38;5;28;01mreturn\u001b[39;00m \u001b[38;5;28;43mself\u001b[39;49m\u001b[38;5;241;43m.\u001b[39;49m\u001b[43m_engine\u001b[49m\u001b[38;5;241;43m.\u001b[39;49m\u001b[43mget_loc\u001b[49m\u001b[43m(\u001b[49m\u001b[43mcasted_key\u001b[49m\u001b[43m)\u001b[49m\n\u001b[1;32m   3622\u001b[0m \u001b[38;5;28;01mexcept\u001b[39;00m \u001b[38;5;167;01mKeyError\u001b[39;00m \u001b[38;5;28;01mas\u001b[39;00m err:\n",
      "File \u001b[0;32m~/opt/anaconda3/lib/python3.8/site-packages/pandas/_libs/index.pyx:136\u001b[0m, in \u001b[0;36mpandas._libs.index.IndexEngine.get_loc\u001b[0;34m()\u001b[0m\n",
      "File \u001b[0;32m~/opt/anaconda3/lib/python3.8/site-packages/pandas/_libs/index.pyx:163\u001b[0m, in \u001b[0;36mpandas._libs.index.IndexEngine.get_loc\u001b[0;34m()\u001b[0m\n",
      "File \u001b[0;32mpandas/_libs/hashtable_class_helper.pxi:5198\u001b[0m, in \u001b[0;36mpandas._libs.hashtable.PyObjectHashTable.get_item\u001b[0;34m()\u001b[0m\n",
      "File \u001b[0;32mpandas/_libs/hashtable_class_helper.pxi:5206\u001b[0m, in \u001b[0;36mpandas._libs.hashtable.PyObjectHashTable.get_item\u001b[0;34m()\u001b[0m\n",
      "\u001b[0;31mKeyError\u001b[0m: 'class'",
      "\nThe above exception was the direct cause of the following exception:\n",
      "\u001b[0;31mKeyError\u001b[0m                                  Traceback (most recent call last)",
      "Input \u001b[0;32mIn [15]\u001b[0m, in \u001b[0;36m<cell line: 4>\u001b[0;34m()\u001b[0m\n\u001b[1;32m      1\u001b[0m annot_df_mean \u001b[38;5;241m=\u001b[39m annot_df\u001b[38;5;241m.\u001b[39mcopy()\n\u001b[1;32m      2\u001b[0m annot_df_mean \u001b[38;5;241m=\u001b[39m annot_df_mean\u001b[38;5;241m.\u001b[39mdrop([\u001b[38;5;124m'\u001b[39m\u001b[38;5;124mpianist_id\u001b[39m\u001b[38;5;124m'\u001b[39m, \u001b[38;5;124m'\u001b[39m\u001b[38;5;124mannotator_id\u001b[39m\u001b[38;5;124m'\u001b[39m], axis\u001b[38;5;241m=\u001b[39m\u001b[38;5;241m1\u001b[39m)\n\u001b[0;32m----> 4\u001b[0m df_angry \u001b[38;5;241m=\u001b[39m annot_df_mean\u001b[38;5;241m.\u001b[39mloc[\u001b[43mannot_df\u001b[49m\u001b[43m[\u001b[49m\u001b[38;5;124;43m'\u001b[39;49m\u001b[38;5;124;43mclass\u001b[39;49m\u001b[38;5;124;43m'\u001b[39;49m\u001b[43m]\u001b[49m \u001b[38;5;241m==\u001b[39m \u001b[38;5;124m'\u001b[39m\u001b[38;5;124mangry\u001b[39m\u001b[38;5;124m'\u001b[39m]\n\u001b[1;32m      5\u001b[0m group_mean_angry \u001b[38;5;241m=\u001b[39m df_angry\u001b[38;5;241m.\u001b[39mgroupby([\u001b[38;5;124m'\u001b[39m\u001b[38;5;124msegment_id\u001b[39m\u001b[38;5;124m'\u001b[39m])\u001b[38;5;241m.\u001b[39mmean()\n\u001b[1;32m      7\u001b[0m df_happy \u001b[38;5;241m=\u001b[39m annot_df_mean\u001b[38;5;241m.\u001b[39mloc[annot_df[\u001b[38;5;124m'\u001b[39m\u001b[38;5;124mclass\u001b[39m\u001b[38;5;124m'\u001b[39m] \u001b[38;5;241m==\u001b[39m \u001b[38;5;124m'\u001b[39m\u001b[38;5;124mhappy\u001b[39m\u001b[38;5;124m'\u001b[39m]\n",
      "File \u001b[0;32m~/opt/anaconda3/lib/python3.8/site-packages/pandas/core/frame.py:3505\u001b[0m, in \u001b[0;36mDataFrame.__getitem__\u001b[0;34m(self, key)\u001b[0m\n\u001b[1;32m   3503\u001b[0m \u001b[38;5;28;01mif\u001b[39;00m \u001b[38;5;28mself\u001b[39m\u001b[38;5;241m.\u001b[39mcolumns\u001b[38;5;241m.\u001b[39mnlevels \u001b[38;5;241m>\u001b[39m \u001b[38;5;241m1\u001b[39m:\n\u001b[1;32m   3504\u001b[0m     \u001b[38;5;28;01mreturn\u001b[39;00m \u001b[38;5;28mself\u001b[39m\u001b[38;5;241m.\u001b[39m_getitem_multilevel(key)\n\u001b[0;32m-> 3505\u001b[0m indexer \u001b[38;5;241m=\u001b[39m \u001b[38;5;28;43mself\u001b[39;49m\u001b[38;5;241;43m.\u001b[39;49m\u001b[43mcolumns\u001b[49m\u001b[38;5;241;43m.\u001b[39;49m\u001b[43mget_loc\u001b[49m\u001b[43m(\u001b[49m\u001b[43mkey\u001b[49m\u001b[43m)\u001b[49m\n\u001b[1;32m   3506\u001b[0m \u001b[38;5;28;01mif\u001b[39;00m is_integer(indexer):\n\u001b[1;32m   3507\u001b[0m     indexer \u001b[38;5;241m=\u001b[39m [indexer]\n",
      "File \u001b[0;32m~/opt/anaconda3/lib/python3.8/site-packages/pandas/core/indexes/base.py:3623\u001b[0m, in \u001b[0;36mIndex.get_loc\u001b[0;34m(self, key, method, tolerance)\u001b[0m\n\u001b[1;32m   3621\u001b[0m     \u001b[38;5;28;01mreturn\u001b[39;00m \u001b[38;5;28mself\u001b[39m\u001b[38;5;241m.\u001b[39m_engine\u001b[38;5;241m.\u001b[39mget_loc(casted_key)\n\u001b[1;32m   3622\u001b[0m \u001b[38;5;28;01mexcept\u001b[39;00m \u001b[38;5;167;01mKeyError\u001b[39;00m \u001b[38;5;28;01mas\u001b[39;00m err:\n\u001b[0;32m-> 3623\u001b[0m     \u001b[38;5;28;01mraise\u001b[39;00m \u001b[38;5;167;01mKeyError\u001b[39;00m(key) \u001b[38;5;28;01mfrom\u001b[39;00m \u001b[38;5;21;01merr\u001b[39;00m\n\u001b[1;32m   3624\u001b[0m \u001b[38;5;28;01mexcept\u001b[39;00m \u001b[38;5;167;01mTypeError\u001b[39;00m:\n\u001b[1;32m   3625\u001b[0m     \u001b[38;5;66;03m# If we have a listlike key, _check_indexing_error will raise\u001b[39;00m\n\u001b[1;32m   3626\u001b[0m     \u001b[38;5;66;03m#  InvalidIndexError. Otherwise we fall through and re-raise\u001b[39;00m\n\u001b[1;32m   3627\u001b[0m     \u001b[38;5;66;03m#  the TypeError.\u001b[39;00m\n\u001b[1;32m   3628\u001b[0m     \u001b[38;5;28mself\u001b[39m\u001b[38;5;241m.\u001b[39m_check_indexing_error(key)\n",
      "\u001b[0;31mKeyError\u001b[0m: 'class'"
     ]
    }
   ],
   "source": [
    "annot_df_mean = annot_df.copy()\n",
    "annot_df_mean = annot_df_mean.drop(['pianist_id', 'annotator_id'], axis=1)\n",
    "\n",
    "df_angry = annot_df_mean.loc[annot_df['class'] == 'angry']\n",
    "group_mean_angry = df_angry.groupby(['segment_id']).mean()\n",
    "\n",
    "df_happy = annot_df_mean.loc[annot_df['class'] == 'happy']\n",
    "group_mean_happy = df_happy.groupby(['segment_id']).mean()\n",
    "\n",
    "df_sad = annot_df_mean.loc[annot_df['class'] == 'sad']\n",
    "group_mean_sad = df_sad.groupby(['segment_id']).mean()\n",
    "\n",
    "df_relaxed = annot_df_mean.loc[annot_df['class'] == 'relaxed']\n",
    "group_mean_relaxed = df_relaxed.groupby(['segment_id']).mean()\n",
    "\n",
    "df_none = annot_df_mean.loc[annot_df['class'] == 'none']\n",
    "group_mean_none = df_none.groupby(['segment_id']).mean()\n",
    "\n",
    "group_mean_happy"
   ]
  },
  {
   "cell_type": "code",
   "execution_count": null,
   "id": "50f190ac-80c0-4911-a286-75bf0d15848e",
   "metadata": {},
   "outputs": [],
   "source": [
    "def calc_correlation_dataset(df):\n",
    "    \n",
    "    list_x, list_y = [], []\n",
    "    classifiers = df.columns.to_list()[0:2]\n",
    "    gems_gemmes = df.columns.to_list()[2:16]\n",
    "    \n",
    "    for idx, x in enumerate(gems_gemmes):\n",
    "        for idy, y in enumerate(classifiers):\n",
    "            if idy == 0:\n",
    "                corr_arousal = df[y].corr(df[x])\n",
    "                list_y.append(corr_arousal)\n",
    "            elif idy == 1:\n",
    "                corr_valence = df[y].corr(df[x])\n",
    "                list_x.append(corr_valence)\n",
    "    return list_x, list_y"
   ]
  },
  {
   "cell_type": "code",
   "execution_count": null,
   "id": "f96da7ba-b328-424e-bb15-7dc6b7ae1449",
   "metadata": {},
   "outputs": [],
   "source": [
    "x1, y1 = calc_correlation_dataset(group_mean_happy.copy())\n",
    "x2, y2 = calc_correlation_dataset(group_mean_angry.copy())\n",
    "            \n",
    "fig = px.scatter(x=x1, y=y1, width=800, height=800)\n",
    "fig.update_xaxes(range = [-1,1])\n",
    "fig.update_yaxes(range = [-1,1])\n",
    "fig.show()\n",
    "\n",
    "            \n",
    "fig = px.scatter(x=x2, y=y2, width=800, height=800)\n",
    "fig.update_xaxes(range = [-1,1])\n",
    "fig.update_yaxes(range = [-1,1])\n",
    "fig.show()"
   ]
  },
  {
   "cell_type": "code",
   "execution_count": null,
   "id": "adf6fba6-d23e-4179-ba1f-bfb1624664dc",
   "metadata": {},
   "outputs": [],
   "source": [
    "# df_collection = [df_angry, df_happy, df_sad, df_relaxed, df_none]\n",
    "\n",
    "# for item in df_collection:\n",
    "#    print(item.shape)"
   ]
  },
  {
   "cell_type": "code",
   "execution_count": null,
   "id": "d5637b70-7809-4f0d-a959-4a63a14eb595",
   "metadata": {},
   "outputs": [],
   "source": [
    "# test = df_happy.groupby(['pianist_id']).mean()\n",
    "# test"
   ]
  },
  {
   "cell_type": "code",
   "execution_count": null,
   "id": "ff8440dd-4505-46af-943e-5a949ae5dbf5",
   "metadata": {},
   "outputs": [],
   "source": [
    "# show NaN values\n",
    "# temp = pandas_annot_df.drop(['class'], axis=1)\n",
    "# temp[temp.isna().any(axis=1)]"
   ]
  },
  {
   "cell_type": "code",
   "execution_count": null,
   "id": "e7648dae-48d8-46a5-b4cd-5d769d1f77be",
   "metadata": {},
   "outputs": [],
   "source": [
    "# normalize the dataset\n",
    "# df = pandas_annot_df.drop(['pianist_id','segment_id','annotator_id','arousal','valence','class'], axis=1)\n",
    "\n",
    "# norm_df_annotations = (df-df.mean())/df.std()\n",
    "# norm_df_annotations"
   ]
  },
  {
   "cell_type": "code",
   "execution_count": null,
   "id": "8a9bb2a1-58f1-48aa-a1df-65f65b8d8b4a",
   "metadata": {},
   "outputs": [],
   "source": [
    "# correlation matrix\n",
    "# corr_annotations = norm_df_annotations.corr()\n",
    "# corr_annotations\n",
    "\n",
    "# plot matrix\n",
    "# plt.figure(figsize=(12, 6))\n",
    "\n",
    "# heatmap = sns.heatmap(corr_annotations, vmin=-1, vmax=1, annot=True, cmap=\"Blues\")\n",
    "# heatmap.set_title('GEMS9 and GEMMES - Correlation Heatmap', fontdict={'fontsize':12}, pad=15)\n",
    "# plt.show()"
   ]
  },
  {
   "cell_type": "code",
   "execution_count": null,
   "id": "60273b09-8b4d-4507-96fe-bcc124bb3773",
   "metadata": {},
   "outputs": [],
   "source": []
  },
  {
   "cell_type": "code",
   "execution_count": null,
   "id": "cd67fd53-3b68-40bb-b27c-40a931d61b5e",
   "metadata": {},
   "outputs": [],
   "source": []
  }
 ],
 "metadata": {
  "kernelspec": {
   "display_name": "Python 3",
   "language": "python",
   "name": "python3"
  },
  "language_info": {
   "codemirror_mode": {
    "name": "ipython",
    "version": 3
   },
   "file_extension": ".py",
   "mimetype": "text/x-python",
   "name": "python",
   "nbconvert_exporter": "python",
   "pygments_lexer": "ipython3",
   "version": "3.8.12"
  }
 },
 "nbformat": 4,
 "nbformat_minor": 5
}
