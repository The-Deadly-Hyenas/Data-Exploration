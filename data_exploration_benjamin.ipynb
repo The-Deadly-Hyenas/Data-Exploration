{
 "cells": [
  {
   "cell_type": "markdown",
   "id": "5b621ef2-822a-4c6b-9ab7-d8c1979ce92e",
   "metadata": {},
   "source": [
    "# Exploring the Dataset\n",
    "---"
   ]
  },
  {
   "cell_type": "code",
   "execution_count": 123,
   "id": "4ffcf583-ac4e-47e9-a1da-3a836a5600a4",
   "metadata": {},
   "outputs": [],
   "source": [
    "# imports\n",
    "import os\n",
    "import numpy as np\n",
    "import pandas as pd\n",
    "import seaborn as sns\n",
    "import sklearn\n",
    "import matplotlib.pyplot as plt\n",
    "import plotly.express as px"
   ]
  },
  {
   "cell_type": "code",
   "execution_count": 124,
   "id": "05b478f6-f6d1-4505-bfc5-f2fe5c563c46",
   "metadata": {},
   "outputs": [
    {
     "data": {
      "text/html": [
       "<div>\n",
       "<style scoped>\n",
       "    .dataframe tbody tr th:only-of-type {\n",
       "        vertical-align: middle;\n",
       "    }\n",
       "\n",
       "    .dataframe tbody tr th {\n",
       "        vertical-align: top;\n",
       "    }\n",
       "\n",
       "    .dataframe thead th {\n",
       "        text-align: right;\n",
       "    }\n",
       "</style>\n",
       "<table border=\"1\" class=\"dataframe\">\n",
       "  <thead>\n",
       "    <tr style=\"text-align: right;\">\n",
       "      <th></th>\n",
       "      <th>pianist_id</th>\n",
       "      <th>segment_id</th>\n",
       "      <th>annotator_id</th>\n",
       "      <th>arousal</th>\n",
       "      <th>valence</th>\n",
       "      <th>gems_wonder</th>\n",
       "      <th>gems_transcendence</th>\n",
       "      <th>gems_tenderness</th>\n",
       "      <th>gems_nostalgia</th>\n",
       "      <th>gems_peacefulness</th>\n",
       "      <th>gems_power</th>\n",
       "      <th>gems_joyful_activation</th>\n",
       "      <th>gems_tension</th>\n",
       "      <th>gems_sadness</th>\n",
       "      <th>gemmes_flow</th>\n",
       "      <th>gemmes_movement</th>\n",
       "      <th>gemmes_force</th>\n",
       "      <th>gemmes_interior</th>\n",
       "      <th>gemmes_wandering</th>\n",
       "    </tr>\n",
       "  </thead>\n",
       "  <tbody>\n",
       "    <tr>\n",
       "      <th>0</th>\n",
       "      <td>1</td>\n",
       "      <td>0</td>\n",
       "      <td>91</td>\n",
       "      <td>1</td>\n",
       "      <td>-1</td>\n",
       "      <td>2</td>\n",
       "      <td>1</td>\n",
       "      <td>2</td>\n",
       "      <td>4</td>\n",
       "      <td>2.0</td>\n",
       "      <td>1</td>\n",
       "      <td>1</td>\n",
       "      <td>1</td>\n",
       "      <td>2</td>\n",
       "      <td>3</td>\n",
       "      <td>2</td>\n",
       "      <td>1</td>\n",
       "      <td>1.0</td>\n",
       "      <td>2</td>\n",
       "    </tr>\n",
       "    <tr>\n",
       "      <th>31</th>\n",
       "      <td>1</td>\n",
       "      <td>0</td>\n",
       "      <td>19</td>\n",
       "      <td>2</td>\n",
       "      <td>-1</td>\n",
       "      <td>3</td>\n",
       "      <td>3</td>\n",
       "      <td>3</td>\n",
       "      <td>4</td>\n",
       "      <td>4.0</td>\n",
       "      <td>1</td>\n",
       "      <td>2</td>\n",
       "      <td>3</td>\n",
       "      <td>3</td>\n",
       "      <td>3</td>\n",
       "      <td>2</td>\n",
       "      <td>2</td>\n",
       "      <td>3.0</td>\n",
       "      <td>3</td>\n",
       "    </tr>\n",
       "    <tr>\n",
       "      <th>62</th>\n",
       "      <td>1</td>\n",
       "      <td>0</td>\n",
       "      <td>189</td>\n",
       "      <td>2</td>\n",
       "      <td>0</td>\n",
       "      <td>2</td>\n",
       "      <td>1</td>\n",
       "      <td>2</td>\n",
       "      <td>1</td>\n",
       "      <td>4.0</td>\n",
       "      <td>2</td>\n",
       "      <td>2</td>\n",
       "      <td>1</td>\n",
       "      <td>1</td>\n",
       "      <td>3</td>\n",
       "      <td>2</td>\n",
       "      <td>1</td>\n",
       "      <td>1.0</td>\n",
       "      <td>4</td>\n",
       "    </tr>\n",
       "    <tr>\n",
       "      <th>93</th>\n",
       "      <td>1</td>\n",
       "      <td>0</td>\n",
       "      <td>126</td>\n",
       "      <td>2</td>\n",
       "      <td>2</td>\n",
       "      <td>4</td>\n",
       "      <td>5</td>\n",
       "      <td>2</td>\n",
       "      <td>3</td>\n",
       "      <td>5.0</td>\n",
       "      <td>2</td>\n",
       "      <td>4</td>\n",
       "      <td>1</td>\n",
       "      <td>3</td>\n",
       "      <td>5</td>\n",
       "      <td>1</td>\n",
       "      <td>2</td>\n",
       "      <td>2.0</td>\n",
       "      <td>5</td>\n",
       "    </tr>\n",
       "    <tr>\n",
       "      <th>124</th>\n",
       "      <td>1</td>\n",
       "      <td>0</td>\n",
       "      <td>26</td>\n",
       "      <td>4</td>\n",
       "      <td>2</td>\n",
       "      <td>3</td>\n",
       "      <td>5</td>\n",
       "      <td>2</td>\n",
       "      <td>3</td>\n",
       "      <td>3.0</td>\n",
       "      <td>1</td>\n",
       "      <td>3</td>\n",
       "      <td>4</td>\n",
       "      <td>1</td>\n",
       "      <td>4</td>\n",
       "      <td>1</td>\n",
       "      <td>2</td>\n",
       "      <td>3.0</td>\n",
       "      <td>1</td>\n",
       "    </tr>\n",
       "    <tr>\n",
       "      <th>...</th>\n",
       "      <td>...</td>\n",
       "      <td>...</td>\n",
       "      <td>...</td>\n",
       "      <td>...</td>\n",
       "      <td>...</td>\n",
       "      <td>...</td>\n",
       "      <td>...</td>\n",
       "      <td>...</td>\n",
       "      <td>...</td>\n",
       "      <td>...</td>\n",
       "      <td>...</td>\n",
       "      <td>...</td>\n",
       "      <td>...</td>\n",
       "      <td>...</td>\n",
       "      <td>...</td>\n",
       "      <td>...</td>\n",
       "      <td>...</td>\n",
       "      <td>...</td>\n",
       "      <td>...</td>\n",
       "    </tr>\n",
       "    <tr>\n",
       "      <th>3888</th>\n",
       "      <td>11</td>\n",
       "      <td>26</td>\n",
       "      <td>36</td>\n",
       "      <td>3</td>\n",
       "      <td>-1</td>\n",
       "      <td>3</td>\n",
       "      <td>2</td>\n",
       "      <td>1</td>\n",
       "      <td>4</td>\n",
       "      <td>1.0</td>\n",
       "      <td>3</td>\n",
       "      <td>2</td>\n",
       "      <td>3</td>\n",
       "      <td>5</td>\n",
       "      <td>4</td>\n",
       "      <td>2</td>\n",
       "      <td>2</td>\n",
       "      <td>5.0</td>\n",
       "      <td>3</td>\n",
       "    </tr>\n",
       "    <tr>\n",
       "      <th>3919</th>\n",
       "      <td>11</td>\n",
       "      <td>26</td>\n",
       "      <td>55</td>\n",
       "      <td>2</td>\n",
       "      <td>0</td>\n",
       "      <td>2</td>\n",
       "      <td>2</td>\n",
       "      <td>2</td>\n",
       "      <td>3</td>\n",
       "      <td>3.0</td>\n",
       "      <td>3</td>\n",
       "      <td>1</td>\n",
       "      <td>3</td>\n",
       "      <td>1</td>\n",
       "      <td>2</td>\n",
       "      <td>3</td>\n",
       "      <td>2</td>\n",
       "      <td>1.0</td>\n",
       "      <td>1</td>\n",
       "    </tr>\n",
       "    <tr>\n",
       "      <th>3950</th>\n",
       "      <td>11</td>\n",
       "      <td>26</td>\n",
       "      <td>136</td>\n",
       "      <td>2</td>\n",
       "      <td>1</td>\n",
       "      <td>2</td>\n",
       "      <td>1</td>\n",
       "      <td>1</td>\n",
       "      <td>2</td>\n",
       "      <td>2.0</td>\n",
       "      <td>2</td>\n",
       "      <td>2</td>\n",
       "      <td>1</td>\n",
       "      <td>1</td>\n",
       "      <td>2</td>\n",
       "      <td>2</td>\n",
       "      <td>1</td>\n",
       "      <td>2.0</td>\n",
       "      <td>2</td>\n",
       "    </tr>\n",
       "    <tr>\n",
       "      <th>3981</th>\n",
       "      <td>11</td>\n",
       "      <td>26</td>\n",
       "      <td>169</td>\n",
       "      <td>2</td>\n",
       "      <td>0</td>\n",
       "      <td>2</td>\n",
       "      <td>1</td>\n",
       "      <td>2</td>\n",
       "      <td>2</td>\n",
       "      <td>1.0</td>\n",
       "      <td>3</td>\n",
       "      <td>4</td>\n",
       "      <td>3</td>\n",
       "      <td>2</td>\n",
       "      <td>2</td>\n",
       "      <td>3</td>\n",
       "      <td>3</td>\n",
       "      <td>1.0</td>\n",
       "      <td>1</td>\n",
       "    </tr>\n",
       "    <tr>\n",
       "      <th>4012</th>\n",
       "      <td>11</td>\n",
       "      <td>26</td>\n",
       "      <td>76</td>\n",
       "      <td>3</td>\n",
       "      <td>-1</td>\n",
       "      <td>3</td>\n",
       "      <td>2</td>\n",
       "      <td>3</td>\n",
       "      <td>3</td>\n",
       "      <td>3.0</td>\n",
       "      <td>2</td>\n",
       "      <td>1</td>\n",
       "      <td>1</td>\n",
       "      <td>2</td>\n",
       "      <td>3</td>\n",
       "      <td>2</td>\n",
       "      <td>2</td>\n",
       "      <td>3.0</td>\n",
       "      <td>3</td>\n",
       "    </tr>\n",
       "  </tbody>\n",
       "</table>\n",
       "<p>2638 rows × 19 columns</p>\n",
       "</div>"
      ],
      "text/plain": [
       "      pianist_id  segment_id  annotator_id  arousal  valence  gems_wonder  \\\n",
       "0              1           0            91        1       -1            2   \n",
       "31             1           0            19        2       -1            3   \n",
       "62             1           0           189        2        0            2   \n",
       "93             1           0           126        2        2            4   \n",
       "124            1           0            26        4        2            3   \n",
       "...          ...         ...           ...      ...      ...          ...   \n",
       "3888          11          26            36        3       -1            3   \n",
       "3919          11          26            55        2        0            2   \n",
       "3950          11          26           136        2        1            2   \n",
       "3981          11          26           169        2        0            2   \n",
       "4012          11          26            76        3       -1            3   \n",
       "\n",
       "      gems_transcendence  gems_tenderness  gems_nostalgia  gems_peacefulness  \\\n",
       "0                      1                2               4                2.0   \n",
       "31                     3                3               4                4.0   \n",
       "62                     1                2               1                4.0   \n",
       "93                     5                2               3                5.0   \n",
       "124                    5                2               3                3.0   \n",
       "...                  ...              ...             ...                ...   \n",
       "3888                   2                1               4                1.0   \n",
       "3919                   2                2               3                3.0   \n",
       "3950                   1                1               2                2.0   \n",
       "3981                   1                2               2                1.0   \n",
       "4012                   2                3               3                3.0   \n",
       "\n",
       "      gems_power  gems_joyful_activation  gems_tension  gems_sadness  \\\n",
       "0              1                       1             1             2   \n",
       "31             1                       2             3             3   \n",
       "62             2                       2             1             1   \n",
       "93             2                       4             1             3   \n",
       "124            1                       3             4             1   \n",
       "...          ...                     ...           ...           ...   \n",
       "3888           3                       2             3             5   \n",
       "3919           3                       1             3             1   \n",
       "3950           2                       2             1             1   \n",
       "3981           3                       4             3             2   \n",
       "4012           2                       1             1             2   \n",
       "\n",
       "      gemmes_flow  gemmes_movement  gemmes_force  gemmes_interior  \\\n",
       "0               3                2             1              1.0   \n",
       "31              3                2             2              3.0   \n",
       "62              3                2             1              1.0   \n",
       "93              5                1             2              2.0   \n",
       "124             4                1             2              3.0   \n",
       "...           ...              ...           ...              ...   \n",
       "3888            4                2             2              5.0   \n",
       "3919            2                3             2              1.0   \n",
       "3950            2                2             1              2.0   \n",
       "3981            2                3             3              1.0   \n",
       "4012            3                2             2              3.0   \n",
       "\n",
       "      gemmes_wandering  \n",
       "0                    2  \n",
       "31                   3  \n",
       "62                   4  \n",
       "93                   5  \n",
       "124                  1  \n",
       "...                ...  \n",
       "3888                 3  \n",
       "3919                 1  \n",
       "3950                 2  \n",
       "3981                 1  \n",
       "4012                 3  \n",
       "\n",
       "[2638 rows x 19 columns]"
      ]
     },
     "execution_count": 124,
     "metadata": {},
     "output_type": "execute_result"
    }
   ],
   "source": [
    "# annotated features\n",
    "annot = pd.read_pickle(os.path.join('dataset', 'task_2_annotations_82d1d6d1093eaab6_e330cbf_pandas.pkl'))\n",
    "annot_df = pd.DataFrame.from_dict(annot)\n",
    "annot_df"
   ]
  },
  {
   "cell_type": "code",
   "execution_count": 125,
   "id": "2efed1c6-bc4b-4174-9141-017a87979d5d",
   "metadata": {},
   "outputs": [
    {
     "data": {
      "text/html": [
       "<div>\n",
       "<style scoped>\n",
       "    .dataframe tbody tr th:only-of-type {\n",
       "        vertical-align: middle;\n",
       "    }\n",
       "\n",
       "    .dataframe tbody tr th {\n",
       "        vertical-align: top;\n",
       "    }\n",
       "\n",
       "    .dataframe thead th {\n",
       "        text-align: right;\n",
       "    }\n",
       "</style>\n",
       "<table border=\"1\" class=\"dataframe\">\n",
       "  <thead>\n",
       "    <tr style=\"text-align: right;\">\n",
       "      <th></th>\n",
       "      <th>pianist_id</th>\n",
       "      <th>segment_id</th>\n",
       "      <th>snippet_id</th>\n",
       "      <th>essentia_dissonance_mean</th>\n",
       "      <th>essentia_dissonance_stdev</th>\n",
       "      <th>essentia_dynamic_complexity</th>\n",
       "      <th>essentia_loudness</th>\n",
       "      <th>essentia_onset_rate</th>\n",
       "      <th>essentia_pitch_salience_mean</th>\n",
       "      <th>essentia_pitch_salience_stdev</th>\n",
       "      <th>...</th>\n",
       "      <th>mirtoolbox_novelty_std</th>\n",
       "      <th>mirtoolbox_novelty_pct_10</th>\n",
       "      <th>mirtoolbox_novelty_pct_50</th>\n",
       "      <th>mirtoolbox_novelty_pct_90</th>\n",
       "      <th>mirtoolbox_pulseclarity</th>\n",
       "      <th>mirtoolbox_roughness_mean</th>\n",
       "      <th>mirtoolbox_roughness_std</th>\n",
       "      <th>mirtoolbox_roughness_pct_10</th>\n",
       "      <th>mirtoolbox_roughness_pct_50</th>\n",
       "      <th>mirtoolbox_roughness_pct_90</th>\n",
       "    </tr>\n",
       "  </thead>\n",
       "  <tbody>\n",
       "    <tr>\n",
       "      <th>0</th>\n",
       "      <td>1</td>\n",
       "      <td>0</td>\n",
       "      <td>0</td>\n",
       "      <td>0.192237</td>\n",
       "      <td>0.059404</td>\n",
       "      <td>2.040252</td>\n",
       "      <td>16079768.0</td>\n",
       "      <td>0.800000</td>\n",
       "      <td>0.677256</td>\n",
       "      <td>0.095846</td>\n",
       "      <td>...</td>\n",
       "      <td>0.106446</td>\n",
       "      <td>0.00000</td>\n",
       "      <td>0.013819</td>\n",
       "      <td>0.082176</td>\n",
       "      <td>0.169743</td>\n",
       "      <td>0.011449</td>\n",
       "      <td>0.004161</td>\n",
       "      <td>0.006684</td>\n",
       "      <td>0.011048</td>\n",
       "      <td>0.017025</td>\n",
       "    </tr>\n",
       "    <tr>\n",
       "      <th>1</th>\n",
       "      <td>1</td>\n",
       "      <td>0</td>\n",
       "      <td>1</td>\n",
       "      <td>0.143425</td>\n",
       "      <td>0.064204</td>\n",
       "      <td>3.138845</td>\n",
       "      <td>35489248.0</td>\n",
       "      <td>2.600000</td>\n",
       "      <td>0.514913</td>\n",
       "      <td>0.092372</td>\n",
       "      <td>...</td>\n",
       "      <td>0.193342</td>\n",
       "      <td>0.00000</td>\n",
       "      <td>0.027786</td>\n",
       "      <td>0.356029</td>\n",
       "      <td>0.355861</td>\n",
       "      <td>0.006205</td>\n",
       "      <td>0.003194</td>\n",
       "      <td>0.002583</td>\n",
       "      <td>0.005657</td>\n",
       "      <td>0.010610</td>\n",
       "    </tr>\n",
       "    <tr>\n",
       "      <th>2</th>\n",
       "      <td>1</td>\n",
       "      <td>0</td>\n",
       "      <td>2</td>\n",
       "      <td>0.146967</td>\n",
       "      <td>0.056205</td>\n",
       "      <td>2.019706</td>\n",
       "      <td>42130144.0</td>\n",
       "      <td>2.600000</td>\n",
       "      <td>0.560116</td>\n",
       "      <td>0.115359</td>\n",
       "      <td>...</td>\n",
       "      <td>0.218179</td>\n",
       "      <td>0.00000</td>\n",
       "      <td>0.049050</td>\n",
       "      <td>0.375251</td>\n",
       "      <td>0.209162</td>\n",
       "      <td>0.007467</td>\n",
       "      <td>0.003986</td>\n",
       "      <td>0.002330</td>\n",
       "      <td>0.007206</td>\n",
       "      <td>0.012690</td>\n",
       "    </tr>\n",
       "    <tr>\n",
       "      <th>3</th>\n",
       "      <td>1</td>\n",
       "      <td>0</td>\n",
       "      <td>3</td>\n",
       "      <td>0.158810</td>\n",
       "      <td>0.059129</td>\n",
       "      <td>3.567908</td>\n",
       "      <td>40922732.0</td>\n",
       "      <td>1.400000</td>\n",
       "      <td>0.596779</td>\n",
       "      <td>0.116061</td>\n",
       "      <td>...</td>\n",
       "      <td>0.118148</td>\n",
       "      <td>0.00002</td>\n",
       "      <td>0.017653</td>\n",
       "      <td>0.098657</td>\n",
       "      <td>0.232454</td>\n",
       "      <td>0.007335</td>\n",
       "      <td>0.004063</td>\n",
       "      <td>0.002609</td>\n",
       "      <td>0.006807</td>\n",
       "      <td>0.012971</td>\n",
       "    </tr>\n",
       "    <tr>\n",
       "      <th>4</th>\n",
       "      <td>1</td>\n",
       "      <td>0</td>\n",
       "      <td>4</td>\n",
       "      <td>0.168547</td>\n",
       "      <td>0.049648</td>\n",
       "      <td>2.329854</td>\n",
       "      <td>51921612.0</td>\n",
       "      <td>1.600000</td>\n",
       "      <td>0.556160</td>\n",
       "      <td>0.143420</td>\n",
       "      <td>...</td>\n",
       "      <td>0.121018</td>\n",
       "      <td>0.00000</td>\n",
       "      <td>0.020525</td>\n",
       "      <td>0.157408</td>\n",
       "      <td>0.140930</td>\n",
       "      <td>0.007345</td>\n",
       "      <td>0.003917</td>\n",
       "      <td>0.002662</td>\n",
       "      <td>0.007016</td>\n",
       "      <td>0.012731</td>\n",
       "    </tr>\n",
       "    <tr>\n",
       "      <th>...</th>\n",
       "      <td>...</td>\n",
       "      <td>...</td>\n",
       "      <td>...</td>\n",
       "      <td>...</td>\n",
       "      <td>...</td>\n",
       "      <td>...</td>\n",
       "      <td>...</td>\n",
       "      <td>...</td>\n",
       "      <td>...</td>\n",
       "      <td>...</td>\n",
       "      <td>...</td>\n",
       "      <td>...</td>\n",
       "      <td>...</td>\n",
       "      <td>...</td>\n",
       "      <td>...</td>\n",
       "      <td>...</td>\n",
       "      <td>...</td>\n",
       "      <td>...</td>\n",
       "      <td>...</td>\n",
       "      <td>...</td>\n",
       "      <td>...</td>\n",
       "    </tr>\n",
       "    <tr>\n",
       "      <th>4175</th>\n",
       "      <td>11</td>\n",
       "      <td>26</td>\n",
       "      <td>2</td>\n",
       "      <td>0.202177</td>\n",
       "      <td>0.050760</td>\n",
       "      <td>2.840705</td>\n",
       "      <td>51977460.0</td>\n",
       "      <td>1.800000</td>\n",
       "      <td>0.688834</td>\n",
       "      <td>0.090235</td>\n",
       "      <td>...</td>\n",
       "      <td>0.203668</td>\n",
       "      <td>0.00000</td>\n",
       "      <td>0.052074</td>\n",
       "      <td>0.377220</td>\n",
       "      <td>0.269012</td>\n",
       "      <td>0.014044</td>\n",
       "      <td>0.004991</td>\n",
       "      <td>0.007948</td>\n",
       "      <td>0.013532</td>\n",
       "      <td>0.020522</td>\n",
       "    </tr>\n",
       "    <tr>\n",
       "      <th>4176</th>\n",
       "      <td>11</td>\n",
       "      <td>26</td>\n",
       "      <td>3</td>\n",
       "      <td>0.174454</td>\n",
       "      <td>0.063426</td>\n",
       "      <td>5.202462</td>\n",
       "      <td>9471357.0</td>\n",
       "      <td>3.200000</td>\n",
       "      <td>0.661253</td>\n",
       "      <td>0.107627</td>\n",
       "      <td>...</td>\n",
       "      <td>0.161435</td>\n",
       "      <td>0.00000</td>\n",
       "      <td>0.029478</td>\n",
       "      <td>0.251830</td>\n",
       "      <td>0.353269</td>\n",
       "      <td>0.011126</td>\n",
       "      <td>0.004529</td>\n",
       "      <td>0.005563</td>\n",
       "      <td>0.011076</td>\n",
       "      <td>0.016763</td>\n",
       "    </tr>\n",
       "    <tr>\n",
       "      <th>4177</th>\n",
       "      <td>11</td>\n",
       "      <td>26</td>\n",
       "      <td>4</td>\n",
       "      <td>0.161152</td>\n",
       "      <td>0.074724</td>\n",
       "      <td>4.605277</td>\n",
       "      <td>7378860.5</td>\n",
       "      <td>2.600000</td>\n",
       "      <td>0.645111</td>\n",
       "      <td>0.093705</td>\n",
       "      <td>...</td>\n",
       "      <td>0.130765</td>\n",
       "      <td>0.00000</td>\n",
       "      <td>0.025099</td>\n",
       "      <td>0.151084</td>\n",
       "      <td>0.319188</td>\n",
       "      <td>0.009205</td>\n",
       "      <td>0.004808</td>\n",
       "      <td>0.004193</td>\n",
       "      <td>0.008083</td>\n",
       "      <td>0.016254</td>\n",
       "    </tr>\n",
       "    <tr>\n",
       "      <th>4178</th>\n",
       "      <td>11</td>\n",
       "      <td>26</td>\n",
       "      <td>5</td>\n",
       "      <td>0.192846</td>\n",
       "      <td>0.056795</td>\n",
       "      <td>2.563405</td>\n",
       "      <td>22641664.0</td>\n",
       "      <td>3.200000</td>\n",
       "      <td>0.680604</td>\n",
       "      <td>0.094989</td>\n",
       "      <td>...</td>\n",
       "      <td>0.247554</td>\n",
       "      <td>0.00000</td>\n",
       "      <td>0.084562</td>\n",
       "      <td>0.600001</td>\n",
       "      <td>0.133573</td>\n",
       "      <td>0.013538</td>\n",
       "      <td>0.004881</td>\n",
       "      <td>0.007919</td>\n",
       "      <td>0.012861</td>\n",
       "      <td>0.019997</td>\n",
       "    </tr>\n",
       "    <tr>\n",
       "      <th>4179</th>\n",
       "      <td>11</td>\n",
       "      <td>26</td>\n",
       "      <td>6</td>\n",
       "      <td>0.208580</td>\n",
       "      <td>0.087355</td>\n",
       "      <td>13.824711</td>\n",
       "      <td>8544824.0</td>\n",
       "      <td>2.322119</td>\n",
       "      <td>0.597944</td>\n",
       "      <td>0.172617</td>\n",
       "      <td>...</td>\n",
       "      <td>0.125615</td>\n",
       "      <td>0.00000</td>\n",
       "      <td>0.010105</td>\n",
       "      <td>0.199290</td>\n",
       "      <td>0.254458</td>\n",
       "      <td>0.011825</td>\n",
       "      <td>0.005590</td>\n",
       "      <td>0.005440</td>\n",
       "      <td>0.010688</td>\n",
       "      <td>0.020008</td>\n",
       "    </tr>\n",
       "  </tbody>\n",
       "</table>\n",
       "<p>2282 rows × 172 columns</p>\n",
       "</div>"
      ],
      "text/plain": [
       "      pianist_id  segment_id  snippet_id  essentia_dissonance_mean  \\\n",
       "0              1           0           0                  0.192237   \n",
       "1              1           0           1                  0.143425   \n",
       "2              1           0           2                  0.146967   \n",
       "3              1           0           3                  0.158810   \n",
       "4              1           0           4                  0.168547   \n",
       "...          ...         ...         ...                       ...   \n",
       "4175          11          26           2                  0.202177   \n",
       "4176          11          26           3                  0.174454   \n",
       "4177          11          26           4                  0.161152   \n",
       "4178          11          26           5                  0.192846   \n",
       "4179          11          26           6                  0.208580   \n",
       "\n",
       "      essentia_dissonance_stdev  essentia_dynamic_complexity  \\\n",
       "0                      0.059404                     2.040252   \n",
       "1                      0.064204                     3.138845   \n",
       "2                      0.056205                     2.019706   \n",
       "3                      0.059129                     3.567908   \n",
       "4                      0.049648                     2.329854   \n",
       "...                         ...                          ...   \n",
       "4175                   0.050760                     2.840705   \n",
       "4176                   0.063426                     5.202462   \n",
       "4177                   0.074724                     4.605277   \n",
       "4178                   0.056795                     2.563405   \n",
       "4179                   0.087355                    13.824711   \n",
       "\n",
       "      essentia_loudness  essentia_onset_rate  essentia_pitch_salience_mean  \\\n",
       "0            16079768.0             0.800000                      0.677256   \n",
       "1            35489248.0             2.600000                      0.514913   \n",
       "2            42130144.0             2.600000                      0.560116   \n",
       "3            40922732.0             1.400000                      0.596779   \n",
       "4            51921612.0             1.600000                      0.556160   \n",
       "...                 ...                  ...                           ...   \n",
       "4175         51977460.0             1.800000                      0.688834   \n",
       "4176          9471357.0             3.200000                      0.661253   \n",
       "4177          7378860.5             2.600000                      0.645111   \n",
       "4178         22641664.0             3.200000                      0.680604   \n",
       "4179          8544824.0             2.322119                      0.597944   \n",
       "\n",
       "      essentia_pitch_salience_stdev  ...  mirtoolbox_novelty_std  \\\n",
       "0                          0.095846  ...                0.106446   \n",
       "1                          0.092372  ...                0.193342   \n",
       "2                          0.115359  ...                0.218179   \n",
       "3                          0.116061  ...                0.118148   \n",
       "4                          0.143420  ...                0.121018   \n",
       "...                             ...  ...                     ...   \n",
       "4175                       0.090235  ...                0.203668   \n",
       "4176                       0.107627  ...                0.161435   \n",
       "4177                       0.093705  ...                0.130765   \n",
       "4178                       0.094989  ...                0.247554   \n",
       "4179                       0.172617  ...                0.125615   \n",
       "\n",
       "      mirtoolbox_novelty_pct_10  mirtoolbox_novelty_pct_50  \\\n",
       "0                       0.00000                   0.013819   \n",
       "1                       0.00000                   0.027786   \n",
       "2                       0.00000                   0.049050   \n",
       "3                       0.00002                   0.017653   \n",
       "4                       0.00000                   0.020525   \n",
       "...                         ...                        ...   \n",
       "4175                    0.00000                   0.052074   \n",
       "4176                    0.00000                   0.029478   \n",
       "4177                    0.00000                   0.025099   \n",
       "4178                    0.00000                   0.084562   \n",
       "4179                    0.00000                   0.010105   \n",
       "\n",
       "      mirtoolbox_novelty_pct_90  mirtoolbox_pulseclarity  \\\n",
       "0                      0.082176                 0.169743   \n",
       "1                      0.356029                 0.355861   \n",
       "2                      0.375251                 0.209162   \n",
       "3                      0.098657                 0.232454   \n",
       "4                      0.157408                 0.140930   \n",
       "...                         ...                      ...   \n",
       "4175                   0.377220                 0.269012   \n",
       "4176                   0.251830                 0.353269   \n",
       "4177                   0.151084                 0.319188   \n",
       "4178                   0.600001                 0.133573   \n",
       "4179                   0.199290                 0.254458   \n",
       "\n",
       "      mirtoolbox_roughness_mean  mirtoolbox_roughness_std  \\\n",
       "0                      0.011449                  0.004161   \n",
       "1                      0.006205                  0.003194   \n",
       "2                      0.007467                  0.003986   \n",
       "3                      0.007335                  0.004063   \n",
       "4                      0.007345                  0.003917   \n",
       "...                         ...                       ...   \n",
       "4175                   0.014044                  0.004991   \n",
       "4176                   0.011126                  0.004529   \n",
       "4177                   0.009205                  0.004808   \n",
       "4178                   0.013538                  0.004881   \n",
       "4179                   0.011825                  0.005590   \n",
       "\n",
       "      mirtoolbox_roughness_pct_10  mirtoolbox_roughness_pct_50  \\\n",
       "0                        0.006684                     0.011048   \n",
       "1                        0.002583                     0.005657   \n",
       "2                        0.002330                     0.007206   \n",
       "3                        0.002609                     0.006807   \n",
       "4                        0.002662                     0.007016   \n",
       "...                           ...                          ...   \n",
       "4175                     0.007948                     0.013532   \n",
       "4176                     0.005563                     0.011076   \n",
       "4177                     0.004193                     0.008083   \n",
       "4178                     0.007919                     0.012861   \n",
       "4179                     0.005440                     0.010688   \n",
       "\n",
       "      mirtoolbox_roughness_pct_90  \n",
       "0                        0.017025  \n",
       "1                        0.010610  \n",
       "2                        0.012690  \n",
       "3                        0.012971  \n",
       "4                        0.012731  \n",
       "...                           ...  \n",
       "4175                     0.020522  \n",
       "4176                     0.016763  \n",
       "4177                     0.016254  \n",
       "4178                     0.019997  \n",
       "4179                     0.020008  \n",
       "\n",
       "[2282 rows x 172 columns]"
      ]
     },
     "execution_count": 125,
     "metadata": {},
     "output_type": "execute_result"
    }
   ],
   "source": [
    "# calculated features\n",
    "pandas_features = pd.read_pickle(os.path.join('dataset', 'task_2_features_1d8b658c21ddc127_e330cbf_pandas.pkl'))\n",
    "pandas_feature_df = pd.DataFrame.from_dict(pandas_features)\n",
    "pandas_feature_df"
   ]
  },
  {
   "cell_type": "markdown",
   "id": "4158ea34-df61-41ad-a650-5203b65a4857",
   "metadata": {},
   "source": [
    "### Dataset Preprocessing\n",
    "---"
   ]
  },
  {
   "cell_type": "code",
   "execution_count": 126,
   "id": "10be036d-6e49-4def-992a-a74522376cb7",
   "metadata": {},
   "outputs": [
    {
     "data": {
      "text/html": [
       "<div>\n",
       "<style scoped>\n",
       "    .dataframe tbody tr th:only-of-type {\n",
       "        vertical-align: middle;\n",
       "    }\n",
       "\n",
       "    .dataframe tbody tr th {\n",
       "        vertical-align: top;\n",
       "    }\n",
       "\n",
       "    .dataframe thead th {\n",
       "        text-align: right;\n",
       "    }\n",
       "</style>\n",
       "<table border=\"1\" class=\"dataframe\">\n",
       "  <thead>\n",
       "    <tr style=\"text-align: right;\">\n",
       "      <th></th>\n",
       "      <th>pianist_id</th>\n",
       "      <th>segment_id</th>\n",
       "      <th>annotator_id</th>\n",
       "      <th>arousal</th>\n",
       "      <th>valence</th>\n",
       "      <th>gems_wonder</th>\n",
       "      <th>gems_transcendence</th>\n",
       "      <th>gems_tenderness</th>\n",
       "      <th>gems_nostalgia</th>\n",
       "      <th>gems_peacefulness</th>\n",
       "      <th>gems_power</th>\n",
       "      <th>gems_joyful_activation</th>\n",
       "      <th>gems_tension</th>\n",
       "      <th>gems_sadness</th>\n",
       "      <th>gemmes_flow</th>\n",
       "      <th>gemmes_movement</th>\n",
       "      <th>gemmes_force</th>\n",
       "      <th>gemmes_interior</th>\n",
       "      <th>gemmes_wandering</th>\n",
       "      <th>class</th>\n",
       "    </tr>\n",
       "  </thead>\n",
       "  <tbody>\n",
       "    <tr>\n",
       "      <th>0</th>\n",
       "      <td>1</td>\n",
       "      <td>0</td>\n",
       "      <td>91</td>\n",
       "      <td>1</td>\n",
       "      <td>-1</td>\n",
       "      <td>2</td>\n",
       "      <td>1</td>\n",
       "      <td>2</td>\n",
       "      <td>4</td>\n",
       "      <td>2.0</td>\n",
       "      <td>1</td>\n",
       "      <td>1</td>\n",
       "      <td>1</td>\n",
       "      <td>2</td>\n",
       "      <td>3</td>\n",
       "      <td>2</td>\n",
       "      <td>1</td>\n",
       "      <td>1.0</td>\n",
       "      <td>2</td>\n",
       "      <td>sad</td>\n",
       "    </tr>\n",
       "    <tr>\n",
       "      <th>31</th>\n",
       "      <td>1</td>\n",
       "      <td>0</td>\n",
       "      <td>19</td>\n",
       "      <td>2</td>\n",
       "      <td>-1</td>\n",
       "      <td>3</td>\n",
       "      <td>3</td>\n",
       "      <td>3</td>\n",
       "      <td>4</td>\n",
       "      <td>4.0</td>\n",
       "      <td>1</td>\n",
       "      <td>2</td>\n",
       "      <td>3</td>\n",
       "      <td>3</td>\n",
       "      <td>3</td>\n",
       "      <td>2</td>\n",
       "      <td>2</td>\n",
       "      <td>3.0</td>\n",
       "      <td>3</td>\n",
       "      <td>sad</td>\n",
       "    </tr>\n",
       "    <tr>\n",
       "      <th>62</th>\n",
       "      <td>1</td>\n",
       "      <td>0</td>\n",
       "      <td>189</td>\n",
       "      <td>2</td>\n",
       "      <td>0</td>\n",
       "      <td>2</td>\n",
       "      <td>1</td>\n",
       "      <td>2</td>\n",
       "      <td>1</td>\n",
       "      <td>4.0</td>\n",
       "      <td>2</td>\n",
       "      <td>2</td>\n",
       "      <td>1</td>\n",
       "      <td>1</td>\n",
       "      <td>3</td>\n",
       "      <td>2</td>\n",
       "      <td>1</td>\n",
       "      <td>1.0</td>\n",
       "      <td>4</td>\n",
       "      <td>relaxed</td>\n",
       "    </tr>\n",
       "    <tr>\n",
       "      <th>93</th>\n",
       "      <td>1</td>\n",
       "      <td>0</td>\n",
       "      <td>126</td>\n",
       "      <td>2</td>\n",
       "      <td>2</td>\n",
       "      <td>4</td>\n",
       "      <td>5</td>\n",
       "      <td>2</td>\n",
       "      <td>3</td>\n",
       "      <td>5.0</td>\n",
       "      <td>2</td>\n",
       "      <td>4</td>\n",
       "      <td>1</td>\n",
       "      <td>3</td>\n",
       "      <td>5</td>\n",
       "      <td>1</td>\n",
       "      <td>2</td>\n",
       "      <td>2.0</td>\n",
       "      <td>5</td>\n",
       "      <td>relaxed</td>\n",
       "    </tr>\n",
       "    <tr>\n",
       "      <th>124</th>\n",
       "      <td>1</td>\n",
       "      <td>0</td>\n",
       "      <td>26</td>\n",
       "      <td>4</td>\n",
       "      <td>2</td>\n",
       "      <td>3</td>\n",
       "      <td>5</td>\n",
       "      <td>2</td>\n",
       "      <td>3</td>\n",
       "      <td>3.0</td>\n",
       "      <td>1</td>\n",
       "      <td>3</td>\n",
       "      <td>4</td>\n",
       "      <td>1</td>\n",
       "      <td>4</td>\n",
       "      <td>1</td>\n",
       "      <td>2</td>\n",
       "      <td>3.0</td>\n",
       "      <td>1</td>\n",
       "      <td>happy</td>\n",
       "    </tr>\n",
       "    <tr>\n",
       "      <th>...</th>\n",
       "      <td>...</td>\n",
       "      <td>...</td>\n",
       "      <td>...</td>\n",
       "      <td>...</td>\n",
       "      <td>...</td>\n",
       "      <td>...</td>\n",
       "      <td>...</td>\n",
       "      <td>...</td>\n",
       "      <td>...</td>\n",
       "      <td>...</td>\n",
       "      <td>...</td>\n",
       "      <td>...</td>\n",
       "      <td>...</td>\n",
       "      <td>...</td>\n",
       "      <td>...</td>\n",
       "      <td>...</td>\n",
       "      <td>...</td>\n",
       "      <td>...</td>\n",
       "      <td>...</td>\n",
       "      <td>...</td>\n",
       "    </tr>\n",
       "    <tr>\n",
       "      <th>3888</th>\n",
       "      <td>11</td>\n",
       "      <td>26</td>\n",
       "      <td>36</td>\n",
       "      <td>3</td>\n",
       "      <td>-1</td>\n",
       "      <td>3</td>\n",
       "      <td>2</td>\n",
       "      <td>1</td>\n",
       "      <td>4</td>\n",
       "      <td>1.0</td>\n",
       "      <td>3</td>\n",
       "      <td>2</td>\n",
       "      <td>3</td>\n",
       "      <td>5</td>\n",
       "      <td>4</td>\n",
       "      <td>2</td>\n",
       "      <td>2</td>\n",
       "      <td>5.0</td>\n",
       "      <td>3</td>\n",
       "      <td>sad</td>\n",
       "    </tr>\n",
       "    <tr>\n",
       "      <th>3919</th>\n",
       "      <td>11</td>\n",
       "      <td>26</td>\n",
       "      <td>55</td>\n",
       "      <td>2</td>\n",
       "      <td>0</td>\n",
       "      <td>2</td>\n",
       "      <td>2</td>\n",
       "      <td>2</td>\n",
       "      <td>3</td>\n",
       "      <td>3.0</td>\n",
       "      <td>3</td>\n",
       "      <td>1</td>\n",
       "      <td>3</td>\n",
       "      <td>1</td>\n",
       "      <td>2</td>\n",
       "      <td>3</td>\n",
       "      <td>2</td>\n",
       "      <td>1.0</td>\n",
       "      <td>1</td>\n",
       "      <td>relaxed</td>\n",
       "    </tr>\n",
       "    <tr>\n",
       "      <th>3950</th>\n",
       "      <td>11</td>\n",
       "      <td>26</td>\n",
       "      <td>136</td>\n",
       "      <td>2</td>\n",
       "      <td>1</td>\n",
       "      <td>2</td>\n",
       "      <td>1</td>\n",
       "      <td>1</td>\n",
       "      <td>2</td>\n",
       "      <td>2.0</td>\n",
       "      <td>2</td>\n",
       "      <td>2</td>\n",
       "      <td>1</td>\n",
       "      <td>1</td>\n",
       "      <td>2</td>\n",
       "      <td>2</td>\n",
       "      <td>1</td>\n",
       "      <td>2.0</td>\n",
       "      <td>2</td>\n",
       "      <td>relaxed</td>\n",
       "    </tr>\n",
       "    <tr>\n",
       "      <th>3981</th>\n",
       "      <td>11</td>\n",
       "      <td>26</td>\n",
       "      <td>169</td>\n",
       "      <td>2</td>\n",
       "      <td>0</td>\n",
       "      <td>2</td>\n",
       "      <td>1</td>\n",
       "      <td>2</td>\n",
       "      <td>2</td>\n",
       "      <td>1.0</td>\n",
       "      <td>3</td>\n",
       "      <td>4</td>\n",
       "      <td>3</td>\n",
       "      <td>2</td>\n",
       "      <td>2</td>\n",
       "      <td>3</td>\n",
       "      <td>3</td>\n",
       "      <td>1.0</td>\n",
       "      <td>1</td>\n",
       "      <td>relaxed</td>\n",
       "    </tr>\n",
       "    <tr>\n",
       "      <th>4012</th>\n",
       "      <td>11</td>\n",
       "      <td>26</td>\n",
       "      <td>76</td>\n",
       "      <td>3</td>\n",
       "      <td>-1</td>\n",
       "      <td>3</td>\n",
       "      <td>2</td>\n",
       "      <td>3</td>\n",
       "      <td>3</td>\n",
       "      <td>3.0</td>\n",
       "      <td>2</td>\n",
       "      <td>1</td>\n",
       "      <td>1</td>\n",
       "      <td>2</td>\n",
       "      <td>3</td>\n",
       "      <td>2</td>\n",
       "      <td>2</td>\n",
       "      <td>3.0</td>\n",
       "      <td>3</td>\n",
       "      <td>sad</td>\n",
       "    </tr>\n",
       "  </tbody>\n",
       "</table>\n",
       "<p>2638 rows × 20 columns</p>\n",
       "</div>"
      ],
      "text/plain": [
       "      pianist_id  segment_id  annotator_id  arousal  valence  gems_wonder  \\\n",
       "0              1           0            91        1       -1            2   \n",
       "31             1           0            19        2       -1            3   \n",
       "62             1           0           189        2        0            2   \n",
       "93             1           0           126        2        2            4   \n",
       "124            1           0            26        4        2            3   \n",
       "...          ...         ...           ...      ...      ...          ...   \n",
       "3888          11          26            36        3       -1            3   \n",
       "3919          11          26            55        2        0            2   \n",
       "3950          11          26           136        2        1            2   \n",
       "3981          11          26           169        2        0            2   \n",
       "4012          11          26            76        3       -1            3   \n",
       "\n",
       "      gems_transcendence  gems_tenderness  gems_nostalgia  gems_peacefulness  \\\n",
       "0                      1                2               4                2.0   \n",
       "31                     3                3               4                4.0   \n",
       "62                     1                2               1                4.0   \n",
       "93                     5                2               3                5.0   \n",
       "124                    5                2               3                3.0   \n",
       "...                  ...              ...             ...                ...   \n",
       "3888                   2                1               4                1.0   \n",
       "3919                   2                2               3                3.0   \n",
       "3950                   1                1               2                2.0   \n",
       "3981                   1                2               2                1.0   \n",
       "4012                   2                3               3                3.0   \n",
       "\n",
       "      gems_power  gems_joyful_activation  gems_tension  gems_sadness  \\\n",
       "0              1                       1             1             2   \n",
       "31             1                       2             3             3   \n",
       "62             2                       2             1             1   \n",
       "93             2                       4             1             3   \n",
       "124            1                       3             4             1   \n",
       "...          ...                     ...           ...           ...   \n",
       "3888           3                       2             3             5   \n",
       "3919           3                       1             3             1   \n",
       "3950           2                       2             1             1   \n",
       "3981           3                       4             3             2   \n",
       "4012           2                       1             1             2   \n",
       "\n",
       "      gemmes_flow  gemmes_movement  gemmes_force  gemmes_interior  \\\n",
       "0               3                2             1              1.0   \n",
       "31              3                2             2              3.0   \n",
       "62              3                2             1              1.0   \n",
       "93              5                1             2              2.0   \n",
       "124             4                1             2              3.0   \n",
       "...           ...              ...           ...              ...   \n",
       "3888            4                2             2              5.0   \n",
       "3919            2                3             2              1.0   \n",
       "3950            2                2             1              2.0   \n",
       "3981            2                3             3              1.0   \n",
       "4012            3                2             2              3.0   \n",
       "\n",
       "      gemmes_wandering    class  \n",
       "0                    2      sad  \n",
       "31                   3      sad  \n",
       "62                   4  relaxed  \n",
       "93                   5  relaxed  \n",
       "124                  1    happy  \n",
       "...                ...      ...  \n",
       "3888                 3      sad  \n",
       "3919                 1  relaxed  \n",
       "3950                 2  relaxed  \n",
       "3981                 1  relaxed  \n",
       "4012                 3      sad  \n",
       "\n",
       "[2638 rows x 20 columns]"
      ]
     },
     "execution_count": 126,
     "metadata": {},
     "output_type": "execute_result"
    }
   ],
   "source": [
    "# add the labels to the dataset\n",
    "def label_race(row):\n",
    "   if row['valence'] <= 0 and row['arousal'] > 3:\n",
    "        return 'angry'\n",
    "   elif row['valence'] > 0 and row['arousal'] >= 3:\n",
    "       return 'happy'\n",
    "   elif row['valence'] < 0 and row['arousal'] <= 3:\n",
    "       return 'sad'\n",
    "   elif row['valence'] >= 0 and row['arousal'] < 3:\n",
    "       return 'relaxed'\n",
    "   else:\n",
    "       return 'None'\n",
    "\n",
    "annot_df['class'] = annot_df.apply(lambda row: label_race(row), axis=1)\n",
    "annot_df"
   ]
  },
  {
   "cell_type": "code",
   "execution_count": 127,
   "id": "13a315bf-0df2-408b-88bb-9cba4f107124",
   "metadata": {},
   "outputs": [
    {
     "data": {
      "text/html": [
       "<div>\n",
       "<style scoped>\n",
       "    .dataframe tbody tr th:only-of-type {\n",
       "        vertical-align: middle;\n",
       "    }\n",
       "\n",
       "    .dataframe tbody tr th {\n",
       "        vertical-align: top;\n",
       "    }\n",
       "\n",
       "    .dataframe thead th {\n",
       "        text-align: right;\n",
       "    }\n",
       "</style>\n",
       "<table border=\"1\" class=\"dataframe\">\n",
       "  <thead>\n",
       "    <tr style=\"text-align: right;\">\n",
       "      <th></th>\n",
       "      <th>pianist_id</th>\n",
       "      <th>segment_id</th>\n",
       "      <th>annotator_id</th>\n",
       "      <th>arousal</th>\n",
       "      <th>valence</th>\n",
       "      <th>gems_wonder</th>\n",
       "      <th>gems_transcendence</th>\n",
       "      <th>gems_tenderness</th>\n",
       "      <th>gems_nostalgia</th>\n",
       "      <th>gems_peacefulness</th>\n",
       "      <th>gems_power</th>\n",
       "      <th>gems_joyful_activation</th>\n",
       "      <th>gems_tension</th>\n",
       "      <th>gems_sadness</th>\n",
       "      <th>gemmes_flow</th>\n",
       "      <th>gemmes_movement</th>\n",
       "      <th>gemmes_force</th>\n",
       "      <th>gemmes_interior</th>\n",
       "      <th>gemmes_wandering</th>\n",
       "    </tr>\n",
       "  </thead>\n",
       "  <tbody>\n",
       "    <tr>\n",
       "      <th>0</th>\n",
       "      <td>-1.584129</td>\n",
       "      <td>-1.665261</td>\n",
       "      <td>-0.107767</td>\n",
       "      <td>-1.629596</td>\n",
       "      <td>-0.928178</td>\n",
       "      <td>-0.711373</td>\n",
       "      <td>-1.354151</td>\n",
       "      <td>-0.282325</td>\n",
       "      <td>0.930731</td>\n",
       "      <td>-0.289144</td>\n",
       "      <td>-1.065984</td>\n",
       "      <td>-1.030209</td>\n",
       "      <td>-1.130637</td>\n",
       "      <td>-0.125896</td>\n",
       "      <td>0.023672</td>\n",
       "      <td>-0.444882</td>\n",
       "      <td>-1.134149</td>\n",
       "      <td>-1.342541</td>\n",
       "      <td>-0.387798</td>\n",
       "    </tr>\n",
       "    <tr>\n",
       "      <th>31</th>\n",
       "      <td>-1.584129</td>\n",
       "      <td>-1.665261</td>\n",
       "      <td>-1.385706</td>\n",
       "      <td>-0.785024</td>\n",
       "      <td>-0.928178</td>\n",
       "      <td>0.077778</td>\n",
       "      <td>0.264082</td>\n",
       "      <td>0.488661</td>\n",
       "      <td>0.930731</td>\n",
       "      <td>1.172934</td>\n",
       "      <td>-1.065984</td>\n",
       "      <td>-0.223294</td>\n",
       "      <td>0.285612</td>\n",
       "      <td>0.723497</td>\n",
       "      <td>0.023672</td>\n",
       "      <td>-0.444882</td>\n",
       "      <td>-0.343482</td>\n",
       "      <td>0.246097</td>\n",
       "      <td>0.393723</td>\n",
       "    </tr>\n",
       "    <tr>\n",
       "      <th>62</th>\n",
       "      <td>-1.584129</td>\n",
       "      <td>-1.665261</td>\n",
       "      <td>1.631651</td>\n",
       "      <td>-0.785024</td>\n",
       "      <td>-0.018956</td>\n",
       "      <td>-0.711373</td>\n",
       "      <td>-1.354151</td>\n",
       "      <td>-0.282325</td>\n",
       "      <td>-1.256266</td>\n",
       "      <td>1.172934</td>\n",
       "      <td>-0.254421</td>\n",
       "      <td>-0.223294</td>\n",
       "      <td>-1.130637</td>\n",
       "      <td>-0.975288</td>\n",
       "      <td>0.023672</td>\n",
       "      <td>-0.444882</td>\n",
       "      <td>-1.134149</td>\n",
       "      <td>-1.342541</td>\n",
       "      <td>1.175244</td>\n",
       "    </tr>\n",
       "    <tr>\n",
       "      <th>93</th>\n",
       "      <td>-1.584129</td>\n",
       "      <td>-1.665261</td>\n",
       "      <td>0.513454</td>\n",
       "      <td>-0.785024</td>\n",
       "      <td>1.799487</td>\n",
       "      <td>0.866930</td>\n",
       "      <td>1.882316</td>\n",
       "      <td>-0.282325</td>\n",
       "      <td>0.201732</td>\n",
       "      <td>1.903973</td>\n",
       "      <td>-0.254421</td>\n",
       "      <td>1.390537</td>\n",
       "      <td>-1.130637</td>\n",
       "      <td>0.723497</td>\n",
       "      <td>1.528432</td>\n",
       "      <td>-1.237854</td>\n",
       "      <td>-0.343482</td>\n",
       "      <td>-0.548222</td>\n",
       "      <td>1.956766</td>\n",
       "    </tr>\n",
       "    <tr>\n",
       "      <th>124</th>\n",
       "      <td>-1.584129</td>\n",
       "      <td>-1.665261</td>\n",
       "      <td>-1.261462</td>\n",
       "      <td>0.904122</td>\n",
       "      <td>1.799487</td>\n",
       "      <td>0.077778</td>\n",
       "      <td>1.882316</td>\n",
       "      <td>-0.282325</td>\n",
       "      <td>0.201732</td>\n",
       "      <td>0.441895</td>\n",
       "      <td>-1.065984</td>\n",
       "      <td>0.583622</td>\n",
       "      <td>0.993737</td>\n",
       "      <td>-0.975288</td>\n",
       "      <td>0.776052</td>\n",
       "      <td>-1.237854</td>\n",
       "      <td>-0.343482</td>\n",
       "      <td>0.246097</td>\n",
       "      <td>-1.169319</td>\n",
       "    </tr>\n",
       "    <tr>\n",
       "      <th>...</th>\n",
       "      <td>...</td>\n",
       "      <td>...</td>\n",
       "      <td>...</td>\n",
       "      <td>...</td>\n",
       "      <td>...</td>\n",
       "      <td>...</td>\n",
       "      <td>...</td>\n",
       "      <td>...</td>\n",
       "      <td>...</td>\n",
       "      <td>...</td>\n",
       "      <td>...</td>\n",
       "      <td>...</td>\n",
       "      <td>...</td>\n",
       "      <td>...</td>\n",
       "      <td>...</td>\n",
       "      <td>...</td>\n",
       "      <td>...</td>\n",
       "      <td>...</td>\n",
       "      <td>...</td>\n",
       "    </tr>\n",
       "    <tr>\n",
       "      <th>3888</th>\n",
       "      <td>1.560763</td>\n",
       "      <td>1.665261</td>\n",
       "      <td>-1.083970</td>\n",
       "      <td>0.059549</td>\n",
       "      <td>-0.928178</td>\n",
       "      <td>0.077778</td>\n",
       "      <td>-0.545034</td>\n",
       "      <td>-1.053310</td>\n",
       "      <td>0.930731</td>\n",
       "      <td>-1.020183</td>\n",
       "      <td>0.557142</td>\n",
       "      <td>-0.223294</td>\n",
       "      <td>0.285612</td>\n",
       "      <td>2.422283</td>\n",
       "      <td>0.776052</td>\n",
       "      <td>-0.444882</td>\n",
       "      <td>-0.343482</td>\n",
       "      <td>1.834735</td>\n",
       "      <td>0.393723</td>\n",
       "    </tr>\n",
       "    <tr>\n",
       "      <th>3919</th>\n",
       "      <td>1.560763</td>\n",
       "      <td>1.665261</td>\n",
       "      <td>-0.746736</td>\n",
       "      <td>-0.785024</td>\n",
       "      <td>-0.018956</td>\n",
       "      <td>-0.711373</td>\n",
       "      <td>-0.545034</td>\n",
       "      <td>-0.282325</td>\n",
       "      <td>0.201732</td>\n",
       "      <td>0.441895</td>\n",
       "      <td>0.557142</td>\n",
       "      <td>-1.030209</td>\n",
       "      <td>0.285612</td>\n",
       "      <td>-0.975288</td>\n",
       "      <td>-0.728708</td>\n",
       "      <td>0.348090</td>\n",
       "      <td>-0.343482</td>\n",
       "      <td>-1.342541</td>\n",
       "      <td>-1.169319</td>\n",
       "    </tr>\n",
       "    <tr>\n",
       "      <th>3950</th>\n",
       "      <td>1.560763</td>\n",
       "      <td>1.665261</td>\n",
       "      <td>0.690945</td>\n",
       "      <td>-0.785024</td>\n",
       "      <td>0.890265</td>\n",
       "      <td>-0.711373</td>\n",
       "      <td>-1.354151</td>\n",
       "      <td>-1.053310</td>\n",
       "      <td>-0.527267</td>\n",
       "      <td>-0.289144</td>\n",
       "      <td>-0.254421</td>\n",
       "      <td>-0.223294</td>\n",
       "      <td>-1.130637</td>\n",
       "      <td>-0.975288</td>\n",
       "      <td>-0.728708</td>\n",
       "      <td>-0.444882</td>\n",
       "      <td>-1.134149</td>\n",
       "      <td>-0.548222</td>\n",
       "      <td>-0.387798</td>\n",
       "    </tr>\n",
       "    <tr>\n",
       "      <th>3981</th>\n",
       "      <td>1.560763</td>\n",
       "      <td>1.665261</td>\n",
       "      <td>1.276667</td>\n",
       "      <td>-0.785024</td>\n",
       "      <td>-0.018956</td>\n",
       "      <td>-0.711373</td>\n",
       "      <td>-1.354151</td>\n",
       "      <td>-0.282325</td>\n",
       "      <td>-0.527267</td>\n",
       "      <td>-1.020183</td>\n",
       "      <td>0.557142</td>\n",
       "      <td>1.390537</td>\n",
       "      <td>0.285612</td>\n",
       "      <td>-0.125896</td>\n",
       "      <td>-0.728708</td>\n",
       "      <td>0.348090</td>\n",
       "      <td>0.447186</td>\n",
       "      <td>-1.342541</td>\n",
       "      <td>-1.169319</td>\n",
       "    </tr>\n",
       "    <tr>\n",
       "      <th>4012</th>\n",
       "      <td>1.560763</td>\n",
       "      <td>1.665261</td>\n",
       "      <td>-0.374004</td>\n",
       "      <td>0.059549</td>\n",
       "      <td>-0.928178</td>\n",
       "      <td>0.077778</td>\n",
       "      <td>-0.545034</td>\n",
       "      <td>0.488661</td>\n",
       "      <td>0.201732</td>\n",
       "      <td>0.441895</td>\n",
       "      <td>-0.254421</td>\n",
       "      <td>-1.030209</td>\n",
       "      <td>-1.130637</td>\n",
       "      <td>-0.125896</td>\n",
       "      <td>0.023672</td>\n",
       "      <td>-0.444882</td>\n",
       "      <td>-0.343482</td>\n",
       "      <td>0.246097</td>\n",
       "      <td>0.393723</td>\n",
       "    </tr>\n",
       "  </tbody>\n",
       "</table>\n",
       "<p>2638 rows × 19 columns</p>\n",
       "</div>"
      ],
      "text/plain": [
       "      pianist_id  segment_id  annotator_id   arousal   valence  gems_wonder  \\\n",
       "0      -1.584129   -1.665261     -0.107767 -1.629596 -0.928178    -0.711373   \n",
       "31     -1.584129   -1.665261     -1.385706 -0.785024 -0.928178     0.077778   \n",
       "62     -1.584129   -1.665261      1.631651 -0.785024 -0.018956    -0.711373   \n",
       "93     -1.584129   -1.665261      0.513454 -0.785024  1.799487     0.866930   \n",
       "124    -1.584129   -1.665261     -1.261462  0.904122  1.799487     0.077778   \n",
       "...          ...         ...           ...       ...       ...          ...   \n",
       "3888    1.560763    1.665261     -1.083970  0.059549 -0.928178     0.077778   \n",
       "3919    1.560763    1.665261     -0.746736 -0.785024 -0.018956    -0.711373   \n",
       "3950    1.560763    1.665261      0.690945 -0.785024  0.890265    -0.711373   \n",
       "3981    1.560763    1.665261      1.276667 -0.785024 -0.018956    -0.711373   \n",
       "4012    1.560763    1.665261     -0.374004  0.059549 -0.928178     0.077778   \n",
       "\n",
       "      gems_transcendence  gems_tenderness  gems_nostalgia  gems_peacefulness  \\\n",
       "0              -1.354151        -0.282325        0.930731          -0.289144   \n",
       "31              0.264082         0.488661        0.930731           1.172934   \n",
       "62             -1.354151        -0.282325       -1.256266           1.172934   \n",
       "93              1.882316        -0.282325        0.201732           1.903973   \n",
       "124             1.882316        -0.282325        0.201732           0.441895   \n",
       "...                  ...              ...             ...                ...   \n",
       "3888           -0.545034        -1.053310        0.930731          -1.020183   \n",
       "3919           -0.545034        -0.282325        0.201732           0.441895   \n",
       "3950           -1.354151        -1.053310       -0.527267          -0.289144   \n",
       "3981           -1.354151        -0.282325       -0.527267          -1.020183   \n",
       "4012           -0.545034         0.488661        0.201732           0.441895   \n",
       "\n",
       "      gems_power  gems_joyful_activation  gems_tension  gems_sadness  \\\n",
       "0      -1.065984               -1.030209     -1.130637     -0.125896   \n",
       "31     -1.065984               -0.223294      0.285612      0.723497   \n",
       "62     -0.254421               -0.223294     -1.130637     -0.975288   \n",
       "93     -0.254421                1.390537     -1.130637      0.723497   \n",
       "124    -1.065984                0.583622      0.993737     -0.975288   \n",
       "...          ...                     ...           ...           ...   \n",
       "3888    0.557142               -0.223294      0.285612      2.422283   \n",
       "3919    0.557142               -1.030209      0.285612     -0.975288   \n",
       "3950   -0.254421               -0.223294     -1.130637     -0.975288   \n",
       "3981    0.557142                1.390537      0.285612     -0.125896   \n",
       "4012   -0.254421               -1.030209     -1.130637     -0.125896   \n",
       "\n",
       "      gemmes_flow  gemmes_movement  gemmes_force  gemmes_interior  \\\n",
       "0        0.023672        -0.444882     -1.134149        -1.342541   \n",
       "31       0.023672        -0.444882     -0.343482         0.246097   \n",
       "62       0.023672        -0.444882     -1.134149        -1.342541   \n",
       "93       1.528432        -1.237854     -0.343482        -0.548222   \n",
       "124      0.776052        -1.237854     -0.343482         0.246097   \n",
       "...           ...              ...           ...              ...   \n",
       "3888     0.776052        -0.444882     -0.343482         1.834735   \n",
       "3919    -0.728708         0.348090     -0.343482        -1.342541   \n",
       "3950    -0.728708        -0.444882     -1.134149        -0.548222   \n",
       "3981    -0.728708         0.348090      0.447186        -1.342541   \n",
       "4012     0.023672        -0.444882     -0.343482         0.246097   \n",
       "\n",
       "      gemmes_wandering  \n",
       "0            -0.387798  \n",
       "31            0.393723  \n",
       "62            1.175244  \n",
       "93            1.956766  \n",
       "124          -1.169319  \n",
       "...                ...  \n",
       "3888          0.393723  \n",
       "3919         -1.169319  \n",
       "3950         -0.387798  \n",
       "3981         -1.169319  \n",
       "4012          0.393723  \n",
       "\n",
       "[2638 rows x 19 columns]"
      ]
     },
     "execution_count": 127,
     "metadata": {},
     "output_type": "execute_result"
    }
   ],
   "source": [
    "# normalize dataset\n",
    "annot_df2 = annot_df.copy()\n",
    "annot_df2 = annot_df2.drop(['class'], axis=1)\n",
    "annot_df2 = (annot_df2-annot_df2.mean())/annot_df2.std()\n",
    "annot_df2"
   ]
  },
  {
   "cell_type": "markdown",
   "id": "5981d87c-e2ee-402e-942f-6cf213b8d5ec",
   "metadata": {},
   "source": [
    "### Feature Correlations\n",
    "---"
   ]
  },
  {
   "cell_type": "code",
   "execution_count": 128,
   "id": "569de73c-f669-46d3-99d3-fb15169845a8",
   "metadata": {},
   "outputs": [],
   "source": [
    "annot_df_corr = annot_df2.copy()\n",
    "annot_df_corr = annot_df_corr.drop(['pianist_id', 'segment_id', 'annotator_id'], axis=1)\n",
    "\n",
    "def get_arousal_valence_corr(df):\n",
    "    corr_x, corr_y, feature, factor = [], [], [], []\n",
    "    model = df.columns.to_list()[0:2]\n",
    "    features = df.columns.to_list()[2:16]\n",
    "    for idx, x in enumerate(features):\n",
    "        for idy, y in enumerate(model):\n",
    "            if idy == 0:\n",
    "                corr_arousal = df[y].corr(df[x])\n",
    "            elif idy == 1:\n",
    "                corr_valence = df[y].corr(df[x])    \n",
    "        corr_x.append(corr_valence)\n",
    "        corr_y.append(corr_arousal)\n",
    "        feature.append(x.split('_')[1])\n",
    "        if 'gems' in x:\n",
    "            factor.append('gems')\n",
    "        else:\n",
    "            factor.append('gemmes')\n",
    "    return corr_x, corr_y, feature, factor\n",
    "\n",
    "corr_valence, corr_arousal, feature, factor = get_arousal_valence_corr(annot_df_corr)"
   ]
  },
  {
   "cell_type": "code",
   "execution_count": 129,
   "id": "f13e0c7a-ae7a-4490-9ee9-94235e96cafd",
   "metadata": {},
   "outputs": [
    {
     "data": {
      "text/html": [
       "<div>\n",
       "<style scoped>\n",
       "    .dataframe tbody tr th:only-of-type {\n",
       "        vertical-align: middle;\n",
       "    }\n",
       "\n",
       "    .dataframe tbody tr th {\n",
       "        vertical-align: top;\n",
       "    }\n",
       "\n",
       "    .dataframe thead th {\n",
       "        text-align: right;\n",
       "    }\n",
       "</style>\n",
       "<table border=\"1\" class=\"dataframe\">\n",
       "  <thead>\n",
       "    <tr style=\"text-align: right;\">\n",
       "      <th></th>\n",
       "      <th>feature_name</th>\n",
       "      <th>factor</th>\n",
       "      <th>corr_valence</th>\n",
       "      <th>corr_arousal</th>\n",
       "    </tr>\n",
       "  </thead>\n",
       "  <tbody>\n",
       "    <tr>\n",
       "      <th>0</th>\n",
       "      <td>wonder</td>\n",
       "      <td>gems</td>\n",
       "      <td>0.393563</td>\n",
       "      <td>0.147268</td>\n",
       "    </tr>\n",
       "    <tr>\n",
       "      <th>1</th>\n",
       "      <td>transcendence</td>\n",
       "      <td>gems</td>\n",
       "      <td>0.250509</td>\n",
       "      <td>0.273471</td>\n",
       "    </tr>\n",
       "    <tr>\n",
       "      <th>2</th>\n",
       "      <td>tenderness</td>\n",
       "      <td>gems</td>\n",
       "      <td>0.325340</td>\n",
       "      <td>-0.112573</td>\n",
       "    </tr>\n",
       "    <tr>\n",
       "      <th>3</th>\n",
       "      <td>nostalgia</td>\n",
       "      <td>gems</td>\n",
       "      <td>0.043540</td>\n",
       "      <td>-0.196235</td>\n",
       "    </tr>\n",
       "    <tr>\n",
       "      <th>4</th>\n",
       "      <td>peacefulness</td>\n",
       "      <td>gems</td>\n",
       "      <td>0.255045</td>\n",
       "      <td>-0.293983</td>\n",
       "    </tr>\n",
       "    <tr>\n",
       "      <th>5</th>\n",
       "      <td>power</td>\n",
       "      <td>gems</td>\n",
       "      <td>-0.005944</td>\n",
       "      <td>0.475225</td>\n",
       "    </tr>\n",
       "    <tr>\n",
       "      <th>6</th>\n",
       "      <td>joyful</td>\n",
       "      <td>gems</td>\n",
       "      <td>0.399462</td>\n",
       "      <td>0.250030</td>\n",
       "    </tr>\n",
       "    <tr>\n",
       "      <th>7</th>\n",
       "      <td>tension</td>\n",
       "      <td>gems</td>\n",
       "      <td>-0.407697</td>\n",
       "      <td>0.268296</td>\n",
       "    </tr>\n",
       "    <tr>\n",
       "      <th>8</th>\n",
       "      <td>sadness</td>\n",
       "      <td>gems</td>\n",
       "      <td>-0.463651</td>\n",
       "      <td>-0.082546</td>\n",
       "    </tr>\n",
       "    <tr>\n",
       "      <th>9</th>\n",
       "      <td>flow</td>\n",
       "      <td>gemmes</td>\n",
       "      <td>0.258827</td>\n",
       "      <td>-0.155390</td>\n",
       "    </tr>\n",
       "    <tr>\n",
       "      <th>10</th>\n",
       "      <td>movement</td>\n",
       "      <td>gemmes</td>\n",
       "      <td>0.126082</td>\n",
       "      <td>0.354125</td>\n",
       "    </tr>\n",
       "    <tr>\n",
       "      <th>11</th>\n",
       "      <td>force</td>\n",
       "      <td>gemmes</td>\n",
       "      <td>-0.078485</td>\n",
       "      <td>0.462607</td>\n",
       "    </tr>\n",
       "    <tr>\n",
       "      <th>12</th>\n",
       "      <td>interior</td>\n",
       "      <td>gemmes</td>\n",
       "      <td>-0.046831</td>\n",
       "      <td>-0.031891</td>\n",
       "    </tr>\n",
       "    <tr>\n",
       "      <th>13</th>\n",
       "      <td>wandering</td>\n",
       "      <td>gemmes</td>\n",
       "      <td>0.202558</td>\n",
       "      <td>-0.059499</td>\n",
       "    </tr>\n",
       "  </tbody>\n",
       "</table>\n",
       "</div>"
      ],
      "text/plain": [
       "     feature_name  factor  corr_valence  corr_arousal\n",
       "0          wonder    gems      0.393563      0.147268\n",
       "1   transcendence    gems      0.250509      0.273471\n",
       "2      tenderness    gems      0.325340     -0.112573\n",
       "3       nostalgia    gems      0.043540     -0.196235\n",
       "4    peacefulness    gems      0.255045     -0.293983\n",
       "5           power    gems     -0.005944      0.475225\n",
       "6          joyful    gems      0.399462      0.250030\n",
       "7         tension    gems     -0.407697      0.268296\n",
       "8         sadness    gems     -0.463651     -0.082546\n",
       "9            flow  gemmes      0.258827     -0.155390\n",
       "10       movement  gemmes      0.126082      0.354125\n",
       "11          force  gemmes     -0.078485      0.462607\n",
       "12       interior  gemmes     -0.046831     -0.031891\n",
       "13      wandering  gemmes      0.202558     -0.059499"
      ]
     },
     "execution_count": 129,
     "metadata": {},
     "output_type": "execute_result"
    }
   ],
   "source": [
    "# create new DataFrame of calculated feature correlations\n",
    "corr_df = pd.DataFrame({'feature_name': feature, 'factor': feature_type, 'corr_valence': corr_valence, 'corr_arousal': corr_arousal})\n",
    "corr_df"
   ]
  },
  {
   "cell_type": "code",
   "execution_count": 130,
   "id": "412b57b1-80ea-46f5-8c5e-cfeceb3f8e09",
   "metadata": {},
   "outputs": [
    {
     "data": {
      "application/vnd.plotly.v1+json": {
       "config": {
        "plotlyServerURL": "https://plot.ly"
       },
       "data": [
        {
         "hovertemplate": "factor=gems<br>corr_valence=%{x}<br>corr_arousal=%{y}<br>feature_name=%{text}<extra></extra>",
         "legendgroup": "gems",
         "marker": {
          "color": "#636efa",
          "symbol": "circle"
         },
         "mode": "markers+text",
         "name": "gems",
         "orientation": "v",
         "showlegend": true,
         "text": [
          "wonder",
          "transcendence",
          "tenderness",
          "nostalgia",
          "peacefulness",
          "power",
          "joyful",
          "tension",
          "sadness"
         ],
         "type": "scatter",
         "x": [
          0.3935633614068816,
          0.2505090841249058,
          0.3253401111779433,
          0.043539592013233056,
          0.25504486064254117,
          -0.005944041324005098,
          0.39946208252942433,
          -0.4076974375964289,
          -0.4636505726964172
         ],
         "xaxis": "x",
         "y": [
          0.14726803098339705,
          0.2734708612816341,
          -0.11257260713717182,
          -0.1962350826227733,
          -0.29398252287244386,
          0.47522463191979164,
          0.25003041762771167,
          0.2682957606140622,
          -0.08254600151131136
         ],
         "yaxis": "y"
        },
        {
         "hovertemplate": "factor=gemmes<br>corr_valence=%{x}<br>corr_arousal=%{y}<br>feature_name=%{text}<extra></extra>",
         "legendgroup": "gemmes",
         "marker": {
          "color": "#EF553B",
          "symbol": "circle"
         },
         "mode": "markers+text",
         "name": "gemmes",
         "orientation": "v",
         "showlegend": true,
         "text": [
          "flow",
          "movement",
          "force",
          "interior",
          "wandering"
         ],
         "type": "scatter",
         "x": [
          0.2588272683168868,
          0.12608203377906865,
          -0.07848463674797813,
          -0.04683073022242603,
          0.20255820247686382
         ],
         "xaxis": "x",
         "y": [
          -0.1553904425069054,
          0.35412535394656675,
          0.46260706043830463,
          -0.0318907770213312,
          -0.059498524362616344
         ],
         "yaxis": "y"
        }
       ],
       "layout": {
        "height": 800,
        "legend": {
         "title": {
          "text": "factor"
         },
         "tracegroupgap": 0
        },
        "margin": {
         "t": 60
        },
        "template": {
         "data": {
          "bar": [
           {
            "error_x": {
             "color": "#2a3f5f"
            },
            "error_y": {
             "color": "#2a3f5f"
            },
            "marker": {
             "line": {
              "color": "#E5ECF6",
              "width": 0.5
             },
             "pattern": {
              "fillmode": "overlay",
              "size": 10,
              "solidity": 0.2
             }
            },
            "type": "bar"
           }
          ],
          "barpolar": [
           {
            "marker": {
             "line": {
              "color": "#E5ECF6",
              "width": 0.5
             },
             "pattern": {
              "fillmode": "overlay",
              "size": 10,
              "solidity": 0.2
             }
            },
            "type": "barpolar"
           }
          ],
          "carpet": [
           {
            "aaxis": {
             "endlinecolor": "#2a3f5f",
             "gridcolor": "white",
             "linecolor": "white",
             "minorgridcolor": "white",
             "startlinecolor": "#2a3f5f"
            },
            "baxis": {
             "endlinecolor": "#2a3f5f",
             "gridcolor": "white",
             "linecolor": "white",
             "minorgridcolor": "white",
             "startlinecolor": "#2a3f5f"
            },
            "type": "carpet"
           }
          ],
          "choropleth": [
           {
            "colorbar": {
             "outlinewidth": 0,
             "ticks": ""
            },
            "type": "choropleth"
           }
          ],
          "contour": [
           {
            "colorbar": {
             "outlinewidth": 0,
             "ticks": ""
            },
            "colorscale": [
             [
              0,
              "#0d0887"
             ],
             [
              0.1111111111111111,
              "#46039f"
             ],
             [
              0.2222222222222222,
              "#7201a8"
             ],
             [
              0.3333333333333333,
              "#9c179e"
             ],
             [
              0.4444444444444444,
              "#bd3786"
             ],
             [
              0.5555555555555556,
              "#d8576b"
             ],
             [
              0.6666666666666666,
              "#ed7953"
             ],
             [
              0.7777777777777778,
              "#fb9f3a"
             ],
             [
              0.8888888888888888,
              "#fdca26"
             ],
             [
              1,
              "#f0f921"
             ]
            ],
            "type": "contour"
           }
          ],
          "contourcarpet": [
           {
            "colorbar": {
             "outlinewidth": 0,
             "ticks": ""
            },
            "type": "contourcarpet"
           }
          ],
          "heatmap": [
           {
            "colorbar": {
             "outlinewidth": 0,
             "ticks": ""
            },
            "colorscale": [
             [
              0,
              "#0d0887"
             ],
             [
              0.1111111111111111,
              "#46039f"
             ],
             [
              0.2222222222222222,
              "#7201a8"
             ],
             [
              0.3333333333333333,
              "#9c179e"
             ],
             [
              0.4444444444444444,
              "#bd3786"
             ],
             [
              0.5555555555555556,
              "#d8576b"
             ],
             [
              0.6666666666666666,
              "#ed7953"
             ],
             [
              0.7777777777777778,
              "#fb9f3a"
             ],
             [
              0.8888888888888888,
              "#fdca26"
             ],
             [
              1,
              "#f0f921"
             ]
            ],
            "type": "heatmap"
           }
          ],
          "heatmapgl": [
           {
            "colorbar": {
             "outlinewidth": 0,
             "ticks": ""
            },
            "colorscale": [
             [
              0,
              "#0d0887"
             ],
             [
              0.1111111111111111,
              "#46039f"
             ],
             [
              0.2222222222222222,
              "#7201a8"
             ],
             [
              0.3333333333333333,
              "#9c179e"
             ],
             [
              0.4444444444444444,
              "#bd3786"
             ],
             [
              0.5555555555555556,
              "#d8576b"
             ],
             [
              0.6666666666666666,
              "#ed7953"
             ],
             [
              0.7777777777777778,
              "#fb9f3a"
             ],
             [
              0.8888888888888888,
              "#fdca26"
             ],
             [
              1,
              "#f0f921"
             ]
            ],
            "type": "heatmapgl"
           }
          ],
          "histogram": [
           {
            "marker": {
             "pattern": {
              "fillmode": "overlay",
              "size": 10,
              "solidity": 0.2
             }
            },
            "type": "histogram"
           }
          ],
          "histogram2d": [
           {
            "colorbar": {
             "outlinewidth": 0,
             "ticks": ""
            },
            "colorscale": [
             [
              0,
              "#0d0887"
             ],
             [
              0.1111111111111111,
              "#46039f"
             ],
             [
              0.2222222222222222,
              "#7201a8"
             ],
             [
              0.3333333333333333,
              "#9c179e"
             ],
             [
              0.4444444444444444,
              "#bd3786"
             ],
             [
              0.5555555555555556,
              "#d8576b"
             ],
             [
              0.6666666666666666,
              "#ed7953"
             ],
             [
              0.7777777777777778,
              "#fb9f3a"
             ],
             [
              0.8888888888888888,
              "#fdca26"
             ],
             [
              1,
              "#f0f921"
             ]
            ],
            "type": "histogram2d"
           }
          ],
          "histogram2dcontour": [
           {
            "colorbar": {
             "outlinewidth": 0,
             "ticks": ""
            },
            "colorscale": [
             [
              0,
              "#0d0887"
             ],
             [
              0.1111111111111111,
              "#46039f"
             ],
             [
              0.2222222222222222,
              "#7201a8"
             ],
             [
              0.3333333333333333,
              "#9c179e"
             ],
             [
              0.4444444444444444,
              "#bd3786"
             ],
             [
              0.5555555555555556,
              "#d8576b"
             ],
             [
              0.6666666666666666,
              "#ed7953"
             ],
             [
              0.7777777777777778,
              "#fb9f3a"
             ],
             [
              0.8888888888888888,
              "#fdca26"
             ],
             [
              1,
              "#f0f921"
             ]
            ],
            "type": "histogram2dcontour"
           }
          ],
          "mesh3d": [
           {
            "colorbar": {
             "outlinewidth": 0,
             "ticks": ""
            },
            "type": "mesh3d"
           }
          ],
          "parcoords": [
           {
            "line": {
             "colorbar": {
              "outlinewidth": 0,
              "ticks": ""
             }
            },
            "type": "parcoords"
           }
          ],
          "pie": [
           {
            "automargin": true,
            "type": "pie"
           }
          ],
          "scatter": [
           {
            "marker": {
             "colorbar": {
              "outlinewidth": 0,
              "ticks": ""
             }
            },
            "type": "scatter"
           }
          ],
          "scatter3d": [
           {
            "line": {
             "colorbar": {
              "outlinewidth": 0,
              "ticks": ""
             }
            },
            "marker": {
             "colorbar": {
              "outlinewidth": 0,
              "ticks": ""
             }
            },
            "type": "scatter3d"
           }
          ],
          "scattercarpet": [
           {
            "marker": {
             "colorbar": {
              "outlinewidth": 0,
              "ticks": ""
             }
            },
            "type": "scattercarpet"
           }
          ],
          "scattergeo": [
           {
            "marker": {
             "colorbar": {
              "outlinewidth": 0,
              "ticks": ""
             }
            },
            "type": "scattergeo"
           }
          ],
          "scattergl": [
           {
            "marker": {
             "colorbar": {
              "outlinewidth": 0,
              "ticks": ""
             }
            },
            "type": "scattergl"
           }
          ],
          "scattermapbox": [
           {
            "marker": {
             "colorbar": {
              "outlinewidth": 0,
              "ticks": ""
             }
            },
            "type": "scattermapbox"
           }
          ],
          "scatterpolar": [
           {
            "marker": {
             "colorbar": {
              "outlinewidth": 0,
              "ticks": ""
             }
            },
            "type": "scatterpolar"
           }
          ],
          "scatterpolargl": [
           {
            "marker": {
             "colorbar": {
              "outlinewidth": 0,
              "ticks": ""
             }
            },
            "type": "scatterpolargl"
           }
          ],
          "scatterternary": [
           {
            "marker": {
             "colorbar": {
              "outlinewidth": 0,
              "ticks": ""
             }
            },
            "type": "scatterternary"
           }
          ],
          "surface": [
           {
            "colorbar": {
             "outlinewidth": 0,
             "ticks": ""
            },
            "colorscale": [
             [
              0,
              "#0d0887"
             ],
             [
              0.1111111111111111,
              "#46039f"
             ],
             [
              0.2222222222222222,
              "#7201a8"
             ],
             [
              0.3333333333333333,
              "#9c179e"
             ],
             [
              0.4444444444444444,
              "#bd3786"
             ],
             [
              0.5555555555555556,
              "#d8576b"
             ],
             [
              0.6666666666666666,
              "#ed7953"
             ],
             [
              0.7777777777777778,
              "#fb9f3a"
             ],
             [
              0.8888888888888888,
              "#fdca26"
             ],
             [
              1,
              "#f0f921"
             ]
            ],
            "type": "surface"
           }
          ],
          "table": [
           {
            "cells": {
             "fill": {
              "color": "#EBF0F8"
             },
             "line": {
              "color": "white"
             }
            },
            "header": {
             "fill": {
              "color": "#C8D4E3"
             },
             "line": {
              "color": "white"
             }
            },
            "type": "table"
           }
          ]
         },
         "layout": {
          "annotationdefaults": {
           "arrowcolor": "#2a3f5f",
           "arrowhead": 0,
           "arrowwidth": 1
          },
          "autotypenumbers": "strict",
          "coloraxis": {
           "colorbar": {
            "outlinewidth": 0,
            "ticks": ""
           }
          },
          "colorscale": {
           "diverging": [
            [
             0,
             "#8e0152"
            ],
            [
             0.1,
             "#c51b7d"
            ],
            [
             0.2,
             "#de77ae"
            ],
            [
             0.3,
             "#f1b6da"
            ],
            [
             0.4,
             "#fde0ef"
            ],
            [
             0.5,
             "#f7f7f7"
            ],
            [
             0.6,
             "#e6f5d0"
            ],
            [
             0.7,
             "#b8e186"
            ],
            [
             0.8,
             "#7fbc41"
            ],
            [
             0.9,
             "#4d9221"
            ],
            [
             1,
             "#276419"
            ]
           ],
           "sequential": [
            [
             0,
             "#0d0887"
            ],
            [
             0.1111111111111111,
             "#46039f"
            ],
            [
             0.2222222222222222,
             "#7201a8"
            ],
            [
             0.3333333333333333,
             "#9c179e"
            ],
            [
             0.4444444444444444,
             "#bd3786"
            ],
            [
             0.5555555555555556,
             "#d8576b"
            ],
            [
             0.6666666666666666,
             "#ed7953"
            ],
            [
             0.7777777777777778,
             "#fb9f3a"
            ],
            [
             0.8888888888888888,
             "#fdca26"
            ],
            [
             1,
             "#f0f921"
            ]
           ],
           "sequentialminus": [
            [
             0,
             "#0d0887"
            ],
            [
             0.1111111111111111,
             "#46039f"
            ],
            [
             0.2222222222222222,
             "#7201a8"
            ],
            [
             0.3333333333333333,
             "#9c179e"
            ],
            [
             0.4444444444444444,
             "#bd3786"
            ],
            [
             0.5555555555555556,
             "#d8576b"
            ],
            [
             0.6666666666666666,
             "#ed7953"
            ],
            [
             0.7777777777777778,
             "#fb9f3a"
            ],
            [
             0.8888888888888888,
             "#fdca26"
            ],
            [
             1,
             "#f0f921"
            ]
           ]
          },
          "colorway": [
           "#636efa",
           "#EF553B",
           "#00cc96",
           "#ab63fa",
           "#FFA15A",
           "#19d3f3",
           "#FF6692",
           "#B6E880",
           "#FF97FF",
           "#FECB52"
          ],
          "font": {
           "color": "#2a3f5f"
          },
          "geo": {
           "bgcolor": "white",
           "lakecolor": "white",
           "landcolor": "#E5ECF6",
           "showlakes": true,
           "showland": true,
           "subunitcolor": "white"
          },
          "hoverlabel": {
           "align": "left"
          },
          "hovermode": "closest",
          "mapbox": {
           "style": "light"
          },
          "paper_bgcolor": "white",
          "plot_bgcolor": "#E5ECF6",
          "polar": {
           "angularaxis": {
            "gridcolor": "white",
            "linecolor": "white",
            "ticks": ""
           },
           "bgcolor": "#E5ECF6",
           "radialaxis": {
            "gridcolor": "white",
            "linecolor": "white",
            "ticks": ""
           }
          },
          "scene": {
           "xaxis": {
            "backgroundcolor": "#E5ECF6",
            "gridcolor": "white",
            "gridwidth": 2,
            "linecolor": "white",
            "showbackground": true,
            "ticks": "",
            "zerolinecolor": "white"
           },
           "yaxis": {
            "backgroundcolor": "#E5ECF6",
            "gridcolor": "white",
            "gridwidth": 2,
            "linecolor": "white",
            "showbackground": true,
            "ticks": "",
            "zerolinecolor": "white"
           },
           "zaxis": {
            "backgroundcolor": "#E5ECF6",
            "gridcolor": "white",
            "gridwidth": 2,
            "linecolor": "white",
            "showbackground": true,
            "ticks": "",
            "zerolinecolor": "white"
           }
          },
          "shapedefaults": {
           "line": {
            "color": "#2a3f5f"
           }
          },
          "ternary": {
           "aaxis": {
            "gridcolor": "white",
            "linecolor": "white",
            "ticks": ""
           },
           "baxis": {
            "gridcolor": "white",
            "linecolor": "white",
            "ticks": ""
           },
           "bgcolor": "#E5ECF6",
           "caxis": {
            "gridcolor": "white",
            "linecolor": "white",
            "ticks": ""
           }
          },
          "title": {
           "x": 0.05
          },
          "xaxis": {
           "automargin": true,
           "gridcolor": "white",
           "linecolor": "white",
           "ticks": "",
           "title": {
            "standoff": 15
           },
           "zerolinecolor": "white",
           "zerolinewidth": 2
          },
          "yaxis": {
           "automargin": true,
           "gridcolor": "white",
           "linecolor": "white",
           "ticks": "",
           "title": {
            "standoff": 15
           },
           "zerolinecolor": "white",
           "zerolinewidth": 2
          }
         }
        },
        "width": 850,
        "xaxis": {
         "anchor": "y",
         "domain": [
          0,
          1
         ],
         "range": [
          -0.55,
          0.55
         ],
         "title": {
          "text": "correlation_valence"
         },
         "type": "linear"
        },
        "yaxis": {
         "anchor": "x",
         "domain": [
          0,
          1
         ],
         "range": [
          -0.55,
          0.55
         ],
         "title": {
          "text": "correlation_arousal"
         },
         "type": "linear"
        }
       }
      },
      "image/png": "[encoded data removed]",
      "text/html": [
       "<div>                            <div id=\"92aa99b7-52d9-4ed7-a075-8a22872fe07f\" class=\"plotly-graph-div\" style=\"height:800px; width:850px;\"></div>            <script type=\"text/javascript\">                require([\"plotly\"], function(Plotly) {                    window.PLOTLYENV=window.PLOTLYENV || {};                                    if (document.getElementById(\"92aa99b7-52d9-4ed7-a075-8a22872fe07f\")) {                    Plotly.newPlot(                        \"92aa99b7-52d9-4ed7-a075-8a22872fe07f\",                        [{\"hovertemplate\":\"factor=gems<br>corr_valence=%{x}<br>corr_arousal=%{y}<br>feature_name=%{text}<extra></extra>\",\"legendgroup\":\"gems\",\"marker\":{\"color\":\"#636efa\",\"symbol\":\"circle\"},\"mode\":\"markers+text\",\"name\":\"gems\",\"orientation\":\"v\",\"showlegend\":true,\"text\":[\"wonder\",\"transcendence\",\"tenderness\",\"nostalgia\",\"peacefulness\",\"power\",\"joyful\",\"tension\",\"sadness\"],\"x\":[0.3935633614068816,0.2505090841249058,0.3253401111779433,0.043539592013233056,0.25504486064254117,-0.005944041324005098,0.39946208252942433,-0.4076974375964289,-0.4636505726964172],\"xaxis\":\"x\",\"y\":[0.14726803098339705,0.2734708612816341,-0.11257260713717182,-0.1962350826227733,-0.29398252287244386,0.47522463191979164,0.25003041762771167,0.2682957606140622,-0.08254600151131136],\"yaxis\":\"y\",\"type\":\"scatter\"},{\"hovertemplate\":\"factor=gemmes<br>corr_valence=%{x}<br>corr_arousal=%{y}<br>feature_name=%{text}<extra></extra>\",\"legendgroup\":\"gemmes\",\"marker\":{\"color\":\"#EF553B\",\"symbol\":\"circle\"},\"mode\":\"markers+text\",\"name\":\"gemmes\",\"orientation\":\"v\",\"showlegend\":true,\"text\":[\"flow\",\"movement\",\"force\",\"interior\",\"wandering\"],\"x\":[0.2588272683168868,0.12608203377906865,-0.07848463674797813,-0.04683073022242603,0.20255820247686382],\"xaxis\":\"x\",\"y\":[-0.1553904425069054,0.35412535394656675,0.46260706043830463,-0.0318907770213312,-0.059498524362616344],\"yaxis\":\"y\",\"type\":\"scatter\"}],                        {\"template\":{\"data\":{\"bar\":[{\"error_x\":{\"color\":\"#2a3f5f\"},\"error_y\":{\"color\":\"#2a3f5f\"},\"marker\":{\"line\":{\"color\":\"#E5ECF6\",\"width\":0.5},\"pattern\":{\"fillmode\":\"overlay\",\"size\":10,\"solidity\":0.2}},\"type\":\"bar\"}],\"barpolar\":[{\"marker\":{\"line\":{\"color\":\"#E5ECF6\",\"width\":0.5},\"pattern\":{\"fillmode\":\"overlay\",\"size\":10,\"solidity\":0.2}},\"type\":\"barpolar\"}],\"carpet\":[{\"aaxis\":{\"endlinecolor\":\"#2a3f5f\",\"gridcolor\":\"white\",\"linecolor\":\"white\",\"minorgridcolor\":\"white\",\"startlinecolor\":\"#2a3f5f\"},\"baxis\":{\"endlinecolor\":\"#2a3f5f\",\"gridcolor\":\"white\",\"linecolor\":\"white\",\"minorgridcolor\":\"white\",\"startlinecolor\":\"#2a3f5f\"},\"type\":\"carpet\"}],\"choropleth\":[{\"colorbar\":{\"outlinewidth\":0,\"ticks\":\"\"},\"type\":\"choropleth\"}],\"contour\":[{\"colorbar\":{\"outlinewidth\":0,\"ticks\":\"\"},\"colorscale\":[[0.0,\"#0d0887\"],[0.1111111111111111,\"#46039f\"],[0.2222222222222222,\"#7201a8\"],[0.3333333333333333,\"#9c179e\"],[0.4444444444444444,\"#bd3786\"],[0.5555555555555556,\"#d8576b\"],[0.6666666666666666,\"#ed7953\"],[0.7777777777777778,\"#fb9f3a\"],[0.8888888888888888,\"#fdca26\"],[1.0,\"#f0f921\"]],\"type\":\"contour\"}],\"contourcarpet\":[{\"colorbar\":{\"outlinewidth\":0,\"ticks\":\"\"},\"type\":\"contourcarpet\"}],\"heatmap\":[{\"colorbar\":{\"outlinewidth\":0,\"ticks\":\"\"},\"colorscale\":[[0.0,\"#0d0887\"],[0.1111111111111111,\"#46039f\"],[0.2222222222222222,\"#7201a8\"],[0.3333333333333333,\"#9c179e\"],[0.4444444444444444,\"#bd3786\"],[0.5555555555555556,\"#d8576b\"],[0.6666666666666666,\"#ed7953\"],[0.7777777777777778,\"#fb9f3a\"],[0.8888888888888888,\"#fdca26\"],[1.0,\"#f0f921\"]],\"type\":\"heatmap\"}],\"heatmapgl\":[{\"colorbar\":{\"outlinewidth\":0,\"ticks\":\"\"},\"colorscale\":[[0.0,\"#0d0887\"],[0.1111111111111111,\"#46039f\"],[0.2222222222222222,\"#7201a8\"],[0.3333333333333333,\"#9c179e\"],[0.4444444444444444,\"#bd3786\"],[0.5555555555555556,\"#d8576b\"],[0.6666666666666666,\"#ed7953\"],[0.7777777777777778,\"#fb9f3a\"],[0.8888888888888888,\"#fdca26\"],[1.0,\"#f0f921\"]],\"type\":\"heatmapgl\"}],\"histogram\":[{\"marker\":{\"pattern\":{\"fillmode\":\"overlay\",\"size\":10,\"solidity\":0.2}},\"type\":\"histogram\"}],\"histogram2d\":[{\"colorbar\":{\"outlinewidth\":0,\"ticks\":\"\"},\"colorscale\":[[0.0,\"#0d0887\"],[0.1111111111111111,\"#46039f\"],[0.2222222222222222,\"#7201a8\"],[0.3333333333333333,\"#9c179e\"],[0.4444444444444444,\"#bd3786\"],[0.5555555555555556,\"#d8576b\"],[0.6666666666666666,\"#ed7953\"],[0.7777777777777778,\"#fb9f3a\"],[0.8888888888888888,\"#fdca26\"],[1.0,\"#f0f921\"]],\"type\":\"histogram2d\"}],\"histogram2dcontour\":[{\"colorbar\":{\"outlinewidth\":0,\"ticks\":\"\"},\"colorscale\":[[0.0,\"#0d0887\"],[0.1111111111111111,\"#46039f\"],[0.2222222222222222,\"#7201a8\"],[0.3333333333333333,\"#9c179e\"],[0.4444444444444444,\"#bd3786\"],[0.5555555555555556,\"#d8576b\"],[0.6666666666666666,\"#ed7953\"],[0.7777777777777778,\"#fb9f3a\"],[0.8888888888888888,\"#fdca26\"],[1.0,\"#f0f921\"]],\"type\":\"histogram2dcontour\"}],\"mesh3d\":[{\"colorbar\":{\"outlinewidth\":0,\"ticks\":\"\"},\"type\":\"mesh3d\"}],\"parcoords\":[{\"line\":{\"colorbar\":{\"outlinewidth\":0,\"ticks\":\"\"}},\"type\":\"parcoords\"}],\"pie\":[{\"automargin\":true,\"type\":\"pie\"}],\"scatter\":[{\"marker\":{\"colorbar\":{\"outlinewidth\":0,\"ticks\":\"\"}},\"type\":\"scatter\"}],\"scatter3d\":[{\"line\":{\"colorbar\":{\"outlinewidth\":0,\"ticks\":\"\"}},\"marker\":{\"colorbar\":{\"outlinewidth\":0,\"ticks\":\"\"}},\"type\":\"scatter3d\"}],\"scattercarpet\":[{\"marker\":{\"colorbar\":{\"outlinewidth\":0,\"ticks\":\"\"}},\"type\":\"scattercarpet\"}],\"scattergeo\":[{\"marker\":{\"colorbar\":{\"outlinewidth\":0,\"ticks\":\"\"}},\"type\":\"scattergeo\"}],\"scattergl\":[{\"marker\":{\"colorbar\":{\"outlinewidth\":0,\"ticks\":\"\"}},\"type\":\"scattergl\"}],\"scattermapbox\":[{\"marker\":{\"colorbar\":{\"outlinewidth\":0,\"ticks\":\"\"}},\"type\":\"scattermapbox\"}],\"scatterpolar\":[{\"marker\":{\"colorbar\":{\"outlinewidth\":0,\"ticks\":\"\"}},\"type\":\"scatterpolar\"}],\"scatterpolargl\":[{\"marker\":{\"colorbar\":{\"outlinewidth\":0,\"ticks\":\"\"}},\"type\":\"scatterpolargl\"}],\"scatterternary\":[{\"marker\":{\"colorbar\":{\"outlinewidth\":0,\"ticks\":\"\"}},\"type\":\"scatterternary\"}],\"surface\":[{\"colorbar\":{\"outlinewidth\":0,\"ticks\":\"\"},\"colorscale\":[[0.0,\"#0d0887\"],[0.1111111111111111,\"#46039f\"],[0.2222222222222222,\"#7201a8\"],[0.3333333333333333,\"#9c179e\"],[0.4444444444444444,\"#bd3786\"],[0.5555555555555556,\"#d8576b\"],[0.6666666666666666,\"#ed7953\"],[0.7777777777777778,\"#fb9f3a\"],[0.8888888888888888,\"#fdca26\"],[1.0,\"#f0f921\"]],\"type\":\"surface\"}],\"table\":[{\"cells\":{\"fill\":{\"color\":\"#EBF0F8\"},\"line\":{\"color\":\"white\"}},\"header\":{\"fill\":{\"color\":\"#C8D4E3\"},\"line\":{\"color\":\"white\"}},\"type\":\"table\"}]},\"layout\":{\"annotationdefaults\":{\"arrowcolor\":\"#2a3f5f\",\"arrowhead\":0,\"arrowwidth\":1},\"autotypenumbers\":\"strict\",\"coloraxis\":{\"colorbar\":{\"outlinewidth\":0,\"ticks\":\"\"}},\"colorscale\":{\"diverging\":[[0,\"#8e0152\"],[0.1,\"#c51b7d\"],[0.2,\"#de77ae\"],[0.3,\"#f1b6da\"],[0.4,\"#fde0ef\"],[0.5,\"#f7f7f7\"],[0.6,\"#e6f5d0\"],[0.7,\"#b8e186\"],[0.8,\"#7fbc41\"],[0.9,\"#4d9221\"],[1,\"#276419\"]],\"sequential\":[[0.0,\"#0d0887\"],[0.1111111111111111,\"#46039f\"],[0.2222222222222222,\"#7201a8\"],[0.3333333333333333,\"#9c179e\"],[0.4444444444444444,\"#bd3786\"],[0.5555555555555556,\"#d8576b\"],[0.6666666666666666,\"#ed7953\"],[0.7777777777777778,\"#fb9f3a\"],[0.8888888888888888,\"#fdca26\"],[1.0,\"#f0f921\"]],\"sequentialminus\":[[0.0,\"#0d0887\"],[0.1111111111111111,\"#46039f\"],[0.2222222222222222,\"#7201a8\"],[0.3333333333333333,\"#9c179e\"],[0.4444444444444444,\"#bd3786\"],[0.5555555555555556,\"#d8576b\"],[0.6666666666666666,\"#ed7953\"],[0.7777777777777778,\"#fb9f3a\"],[0.8888888888888888,\"#fdca26\"],[1.0,\"#f0f921\"]]},\"colorway\":[\"#636efa\",\"#EF553B\",\"#00cc96\",\"#ab63fa\",\"#FFA15A\",\"#19d3f3\",\"#FF6692\",\"#B6E880\",\"#FF97FF\",\"#FECB52\"],\"font\":{\"color\":\"#2a3f5f\"},\"geo\":{\"bgcolor\":\"white\",\"lakecolor\":\"white\",\"landcolor\":\"#E5ECF6\",\"showlakes\":true,\"showland\":true,\"subunitcolor\":\"white\"},\"hoverlabel\":{\"align\":\"left\"},\"hovermode\":\"closest\",\"mapbox\":{\"style\":\"light\"},\"paper_bgcolor\":\"white\",\"plot_bgcolor\":\"#E5ECF6\",\"polar\":{\"angularaxis\":{\"gridcolor\":\"white\",\"linecolor\":\"white\",\"ticks\":\"\"},\"bgcolor\":\"#E5ECF6\",\"radialaxis\":{\"gridcolor\":\"white\",\"linecolor\":\"white\",\"ticks\":\"\"}},\"scene\":{\"xaxis\":{\"backgroundcolor\":\"#E5ECF6\",\"gridcolor\":\"white\",\"gridwidth\":2,\"linecolor\":\"white\",\"showbackground\":true,\"ticks\":\"\",\"zerolinecolor\":\"white\"},\"yaxis\":{\"backgroundcolor\":\"#E5ECF6\",\"gridcolor\":\"white\",\"gridwidth\":2,\"linecolor\":\"white\",\"showbackground\":true,\"ticks\":\"\",\"zerolinecolor\":\"white\"},\"zaxis\":{\"backgroundcolor\":\"#E5ECF6\",\"gridcolor\":\"white\",\"gridwidth\":2,\"linecolor\":\"white\",\"showbackground\":true,\"ticks\":\"\",\"zerolinecolor\":\"white\"}},\"shapedefaults\":{\"line\":{\"color\":\"#2a3f5f\"}},\"ternary\":{\"aaxis\":{\"gridcolor\":\"white\",\"linecolor\":\"white\",\"ticks\":\"\"},\"baxis\":{\"gridcolor\":\"white\",\"linecolor\":\"white\",\"ticks\":\"\"},\"bgcolor\":\"#E5ECF6\",\"caxis\":{\"gridcolor\":\"white\",\"linecolor\":\"white\",\"ticks\":\"\"}},\"title\":{\"x\":0.05},\"xaxis\":{\"automargin\":true,\"gridcolor\":\"white\",\"linecolor\":\"white\",\"ticks\":\"\",\"title\":{\"standoff\":15},\"zerolinecolor\":\"white\",\"zerolinewidth\":2},\"yaxis\":{\"automargin\":true,\"gridcolor\":\"white\",\"linecolor\":\"white\",\"ticks\":\"\",\"title\":{\"standoff\":15},\"zerolinecolor\":\"white\",\"zerolinewidth\":2}}},\"xaxis\":{\"anchor\":\"y\",\"domain\":[0.0,1.0],\"title\":{\"text\":\"correlation_valence\"},\"range\":[-0.55,0.55]},\"yaxis\":{\"anchor\":\"x\",\"domain\":[0.0,1.0],\"title\":{\"text\":\"correlation_arousal\"},\"range\":[-0.55,0.55]},\"legend\":{\"title\":{\"text\":\"factor\"},\"tracegroupgap\":0},\"margin\":{\"t\":60},\"height\":800,\"width\":850},                        {\"responsive\": true}                    ).then(function(){\n",
       "                            \n",
       "var gd = document.getElementById('92aa99b7-52d9-4ed7-a075-8a22872fe07f');\n",
       "var x = new MutationObserver(function (mutations, observer) {{\n",
       "        var display = window.getComputedStyle(gd).display;\n",
       "        if (!display || display === 'none') {{\n",
       "            console.log([gd, 'removed!']);\n",
       "            Plotly.purge(gd);\n",
       "            observer.disconnect();\n",
       "        }}\n",
       "}});\n",
       "\n",
       "// Listen for the removal of the full notebook cells\n",
       "var notebookContainer = gd.closest('#notebook-container');\n",
       "if (notebookContainer) {{\n",
       "    x.observe(notebookContainer, {childList: true});\n",
       "}}\n",
       "\n",
       "// Listen for the clearing of the current output cell\n",
       "var outputEl = gd.closest('.output');\n",
       "if (outputEl) {{\n",
       "    x.observe(outputEl, {childList: true});\n",
       "}}\n",
       "\n",
       "                        })                };                });            </script>        </div>"
      ]
     },
     "metadata": {},
     "output_type": "display_data"
    }
   ],
   "source": [
    "# plot feature correlations\n",
    "fig = px.scatter(corr_df, x='corr_valence', y='corr_arousal', color='factor', text='feature_name', width=850, height=800)\n",
    "fig.update_xaxes(range = [-0.55,0.55], title=\"correlation_valence\")\n",
    "fig.update_yaxes(range = [-0.55,0.55], title=\"correlation_arousal\")\n",
    "fig.show()"
   ]
  },
  {
   "cell_type": "markdown",
   "id": "50d5055f-8480-44da-aa81-01e6c1dcbc29",
   "metadata": {
    "tags": []
   },
   "source": [
    "### Appendix\n",
    "---"
   ]
  },
  {
   "cell_type": "code",
   "execution_count": 131,
   "id": "4060711d-581e-44b0-977e-26ecbcca4f60",
   "metadata": {},
   "outputs": [
    {
     "data": {
      "text/html": [
       "<div>\n",
       "<style scoped>\n",
       "    .dataframe tbody tr th:only-of-type {\n",
       "        vertical-align: middle;\n",
       "    }\n",
       "\n",
       "    .dataframe tbody tr th {\n",
       "        vertical-align: top;\n",
       "    }\n",
       "\n",
       "    .dataframe thead th {\n",
       "        text-align: right;\n",
       "    }\n",
       "</style>\n",
       "<table border=\"1\" class=\"dataframe\">\n",
       "  <thead>\n",
       "    <tr style=\"text-align: right;\">\n",
       "      <th></th>\n",
       "      <th>arousal</th>\n",
       "      <th>valence</th>\n",
       "      <th>gems_wonder</th>\n",
       "      <th>gems_transcendence</th>\n",
       "      <th>gems_tenderness</th>\n",
       "      <th>gems_nostalgia</th>\n",
       "      <th>gems_peacefulness</th>\n",
       "      <th>gems_power</th>\n",
       "      <th>gems_joyful_activation</th>\n",
       "      <th>gems_tension</th>\n",
       "      <th>gems_sadness</th>\n",
       "      <th>gemmes_flow</th>\n",
       "      <th>gemmes_movement</th>\n",
       "      <th>gemmes_force</th>\n",
       "      <th>gemmes_interior</th>\n",
       "      <th>gemmes_wandering</th>\n",
       "    </tr>\n",
       "    <tr>\n",
       "      <th>segment_id</th>\n",
       "      <th></th>\n",
       "      <th></th>\n",
       "      <th></th>\n",
       "      <th></th>\n",
       "      <th></th>\n",
       "      <th></th>\n",
       "      <th></th>\n",
       "      <th></th>\n",
       "      <th></th>\n",
       "      <th></th>\n",
       "      <th></th>\n",
       "      <th></th>\n",
       "      <th></th>\n",
       "      <th></th>\n",
       "      <th></th>\n",
       "      <th></th>\n",
       "    </tr>\n",
       "  </thead>\n",
       "  <tbody>\n",
       "    <tr>\n",
       "      <th>0</th>\n",
       "      <td>3.750000</td>\n",
       "      <td>1.416667</td>\n",
       "      <td>3.333333</td>\n",
       "      <td>3.166667</td>\n",
       "      <td>2.916667</td>\n",
       "      <td>2.750000</td>\n",
       "      <td>3.166667</td>\n",
       "      <td>2.416667</td>\n",
       "      <td>3.250000</td>\n",
       "      <td>2.000000</td>\n",
       "      <td>1.916667</td>\n",
       "      <td>3.333333</td>\n",
       "      <td>2.500000</td>\n",
       "      <td>2.500000</td>\n",
       "      <td>3.000000</td>\n",
       "      <td>3.000000</td>\n",
       "    </tr>\n",
       "    <tr>\n",
       "      <th>1</th>\n",
       "      <td>4.032258</td>\n",
       "      <td>1.290323</td>\n",
       "      <td>3.806452</td>\n",
       "      <td>3.677419</td>\n",
       "      <td>2.903226</td>\n",
       "      <td>2.967742</td>\n",
       "      <td>2.666667</td>\n",
       "      <td>2.580645</td>\n",
       "      <td>3.000000</td>\n",
       "      <td>1.967742</td>\n",
       "      <td>1.516129</td>\n",
       "      <td>3.580645</td>\n",
       "      <td>3.064516</td>\n",
       "      <td>2.967742</td>\n",
       "      <td>2.677419</td>\n",
       "      <td>2.548387</td>\n",
       "    </tr>\n",
       "    <tr>\n",
       "      <th>2</th>\n",
       "      <td>3.818182</td>\n",
       "      <td>1.212121</td>\n",
       "      <td>3.484848</td>\n",
       "      <td>2.969697</td>\n",
       "      <td>2.030303</td>\n",
       "      <td>2.090909</td>\n",
       "      <td>1.666667</td>\n",
       "      <td>2.787879</td>\n",
       "      <td>3.636364</td>\n",
       "      <td>2.454545</td>\n",
       "      <td>1.303030</td>\n",
       "      <td>2.636364</td>\n",
       "      <td>3.484848</td>\n",
       "      <td>2.787879</td>\n",
       "      <td>1.939394</td>\n",
       "      <td>2.818182</td>\n",
       "    </tr>\n",
       "    <tr>\n",
       "      <th>3</th>\n",
       "      <td>3.933333</td>\n",
       "      <td>1.400000</td>\n",
       "      <td>3.200000</td>\n",
       "      <td>3.066667</td>\n",
       "      <td>2.200000</td>\n",
       "      <td>2.066667</td>\n",
       "      <td>1.466667</td>\n",
       "      <td>3.800000</td>\n",
       "      <td>3.333333</td>\n",
       "      <td>2.666667</td>\n",
       "      <td>1.800000</td>\n",
       "      <td>2.066667</td>\n",
       "      <td>3.333333</td>\n",
       "      <td>3.466667</td>\n",
       "      <td>2.066667</td>\n",
       "      <td>2.266667</td>\n",
       "    </tr>\n",
       "    <tr>\n",
       "      <th>4</th>\n",
       "      <td>3.882353</td>\n",
       "      <td>1.294118</td>\n",
       "      <td>4.000000</td>\n",
       "      <td>3.352941</td>\n",
       "      <td>3.147059</td>\n",
       "      <td>3.088235</td>\n",
       "      <td>2.617647</td>\n",
       "      <td>2.352941</td>\n",
       "      <td>2.323529</td>\n",
       "      <td>1.617647</td>\n",
       "      <td>1.794118</td>\n",
       "      <td>3.705882</td>\n",
       "      <td>2.382353</td>\n",
       "      <td>2.588235</td>\n",
       "      <td>3.235294</td>\n",
       "      <td>3.235294</td>\n",
       "    </tr>\n",
       "    <tr>\n",
       "      <th>5</th>\n",
       "      <td>3.666667</td>\n",
       "      <td>1.259259</td>\n",
       "      <td>3.481481</td>\n",
       "      <td>3.222222</td>\n",
       "      <td>2.814815</td>\n",
       "      <td>2.518519</td>\n",
       "      <td>2.851852</td>\n",
       "      <td>2.962963</td>\n",
       "      <td>3.814815</td>\n",
       "      <td>1.592593</td>\n",
       "      <td>1.370370</td>\n",
       "      <td>3.444444</td>\n",
       "      <td>3.370370</td>\n",
       "      <td>2.851852</td>\n",
       "      <td>2.148148</td>\n",
       "      <td>3.111111</td>\n",
       "    </tr>\n",
       "    <tr>\n",
       "      <th>6</th>\n",
       "      <td>3.625000</td>\n",
       "      <td>1.583333</td>\n",
       "      <td>3.250000</td>\n",
       "      <td>2.666667</td>\n",
       "      <td>4.125000</td>\n",
       "      <td>3.541667</td>\n",
       "      <td>3.958333</td>\n",
       "      <td>1.583333</td>\n",
       "      <td>2.083333</td>\n",
       "      <td>1.291667</td>\n",
       "      <td>1.916667</td>\n",
       "      <td>4.000000</td>\n",
       "      <td>1.833333</td>\n",
       "      <td>1.750000</td>\n",
       "      <td>3.291667</td>\n",
       "      <td>2.958333</td>\n",
       "    </tr>\n",
       "    <tr>\n",
       "      <th>7</th>\n",
       "      <td>3.821429</td>\n",
       "      <td>1.178571</td>\n",
       "      <td>3.857143</td>\n",
       "      <td>3.392857</td>\n",
       "      <td>3.250000</td>\n",
       "      <td>3.214286</td>\n",
       "      <td>2.642857</td>\n",
       "      <td>2.750000</td>\n",
       "      <td>2.678571</td>\n",
       "      <td>1.535714</td>\n",
       "      <td>1.535714</td>\n",
       "      <td>3.821429</td>\n",
       "      <td>2.785714</td>\n",
       "      <td>2.535714</td>\n",
       "      <td>2.750000</td>\n",
       "      <td>2.714286</td>\n",
       "    </tr>\n",
       "    <tr>\n",
       "      <th>8</th>\n",
       "      <td>3.947368</td>\n",
       "      <td>1.315789</td>\n",
       "      <td>3.491228</td>\n",
       "      <td>3.263158</td>\n",
       "      <td>2.350877</td>\n",
       "      <td>1.614035</td>\n",
       "      <td>1.754386</td>\n",
       "      <td>2.929825</td>\n",
       "      <td>3.789474</td>\n",
       "      <td>2.315789</td>\n",
       "      <td>1.192982</td>\n",
       "      <td>2.859649</td>\n",
       "      <td>3.807018</td>\n",
       "      <td>2.666667</td>\n",
       "      <td>2.087719</td>\n",
       "      <td>2.280702</td>\n",
       "    </tr>\n",
       "    <tr>\n",
       "      <th>9</th>\n",
       "      <td>3.692308</td>\n",
       "      <td>1.346154</td>\n",
       "      <td>3.807692</td>\n",
       "      <td>3.384615</td>\n",
       "      <td>3.269231</td>\n",
       "      <td>3.461538</td>\n",
       "      <td>2.846154</td>\n",
       "      <td>2.153846</td>\n",
       "      <td>2.692308</td>\n",
       "      <td>2.192308</td>\n",
       "      <td>1.730769</td>\n",
       "      <td>3.384615</td>\n",
       "      <td>2.653846</td>\n",
       "      <td>2.500000</td>\n",
       "      <td>2.923077</td>\n",
       "      <td>2.961538</td>\n",
       "    </tr>\n",
       "    <tr>\n",
       "      <th>10</th>\n",
       "      <td>3.702703</td>\n",
       "      <td>1.216216</td>\n",
       "      <td>3.756757</td>\n",
       "      <td>2.891892</td>\n",
       "      <td>2.864865</td>\n",
       "      <td>2.756757</td>\n",
       "      <td>2.864865</td>\n",
       "      <td>2.216216</td>\n",
       "      <td>3.081081</td>\n",
       "      <td>1.918919</td>\n",
       "      <td>1.432432</td>\n",
       "      <td>3.621622</td>\n",
       "      <td>2.972973</td>\n",
       "      <td>2.081081</td>\n",
       "      <td>2.621622</td>\n",
       "      <td>3.216216</td>\n",
       "    </tr>\n",
       "    <tr>\n",
       "      <th>11</th>\n",
       "      <td>3.739130</td>\n",
       "      <td>1.347826</td>\n",
       "      <td>3.695652</td>\n",
       "      <td>3.043478</td>\n",
       "      <td>3.043478</td>\n",
       "      <td>3.739130</td>\n",
       "      <td>3.478261</td>\n",
       "      <td>1.956522</td>\n",
       "      <td>2.869565</td>\n",
       "      <td>1.608696</td>\n",
       "      <td>2.000000</td>\n",
       "      <td>3.913043</td>\n",
       "      <td>2.434783</td>\n",
       "      <td>2.043478</td>\n",
       "      <td>3.173913</td>\n",
       "      <td>3.173913</td>\n",
       "    </tr>\n",
       "    <tr>\n",
       "      <th>12</th>\n",
       "      <td>3.740741</td>\n",
       "      <td>1.185185</td>\n",
       "      <td>3.407407</td>\n",
       "      <td>3.148148</td>\n",
       "      <td>2.037037</td>\n",
       "      <td>2.222222</td>\n",
       "      <td>2.185185</td>\n",
       "      <td>2.962963</td>\n",
       "      <td>3.592593</td>\n",
       "      <td>3.037037</td>\n",
       "      <td>1.333333</td>\n",
       "      <td>2.518519</td>\n",
       "      <td>3.481481</td>\n",
       "      <td>2.888889</td>\n",
       "      <td>2.222222</td>\n",
       "      <td>2.333333</td>\n",
       "    </tr>\n",
       "    <tr>\n",
       "      <th>13</th>\n",
       "      <td>3.875000</td>\n",
       "      <td>1.125000</td>\n",
       "      <td>3.000000</td>\n",
       "      <td>3.000000</td>\n",
       "      <td>2.375000</td>\n",
       "      <td>2.375000</td>\n",
       "      <td>1.625000</td>\n",
       "      <td>2.875000</td>\n",
       "      <td>2.375000</td>\n",
       "      <td>2.875000</td>\n",
       "      <td>1.625000</td>\n",
       "      <td>2.750000</td>\n",
       "      <td>2.625000</td>\n",
       "      <td>3.000000</td>\n",
       "      <td>2.500000</td>\n",
       "      <td>2.250000</td>\n",
       "    </tr>\n",
       "    <tr>\n",
       "      <th>14</th>\n",
       "      <td>4.761905</td>\n",
       "      <td>1.333333</td>\n",
       "      <td>3.619048</td>\n",
       "      <td>3.476190</td>\n",
       "      <td>1.761905</td>\n",
       "      <td>1.761905</td>\n",
       "      <td>1.095238</td>\n",
       "      <td>4.619048</td>\n",
       "      <td>3.380952</td>\n",
       "      <td>3.285714</td>\n",
       "      <td>1.380952</td>\n",
       "      <td>2.333333</td>\n",
       "      <td>4.142857</td>\n",
       "      <td>4.571429</td>\n",
       "      <td>2.190476</td>\n",
       "      <td>2.285714</td>\n",
       "    </tr>\n",
       "    <tr>\n",
       "      <th>15</th>\n",
       "      <td>3.857143</td>\n",
       "      <td>1.142857</td>\n",
       "      <td>3.714286</td>\n",
       "      <td>4.142857</td>\n",
       "      <td>3.000000</td>\n",
       "      <td>3.428571</td>\n",
       "      <td>3.000000</td>\n",
       "      <td>2.714286</td>\n",
       "      <td>3.714286</td>\n",
       "      <td>2.714286</td>\n",
       "      <td>1.857143</td>\n",
       "      <td>3.714286</td>\n",
       "      <td>2.714286</td>\n",
       "      <td>2.428571</td>\n",
       "      <td>2.428571</td>\n",
       "      <td>2.714286</td>\n",
       "    </tr>\n",
       "    <tr>\n",
       "      <th>16</th>\n",
       "      <td>3.533333</td>\n",
       "      <td>1.333333</td>\n",
       "      <td>3.333333</td>\n",
       "      <td>2.866667</td>\n",
       "      <td>3.066667</td>\n",
       "      <td>3.266667</td>\n",
       "      <td>3.333333</td>\n",
       "      <td>2.333333</td>\n",
       "      <td>2.200000</td>\n",
       "      <td>2.200000</td>\n",
       "      <td>2.466667</td>\n",
       "      <td>3.733333</td>\n",
       "      <td>1.866667</td>\n",
       "      <td>2.066667</td>\n",
       "      <td>3.400000</td>\n",
       "      <td>2.800000</td>\n",
       "    </tr>\n",
       "    <tr>\n",
       "      <th>17</th>\n",
       "      <td>3.733333</td>\n",
       "      <td>1.266667</td>\n",
       "      <td>2.933333</td>\n",
       "      <td>3.266667</td>\n",
       "      <td>1.866667</td>\n",
       "      <td>1.933333</td>\n",
       "      <td>1.533333</td>\n",
       "      <td>3.066667</td>\n",
       "      <td>3.400000</td>\n",
       "      <td>3.466667</td>\n",
       "      <td>1.400000</td>\n",
       "      <td>2.466667</td>\n",
       "      <td>3.400000</td>\n",
       "      <td>3.133333</td>\n",
       "      <td>1.933333</td>\n",
       "      <td>2.000000</td>\n",
       "    </tr>\n",
       "    <tr>\n",
       "      <th>18</th>\n",
       "      <td>3.758621</td>\n",
       "      <td>1.172414</td>\n",
       "      <td>3.241379</td>\n",
       "      <td>2.862069</td>\n",
       "      <td>1.931034</td>\n",
       "      <td>1.827586</td>\n",
       "      <td>1.965517</td>\n",
       "      <td>2.655172</td>\n",
       "      <td>3.379310</td>\n",
       "      <td>2.241379</td>\n",
       "      <td>1.172414</td>\n",
       "      <td>2.379310</td>\n",
       "      <td>3.931034</td>\n",
       "      <td>2.689655</td>\n",
       "      <td>2.172414</td>\n",
       "      <td>2.206897</td>\n",
       "    </tr>\n",
       "    <tr>\n",
       "      <th>19</th>\n",
       "      <td>4.142857</td>\n",
       "      <td>1.285714</td>\n",
       "      <td>3.714286</td>\n",
       "      <td>3.857143</td>\n",
       "      <td>2.714286</td>\n",
       "      <td>2.428571</td>\n",
       "      <td>1.571429</td>\n",
       "      <td>3.857143</td>\n",
       "      <td>3.142857</td>\n",
       "      <td>2.142857</td>\n",
       "      <td>1.857143</td>\n",
       "      <td>2.000000</td>\n",
       "      <td>3.142857</td>\n",
       "      <td>3.571429</td>\n",
       "      <td>2.857143</td>\n",
       "      <td>2.142857</td>\n",
       "    </tr>\n",
       "    <tr>\n",
       "      <th>20</th>\n",
       "      <td>4.157895</td>\n",
       "      <td>1.131579</td>\n",
       "      <td>3.078947</td>\n",
       "      <td>3.157895</td>\n",
       "      <td>1.868421</td>\n",
       "      <td>1.631579</td>\n",
       "      <td>1.578947</td>\n",
       "      <td>3.605263</td>\n",
       "      <td>3.184211</td>\n",
       "      <td>2.868421</td>\n",
       "      <td>1.447368</td>\n",
       "      <td>2.263158</td>\n",
       "      <td>3.605263</td>\n",
       "      <td>3.789474</td>\n",
       "      <td>2.394737</td>\n",
       "      <td>1.921053</td>\n",
       "    </tr>\n",
       "    <tr>\n",
       "      <th>21</th>\n",
       "      <td>3.736842</td>\n",
       "      <td>1.315789</td>\n",
       "      <td>4.578947</td>\n",
       "      <td>3.842105</td>\n",
       "      <td>3.789474</td>\n",
       "      <td>3.842105</td>\n",
       "      <td>3.894737</td>\n",
       "      <td>2.210526</td>\n",
       "      <td>3.000000</td>\n",
       "      <td>1.210526</td>\n",
       "      <td>2.210526</td>\n",
       "      <td>4.368421</td>\n",
       "      <td>2.315789</td>\n",
       "      <td>2.315789</td>\n",
       "      <td>3.210526</td>\n",
       "      <td>3.684211</td>\n",
       "    </tr>\n",
       "    <tr>\n",
       "      <th>22</th>\n",
       "      <td>3.800000</td>\n",
       "      <td>1.520000</td>\n",
       "      <td>3.600000</td>\n",
       "      <td>3.040000</td>\n",
       "      <td>4.280000</td>\n",
       "      <td>3.760000</td>\n",
       "      <td>4.360000</td>\n",
       "      <td>1.520000</td>\n",
       "      <td>2.120000</td>\n",
       "      <td>1.280000</td>\n",
       "      <td>2.080000</td>\n",
       "      <td>4.200000</td>\n",
       "      <td>2.000000</td>\n",
       "      <td>1.840000</td>\n",
       "      <td>3.320000</td>\n",
       "      <td>3.360000</td>\n",
       "    </tr>\n",
       "    <tr>\n",
       "      <th>23</th>\n",
       "      <td>3.714286</td>\n",
       "      <td>1.214286</td>\n",
       "      <td>3.571429</td>\n",
       "      <td>3.571429</td>\n",
       "      <td>2.642857</td>\n",
       "      <td>2.142857</td>\n",
       "      <td>1.714286</td>\n",
       "      <td>2.500000</td>\n",
       "      <td>3.071429</td>\n",
       "      <td>2.571429</td>\n",
       "      <td>1.571429</td>\n",
       "      <td>2.785714</td>\n",
       "      <td>3.214286</td>\n",
       "      <td>2.642857</td>\n",
       "      <td>2.142857</td>\n",
       "      <td>2.142857</td>\n",
       "    </tr>\n",
       "    <tr>\n",
       "      <th>24</th>\n",
       "      <td>3.111111</td>\n",
       "      <td>1.555556</td>\n",
       "      <td>3.444444</td>\n",
       "      <td>2.888889</td>\n",
       "      <td>4.333333</td>\n",
       "      <td>4.222222</td>\n",
       "      <td>4.222222</td>\n",
       "      <td>1.555556</td>\n",
       "      <td>2.666667</td>\n",
       "      <td>1.333333</td>\n",
       "      <td>1.666667</td>\n",
       "      <td>4.555556</td>\n",
       "      <td>2.555556</td>\n",
       "      <td>1.777778</td>\n",
       "      <td>3.333333</td>\n",
       "      <td>3.555556</td>\n",
       "    </tr>\n",
       "    <tr>\n",
       "      <th>25</th>\n",
       "      <td>3.823529</td>\n",
       "      <td>1.176471</td>\n",
       "      <td>3.647059</td>\n",
       "      <td>3.411765</td>\n",
       "      <td>3.411765</td>\n",
       "      <td>3.705882</td>\n",
       "      <td>3.882353</td>\n",
       "      <td>2.117647</td>\n",
       "      <td>2.705882</td>\n",
       "      <td>1.705882</td>\n",
       "      <td>2.235294</td>\n",
       "      <td>4.235294</td>\n",
       "      <td>2.176471</td>\n",
       "      <td>1.941176</td>\n",
       "      <td>3.411765</td>\n",
       "      <td>3.705882</td>\n",
       "    </tr>\n",
       "    <tr>\n",
       "      <th>26</th>\n",
       "      <td>3.864865</td>\n",
       "      <td>1.297297</td>\n",
       "      <td>3.486486</td>\n",
       "      <td>3.054054</td>\n",
       "      <td>2.324324</td>\n",
       "      <td>2.459459</td>\n",
       "      <td>2.054054</td>\n",
       "      <td>2.756757</td>\n",
       "      <td>3.270270</td>\n",
       "      <td>2.270270</td>\n",
       "      <td>1.486486</td>\n",
       "      <td>3.135135</td>\n",
       "      <td>3.054054</td>\n",
       "      <td>2.729730</td>\n",
       "      <td>2.405405</td>\n",
       "      <td>2.540541</td>\n",
       "    </tr>\n",
       "  </tbody>\n",
       "</table>\n",
       "</div>"
      ],
      "text/plain": [
       "             arousal   valence  gems_wonder  gems_transcendence  \\\n",
       "segment_id                                                        \n",
       "0           3.750000  1.416667     3.333333            3.166667   \n",
       "1           4.032258  1.290323     3.806452            3.677419   \n",
       "2           3.818182  1.212121     3.484848            2.969697   \n",
       "3           3.933333  1.400000     3.200000            3.066667   \n",
       "4           3.882353  1.294118     4.000000            3.352941   \n",
       "5           3.666667  1.259259     3.481481            3.222222   \n",
       "6           3.625000  1.583333     3.250000            2.666667   \n",
       "7           3.821429  1.178571     3.857143            3.392857   \n",
       "8           3.947368  1.315789     3.491228            3.263158   \n",
       "9           3.692308  1.346154     3.807692            3.384615   \n",
       "10          3.702703  1.216216     3.756757            2.891892   \n",
       "11          3.739130  1.347826     3.695652            3.043478   \n",
       "12          3.740741  1.185185     3.407407            3.148148   \n",
       "13          3.875000  1.125000     3.000000            3.000000   \n",
       "14          4.761905  1.333333     3.619048            3.476190   \n",
       "15          3.857143  1.142857     3.714286            4.142857   \n",
       "16          3.533333  1.333333     3.333333            2.866667   \n",
       "17          3.733333  1.266667     2.933333            3.266667   \n",
       "18          3.758621  1.172414     3.241379            2.862069   \n",
       "19          4.142857  1.285714     3.714286            3.857143   \n",
       "20          4.157895  1.131579     3.078947            3.157895   \n",
       "21          3.736842  1.315789     4.578947            3.842105   \n",
       "22          3.800000  1.520000     3.600000            3.040000   \n",
       "23          3.714286  1.214286     3.571429            3.571429   \n",
       "24          3.111111  1.555556     3.444444            2.888889   \n",
       "25          3.823529  1.176471     3.647059            3.411765   \n",
       "26          3.864865  1.297297     3.486486            3.054054   \n",
       "\n",
       "            gems_tenderness  gems_nostalgia  gems_peacefulness  gems_power  \\\n",
       "segment_id                                                                   \n",
       "0                  2.916667        2.750000           3.166667    2.416667   \n",
       "1                  2.903226        2.967742           2.666667    2.580645   \n",
       "2                  2.030303        2.090909           1.666667    2.787879   \n",
       "3                  2.200000        2.066667           1.466667    3.800000   \n",
       "4                  3.147059        3.088235           2.617647    2.352941   \n",
       "5                  2.814815        2.518519           2.851852    2.962963   \n",
       "6                  4.125000        3.541667           3.958333    1.583333   \n",
       "7                  3.250000        3.214286           2.642857    2.750000   \n",
       "8                  2.350877        1.614035           1.754386    2.929825   \n",
       "9                  3.269231        3.461538           2.846154    2.153846   \n",
       "10                 2.864865        2.756757           2.864865    2.216216   \n",
       "11                 3.043478        3.739130           3.478261    1.956522   \n",
       "12                 2.037037        2.222222           2.185185    2.962963   \n",
       "13                 2.375000        2.375000           1.625000    2.875000   \n",
       "14                 1.761905        1.761905           1.095238    4.619048   \n",
       "15                 3.000000        3.428571           3.000000    2.714286   \n",
       "16                 3.066667        3.266667           3.333333    2.333333   \n",
       "17                 1.866667        1.933333           1.533333    3.066667   \n",
       "18                 1.931034        1.827586           1.965517    2.655172   \n",
       "19                 2.714286        2.428571           1.571429    3.857143   \n",
       "20                 1.868421        1.631579           1.578947    3.605263   \n",
       "21                 3.789474        3.842105           3.894737    2.210526   \n",
       "22                 4.280000        3.760000           4.360000    1.520000   \n",
       "23                 2.642857        2.142857           1.714286    2.500000   \n",
       "24                 4.333333        4.222222           4.222222    1.555556   \n",
       "25                 3.411765        3.705882           3.882353    2.117647   \n",
       "26                 2.324324        2.459459           2.054054    2.756757   \n",
       "\n",
       "            gems_joyful_activation  gems_tension  gems_sadness  gemmes_flow  \\\n",
       "segment_id                                                                    \n",
       "0                         3.250000      2.000000      1.916667     3.333333   \n",
       "1                         3.000000      1.967742      1.516129     3.580645   \n",
       "2                         3.636364      2.454545      1.303030     2.636364   \n",
       "3                         3.333333      2.666667      1.800000     2.066667   \n",
       "4                         2.323529      1.617647      1.794118     3.705882   \n",
       "5                         3.814815      1.592593      1.370370     3.444444   \n",
       "6                         2.083333      1.291667      1.916667     4.000000   \n",
       "7                         2.678571      1.535714      1.535714     3.821429   \n",
       "8                         3.789474      2.315789      1.192982     2.859649   \n",
       "9                         2.692308      2.192308      1.730769     3.384615   \n",
       "10                        3.081081      1.918919      1.432432     3.621622   \n",
       "11                        2.869565      1.608696      2.000000     3.913043   \n",
       "12                        3.592593      3.037037      1.333333     2.518519   \n",
       "13                        2.375000      2.875000      1.625000     2.750000   \n",
       "14                        3.380952      3.285714      1.380952     2.333333   \n",
       "15                        3.714286      2.714286      1.857143     3.714286   \n",
       "16                        2.200000      2.200000      2.466667     3.733333   \n",
       "17                        3.400000      3.466667      1.400000     2.466667   \n",
       "18                        3.379310      2.241379      1.172414     2.379310   \n",
       "19                        3.142857      2.142857      1.857143     2.000000   \n",
       "20                        3.184211      2.868421      1.447368     2.263158   \n",
       "21                        3.000000      1.210526      2.210526     4.368421   \n",
       "22                        2.120000      1.280000      2.080000     4.200000   \n",
       "23                        3.071429      2.571429      1.571429     2.785714   \n",
       "24                        2.666667      1.333333      1.666667     4.555556   \n",
       "25                        2.705882      1.705882      2.235294     4.235294   \n",
       "26                        3.270270      2.270270      1.486486     3.135135   \n",
       "\n",
       "            gemmes_movement  gemmes_force  gemmes_interior  gemmes_wandering  \n",
       "segment_id                                                                    \n",
       "0                  2.500000      2.500000         3.000000          3.000000  \n",
       "1                  3.064516      2.967742         2.677419          2.548387  \n",
       "2                  3.484848      2.787879         1.939394          2.818182  \n",
       "3                  3.333333      3.466667         2.066667          2.266667  \n",
       "4                  2.382353      2.588235         3.235294          3.235294  \n",
       "5                  3.370370      2.851852         2.148148          3.111111  \n",
       "6                  1.833333      1.750000         3.291667          2.958333  \n",
       "7                  2.785714      2.535714         2.750000          2.714286  \n",
       "8                  3.807018      2.666667         2.087719          2.280702  \n",
       "9                  2.653846      2.500000         2.923077          2.961538  \n",
       "10                 2.972973      2.081081         2.621622          3.216216  \n",
       "11                 2.434783      2.043478         3.173913          3.173913  \n",
       "12                 3.481481      2.888889         2.222222          2.333333  \n",
       "13                 2.625000      3.000000         2.500000          2.250000  \n",
       "14                 4.142857      4.571429         2.190476          2.285714  \n",
       "15                 2.714286      2.428571         2.428571          2.714286  \n",
       "16                 1.866667      2.066667         3.400000          2.800000  \n",
       "17                 3.400000      3.133333         1.933333          2.000000  \n",
       "18                 3.931034      2.689655         2.172414          2.206897  \n",
       "19                 3.142857      3.571429         2.857143          2.142857  \n",
       "20                 3.605263      3.789474         2.394737          1.921053  \n",
       "21                 2.315789      2.315789         3.210526          3.684211  \n",
       "22                 2.000000      1.840000         3.320000          3.360000  \n",
       "23                 3.214286      2.642857         2.142857          2.142857  \n",
       "24                 2.555556      1.777778         3.333333          3.555556  \n",
       "25                 2.176471      1.941176         3.411765          3.705882  \n",
       "26                 3.054054      2.729730         2.405405          2.540541  "
      ]
     },
     "execution_count": 131,
     "metadata": {},
     "output_type": "execute_result"
    }
   ],
   "source": [
    "annot_df_mean = annot_df.copy()\n",
    "annot_df_mean = annot_df_mean.drop(['pianist_id', 'annotator_id'], axis=1)\n",
    "\n",
    "df_angry = annot_df_mean.loc[annot_df['class'] == 'angry']\n",
    "group_mean_angry = df_angry.groupby(['segment_id']).mean()\n",
    "\n",
    "df_happy = annot_df_mean.loc[annot_df['class'] == 'happy']\n",
    "group_mean_happy = df_happy.groupby(['segment_id']).mean()\n",
    "\n",
    "df_sad = annot_df_mean.loc[annot_df['class'] == 'sad']\n",
    "group_mean_sad = df_sad.groupby(['segment_id']).mean()\n",
    "\n",
    "df_relaxed = annot_df_mean.loc[annot_df['class'] == 'relaxed']\n",
    "group_mean_relaxed = df_relaxed.groupby(['segment_id']).mean()\n",
    "\n",
    "df_none = annot_df_mean.loc[annot_df['class'] == 'none']\n",
    "group_mean_none = df_none.groupby(['segment_id']).mean()\n",
    "\n",
    "group_mean_happy"
   ]
  },
  {
   "cell_type": "code",
   "execution_count": 132,
   "id": "50f190ac-80c0-4911-a286-75bf0d15848e",
   "metadata": {},
   "outputs": [],
   "source": [
    "def calc_correlation_dataset(df):\n",
    "    \n",
    "    list_x, list_y = [], []\n",
    "    classifiers = df.columns.to_list()[0:2]\n",
    "    gems_gemmes = df.columns.to_list()[2:16]\n",
    "    \n",
    "    for idx, x in enumerate(gems_gemmes):\n",
    "        for idy, y in enumerate(classifiers):\n",
    "            if idy == 0:\n",
    "                corr_arousal = df[y].corr(df[x])\n",
    "                list_y.append(corr_arousal)\n",
    "            elif idy == 1:\n",
    "                corr_valence = df[y].corr(df[x])\n",
    "                list_x.append(corr_valence)\n",
    "    return list_x, list_y"
   ]
  },
  {
   "cell_type": "code",
   "execution_count": 133,
   "id": "f96da7ba-b328-424e-bb15-7dc6b7ae1449",
   "metadata": {},
   "outputs": [
    {
     "data": {
      "application/vnd.plotly.v1+json": {
       "config": {
        "plotlyServerURL": "https://plot.ly"
       },
       "data": [
        {
         "hovertemplate": "x=%{x}<br>y=%{y}<extra></extra>",
         "legendgroup": "",
         "marker": {
          "color": "#636efa",
          "symbol": "circle"
         },
         "mode": "markers",
         "name": "",
         "orientation": "v",
         "showlegend": false,
         "type": "scatter",
         "x": [
          0.022879310764683847,
          -0.3365580184188211,
          0.6127251515310749,
          0.4552104531208065,
          0.5212350438473967,
          -0.411469480099169,
          -0.4174697336686339,
          -0.48820842429476075,
          0.3594148068143389,
          0.398299692519542,
          -0.4324352429002271,
          -0.3545258777189085,
          0.4893458338942717,
          0.3951161202950183
         ],
         "xaxis": "x",
         "y": [
          0.048692045780414944,
          0.38713063326662495,
          -0.5496533053529316,
          -0.5389923157332954,
          -0.6057450984414529,
          0.7792616342324246,
          0.2798120820697791,
          0.4791239023989079,
          -0.2431811120411491,
          -0.5521147522545002,
          0.5135276762338656,
          0.8080830494730054,
          -0.36403167338500986,
          -0.48101525899443326
         ],
         "yaxis": "y"
        }
       ],
       "layout": {
        "height": 800,
        "legend": {
         "tracegroupgap": 0
        },
        "margin": {
         "t": 60
        },
        "template": {
         "data": {
          "bar": [
           {
            "error_x": {
             "color": "#2a3f5f"
            },
            "error_y": {
             "color": "#2a3f5f"
            },
            "marker": {
             "line": {
              "color": "#E5ECF6",
              "width": 0.5
             },
             "pattern": {
              "fillmode": "overlay",
              "size": 10,
              "solidity": 0.2
             }
            },
            "type": "bar"
           }
          ],
          "barpolar": [
           {
            "marker": {
             "line": {
              "color": "#E5ECF6",
              "width": 0.5
             },
             "pattern": {
              "fillmode": "overlay",
              "size": 10,
              "solidity": 0.2
             }
            },
            "type": "barpolar"
           }
          ],
          "carpet": [
           {
            "aaxis": {
             "endlinecolor": "#2a3f5f",
             "gridcolor": "white",
             "linecolor": "white",
             "minorgridcolor": "white",
             "startlinecolor": "#2a3f5f"
            },
            "baxis": {
             "endlinecolor": "#2a3f5f",
             "gridcolor": "white",
             "linecolor": "white",
             "minorgridcolor": "white",
             "startlinecolor": "#2a3f5f"
            },
            "type": "carpet"
           }
          ],
          "choropleth": [
           {
            "colorbar": {
             "outlinewidth": 0,
             "ticks": ""
            },
            "type": "choropleth"
           }
          ],
          "contour": [
           {
            "colorbar": {
             "outlinewidth": 0,
             "ticks": ""
            },
            "colorscale": [
             [
              0,
              "#0d0887"
             ],
             [
              0.1111111111111111,
              "#46039f"
             ],
             [
              0.2222222222222222,
              "#7201a8"
             ],
             [
              0.3333333333333333,
              "#9c179e"
             ],
             [
              0.4444444444444444,
              "#bd3786"
             ],
             [
              0.5555555555555556,
              "#d8576b"
             ],
             [
              0.6666666666666666,
              "#ed7953"
             ],
             [
              0.7777777777777778,
              "#fb9f3a"
             ],
             [
              0.8888888888888888,
              "#fdca26"
             ],
             [
              1,
              "#f0f921"
             ]
            ],
            "type": "contour"
           }
          ],
          "contourcarpet": [
           {
            "colorbar": {
             "outlinewidth": 0,
             "ticks": ""
            },
            "type": "contourcarpet"
           }
          ],
          "heatmap": [
           {
            "colorbar": {
             "outlinewidth": 0,
             "ticks": ""
            },
            "colorscale": [
             [
              0,
              "#0d0887"
             ],
             [
              0.1111111111111111,
              "#46039f"
             ],
             [
              0.2222222222222222,
              "#7201a8"
             ],
             [
              0.3333333333333333,
              "#9c179e"
             ],
             [
              0.4444444444444444,
              "#bd3786"
             ],
             [
              0.5555555555555556,
              "#d8576b"
             ],
             [
              0.6666666666666666,
              "#ed7953"
             ],
             [
              0.7777777777777778,
              "#fb9f3a"
             ],
             [
              0.8888888888888888,
              "#fdca26"
             ],
             [
              1,
              "#f0f921"
             ]
            ],
            "type": "heatmap"
           }
          ],
          "heatmapgl": [
           {
            "colorbar": {
             "outlinewidth": 0,
             "ticks": ""
            },
            "colorscale": [
             [
              0,
              "#0d0887"
             ],
             [
              0.1111111111111111,
              "#46039f"
             ],
             [
              0.2222222222222222,
              "#7201a8"
             ],
             [
              0.3333333333333333,
              "#9c179e"
             ],
             [
              0.4444444444444444,
              "#bd3786"
             ],
             [
              0.5555555555555556,
              "#d8576b"
             ],
             [
              0.6666666666666666,
              "#ed7953"
             ],
             [
              0.7777777777777778,
              "#fb9f3a"
             ],
             [
              0.8888888888888888,
              "#fdca26"
             ],
             [
              1,
              "#f0f921"
             ]
            ],
            "type": "heatmapgl"
           }
          ],
          "histogram": [
           {
            "marker": {
             "pattern": {
              "fillmode": "overlay",
              "size": 10,
              "solidity": 0.2
             }
            },
            "type": "histogram"
           }
          ],
          "histogram2d": [
           {
            "colorbar": {
             "outlinewidth": 0,
             "ticks": ""
            },
            "colorscale": [
             [
              0,
              "#0d0887"
             ],
             [
              0.1111111111111111,
              "#46039f"
             ],
             [
              0.2222222222222222,
              "#7201a8"
             ],
             [
              0.3333333333333333,
              "#9c179e"
             ],
             [
              0.4444444444444444,
              "#bd3786"
             ],
             [
              0.5555555555555556,
              "#d8576b"
             ],
             [
              0.6666666666666666,
              "#ed7953"
             ],
             [
              0.7777777777777778,
              "#fb9f3a"
             ],
             [
              0.8888888888888888,
              "#fdca26"
             ],
             [
              1,
              "#f0f921"
             ]
            ],
            "type": "histogram2d"
           }
          ],
          "histogram2dcontour": [
           {
            "colorbar": {
             "outlinewidth": 0,
             "ticks": ""
            },
            "colorscale": [
             [
              0,
              "#0d0887"
             ],
             [
              0.1111111111111111,
              "#46039f"
             ],
             [
              0.2222222222222222,
              "#7201a8"
             ],
             [
              0.3333333333333333,
              "#9c179e"
             ],
             [
              0.4444444444444444,
              "#bd3786"
             ],
             [
              0.5555555555555556,
              "#d8576b"
             ],
             [
              0.6666666666666666,
              "#ed7953"
             ],
             [
              0.7777777777777778,
              "#fb9f3a"
             ],
             [
              0.8888888888888888,
              "#fdca26"
             ],
             [
              1,
              "#f0f921"
             ]
            ],
            "type": "histogram2dcontour"
           }
          ],
          "mesh3d": [
           {
            "colorbar": {
             "outlinewidth": 0,
             "ticks": ""
            },
            "type": "mesh3d"
           }
          ],
          "parcoords": [
           {
            "line": {
             "colorbar": {
              "outlinewidth": 0,
              "ticks": ""
             }
            },
            "type": "parcoords"
           }
          ],
          "pie": [
           {
            "automargin": true,
            "type": "pie"
           }
          ],
          "scatter": [
           {
            "marker": {
             "colorbar": {
              "outlinewidth": 0,
              "ticks": ""
             }
            },
            "type": "scatter"
           }
          ],
          "scatter3d": [
           {
            "line": {
             "colorbar": {
              "outlinewidth": 0,
              "ticks": ""
             }
            },
            "marker": {
             "colorbar": {
              "outlinewidth": 0,
              "ticks": ""
             }
            },
            "type": "scatter3d"
           }
          ],
          "scattercarpet": [
           {
            "marker": {
             "colorbar": {
              "outlinewidth": 0,
              "ticks": ""
             }
            },
            "type": "scattercarpet"
           }
          ],
          "scattergeo": [
           {
            "marker": {
             "colorbar": {
              "outlinewidth": 0,
              "ticks": ""
             }
            },
            "type": "scattergeo"
           }
          ],
          "scattergl": [
           {
            "marker": {
             "colorbar": {
              "outlinewidth": 0,
              "ticks": ""
             }
            },
            "type": "scattergl"
           }
          ],
          "scattermapbox": [
           {
            "marker": {
             "colorbar": {
              "outlinewidth": 0,
              "ticks": ""
             }
            },
            "type": "scattermapbox"
           }
          ],
          "scatterpolar": [
           {
            "marker": {
             "colorbar": {
              "outlinewidth": 0,
              "ticks": ""
             }
            },
            "type": "scatterpolar"
           }
          ],
          "scatterpolargl": [
           {
            "marker": {
             "colorbar": {
              "outlinewidth": 0,
              "ticks": ""
             }
            },
            "type": "scatterpolargl"
           }
          ],
          "scatterternary": [
           {
            "marker": {
             "colorbar": {
              "outlinewidth": 0,
              "ticks": ""
             }
            },
            "type": "scatterternary"
           }
          ],
          "surface": [
           {
            "colorbar": {
             "outlinewidth": 0,
             "ticks": ""
            },
            "colorscale": [
             [
              0,
              "#0d0887"
             ],
             [
              0.1111111111111111,
              "#46039f"
             ],
             [
              0.2222222222222222,
              "#7201a8"
             ],
             [
              0.3333333333333333,
              "#9c179e"
             ],
             [
              0.4444444444444444,
              "#bd3786"
             ],
             [
              0.5555555555555556,
              "#d8576b"
             ],
             [
              0.6666666666666666,
              "#ed7953"
             ],
             [
              0.7777777777777778,
              "#fb9f3a"
             ],
             [
              0.8888888888888888,
              "#fdca26"
             ],
             [
              1,
              "#f0f921"
             ]
            ],
            "type": "surface"
           }
          ],
          "table": [
           {
            "cells": {
             "fill": {
              "color": "#EBF0F8"
             },
             "line": {
              "color": "white"
             }
            },
            "header": {
             "fill": {
              "color": "#C8D4E3"
             },
             "line": {
              "color": "white"
             }
            },
            "type": "table"
           }
          ]
         },
         "layout": {
          "annotationdefaults": {
           "arrowcolor": "#2a3f5f",
           "arrowhead": 0,
           "arrowwidth": 1
          },
          "autotypenumbers": "strict",
          "coloraxis": {
           "colorbar": {
            "outlinewidth": 0,
            "ticks": ""
           }
          },
          "colorscale": {
           "diverging": [
            [
             0,
             "#8e0152"
            ],
            [
             0.1,
             "#c51b7d"
            ],
            [
             0.2,
             "#de77ae"
            ],
            [
             0.3,
             "#f1b6da"
            ],
            [
             0.4,
             "#fde0ef"
            ],
            [
             0.5,
             "#f7f7f7"
            ],
            [
             0.6,
             "#e6f5d0"
            ],
            [
             0.7,
             "#b8e186"
            ],
            [
             0.8,
             "#7fbc41"
            ],
            [
             0.9,
             "#4d9221"
            ],
            [
             1,
             "#276419"
            ]
           ],
           "sequential": [
            [
             0,
             "#0d0887"
            ],
            [
             0.1111111111111111,
             "#46039f"
            ],
            [
             0.2222222222222222,
             "#7201a8"
            ],
            [
             0.3333333333333333,
             "#9c179e"
            ],
            [
             0.4444444444444444,
             "#bd3786"
            ],
            [
             0.5555555555555556,
             "#d8576b"
            ],
            [
             0.6666666666666666,
             "#ed7953"
            ],
            [
             0.7777777777777778,
             "#fb9f3a"
            ],
            [
             0.8888888888888888,
             "#fdca26"
            ],
            [
             1,
             "#f0f921"
            ]
           ],
           "sequentialminus": [
            [
             0,
             "#0d0887"
            ],
            [
             0.1111111111111111,
             "#46039f"
            ],
            [
             0.2222222222222222,
             "#7201a8"
            ],
            [
             0.3333333333333333,
             "#9c179e"
            ],
            [
             0.4444444444444444,
             "#bd3786"
            ],
            [
             0.5555555555555556,
             "#d8576b"
            ],
            [
             0.6666666666666666,
             "#ed7953"
            ],
            [
             0.7777777777777778,
             "#fb9f3a"
            ],
            [
             0.8888888888888888,
             "#fdca26"
            ],
            [
             1,
             "#f0f921"
            ]
           ]
          },
          "colorway": [
           "#636efa",
           "#EF553B",
           "#00cc96",
           "#ab63fa",
           "#FFA15A",
           "#19d3f3",
           "#FF6692",
           "#B6E880",
           "#FF97FF",
           "#FECB52"
          ],
          "font": {
           "color": "#2a3f5f"
          },
          "geo": {
           "bgcolor": "white",
           "lakecolor": "white",
           "landcolor": "#E5ECF6",
           "showlakes": true,
           "showland": true,
           "subunitcolor": "white"
          },
          "hoverlabel": {
           "align": "left"
          },
          "hovermode": "closest",
          "mapbox": {
           "style": "light"
          },
          "paper_bgcolor": "white",
          "plot_bgcolor": "#E5ECF6",
          "polar": {
           "angularaxis": {
            "gridcolor": "white",
            "linecolor": "white",
            "ticks": ""
           },
           "bgcolor": "#E5ECF6",
           "radialaxis": {
            "gridcolor": "white",
            "linecolor": "white",
            "ticks": ""
           }
          },
          "scene": {
           "xaxis": {
            "backgroundcolor": "#E5ECF6",
            "gridcolor": "white",
            "gridwidth": 2,
            "linecolor": "white",
            "showbackground": true,
            "ticks": "",
            "zerolinecolor": "white"
           },
           "yaxis": {
            "backgroundcolor": "#E5ECF6",
            "gridcolor": "white",
            "gridwidth": 2,
            "linecolor": "white",
            "showbackground": true,
            "ticks": "",
            "zerolinecolor": "white"
           },
           "zaxis": {
            "backgroundcolor": "#E5ECF6",
            "gridcolor": "white",
            "gridwidth": 2,
            "linecolor": "white",
            "showbackground": true,
            "ticks": "",
            "zerolinecolor": "white"
           }
          },
          "shapedefaults": {
           "line": {
            "color": "#2a3f5f"
           }
          },
          "ternary": {
           "aaxis": {
            "gridcolor": "white",
            "linecolor": "white",
            "ticks": ""
           },
           "baxis": {
            "gridcolor": "white",
            "linecolor": "white",
            "ticks": ""
           },
           "bgcolor": "#E5ECF6",
           "caxis": {
            "gridcolor": "white",
            "linecolor": "white",
            "ticks": ""
           }
          },
          "title": {
           "x": 0.05
          },
          "xaxis": {
           "automargin": true,
           "gridcolor": "white",
           "linecolor": "white",
           "ticks": "",
           "title": {
            "standoff": 15
           },
           "zerolinecolor": "white",
           "zerolinewidth": 2
          },
          "yaxis": {
           "automargin": true,
           "gridcolor": "white",
           "linecolor": "white",
           "ticks": "",
           "title": {
            "standoff": 15
           },
           "zerolinecolor": "white",
           "zerolinewidth": 2
          }
         }
        },
        "width": 800,
        "xaxis": {
         "anchor": "y",
         "domain": [
          0,
          1
         ],
         "range": [
          -1,
          1
         ],
         "title": {
          "text": "x"
         },
         "type": "linear"
        },
        "yaxis": {
         "anchor": "x",
         "domain": [
          0,
          1
         ],
         "range": [
          -1,
          1
         ],
         "title": {
          "text": "y"
         },
         "type": "linear"
        }
       }
      },
      "image/png": "[encoded data removed]",
      "text/html": [
       "<div>                            <div id=\"e353a8f2-4fa5-43d4-8124-697c4df2a56f\" class=\"plotly-graph-div\" style=\"height:800px; width:800px;\"></div>            <script type=\"text/javascript\">                require([\"plotly\"], function(Plotly) {                    window.PLOTLYENV=window.PLOTLYENV || {};                                    if (document.getElementById(\"e353a8f2-4fa5-43d4-8124-697c4df2a56f\")) {                    Plotly.newPlot(                        \"e353a8f2-4fa5-43d4-8124-697c4df2a56f\",                        [{\"hovertemplate\":\"x=%{x}<br>y=%{y}<extra></extra>\",\"legendgroup\":\"\",\"marker\":{\"color\":\"#636efa\",\"symbol\":\"circle\"},\"mode\":\"markers\",\"name\":\"\",\"orientation\":\"v\",\"showlegend\":false,\"x\":[0.022879310764683847,-0.3365580184188211,0.6127251515310749,0.4552104531208065,0.5212350438473967,-0.411469480099169,-0.4174697336686339,-0.48820842429476075,0.3594148068143389,0.398299692519542,-0.4324352429002271,-0.3545258777189085,0.4893458338942717,0.3951161202950183],\"xaxis\":\"x\",\"y\":[0.048692045780414944,0.38713063326662495,-0.5496533053529316,-0.5389923157332954,-0.6057450984414529,0.7792616342324246,0.2798120820697791,0.4791239023989079,-0.2431811120411491,-0.5521147522545002,0.5135276762338656,0.8080830494730054,-0.36403167338500986,-0.48101525899443326],\"yaxis\":\"y\",\"type\":\"scatter\"}],                        {\"template\":{\"data\":{\"bar\":[{\"error_x\":{\"color\":\"#2a3f5f\"},\"error_y\":{\"color\":\"#2a3f5f\"},\"marker\":{\"line\":{\"color\":\"#E5ECF6\",\"width\":0.5},\"pattern\":{\"fillmode\":\"overlay\",\"size\":10,\"solidity\":0.2}},\"type\":\"bar\"}],\"barpolar\":[{\"marker\":{\"line\":{\"color\":\"#E5ECF6\",\"width\":0.5},\"pattern\":{\"fillmode\":\"overlay\",\"size\":10,\"solidity\":0.2}},\"type\":\"barpolar\"}],\"carpet\":[{\"aaxis\":{\"endlinecolor\":\"#2a3f5f\",\"gridcolor\":\"white\",\"linecolor\":\"white\",\"minorgridcolor\":\"white\",\"startlinecolor\":\"#2a3f5f\"},\"baxis\":{\"endlinecolor\":\"#2a3f5f\",\"gridcolor\":\"white\",\"linecolor\":\"white\",\"minorgridcolor\":\"white\",\"startlinecolor\":\"#2a3f5f\"},\"type\":\"carpet\"}],\"choropleth\":[{\"colorbar\":{\"outlinewidth\":0,\"ticks\":\"\"},\"type\":\"choropleth\"}],\"contour\":[{\"colorbar\":{\"outlinewidth\":0,\"ticks\":\"\"},\"colorscale\":[[0.0,\"#0d0887\"],[0.1111111111111111,\"#46039f\"],[0.2222222222222222,\"#7201a8\"],[0.3333333333333333,\"#9c179e\"],[0.4444444444444444,\"#bd3786\"],[0.5555555555555556,\"#d8576b\"],[0.6666666666666666,\"#ed7953\"],[0.7777777777777778,\"#fb9f3a\"],[0.8888888888888888,\"#fdca26\"],[1.0,\"#f0f921\"]],\"type\":\"contour\"}],\"contourcarpet\":[{\"colorbar\":{\"outlinewidth\":0,\"ticks\":\"\"},\"type\":\"contourcarpet\"}],\"heatmap\":[{\"colorbar\":{\"outlinewidth\":0,\"ticks\":\"\"},\"colorscale\":[[0.0,\"#0d0887\"],[0.1111111111111111,\"#46039f\"],[0.2222222222222222,\"#7201a8\"],[0.3333333333333333,\"#9c179e\"],[0.4444444444444444,\"#bd3786\"],[0.5555555555555556,\"#d8576b\"],[0.6666666666666666,\"#ed7953\"],[0.7777777777777778,\"#fb9f3a\"],[0.8888888888888888,\"#fdca26\"],[1.0,\"#f0f921\"]],\"type\":\"heatmap\"}],\"heatmapgl\":[{\"colorbar\":{\"outlinewidth\":0,\"ticks\":\"\"},\"colorscale\":[[0.0,\"#0d0887\"],[0.1111111111111111,\"#46039f\"],[0.2222222222222222,\"#7201a8\"],[0.3333333333333333,\"#9c179e\"],[0.4444444444444444,\"#bd3786\"],[0.5555555555555556,\"#d8576b\"],[0.6666666666666666,\"#ed7953\"],[0.7777777777777778,\"#fb9f3a\"],[0.8888888888888888,\"#fdca26\"],[1.0,\"#f0f921\"]],\"type\":\"heatmapgl\"}],\"histogram\":[{\"marker\":{\"pattern\":{\"fillmode\":\"overlay\",\"size\":10,\"solidity\":0.2}},\"type\":\"histogram\"}],\"histogram2d\":[{\"colorbar\":{\"outlinewidth\":0,\"ticks\":\"\"},\"colorscale\":[[0.0,\"#0d0887\"],[0.1111111111111111,\"#46039f\"],[0.2222222222222222,\"#7201a8\"],[0.3333333333333333,\"#9c179e\"],[0.4444444444444444,\"#bd3786\"],[0.5555555555555556,\"#d8576b\"],[0.6666666666666666,\"#ed7953\"],[0.7777777777777778,\"#fb9f3a\"],[0.8888888888888888,\"#fdca26\"],[1.0,\"#f0f921\"]],\"type\":\"histogram2d\"}],\"histogram2dcontour\":[{\"colorbar\":{\"outlinewidth\":0,\"ticks\":\"\"},\"colorscale\":[[0.0,\"#0d0887\"],[0.1111111111111111,\"#46039f\"],[0.2222222222222222,\"#7201a8\"],[0.3333333333333333,\"#9c179e\"],[0.4444444444444444,\"#bd3786\"],[0.5555555555555556,\"#d8576b\"],[0.6666666666666666,\"#ed7953\"],[0.7777777777777778,\"#fb9f3a\"],[0.8888888888888888,\"#fdca26\"],[1.0,\"#f0f921\"]],\"type\":\"histogram2dcontour\"}],\"mesh3d\":[{\"colorbar\":{\"outlinewidth\":0,\"ticks\":\"\"},\"type\":\"mesh3d\"}],\"parcoords\":[{\"line\":{\"colorbar\":{\"outlinewidth\":0,\"ticks\":\"\"}},\"type\":\"parcoords\"}],\"pie\":[{\"automargin\":true,\"type\":\"pie\"}],\"scatter\":[{\"marker\":{\"colorbar\":{\"outlinewidth\":0,\"ticks\":\"\"}},\"type\":\"scatter\"}],\"scatter3d\":[{\"line\":{\"colorbar\":{\"outlinewidth\":0,\"ticks\":\"\"}},\"marker\":{\"colorbar\":{\"outlinewidth\":0,\"ticks\":\"\"}},\"type\":\"scatter3d\"}],\"scattercarpet\":[{\"marker\":{\"colorbar\":{\"outlinewidth\":0,\"ticks\":\"\"}},\"type\":\"scattercarpet\"}],\"scattergeo\":[{\"marker\":{\"colorbar\":{\"outlinewidth\":0,\"ticks\":\"\"}},\"type\":\"scattergeo\"}],\"scattergl\":[{\"marker\":{\"colorbar\":{\"outlinewidth\":0,\"ticks\":\"\"}},\"type\":\"scattergl\"}],\"scattermapbox\":[{\"marker\":{\"colorbar\":{\"outlinewidth\":0,\"ticks\":\"\"}},\"type\":\"scattermapbox\"}],\"scatterpolar\":[{\"marker\":{\"colorbar\":{\"outlinewidth\":0,\"ticks\":\"\"}},\"type\":\"scatterpolar\"}],\"scatterpolargl\":[{\"marker\":{\"colorbar\":{\"outlinewidth\":0,\"ticks\":\"\"}},\"type\":\"scatterpolargl\"}],\"scatterternary\":[{\"marker\":{\"colorbar\":{\"outlinewidth\":0,\"ticks\":\"\"}},\"type\":\"scatterternary\"}],\"surface\":[{\"colorbar\":{\"outlinewidth\":0,\"ticks\":\"\"},\"colorscale\":[[0.0,\"#0d0887\"],[0.1111111111111111,\"#46039f\"],[0.2222222222222222,\"#7201a8\"],[0.3333333333333333,\"#9c179e\"],[0.4444444444444444,\"#bd3786\"],[0.5555555555555556,\"#d8576b\"],[0.6666666666666666,\"#ed7953\"],[0.7777777777777778,\"#fb9f3a\"],[0.8888888888888888,\"#fdca26\"],[1.0,\"#f0f921\"]],\"type\":\"surface\"}],\"table\":[{\"cells\":{\"fill\":{\"color\":\"#EBF0F8\"},\"line\":{\"color\":\"white\"}},\"header\":{\"fill\":{\"color\":\"#C8D4E3\"},\"line\":{\"color\":\"white\"}},\"type\":\"table\"}]},\"layout\":{\"annotationdefaults\":{\"arrowcolor\":\"#2a3f5f\",\"arrowhead\":0,\"arrowwidth\":1},\"autotypenumbers\":\"strict\",\"coloraxis\":{\"colorbar\":{\"outlinewidth\":0,\"ticks\":\"\"}},\"colorscale\":{\"diverging\":[[0,\"#8e0152\"],[0.1,\"#c51b7d\"],[0.2,\"#de77ae\"],[0.3,\"#f1b6da\"],[0.4,\"#fde0ef\"],[0.5,\"#f7f7f7\"],[0.6,\"#e6f5d0\"],[0.7,\"#b8e186\"],[0.8,\"#7fbc41\"],[0.9,\"#4d9221\"],[1,\"#276419\"]],\"sequential\":[[0.0,\"#0d0887\"],[0.1111111111111111,\"#46039f\"],[0.2222222222222222,\"#7201a8\"],[0.3333333333333333,\"#9c179e\"],[0.4444444444444444,\"#bd3786\"],[0.5555555555555556,\"#d8576b\"],[0.6666666666666666,\"#ed7953\"],[0.7777777777777778,\"#fb9f3a\"],[0.8888888888888888,\"#fdca26\"],[1.0,\"#f0f921\"]],\"sequentialminus\":[[0.0,\"#0d0887\"],[0.1111111111111111,\"#46039f\"],[0.2222222222222222,\"#7201a8\"],[0.3333333333333333,\"#9c179e\"],[0.4444444444444444,\"#bd3786\"],[0.5555555555555556,\"#d8576b\"],[0.6666666666666666,\"#ed7953\"],[0.7777777777777778,\"#fb9f3a\"],[0.8888888888888888,\"#fdca26\"],[1.0,\"#f0f921\"]]},\"colorway\":[\"#636efa\",\"#EF553B\",\"#00cc96\",\"#ab63fa\",\"#FFA15A\",\"#19d3f3\",\"#FF6692\",\"#B6E880\",\"#FF97FF\",\"#FECB52\"],\"font\":{\"color\":\"#2a3f5f\"},\"geo\":{\"bgcolor\":\"white\",\"lakecolor\":\"white\",\"landcolor\":\"#E5ECF6\",\"showlakes\":true,\"showland\":true,\"subunitcolor\":\"white\"},\"hoverlabel\":{\"align\":\"left\"},\"hovermode\":\"closest\",\"mapbox\":{\"style\":\"light\"},\"paper_bgcolor\":\"white\",\"plot_bgcolor\":\"#E5ECF6\",\"polar\":{\"angularaxis\":{\"gridcolor\":\"white\",\"linecolor\":\"white\",\"ticks\":\"\"},\"bgcolor\":\"#E5ECF6\",\"radialaxis\":{\"gridcolor\":\"white\",\"linecolor\":\"white\",\"ticks\":\"\"}},\"scene\":{\"xaxis\":{\"backgroundcolor\":\"#E5ECF6\",\"gridcolor\":\"white\",\"gridwidth\":2,\"linecolor\":\"white\",\"showbackground\":true,\"ticks\":\"\",\"zerolinecolor\":\"white\"},\"yaxis\":{\"backgroundcolor\":\"#E5ECF6\",\"gridcolor\":\"white\",\"gridwidth\":2,\"linecolor\":\"white\",\"showbackground\":true,\"ticks\":\"\",\"zerolinecolor\":\"white\"},\"zaxis\":{\"backgroundcolor\":\"#E5ECF6\",\"gridcolor\":\"white\",\"gridwidth\":2,\"linecolor\":\"white\",\"showbackground\":true,\"ticks\":\"\",\"zerolinecolor\":\"white\"}},\"shapedefaults\":{\"line\":{\"color\":\"#2a3f5f\"}},\"ternary\":{\"aaxis\":{\"gridcolor\":\"white\",\"linecolor\":\"white\",\"ticks\":\"\"},\"baxis\":{\"gridcolor\":\"white\",\"linecolor\":\"white\",\"ticks\":\"\"},\"bgcolor\":\"#E5ECF6\",\"caxis\":{\"gridcolor\":\"white\",\"linecolor\":\"white\",\"ticks\":\"\"}},\"title\":{\"x\":0.05},\"xaxis\":{\"automargin\":true,\"gridcolor\":\"white\",\"linecolor\":\"white\",\"ticks\":\"\",\"title\":{\"standoff\":15},\"zerolinecolor\":\"white\",\"zerolinewidth\":2},\"yaxis\":{\"automargin\":true,\"gridcolor\":\"white\",\"linecolor\":\"white\",\"ticks\":\"\",\"title\":{\"standoff\":15},\"zerolinecolor\":\"white\",\"zerolinewidth\":2}}},\"xaxis\":{\"anchor\":\"y\",\"domain\":[0.0,1.0],\"title\":{\"text\":\"x\"},\"range\":[-1,1]},\"yaxis\":{\"anchor\":\"x\",\"domain\":[0.0,1.0],\"title\":{\"text\":\"y\"},\"range\":[-1,1]},\"legend\":{\"tracegroupgap\":0},\"margin\":{\"t\":60},\"height\":800,\"width\":800},                        {\"responsive\": true}                    ).then(function(){\n",
       "                            \n",
       "var gd = document.getElementById('e353a8f2-4fa5-43d4-8124-697c4df2a56f');\n",
       "var x = new MutationObserver(function (mutations, observer) {{\n",
       "        var display = window.getComputedStyle(gd).display;\n",
       "        if (!display || display === 'none') {{\n",
       "            console.log([gd, 'removed!']);\n",
       "            Plotly.purge(gd);\n",
       "            observer.disconnect();\n",
       "        }}\n",
       "}});\n",
       "\n",
       "// Listen for the removal of the full notebook cells\n",
       "var notebookContainer = gd.closest('#notebook-container');\n",
       "if (notebookContainer) {{\n",
       "    x.observe(notebookContainer, {childList: true});\n",
       "}}\n",
       "\n",
       "// Listen for the clearing of the current output cell\n",
       "var outputEl = gd.closest('.output');\n",
       "if (outputEl) {{\n",
       "    x.observe(outputEl, {childList: true});\n",
       "}}\n",
       "\n",
       "                        })                };                });            </script>        </div>"
      ]
     },
     "metadata": {},
     "output_type": "display_data"
    },
    {
     "data": {
      "application/vnd.plotly.v1+json": {
       "config": {
        "plotlyServerURL": "https://plot.ly"
       },
       "data": [
        {
         "hovertemplate": "x=%{x}<br>y=%{y}<extra></extra>",
         "legendgroup": "",
         "marker": {
          "color": "#636efa",
          "symbol": "circle"
         },
         "mode": "markers",
         "name": "",
         "orientation": "v",
         "showlegend": false,
         "type": "scatter",
         "x": [
          0.30369336067134645,
          -0.07368594867007165,
          0.03772494978706708,
          0.04295402054222756,
          0.05309875815271726,
          -0.03184447618648418,
          0.5917448573920343,
          -0.267203765366888,
          -0.6066066557154202,
          0.17933931432715022,
          0.25125408878332645,
          -0.21316565932414813,
          -0.019864826341730136,
          0.2693105543194053
         ],
         "xaxis": "x",
         "y": [
          -0.4781203597852705,
          -0.24130830594521446,
          -0.45895503738662813,
          -0.5160918300365742,
          -0.6298296006312546,
          0.5414574497075085,
          -0.14721702072144696,
          0.6358344623311137,
          -0.13555747159072143,
          -0.6871673409826439,
          0.22204905498333724,
          0.5560921776006974,
          -0.5400251544514528,
          -0.5499397523865179
         ],
         "yaxis": "y"
        }
       ],
       "layout": {
        "height": 800,
        "legend": {
         "tracegroupgap": 0
        },
        "margin": {
         "t": 60
        },
        "template": {
         "data": {
          "bar": [
           {
            "error_x": {
             "color": "#2a3f5f"
            },
            "error_y": {
             "color": "#2a3f5f"
            },
            "marker": {
             "line": {
              "color": "#E5ECF6",
              "width": 0.5
             },
             "pattern": {
              "fillmode": "overlay",
              "size": 10,
              "solidity": 0.2
             }
            },
            "type": "bar"
           }
          ],
          "barpolar": [
           {
            "marker": {
             "line": {
              "color": "#E5ECF6",
              "width": 0.5
             },
             "pattern": {
              "fillmode": "overlay",
              "size": 10,
              "solidity": 0.2
             }
            },
            "type": "barpolar"
           }
          ],
          "carpet": [
           {
            "aaxis": {
             "endlinecolor": "#2a3f5f",
             "gridcolor": "white",
             "linecolor": "white",
             "minorgridcolor": "white",
             "startlinecolor": "#2a3f5f"
            },
            "baxis": {
             "endlinecolor": "#2a3f5f",
             "gridcolor": "white",
             "linecolor": "white",
             "minorgridcolor": "white",
             "startlinecolor": "#2a3f5f"
            },
            "type": "carpet"
           }
          ],
          "choropleth": [
           {
            "colorbar": {
             "outlinewidth": 0,
             "ticks": ""
            },
            "type": "choropleth"
           }
          ],
          "contour": [
           {
            "colorbar": {
             "outlinewidth": 0,
             "ticks": ""
            },
            "colorscale": [
             [
              0,
              "#0d0887"
             ],
             [
              0.1111111111111111,
              "#46039f"
             ],
             [
              0.2222222222222222,
              "#7201a8"
             ],
             [
              0.3333333333333333,
              "#9c179e"
             ],
             [
              0.4444444444444444,
              "#bd3786"
             ],
             [
              0.5555555555555556,
              "#d8576b"
             ],
             [
              0.6666666666666666,
              "#ed7953"
             ],
             [
              0.7777777777777778,
              "#fb9f3a"
             ],
             [
              0.8888888888888888,
              "#fdca26"
             ],
             [
              1,
              "#f0f921"
             ]
            ],
            "type": "contour"
           }
          ],
          "contourcarpet": [
           {
            "colorbar": {
             "outlinewidth": 0,
             "ticks": ""
            },
            "type": "contourcarpet"
           }
          ],
          "heatmap": [
           {
            "colorbar": {
             "outlinewidth": 0,
             "ticks": ""
            },
            "colorscale": [
             [
              0,
              "#0d0887"
             ],
             [
              0.1111111111111111,
              "#46039f"
             ],
             [
              0.2222222222222222,
              "#7201a8"
             ],
             [
              0.3333333333333333,
              "#9c179e"
             ],
             [
              0.4444444444444444,
              "#bd3786"
             ],
             [
              0.5555555555555556,
              "#d8576b"
             ],
             [
              0.6666666666666666,
              "#ed7953"
             ],
             [
              0.7777777777777778,
              "#fb9f3a"
             ],
             [
              0.8888888888888888,
              "#fdca26"
             ],
             [
              1,
              "#f0f921"
             ]
            ],
            "type": "heatmap"
           }
          ],
          "heatmapgl": [
           {
            "colorbar": {
             "outlinewidth": 0,
             "ticks": ""
            },
            "colorscale": [
             [
              0,
              "#0d0887"
             ],
             [
              0.1111111111111111,
              "#46039f"
             ],
             [
              0.2222222222222222,
              "#7201a8"
             ],
             [
              0.3333333333333333,
              "#9c179e"
             ],
             [
              0.4444444444444444,
              "#bd3786"
             ],
             [
              0.5555555555555556,
              "#d8576b"
             ],
             [
              0.6666666666666666,
              "#ed7953"
             ],
             [
              0.7777777777777778,
              "#fb9f3a"
             ],
             [
              0.8888888888888888,
              "#fdca26"
             ],
             [
              1,
              "#f0f921"
             ]
            ],
            "type": "heatmapgl"
           }
          ],
          "histogram": [
           {
            "marker": {
             "pattern": {
              "fillmode": "overlay",
              "size": 10,
              "solidity": 0.2
             }
            },
            "type": "histogram"
           }
          ],
          "histogram2d": [
           {
            "colorbar": {
             "outlinewidth": 0,
             "ticks": ""
            },
            "colorscale": [
             [
              0,
              "#0d0887"
             ],
             [
              0.1111111111111111,
              "#46039f"
             ],
             [
              0.2222222222222222,
              "#7201a8"
             ],
             [
              0.3333333333333333,
              "#9c179e"
             ],
             [
              0.4444444444444444,
              "#bd3786"
             ],
             [
              0.5555555555555556,
              "#d8576b"
             ],
             [
              0.6666666666666666,
              "#ed7953"
             ],
             [
              0.7777777777777778,
              "#fb9f3a"
             ],
             [
              0.8888888888888888,
              "#fdca26"
             ],
             [
              1,
              "#f0f921"
             ]
            ],
            "type": "histogram2d"
           }
          ],
          "histogram2dcontour": [
           {
            "colorbar": {
             "outlinewidth": 0,
             "ticks": ""
            },
            "colorscale": [
             [
              0,
              "#0d0887"
             ],
             [
              0.1111111111111111,
              "#46039f"
             ],
             [
              0.2222222222222222,
              "#7201a8"
             ],
             [
              0.3333333333333333,
              "#9c179e"
             ],
             [
              0.4444444444444444,
              "#bd3786"
             ],
             [
              0.5555555555555556,
              "#d8576b"
             ],
             [
              0.6666666666666666,
              "#ed7953"
             ],
             [
              0.7777777777777778,
              "#fb9f3a"
             ],
             [
              0.8888888888888888,
              "#fdca26"
             ],
             [
              1,
              "#f0f921"
             ]
            ],
            "type": "histogram2dcontour"
           }
          ],
          "mesh3d": [
           {
            "colorbar": {
             "outlinewidth": 0,
             "ticks": ""
            },
            "type": "mesh3d"
           }
          ],
          "parcoords": [
           {
            "line": {
             "colorbar": {
              "outlinewidth": 0,
              "ticks": ""
             }
            },
            "type": "parcoords"
           }
          ],
          "pie": [
           {
            "automargin": true,
            "type": "pie"
           }
          ],
          "scatter": [
           {
            "marker": {
             "colorbar": {
              "outlinewidth": 0,
              "ticks": ""
             }
            },
            "type": "scatter"
           }
          ],
          "scatter3d": [
           {
            "line": {
             "colorbar": {
              "outlinewidth": 0,
              "ticks": ""
             }
            },
            "marker": {
             "colorbar": {
              "outlinewidth": 0,
              "ticks": ""
             }
            },
            "type": "scatter3d"
           }
          ],
          "scattercarpet": [
           {
            "marker": {
             "colorbar": {
              "outlinewidth": 0,
              "ticks": ""
             }
            },
            "type": "scattercarpet"
           }
          ],
          "scattergeo": [
           {
            "marker": {
             "colorbar": {
              "outlinewidth": 0,
              "ticks": ""
             }
            },
            "type": "scattergeo"
           }
          ],
          "scattergl": [
           {
            "marker": {
             "colorbar": {
              "outlinewidth": 0,
              "ticks": ""
             }
            },
            "type": "scattergl"
           }
          ],
          "scattermapbox": [
           {
            "marker": {
             "colorbar": {
              "outlinewidth": 0,
              "ticks": ""
             }
            },
            "type": "scattermapbox"
           }
          ],
          "scatterpolar": [
           {
            "marker": {
             "colorbar": {
              "outlinewidth": 0,
              "ticks": ""
             }
            },
            "type": "scatterpolar"
           }
          ],
          "scatterpolargl": [
           {
            "marker": {
             "colorbar": {
              "outlinewidth": 0,
              "ticks": ""
             }
            },
            "type": "scatterpolargl"
           }
          ],
          "scatterternary": [
           {
            "marker": {
             "colorbar": {
              "outlinewidth": 0,
              "ticks": ""
             }
            },
            "type": "scatterternary"
           }
          ],
          "surface": [
           {
            "colorbar": {
             "outlinewidth": 0,
             "ticks": ""
            },
            "colorscale": [
             [
              0,
              "#0d0887"
             ],
             [
              0.1111111111111111,
              "#46039f"
             ],
             [
              0.2222222222222222,
              "#7201a8"
             ],
             [
              0.3333333333333333,
              "#9c179e"
             ],
             [
              0.4444444444444444,
              "#bd3786"
             ],
             [
              0.5555555555555556,
              "#d8576b"
             ],
             [
              0.6666666666666666,
              "#ed7953"
             ],
             [
              0.7777777777777778,
              "#fb9f3a"
             ],
             [
              0.8888888888888888,
              "#fdca26"
             ],
             [
              1,
              "#f0f921"
             ]
            ],
            "type": "surface"
           }
          ],
          "table": [
           {
            "cells": {
             "fill": {
              "color": "#EBF0F8"
             },
             "line": {
              "color": "white"
             }
            },
            "header": {
             "fill": {
              "color": "#C8D4E3"
             },
             "line": {
              "color": "white"
             }
            },
            "type": "table"
           }
          ]
         },
         "layout": {
          "annotationdefaults": {
           "arrowcolor": "#2a3f5f",
           "arrowhead": 0,
           "arrowwidth": 1
          },
          "autotypenumbers": "strict",
          "coloraxis": {
           "colorbar": {
            "outlinewidth": 0,
            "ticks": ""
           }
          },
          "colorscale": {
           "diverging": [
            [
             0,
             "#8e0152"
            ],
            [
             0.1,
             "#c51b7d"
            ],
            [
             0.2,
             "#de77ae"
            ],
            [
             0.3,
             "#f1b6da"
            ],
            [
             0.4,
             "#fde0ef"
            ],
            [
             0.5,
             "#f7f7f7"
            ],
            [
             0.6,
             "#e6f5d0"
            ],
            [
             0.7,
             "#b8e186"
            ],
            [
             0.8,
             "#7fbc41"
            ],
            [
             0.9,
             "#4d9221"
            ],
            [
             1,
             "#276419"
            ]
           ],
           "sequential": [
            [
             0,
             "#0d0887"
            ],
            [
             0.1111111111111111,
             "#46039f"
            ],
            [
             0.2222222222222222,
             "#7201a8"
            ],
            [
             0.3333333333333333,
             "#9c179e"
            ],
            [
             0.4444444444444444,
             "#bd3786"
            ],
            [
             0.5555555555555556,
             "#d8576b"
            ],
            [
             0.6666666666666666,
             "#ed7953"
            ],
            [
             0.7777777777777778,
             "#fb9f3a"
            ],
            [
             0.8888888888888888,
             "#fdca26"
            ],
            [
             1,
             "#f0f921"
            ]
           ],
           "sequentialminus": [
            [
             0,
             "#0d0887"
            ],
            [
             0.1111111111111111,
             "#46039f"
            ],
            [
             0.2222222222222222,
             "#7201a8"
            ],
            [
             0.3333333333333333,
             "#9c179e"
            ],
            [
             0.4444444444444444,
             "#bd3786"
            ],
            [
             0.5555555555555556,
             "#d8576b"
            ],
            [
             0.6666666666666666,
             "#ed7953"
            ],
            [
             0.7777777777777778,
             "#fb9f3a"
            ],
            [
             0.8888888888888888,
             "#fdca26"
            ],
            [
             1,
             "#f0f921"
            ]
           ]
          },
          "colorway": [
           "#636efa",
           "#EF553B",
           "#00cc96",
           "#ab63fa",
           "#FFA15A",
           "#19d3f3",
           "#FF6692",
           "#B6E880",
           "#FF97FF",
           "#FECB52"
          ],
          "font": {
           "color": "#2a3f5f"
          },
          "geo": {
           "bgcolor": "white",
           "lakecolor": "white",
           "landcolor": "#E5ECF6",
           "showlakes": true,
           "showland": true,
           "subunitcolor": "white"
          },
          "hoverlabel": {
           "align": "left"
          },
          "hovermode": "closest",
          "mapbox": {
           "style": "light"
          },
          "paper_bgcolor": "white",
          "plot_bgcolor": "#E5ECF6",
          "polar": {
           "angularaxis": {
            "gridcolor": "white",
            "linecolor": "white",
            "ticks": ""
           },
           "bgcolor": "#E5ECF6",
           "radialaxis": {
            "gridcolor": "white",
            "linecolor": "white",
            "ticks": ""
           }
          },
          "scene": {
           "xaxis": {
            "backgroundcolor": "#E5ECF6",
            "gridcolor": "white",
            "gridwidth": 2,
            "linecolor": "white",
            "showbackground": true,
            "ticks": "",
            "zerolinecolor": "white"
           },
           "yaxis": {
            "backgroundcolor": "#E5ECF6",
            "gridcolor": "white",
            "gridwidth": 2,
            "linecolor": "white",
            "showbackground": true,
            "ticks": "",
            "zerolinecolor": "white"
           },
           "zaxis": {
            "backgroundcolor": "#E5ECF6",
            "gridcolor": "white",
            "gridwidth": 2,
            "linecolor": "white",
            "showbackground": true,
            "ticks": "",
            "zerolinecolor": "white"
           }
          },
          "shapedefaults": {
           "line": {
            "color": "#2a3f5f"
           }
          },
          "ternary": {
           "aaxis": {
            "gridcolor": "white",
            "linecolor": "white",
            "ticks": ""
           },
           "baxis": {
            "gridcolor": "white",
            "linecolor": "white",
            "ticks": ""
           },
           "bgcolor": "#E5ECF6",
           "caxis": {
            "gridcolor": "white",
            "linecolor": "white",
            "ticks": ""
           }
          },
          "title": {
           "x": 0.05
          },
          "xaxis": {
           "automargin": true,
           "gridcolor": "white",
           "linecolor": "white",
           "ticks": "",
           "title": {
            "standoff": 15
           },
           "zerolinecolor": "white",
           "zerolinewidth": 2
          },
          "yaxis": {
           "automargin": true,
           "gridcolor": "white",
           "linecolor": "white",
           "ticks": "",
           "title": {
            "standoff": 15
           },
           "zerolinecolor": "white",
           "zerolinewidth": 2
          }
         }
        },
        "width": 800,
        "xaxis": {
         "anchor": "y",
         "domain": [
          0,
          1
         ],
         "range": [
          -1,
          1
         ],
         "title": {
          "text": "x"
         },
         "type": "linear"
        },
        "yaxis": {
         "anchor": "x",
         "domain": [
          0,
          1
         ],
         "range": [
          -1,
          1
         ],
         "title": {
          "text": "y"
         },
         "type": "linear"
        }
       }
      },
      "image/png": "[encoded data removed]",
      "text/html": [
       "<div>                            <div id=\"a8089a70-f809-411e-b293-1fa132853964\" class=\"plotly-graph-div\" style=\"height:800px; width:800px;\"></div>            <script type=\"text/javascript\">                require([\"plotly\"], function(Plotly) {                    window.PLOTLYENV=window.PLOTLYENV || {};                                    if (document.getElementById(\"a8089a70-f809-411e-b293-1fa132853964\")) {                    Plotly.newPlot(                        \"a8089a70-f809-411e-b293-1fa132853964\",                        [{\"hovertemplate\":\"x=%{x}<br>y=%{y}<extra></extra>\",\"legendgroup\":\"\",\"marker\":{\"color\":\"#636efa\",\"symbol\":\"circle\"},\"mode\":\"markers\",\"name\":\"\",\"orientation\":\"v\",\"showlegend\":false,\"x\":[0.30369336067134645,-0.07368594867007165,0.03772494978706708,0.04295402054222756,0.05309875815271726,-0.03184447618648418,0.5917448573920343,-0.267203765366888,-0.6066066557154202,0.17933931432715022,0.25125408878332645,-0.21316565932414813,-0.019864826341730136,0.2693105543194053],\"xaxis\":\"x\",\"y\":[-0.4781203597852705,-0.24130830594521446,-0.45895503738662813,-0.5160918300365742,-0.6298296006312546,0.5414574497075085,-0.14721702072144696,0.6358344623311137,-0.13555747159072143,-0.6871673409826439,0.22204905498333724,0.5560921776006974,-0.5400251544514528,-0.5499397523865179],\"yaxis\":\"y\",\"type\":\"scatter\"}],                        {\"template\":{\"data\":{\"bar\":[{\"error_x\":{\"color\":\"#2a3f5f\"},\"error_y\":{\"color\":\"#2a3f5f\"},\"marker\":{\"line\":{\"color\":\"#E5ECF6\",\"width\":0.5},\"pattern\":{\"fillmode\":\"overlay\",\"size\":10,\"solidity\":0.2}},\"type\":\"bar\"}],\"barpolar\":[{\"marker\":{\"line\":{\"color\":\"#E5ECF6\",\"width\":0.5},\"pattern\":{\"fillmode\":\"overlay\",\"size\":10,\"solidity\":0.2}},\"type\":\"barpolar\"}],\"carpet\":[{\"aaxis\":{\"endlinecolor\":\"#2a3f5f\",\"gridcolor\":\"white\",\"linecolor\":\"white\",\"minorgridcolor\":\"white\",\"startlinecolor\":\"#2a3f5f\"},\"baxis\":{\"endlinecolor\":\"#2a3f5f\",\"gridcolor\":\"white\",\"linecolor\":\"white\",\"minorgridcolor\":\"white\",\"startlinecolor\":\"#2a3f5f\"},\"type\":\"carpet\"}],\"choropleth\":[{\"colorbar\":{\"outlinewidth\":0,\"ticks\":\"\"},\"type\":\"choropleth\"}],\"contour\":[{\"colorbar\":{\"outlinewidth\":0,\"ticks\":\"\"},\"colorscale\":[[0.0,\"#0d0887\"],[0.1111111111111111,\"#46039f\"],[0.2222222222222222,\"#7201a8\"],[0.3333333333333333,\"#9c179e\"],[0.4444444444444444,\"#bd3786\"],[0.5555555555555556,\"#d8576b\"],[0.6666666666666666,\"#ed7953\"],[0.7777777777777778,\"#fb9f3a\"],[0.8888888888888888,\"#fdca26\"],[1.0,\"#f0f921\"]],\"type\":\"contour\"}],\"contourcarpet\":[{\"colorbar\":{\"outlinewidth\":0,\"ticks\":\"\"},\"type\":\"contourcarpet\"}],\"heatmap\":[{\"colorbar\":{\"outlinewidth\":0,\"ticks\":\"\"},\"colorscale\":[[0.0,\"#0d0887\"],[0.1111111111111111,\"#46039f\"],[0.2222222222222222,\"#7201a8\"],[0.3333333333333333,\"#9c179e\"],[0.4444444444444444,\"#bd3786\"],[0.5555555555555556,\"#d8576b\"],[0.6666666666666666,\"#ed7953\"],[0.7777777777777778,\"#fb9f3a\"],[0.8888888888888888,\"#fdca26\"],[1.0,\"#f0f921\"]],\"type\":\"heatmap\"}],\"heatmapgl\":[{\"colorbar\":{\"outlinewidth\":0,\"ticks\":\"\"},\"colorscale\":[[0.0,\"#0d0887\"],[0.1111111111111111,\"#46039f\"],[0.2222222222222222,\"#7201a8\"],[0.3333333333333333,\"#9c179e\"],[0.4444444444444444,\"#bd3786\"],[0.5555555555555556,\"#d8576b\"],[0.6666666666666666,\"#ed7953\"],[0.7777777777777778,\"#fb9f3a\"],[0.8888888888888888,\"#fdca26\"],[1.0,\"#f0f921\"]],\"type\":\"heatmapgl\"}],\"histogram\":[{\"marker\":{\"pattern\":{\"fillmode\":\"overlay\",\"size\":10,\"solidity\":0.2}},\"type\":\"histogram\"}],\"histogram2d\":[{\"colorbar\":{\"outlinewidth\":0,\"ticks\":\"\"},\"colorscale\":[[0.0,\"#0d0887\"],[0.1111111111111111,\"#46039f\"],[0.2222222222222222,\"#7201a8\"],[0.3333333333333333,\"#9c179e\"],[0.4444444444444444,\"#bd3786\"],[0.5555555555555556,\"#d8576b\"],[0.6666666666666666,\"#ed7953\"],[0.7777777777777778,\"#fb9f3a\"],[0.8888888888888888,\"#fdca26\"],[1.0,\"#f0f921\"]],\"type\":\"histogram2d\"}],\"histogram2dcontour\":[{\"colorbar\":{\"outlinewidth\":0,\"ticks\":\"\"},\"colorscale\":[[0.0,\"#0d0887\"],[0.1111111111111111,\"#46039f\"],[0.2222222222222222,\"#7201a8\"],[0.3333333333333333,\"#9c179e\"],[0.4444444444444444,\"#bd3786\"],[0.5555555555555556,\"#d8576b\"],[0.6666666666666666,\"#ed7953\"],[0.7777777777777778,\"#fb9f3a\"],[0.8888888888888888,\"#fdca26\"],[1.0,\"#f0f921\"]],\"type\":\"histogram2dcontour\"}],\"mesh3d\":[{\"colorbar\":{\"outlinewidth\":0,\"ticks\":\"\"},\"type\":\"mesh3d\"}],\"parcoords\":[{\"line\":{\"colorbar\":{\"outlinewidth\":0,\"ticks\":\"\"}},\"type\":\"parcoords\"}],\"pie\":[{\"automargin\":true,\"type\":\"pie\"}],\"scatter\":[{\"marker\":{\"colorbar\":{\"outlinewidth\":0,\"ticks\":\"\"}},\"type\":\"scatter\"}],\"scatter3d\":[{\"line\":{\"colorbar\":{\"outlinewidth\":0,\"ticks\":\"\"}},\"marker\":{\"colorbar\":{\"outlinewidth\":0,\"ticks\":\"\"}},\"type\":\"scatter3d\"}],\"scattercarpet\":[{\"marker\":{\"colorbar\":{\"outlinewidth\":0,\"ticks\":\"\"}},\"type\":\"scattercarpet\"}],\"scattergeo\":[{\"marker\":{\"colorbar\":{\"outlinewidth\":0,\"ticks\":\"\"}},\"type\":\"scattergeo\"}],\"scattergl\":[{\"marker\":{\"colorbar\":{\"outlinewidth\":0,\"ticks\":\"\"}},\"type\":\"scattergl\"}],\"scattermapbox\":[{\"marker\":{\"colorbar\":{\"outlinewidth\":0,\"ticks\":\"\"}},\"type\":\"scattermapbox\"}],\"scatterpolar\":[{\"marker\":{\"colorbar\":{\"outlinewidth\":0,\"ticks\":\"\"}},\"type\":\"scatterpolar\"}],\"scatterpolargl\":[{\"marker\":{\"colorbar\":{\"outlinewidth\":0,\"ticks\":\"\"}},\"type\":\"scatterpolargl\"}],\"scatterternary\":[{\"marker\":{\"colorbar\":{\"outlinewidth\":0,\"ticks\":\"\"}},\"type\":\"scatterternary\"}],\"surface\":[{\"colorbar\":{\"outlinewidth\":0,\"ticks\":\"\"},\"colorscale\":[[0.0,\"#0d0887\"],[0.1111111111111111,\"#46039f\"],[0.2222222222222222,\"#7201a8\"],[0.3333333333333333,\"#9c179e\"],[0.4444444444444444,\"#bd3786\"],[0.5555555555555556,\"#d8576b\"],[0.6666666666666666,\"#ed7953\"],[0.7777777777777778,\"#fb9f3a\"],[0.8888888888888888,\"#fdca26\"],[1.0,\"#f0f921\"]],\"type\":\"surface\"}],\"table\":[{\"cells\":{\"fill\":{\"color\":\"#EBF0F8\"},\"line\":{\"color\":\"white\"}},\"header\":{\"fill\":{\"color\":\"#C8D4E3\"},\"line\":{\"color\":\"white\"}},\"type\":\"table\"}]},\"layout\":{\"annotationdefaults\":{\"arrowcolor\":\"#2a3f5f\",\"arrowhead\":0,\"arrowwidth\":1},\"autotypenumbers\":\"strict\",\"coloraxis\":{\"colorbar\":{\"outlinewidth\":0,\"ticks\":\"\"}},\"colorscale\":{\"diverging\":[[0,\"#8e0152\"],[0.1,\"#c51b7d\"],[0.2,\"#de77ae\"],[0.3,\"#f1b6da\"],[0.4,\"#fde0ef\"],[0.5,\"#f7f7f7\"],[0.6,\"#e6f5d0\"],[0.7,\"#b8e186\"],[0.8,\"#7fbc41\"],[0.9,\"#4d9221\"],[1,\"#276419\"]],\"sequential\":[[0.0,\"#0d0887\"],[0.1111111111111111,\"#46039f\"],[0.2222222222222222,\"#7201a8\"],[0.3333333333333333,\"#9c179e\"],[0.4444444444444444,\"#bd3786\"],[0.5555555555555556,\"#d8576b\"],[0.6666666666666666,\"#ed7953\"],[0.7777777777777778,\"#fb9f3a\"],[0.8888888888888888,\"#fdca26\"],[1.0,\"#f0f921\"]],\"sequentialminus\":[[0.0,\"#0d0887\"],[0.1111111111111111,\"#46039f\"],[0.2222222222222222,\"#7201a8\"],[0.3333333333333333,\"#9c179e\"],[0.4444444444444444,\"#bd3786\"],[0.5555555555555556,\"#d8576b\"],[0.6666666666666666,\"#ed7953\"],[0.7777777777777778,\"#fb9f3a\"],[0.8888888888888888,\"#fdca26\"],[1.0,\"#f0f921\"]]},\"colorway\":[\"#636efa\",\"#EF553B\",\"#00cc96\",\"#ab63fa\",\"#FFA15A\",\"#19d3f3\",\"#FF6692\",\"#B6E880\",\"#FF97FF\",\"#FECB52\"],\"font\":{\"color\":\"#2a3f5f\"},\"geo\":{\"bgcolor\":\"white\",\"lakecolor\":\"white\",\"landcolor\":\"#E5ECF6\",\"showlakes\":true,\"showland\":true,\"subunitcolor\":\"white\"},\"hoverlabel\":{\"align\":\"left\"},\"hovermode\":\"closest\",\"mapbox\":{\"style\":\"light\"},\"paper_bgcolor\":\"white\",\"plot_bgcolor\":\"#E5ECF6\",\"polar\":{\"angularaxis\":{\"gridcolor\":\"white\",\"linecolor\":\"white\",\"ticks\":\"\"},\"bgcolor\":\"#E5ECF6\",\"radialaxis\":{\"gridcolor\":\"white\",\"linecolor\":\"white\",\"ticks\":\"\"}},\"scene\":{\"xaxis\":{\"backgroundcolor\":\"#E5ECF6\",\"gridcolor\":\"white\",\"gridwidth\":2,\"linecolor\":\"white\",\"showbackground\":true,\"ticks\":\"\",\"zerolinecolor\":\"white\"},\"yaxis\":{\"backgroundcolor\":\"#E5ECF6\",\"gridcolor\":\"white\",\"gridwidth\":2,\"linecolor\":\"white\",\"showbackground\":true,\"ticks\":\"\",\"zerolinecolor\":\"white\"},\"zaxis\":{\"backgroundcolor\":\"#E5ECF6\",\"gridcolor\":\"white\",\"gridwidth\":2,\"linecolor\":\"white\",\"showbackground\":true,\"ticks\":\"\",\"zerolinecolor\":\"white\"}},\"shapedefaults\":{\"line\":{\"color\":\"#2a3f5f\"}},\"ternary\":{\"aaxis\":{\"gridcolor\":\"white\",\"linecolor\":\"white\",\"ticks\":\"\"},\"baxis\":{\"gridcolor\":\"white\",\"linecolor\":\"white\",\"ticks\":\"\"},\"bgcolor\":\"#E5ECF6\",\"caxis\":{\"gridcolor\":\"white\",\"linecolor\":\"white\",\"ticks\":\"\"}},\"title\":{\"x\":0.05},\"xaxis\":{\"automargin\":true,\"gridcolor\":\"white\",\"linecolor\":\"white\",\"ticks\":\"\",\"title\":{\"standoff\":15},\"zerolinecolor\":\"white\",\"zerolinewidth\":2},\"yaxis\":{\"automargin\":true,\"gridcolor\":\"white\",\"linecolor\":\"white\",\"ticks\":\"\",\"title\":{\"standoff\":15},\"zerolinecolor\":\"white\",\"zerolinewidth\":2}}},\"xaxis\":{\"anchor\":\"y\",\"domain\":[0.0,1.0],\"title\":{\"text\":\"x\"},\"range\":[-1,1]},\"yaxis\":{\"anchor\":\"x\",\"domain\":[0.0,1.0],\"title\":{\"text\":\"y\"},\"range\":[-1,1]},\"legend\":{\"tracegroupgap\":0},\"margin\":{\"t\":60},\"height\":800,\"width\":800},                        {\"responsive\": true}                    ).then(function(){\n",
       "                            \n",
       "var gd = document.getElementById('a8089a70-f809-411e-b293-1fa132853964');\n",
       "var x = new MutationObserver(function (mutations, observer) {{\n",
       "        var display = window.getComputedStyle(gd).display;\n",
       "        if (!display || display === 'none') {{\n",
       "            console.log([gd, 'removed!']);\n",
       "            Plotly.purge(gd);\n",
       "            observer.disconnect();\n",
       "        }}\n",
       "}});\n",
       "\n",
       "// Listen for the removal of the full notebook cells\n",
       "var notebookContainer = gd.closest('#notebook-container');\n",
       "if (notebookContainer) {{\n",
       "    x.observe(notebookContainer, {childList: true});\n",
       "}}\n",
       "\n",
       "// Listen for the clearing of the current output cell\n",
       "var outputEl = gd.closest('.output');\n",
       "if (outputEl) {{\n",
       "    x.observe(outputEl, {childList: true});\n",
       "}}\n",
       "\n",
       "                        })                };                });            </script>        </div>"
      ]
     },
     "metadata": {},
     "output_type": "display_data"
    }
   ],
   "source": [
    "x1, y1 = calc_correlation_dataset(group_mean_happy.copy())\n",
    "x2, y2 = calc_correlation_dataset(group_mean_angry.copy())\n",
    "            \n",
    "fig = px.scatter(x=x1, y=y1, width=800, height=800)\n",
    "fig.update_xaxes(range = [-1,1])\n",
    "fig.update_yaxes(range = [-1,1])\n",
    "fig.show()\n",
    "\n",
    "            \n",
    "fig = px.scatter(x=x2, y=y2, width=800, height=800)\n",
    "fig.update_xaxes(range = [-1,1])\n",
    "fig.update_yaxes(range = [-1,1])\n",
    "fig.show()"
   ]
  },
  {
   "cell_type": "code",
   "execution_count": null,
   "id": "adf6fba6-d23e-4179-ba1f-bfb1624664dc",
   "metadata": {},
   "outputs": [],
   "source": [
    "# df_collection = [df_angry, df_happy, df_sad, df_relaxed, df_none]\n",
    "\n",
    "# for item in df_collection:\n",
    "#    print(item.shape)"
   ]
  },
  {
   "cell_type": "code",
   "execution_count": null,
   "id": "d5637b70-7809-4f0d-a959-4a63a14eb595",
   "metadata": {},
   "outputs": [],
   "source": [
    "# test = df_happy.groupby(['pianist_id']).mean()\n",
    "# test"
   ]
  },
  {
   "cell_type": "code",
   "execution_count": null,
   "id": "ff8440dd-4505-46af-943e-5a949ae5dbf5",
   "metadata": {},
   "outputs": [],
   "source": [
    "# show NaN values\n",
    "# temp = pandas_annot_df.drop(['class'], axis=1)\n",
    "# temp[temp.isna().any(axis=1)]"
   ]
  },
  {
   "cell_type": "code",
   "execution_count": null,
   "id": "e7648dae-48d8-46a5-b4cd-5d769d1f77be",
   "metadata": {},
   "outputs": [],
   "source": [
    "# normalize the dataset\n",
    "# df = pandas_annot_df.drop(['pianist_id','segment_id','annotator_id','arousal','valence','class'], axis=1)\n",
    "\n",
    "# norm_df_annotations = (df-df.mean())/df.std()\n",
    "# norm_df_annotations"
   ]
  },
  {
   "cell_type": "code",
   "execution_count": null,
   "id": "8a9bb2a1-58f1-48aa-a1df-65f65b8d8b4a",
   "metadata": {},
   "outputs": [],
   "source": [
    "# correlation matrix\n",
    "# corr_annotations = norm_df_annotations.corr()\n",
    "# corr_annotations\n",
    "\n",
    "# plot matrix\n",
    "# plt.figure(figsize=(12, 6))\n",
    "\n",
    "# heatmap = sns.heatmap(corr_annotations, vmin=-1, vmax=1, annot=True, cmap=\"Blues\")\n",
    "# heatmap.set_title('GEMS9 and GEMMES - Correlation Heatmap', fontdict={'fontsize':12}, pad=15)\n",
    "# plt.show()"
   ]
  },
  {
   "cell_type": "code",
   "execution_count": null,
   "id": "60273b09-8b4d-4507-96fe-bcc124bb3773",
   "metadata": {},
   "outputs": [],
   "source": []
  },
  {
   "cell_type": "code",
   "execution_count": null,
   "id": "cd67fd53-3b68-40bb-b27c-40a931d61b5e",
   "metadata": {},
   "outputs": [],
   "source": []
  }
 ],
 "metadata": {
  "kernelspec": {
   "display_name": "Python 3",
   "language": "python",
   "name": "python3"
  },
  "language_info": {
   "codemirror_mode": {
    "name": "ipython",
    "version": 3
   },
   "file_extension": ".py",
   "mimetype": "text/x-python",
   "name": "python",
   "nbconvert_exporter": "python",
   "pygments_lexer": "ipython3",
   "version": "3.8.12"
  }
 },
 "nbformat": 4,
 "nbformat_minor": 5
}
