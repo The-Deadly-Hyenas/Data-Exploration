{
 "cells": [
  {
   "cell_type": "markdown",
   "source": [
    "# Derive discrete quadrant-based class labels from the raw arousal/valence annotations. Any ideas on how to aggregate conflicting annotations? Outliers?"
   ],
   "metadata": {
    "collapsed": false
   }
  },
  {
   "cell_type": "code",
   "execution_count": 267,
   "outputs": [],
   "source": [
    "import pandas as pd\n",
    "import os\n",
    "import numpy as np\n",
    "import plotly.express as px"
   ],
   "metadata": {
    "collapsed": false,
    "pycharm": {
     "name": "#%%\n"
    }
   }
  },
  {
   "cell_type": "code",
   "execution_count": 268,
   "metadata": {
    "collapsed": true
   },
   "outputs": [
    {
     "data": {
      "text/plain": "      pianist_id  segment_id  annotator_id  arousal  valence  gems_wonder  \\\n0              1           0            91        1       -1            2   \n31             1           0            19        2       -1            3   \n62             1           0           189        2        0            2   \n93             1           0           126        2        2            4   \n124            1           0            26        4        2            3   \n...          ...         ...           ...      ...      ...          ...   \n3888          11          26            36        3       -1            3   \n3919          11          26            55        2        0            2   \n3950          11          26           136        2        1            2   \n3981          11          26           169        2        0            2   \n4012          11          26            76        3       -1            3   \n\n      gems_transcendence  gems_tenderness  gems_nostalgia  gems_peacefulness  \\\n0                      1                2               4                2.0   \n31                     3                3               4                4.0   \n62                     1                2               1                4.0   \n93                     5                2               3                5.0   \n124                    5                2               3                3.0   \n...                  ...              ...             ...                ...   \n3888                   2                1               4                1.0   \n3919                   2                2               3                3.0   \n3950                   1                1               2                2.0   \n3981                   1                2               2                1.0   \n4012                   2                3               3                3.0   \n\n      gems_power  gems_joyful_activation  gems_tension  gems_sadness  \\\n0              1                       1             1             2   \n31             1                       2             3             3   \n62             2                       2             1             1   \n93             2                       4             1             3   \n124            1                       3             4             1   \n...          ...                     ...           ...           ...   \n3888           3                       2             3             5   \n3919           3                       1             3             1   \n3950           2                       2             1             1   \n3981           3                       4             3             2   \n4012           2                       1             1             2   \n\n      gemmes_flow  gemmes_movement  gemmes_force  gemmes_interior  \\\n0               3                2             1              1.0   \n31              3                2             2              3.0   \n62              3                2             1              1.0   \n93              5                1             2              2.0   \n124             4                1             2              3.0   \n...           ...              ...           ...              ...   \n3888            4                2             2              5.0   \n3919            2                3             2              1.0   \n3950            2                2             1              2.0   \n3981            2                3             3              1.0   \n4012            3                2             2              3.0   \n\n      gemmes_wandering  \n0                    2  \n31                   3  \n62                   4  \n93                   5  \n124                  1  \n...                ...  \n3888                 3  \n3919                 1  \n3950                 2  \n3981                 1  \n4012                 3  \n\n[2638 rows x 19 columns]",
      "text/html": "<div>\n<style scoped>\n    .dataframe tbody tr th:only-of-type {\n        vertical-align: middle;\n    }\n\n    .dataframe tbody tr th {\n        vertical-align: top;\n    }\n\n    .dataframe thead th {\n        text-align: right;\n    }\n</style>\n<table border=\"1\" class=\"dataframe\">\n  <thead>\n    <tr style=\"text-align: right;\">\n      <th></th>\n      <th>pianist_id</th>\n      <th>segment_id</th>\n      <th>annotator_id</th>\n      <th>arousal</th>\n      <th>valence</th>\n      <th>gems_wonder</th>\n      <th>gems_transcendence</th>\n      <th>gems_tenderness</th>\n      <th>gems_nostalgia</th>\n      <th>gems_peacefulness</th>\n      <th>gems_power</th>\n      <th>gems_joyful_activation</th>\n      <th>gems_tension</th>\n      <th>gems_sadness</th>\n      <th>gemmes_flow</th>\n      <th>gemmes_movement</th>\n      <th>gemmes_force</th>\n      <th>gemmes_interior</th>\n      <th>gemmes_wandering</th>\n    </tr>\n  </thead>\n  <tbody>\n    <tr>\n      <th>0</th>\n      <td>1</td>\n      <td>0</td>\n      <td>91</td>\n      <td>1</td>\n      <td>-1</td>\n      <td>2</td>\n      <td>1</td>\n      <td>2</td>\n      <td>4</td>\n      <td>2.0</td>\n      <td>1</td>\n      <td>1</td>\n      <td>1</td>\n      <td>2</td>\n      <td>3</td>\n      <td>2</td>\n      <td>1</td>\n      <td>1.0</td>\n      <td>2</td>\n    </tr>\n    <tr>\n      <th>31</th>\n      <td>1</td>\n      <td>0</td>\n      <td>19</td>\n      <td>2</td>\n      <td>-1</td>\n      <td>3</td>\n      <td>3</td>\n      <td>3</td>\n      <td>4</td>\n      <td>4.0</td>\n      <td>1</td>\n      <td>2</td>\n      <td>3</td>\n      <td>3</td>\n      <td>3</td>\n      <td>2</td>\n      <td>2</td>\n      <td>3.0</td>\n      <td>3</td>\n    </tr>\n    <tr>\n      <th>62</th>\n      <td>1</td>\n      <td>0</td>\n      <td>189</td>\n      <td>2</td>\n      <td>0</td>\n      <td>2</td>\n      <td>1</td>\n      <td>2</td>\n      <td>1</td>\n      <td>4.0</td>\n      <td>2</td>\n      <td>2</td>\n      <td>1</td>\n      <td>1</td>\n      <td>3</td>\n      <td>2</td>\n      <td>1</td>\n      <td>1.0</td>\n      <td>4</td>\n    </tr>\n    <tr>\n      <th>93</th>\n      <td>1</td>\n      <td>0</td>\n      <td>126</td>\n      <td>2</td>\n      <td>2</td>\n      <td>4</td>\n      <td>5</td>\n      <td>2</td>\n      <td>3</td>\n      <td>5.0</td>\n      <td>2</td>\n      <td>4</td>\n      <td>1</td>\n      <td>3</td>\n      <td>5</td>\n      <td>1</td>\n      <td>2</td>\n      <td>2.0</td>\n      <td>5</td>\n    </tr>\n    <tr>\n      <th>124</th>\n      <td>1</td>\n      <td>0</td>\n      <td>26</td>\n      <td>4</td>\n      <td>2</td>\n      <td>3</td>\n      <td>5</td>\n      <td>2</td>\n      <td>3</td>\n      <td>3.0</td>\n      <td>1</td>\n      <td>3</td>\n      <td>4</td>\n      <td>1</td>\n      <td>4</td>\n      <td>1</td>\n      <td>2</td>\n      <td>3.0</td>\n      <td>1</td>\n    </tr>\n    <tr>\n      <th>...</th>\n      <td>...</td>\n      <td>...</td>\n      <td>...</td>\n      <td>...</td>\n      <td>...</td>\n      <td>...</td>\n      <td>...</td>\n      <td>...</td>\n      <td>...</td>\n      <td>...</td>\n      <td>...</td>\n      <td>...</td>\n      <td>...</td>\n      <td>...</td>\n      <td>...</td>\n      <td>...</td>\n      <td>...</td>\n      <td>...</td>\n      <td>...</td>\n    </tr>\n    <tr>\n      <th>3888</th>\n      <td>11</td>\n      <td>26</td>\n      <td>36</td>\n      <td>3</td>\n      <td>-1</td>\n      <td>3</td>\n      <td>2</td>\n      <td>1</td>\n      <td>4</td>\n      <td>1.0</td>\n      <td>3</td>\n      <td>2</td>\n      <td>3</td>\n      <td>5</td>\n      <td>4</td>\n      <td>2</td>\n      <td>2</td>\n      <td>5.0</td>\n      <td>3</td>\n    </tr>\n    <tr>\n      <th>3919</th>\n      <td>11</td>\n      <td>26</td>\n      <td>55</td>\n      <td>2</td>\n      <td>0</td>\n      <td>2</td>\n      <td>2</td>\n      <td>2</td>\n      <td>3</td>\n      <td>3.0</td>\n      <td>3</td>\n      <td>1</td>\n      <td>3</td>\n      <td>1</td>\n      <td>2</td>\n      <td>3</td>\n      <td>2</td>\n      <td>1.0</td>\n      <td>1</td>\n    </tr>\n    <tr>\n      <th>3950</th>\n      <td>11</td>\n      <td>26</td>\n      <td>136</td>\n      <td>2</td>\n      <td>1</td>\n      <td>2</td>\n      <td>1</td>\n      <td>1</td>\n      <td>2</td>\n      <td>2.0</td>\n      <td>2</td>\n      <td>2</td>\n      <td>1</td>\n      <td>1</td>\n      <td>2</td>\n      <td>2</td>\n      <td>1</td>\n      <td>2.0</td>\n      <td>2</td>\n    </tr>\n    <tr>\n      <th>3981</th>\n      <td>11</td>\n      <td>26</td>\n      <td>169</td>\n      <td>2</td>\n      <td>0</td>\n      <td>2</td>\n      <td>1</td>\n      <td>2</td>\n      <td>2</td>\n      <td>1.0</td>\n      <td>3</td>\n      <td>4</td>\n      <td>3</td>\n      <td>2</td>\n      <td>2</td>\n      <td>3</td>\n      <td>3</td>\n      <td>1.0</td>\n      <td>1</td>\n    </tr>\n    <tr>\n      <th>4012</th>\n      <td>11</td>\n      <td>26</td>\n      <td>76</td>\n      <td>3</td>\n      <td>-1</td>\n      <td>3</td>\n      <td>2</td>\n      <td>3</td>\n      <td>3</td>\n      <td>3.0</td>\n      <td>2</td>\n      <td>1</td>\n      <td>1</td>\n      <td>2</td>\n      <td>3</td>\n      <td>2</td>\n      <td>2</td>\n      <td>3.0</td>\n      <td>3</td>\n    </tr>\n  </tbody>\n</table>\n<p>2638 rows × 19 columns</p>\n</div>"
     },
     "execution_count": 268,
     "metadata": {},
     "output_type": "execute_result"
    }
   ],
   "source": [
    "pandas_annot = pd.read_pickle(os.path.join('dataset', 'task_2_annotations_82d1d6d1093eaab6_e330cbf_pandas.pkl'))\n",
    "annot_df = pd.DataFrame.from_dict(pandas_annot)\n",
    "annot_df"
   ]
  },
  {
   "cell_type": "code",
   "execution_count": 269,
   "outputs": [
    {
     "data": {
      "text/plain": "      pianist_id  segment_id  snippet_id  essentia_dissonance_mean  \\\n0              1           0           0                  0.192237   \n1              1           0           1                  0.143425   \n2              1           0           2                  0.146967   \n3              1           0           3                  0.158810   \n4              1           0           4                  0.168547   \n...          ...         ...         ...                       ...   \n4175          11          26           2                  0.202177   \n4176          11          26           3                  0.174454   \n4177          11          26           4                  0.161152   \n4178          11          26           5                  0.192846   \n4179          11          26           6                  0.208580   \n\n      essentia_dissonance_stdev  essentia_dynamic_complexity  \\\n0                      0.059404                     2.040252   \n1                      0.064204                     3.138845   \n2                      0.056205                     2.019706   \n3                      0.059129                     3.567908   \n4                      0.049648                     2.329854   \n...                         ...                          ...   \n4175                   0.050760                     2.840705   \n4176                   0.063426                     5.202462   \n4177                   0.074724                     4.605277   \n4178                   0.056795                     2.563405   \n4179                   0.087355                    13.824711   \n\n      essentia_loudness  essentia_onset_rate  essentia_pitch_salience_mean  \\\n0            16079768.0             0.800000                      0.677256   \n1            35489248.0             2.600000                      0.514913   \n2            42130144.0             2.600000                      0.560116   \n3            40922732.0             1.400000                      0.596779   \n4            51921612.0             1.600000                      0.556160   \n...                 ...                  ...                           ...   \n4175         51977460.0             1.800000                      0.688834   \n4176          9471357.0             3.200000                      0.661253   \n4177          7378860.5             2.600000                      0.645111   \n4178         22641664.0             3.200000                      0.680604   \n4179          8544824.0             2.322119                      0.597944   \n\n      essentia_pitch_salience_stdev  ...  mirtoolbox_novelty_std  \\\n0                          0.095846  ...                0.106446   \n1                          0.092372  ...                0.193342   \n2                          0.115359  ...                0.218179   \n3                          0.116061  ...                0.118148   \n4                          0.143420  ...                0.121018   \n...                             ...  ...                     ...   \n4175                       0.090235  ...                0.203668   \n4176                       0.107627  ...                0.161435   \n4177                       0.093705  ...                0.130765   \n4178                       0.094989  ...                0.247554   \n4179                       0.172617  ...                0.125615   \n\n      mirtoolbox_novelty_pct_10  mirtoolbox_novelty_pct_50  \\\n0                       0.00000                   0.013819   \n1                       0.00000                   0.027786   \n2                       0.00000                   0.049050   \n3                       0.00002                   0.017653   \n4                       0.00000                   0.020525   \n...                         ...                        ...   \n4175                    0.00000                   0.052074   \n4176                    0.00000                   0.029478   \n4177                    0.00000                   0.025099   \n4178                    0.00000                   0.084562   \n4179                    0.00000                   0.010105   \n\n      mirtoolbox_novelty_pct_90  mirtoolbox_pulseclarity  \\\n0                      0.082176                 0.169743   \n1                      0.356029                 0.355861   \n2                      0.375251                 0.209162   \n3                      0.098657                 0.232454   \n4                      0.157408                 0.140930   \n...                         ...                      ...   \n4175                   0.377220                 0.269012   \n4176                   0.251830                 0.353269   \n4177                   0.151084                 0.319188   \n4178                   0.600001                 0.133573   \n4179                   0.199290                 0.254458   \n\n      mirtoolbox_roughness_mean  mirtoolbox_roughness_std  \\\n0                      0.011449                  0.004161   \n1                      0.006205                  0.003194   \n2                      0.007467                  0.003986   \n3                      0.007335                  0.004063   \n4                      0.007345                  0.003917   \n...                         ...                       ...   \n4175                   0.014044                  0.004991   \n4176                   0.011126                  0.004529   \n4177                   0.009205                  0.004808   \n4178                   0.013538                  0.004881   \n4179                   0.011825                  0.005590   \n\n      mirtoolbox_roughness_pct_10  mirtoolbox_roughness_pct_50  \\\n0                        0.006684                     0.011048   \n1                        0.002583                     0.005657   \n2                        0.002330                     0.007206   \n3                        0.002609                     0.006807   \n4                        0.002662                     0.007016   \n...                           ...                          ...   \n4175                     0.007948                     0.013532   \n4176                     0.005563                     0.011076   \n4177                     0.004193                     0.008083   \n4178                     0.007919                     0.012861   \n4179                     0.005440                     0.010688   \n\n      mirtoolbox_roughness_pct_90  \n0                        0.017025  \n1                        0.010610  \n2                        0.012690  \n3                        0.012971  \n4                        0.012731  \n...                           ...  \n4175                     0.020522  \n4176                     0.016763  \n4177                     0.016254  \n4178                     0.019997  \n4179                     0.020008  \n\n[2282 rows x 172 columns]",
      "text/html": "<div>\n<style scoped>\n    .dataframe tbody tr th:only-of-type {\n        vertical-align: middle;\n    }\n\n    .dataframe tbody tr th {\n        vertical-align: top;\n    }\n\n    .dataframe thead th {\n        text-align: right;\n    }\n</style>\n<table border=\"1\" class=\"dataframe\">\n  <thead>\n    <tr style=\"text-align: right;\">\n      <th></th>\n      <th>pianist_id</th>\n      <th>segment_id</th>\n      <th>snippet_id</th>\n      <th>essentia_dissonance_mean</th>\n      <th>essentia_dissonance_stdev</th>\n      <th>essentia_dynamic_complexity</th>\n      <th>essentia_loudness</th>\n      <th>essentia_onset_rate</th>\n      <th>essentia_pitch_salience_mean</th>\n      <th>essentia_pitch_salience_stdev</th>\n      <th>...</th>\n      <th>mirtoolbox_novelty_std</th>\n      <th>mirtoolbox_novelty_pct_10</th>\n      <th>mirtoolbox_novelty_pct_50</th>\n      <th>mirtoolbox_novelty_pct_90</th>\n      <th>mirtoolbox_pulseclarity</th>\n      <th>mirtoolbox_roughness_mean</th>\n      <th>mirtoolbox_roughness_std</th>\n      <th>mirtoolbox_roughness_pct_10</th>\n      <th>mirtoolbox_roughness_pct_50</th>\n      <th>mirtoolbox_roughness_pct_90</th>\n    </tr>\n  </thead>\n  <tbody>\n    <tr>\n      <th>0</th>\n      <td>1</td>\n      <td>0</td>\n      <td>0</td>\n      <td>0.192237</td>\n      <td>0.059404</td>\n      <td>2.040252</td>\n      <td>16079768.0</td>\n      <td>0.800000</td>\n      <td>0.677256</td>\n      <td>0.095846</td>\n      <td>...</td>\n      <td>0.106446</td>\n      <td>0.00000</td>\n      <td>0.013819</td>\n      <td>0.082176</td>\n      <td>0.169743</td>\n      <td>0.011449</td>\n      <td>0.004161</td>\n      <td>0.006684</td>\n      <td>0.011048</td>\n      <td>0.017025</td>\n    </tr>\n    <tr>\n      <th>1</th>\n      <td>1</td>\n      <td>0</td>\n      <td>1</td>\n      <td>0.143425</td>\n      <td>0.064204</td>\n      <td>3.138845</td>\n      <td>35489248.0</td>\n      <td>2.600000</td>\n      <td>0.514913</td>\n      <td>0.092372</td>\n      <td>...</td>\n      <td>0.193342</td>\n      <td>0.00000</td>\n      <td>0.027786</td>\n      <td>0.356029</td>\n      <td>0.355861</td>\n      <td>0.006205</td>\n      <td>0.003194</td>\n      <td>0.002583</td>\n      <td>0.005657</td>\n      <td>0.010610</td>\n    </tr>\n    <tr>\n      <th>2</th>\n      <td>1</td>\n      <td>0</td>\n      <td>2</td>\n      <td>0.146967</td>\n      <td>0.056205</td>\n      <td>2.019706</td>\n      <td>42130144.0</td>\n      <td>2.600000</td>\n      <td>0.560116</td>\n      <td>0.115359</td>\n      <td>...</td>\n      <td>0.218179</td>\n      <td>0.00000</td>\n      <td>0.049050</td>\n      <td>0.375251</td>\n      <td>0.209162</td>\n      <td>0.007467</td>\n      <td>0.003986</td>\n      <td>0.002330</td>\n      <td>0.007206</td>\n      <td>0.012690</td>\n    </tr>\n    <tr>\n      <th>3</th>\n      <td>1</td>\n      <td>0</td>\n      <td>3</td>\n      <td>0.158810</td>\n      <td>0.059129</td>\n      <td>3.567908</td>\n      <td>40922732.0</td>\n      <td>1.400000</td>\n      <td>0.596779</td>\n      <td>0.116061</td>\n      <td>...</td>\n      <td>0.118148</td>\n      <td>0.00002</td>\n      <td>0.017653</td>\n      <td>0.098657</td>\n      <td>0.232454</td>\n      <td>0.007335</td>\n      <td>0.004063</td>\n      <td>0.002609</td>\n      <td>0.006807</td>\n      <td>0.012971</td>\n    </tr>\n    <tr>\n      <th>4</th>\n      <td>1</td>\n      <td>0</td>\n      <td>4</td>\n      <td>0.168547</td>\n      <td>0.049648</td>\n      <td>2.329854</td>\n      <td>51921612.0</td>\n      <td>1.600000</td>\n      <td>0.556160</td>\n      <td>0.143420</td>\n      <td>...</td>\n      <td>0.121018</td>\n      <td>0.00000</td>\n      <td>0.020525</td>\n      <td>0.157408</td>\n      <td>0.140930</td>\n      <td>0.007345</td>\n      <td>0.003917</td>\n      <td>0.002662</td>\n      <td>0.007016</td>\n      <td>0.012731</td>\n    </tr>\n    <tr>\n      <th>...</th>\n      <td>...</td>\n      <td>...</td>\n      <td>...</td>\n      <td>...</td>\n      <td>...</td>\n      <td>...</td>\n      <td>...</td>\n      <td>...</td>\n      <td>...</td>\n      <td>...</td>\n      <td>...</td>\n      <td>...</td>\n      <td>...</td>\n      <td>...</td>\n      <td>...</td>\n      <td>...</td>\n      <td>...</td>\n      <td>...</td>\n      <td>...</td>\n      <td>...</td>\n      <td>...</td>\n    </tr>\n    <tr>\n      <th>4175</th>\n      <td>11</td>\n      <td>26</td>\n      <td>2</td>\n      <td>0.202177</td>\n      <td>0.050760</td>\n      <td>2.840705</td>\n      <td>51977460.0</td>\n      <td>1.800000</td>\n      <td>0.688834</td>\n      <td>0.090235</td>\n      <td>...</td>\n      <td>0.203668</td>\n      <td>0.00000</td>\n      <td>0.052074</td>\n      <td>0.377220</td>\n      <td>0.269012</td>\n      <td>0.014044</td>\n      <td>0.004991</td>\n      <td>0.007948</td>\n      <td>0.013532</td>\n      <td>0.020522</td>\n    </tr>\n    <tr>\n      <th>4176</th>\n      <td>11</td>\n      <td>26</td>\n      <td>3</td>\n      <td>0.174454</td>\n      <td>0.063426</td>\n      <td>5.202462</td>\n      <td>9471357.0</td>\n      <td>3.200000</td>\n      <td>0.661253</td>\n      <td>0.107627</td>\n      <td>...</td>\n      <td>0.161435</td>\n      <td>0.00000</td>\n      <td>0.029478</td>\n      <td>0.251830</td>\n      <td>0.353269</td>\n      <td>0.011126</td>\n      <td>0.004529</td>\n      <td>0.005563</td>\n      <td>0.011076</td>\n      <td>0.016763</td>\n    </tr>\n    <tr>\n      <th>4177</th>\n      <td>11</td>\n      <td>26</td>\n      <td>4</td>\n      <td>0.161152</td>\n      <td>0.074724</td>\n      <td>4.605277</td>\n      <td>7378860.5</td>\n      <td>2.600000</td>\n      <td>0.645111</td>\n      <td>0.093705</td>\n      <td>...</td>\n      <td>0.130765</td>\n      <td>0.00000</td>\n      <td>0.025099</td>\n      <td>0.151084</td>\n      <td>0.319188</td>\n      <td>0.009205</td>\n      <td>0.004808</td>\n      <td>0.004193</td>\n      <td>0.008083</td>\n      <td>0.016254</td>\n    </tr>\n    <tr>\n      <th>4178</th>\n      <td>11</td>\n      <td>26</td>\n      <td>5</td>\n      <td>0.192846</td>\n      <td>0.056795</td>\n      <td>2.563405</td>\n      <td>22641664.0</td>\n      <td>3.200000</td>\n      <td>0.680604</td>\n      <td>0.094989</td>\n      <td>...</td>\n      <td>0.247554</td>\n      <td>0.00000</td>\n      <td>0.084562</td>\n      <td>0.600001</td>\n      <td>0.133573</td>\n      <td>0.013538</td>\n      <td>0.004881</td>\n      <td>0.007919</td>\n      <td>0.012861</td>\n      <td>0.019997</td>\n    </tr>\n    <tr>\n      <th>4179</th>\n      <td>11</td>\n      <td>26</td>\n      <td>6</td>\n      <td>0.208580</td>\n      <td>0.087355</td>\n      <td>13.824711</td>\n      <td>8544824.0</td>\n      <td>2.322119</td>\n      <td>0.597944</td>\n      <td>0.172617</td>\n      <td>...</td>\n      <td>0.125615</td>\n      <td>0.00000</td>\n      <td>0.010105</td>\n      <td>0.199290</td>\n      <td>0.254458</td>\n      <td>0.011825</td>\n      <td>0.005590</td>\n      <td>0.005440</td>\n      <td>0.010688</td>\n      <td>0.020008</td>\n    </tr>\n  </tbody>\n</table>\n<p>2282 rows × 172 columns</p>\n</div>"
     },
     "execution_count": 269,
     "metadata": {},
     "output_type": "execute_result"
    }
   ],
   "source": [
    "pandas_features = pd.read_pickle(os.path.join('dataset', 'task_2_features_1d8b658c21ddc127_e330cbf_pandas.pkl'))\n",
    "feature_df = pd.DataFrame.from_dict(pandas_features)\n",
    "feature_df"
   ],
   "metadata": {
    "collapsed": false,
    "pycharm": {
     "name": "#%%\n"
    }
   }
  },
  {
   "cell_type": "code",
   "execution_count": 270,
   "outputs": [
    {
     "data": {
      "text/plain": "      pianist_id  segment_id  annotator_id  arousal  valence  gems_wonder  \\\n0              1           0            91        1       -1            2   \n31             1           0            19        2       -1            3   \n62             1           0           189        2        0            2   \n93             1           0           126        2        2            4   \n124            1           0            26        4        2            3   \n...          ...         ...           ...      ...      ...          ...   \n3888          11          26            36        3       -1            3   \n3919          11          26            55        2        0            2   \n3950          11          26           136        2        1            2   \n3981          11          26           169        2        0            2   \n4012          11          26            76        3       -1            3   \n\n      gems_transcendence  gems_tenderness  gems_nostalgia  gems_peacefulness  \\\n0                      1                2               4                2.0   \n31                     3                3               4                4.0   \n62                     1                2               1                4.0   \n93                     5                2               3                5.0   \n124                    5                2               3                3.0   \n...                  ...              ...             ...                ...   \n3888                   2                1               4                1.0   \n3919                   2                2               3                3.0   \n3950                   1                1               2                2.0   \n3981                   1                2               2                1.0   \n4012                   2                3               3                3.0   \n\n      gems_power  gems_joyful_activation  gems_tension  gems_sadness  \\\n0              1                       1             1             2   \n31             1                       2             3             3   \n62             2                       2             1             1   \n93             2                       4             1             3   \n124            1                       3             4             1   \n...          ...                     ...           ...           ...   \n3888           3                       2             3             5   \n3919           3                       1             3             1   \n3950           2                       2             1             1   \n3981           3                       4             3             2   \n4012           2                       1             1             2   \n\n      gemmes_flow  gemmes_movement  gemmes_force  gemmes_interior  \\\n0               3                2             1              1.0   \n31              3                2             2              3.0   \n62              3                2             1              1.0   \n93              5                1             2              2.0   \n124             4                1             2              3.0   \n...           ...              ...           ...              ...   \n3888            4                2             2              5.0   \n3919            2                3             2              1.0   \n3950            2                2             1              2.0   \n3981            2                3             3              1.0   \n4012            3                2             2              3.0   \n\n      gemmes_wandering    class  \n0                    2      sad  \n31                   3      sad  \n62                   4  relaxed  \n93                   5  relaxed  \n124                  1    happy  \n...                ...      ...  \n3888                 3      sad  \n3919                 1  relaxed  \n3950                 2  relaxed  \n3981                 1  relaxed  \n4012                 3      sad  \n\n[2638 rows x 20 columns]",
      "text/html": "<div>\n<style scoped>\n    .dataframe tbody tr th:only-of-type {\n        vertical-align: middle;\n    }\n\n    .dataframe tbody tr th {\n        vertical-align: top;\n    }\n\n    .dataframe thead th {\n        text-align: right;\n    }\n</style>\n<table border=\"1\" class=\"dataframe\">\n  <thead>\n    <tr style=\"text-align: right;\">\n      <th></th>\n      <th>pianist_id</th>\n      <th>segment_id</th>\n      <th>annotator_id</th>\n      <th>arousal</th>\n      <th>valence</th>\n      <th>gems_wonder</th>\n      <th>gems_transcendence</th>\n      <th>gems_tenderness</th>\n      <th>gems_nostalgia</th>\n      <th>gems_peacefulness</th>\n      <th>gems_power</th>\n      <th>gems_joyful_activation</th>\n      <th>gems_tension</th>\n      <th>gems_sadness</th>\n      <th>gemmes_flow</th>\n      <th>gemmes_movement</th>\n      <th>gemmes_force</th>\n      <th>gemmes_interior</th>\n      <th>gemmes_wandering</th>\n      <th>class</th>\n    </tr>\n  </thead>\n  <tbody>\n    <tr>\n      <th>0</th>\n      <td>1</td>\n      <td>0</td>\n      <td>91</td>\n      <td>1</td>\n      <td>-1</td>\n      <td>2</td>\n      <td>1</td>\n      <td>2</td>\n      <td>4</td>\n      <td>2.0</td>\n      <td>1</td>\n      <td>1</td>\n      <td>1</td>\n      <td>2</td>\n      <td>3</td>\n      <td>2</td>\n      <td>1</td>\n      <td>1.0</td>\n      <td>2</td>\n      <td>sad</td>\n    </tr>\n    <tr>\n      <th>31</th>\n      <td>1</td>\n      <td>0</td>\n      <td>19</td>\n      <td>2</td>\n      <td>-1</td>\n      <td>3</td>\n      <td>3</td>\n      <td>3</td>\n      <td>4</td>\n      <td>4.0</td>\n      <td>1</td>\n      <td>2</td>\n      <td>3</td>\n      <td>3</td>\n      <td>3</td>\n      <td>2</td>\n      <td>2</td>\n      <td>3.0</td>\n      <td>3</td>\n      <td>sad</td>\n    </tr>\n    <tr>\n      <th>62</th>\n      <td>1</td>\n      <td>0</td>\n      <td>189</td>\n      <td>2</td>\n      <td>0</td>\n      <td>2</td>\n      <td>1</td>\n      <td>2</td>\n      <td>1</td>\n      <td>4.0</td>\n      <td>2</td>\n      <td>2</td>\n      <td>1</td>\n      <td>1</td>\n      <td>3</td>\n      <td>2</td>\n      <td>1</td>\n      <td>1.0</td>\n      <td>4</td>\n      <td>relaxed</td>\n    </tr>\n    <tr>\n      <th>93</th>\n      <td>1</td>\n      <td>0</td>\n      <td>126</td>\n      <td>2</td>\n      <td>2</td>\n      <td>4</td>\n      <td>5</td>\n      <td>2</td>\n      <td>3</td>\n      <td>5.0</td>\n      <td>2</td>\n      <td>4</td>\n      <td>1</td>\n      <td>3</td>\n      <td>5</td>\n      <td>1</td>\n      <td>2</td>\n      <td>2.0</td>\n      <td>5</td>\n      <td>relaxed</td>\n    </tr>\n    <tr>\n      <th>124</th>\n      <td>1</td>\n      <td>0</td>\n      <td>26</td>\n      <td>4</td>\n      <td>2</td>\n      <td>3</td>\n      <td>5</td>\n      <td>2</td>\n      <td>3</td>\n      <td>3.0</td>\n      <td>1</td>\n      <td>3</td>\n      <td>4</td>\n      <td>1</td>\n      <td>4</td>\n      <td>1</td>\n      <td>2</td>\n      <td>3.0</td>\n      <td>1</td>\n      <td>happy</td>\n    </tr>\n    <tr>\n      <th>...</th>\n      <td>...</td>\n      <td>...</td>\n      <td>...</td>\n      <td>...</td>\n      <td>...</td>\n      <td>...</td>\n      <td>...</td>\n      <td>...</td>\n      <td>...</td>\n      <td>...</td>\n      <td>...</td>\n      <td>...</td>\n      <td>...</td>\n      <td>...</td>\n      <td>...</td>\n      <td>...</td>\n      <td>...</td>\n      <td>...</td>\n      <td>...</td>\n      <td>...</td>\n    </tr>\n    <tr>\n      <th>3888</th>\n      <td>11</td>\n      <td>26</td>\n      <td>36</td>\n      <td>3</td>\n      <td>-1</td>\n      <td>3</td>\n      <td>2</td>\n      <td>1</td>\n      <td>4</td>\n      <td>1.0</td>\n      <td>3</td>\n      <td>2</td>\n      <td>3</td>\n      <td>5</td>\n      <td>4</td>\n      <td>2</td>\n      <td>2</td>\n      <td>5.0</td>\n      <td>3</td>\n      <td>sad</td>\n    </tr>\n    <tr>\n      <th>3919</th>\n      <td>11</td>\n      <td>26</td>\n      <td>55</td>\n      <td>2</td>\n      <td>0</td>\n      <td>2</td>\n      <td>2</td>\n      <td>2</td>\n      <td>3</td>\n      <td>3.0</td>\n      <td>3</td>\n      <td>1</td>\n      <td>3</td>\n      <td>1</td>\n      <td>2</td>\n      <td>3</td>\n      <td>2</td>\n      <td>1.0</td>\n      <td>1</td>\n      <td>relaxed</td>\n    </tr>\n    <tr>\n      <th>3950</th>\n      <td>11</td>\n      <td>26</td>\n      <td>136</td>\n      <td>2</td>\n      <td>1</td>\n      <td>2</td>\n      <td>1</td>\n      <td>1</td>\n      <td>2</td>\n      <td>2.0</td>\n      <td>2</td>\n      <td>2</td>\n      <td>1</td>\n      <td>1</td>\n      <td>2</td>\n      <td>2</td>\n      <td>1</td>\n      <td>2.0</td>\n      <td>2</td>\n      <td>relaxed</td>\n    </tr>\n    <tr>\n      <th>3981</th>\n      <td>11</td>\n      <td>26</td>\n      <td>169</td>\n      <td>2</td>\n      <td>0</td>\n      <td>2</td>\n      <td>1</td>\n      <td>2</td>\n      <td>2</td>\n      <td>1.0</td>\n      <td>3</td>\n      <td>4</td>\n      <td>3</td>\n      <td>2</td>\n      <td>2</td>\n      <td>3</td>\n      <td>3</td>\n      <td>1.0</td>\n      <td>1</td>\n      <td>relaxed</td>\n    </tr>\n    <tr>\n      <th>4012</th>\n      <td>11</td>\n      <td>26</td>\n      <td>76</td>\n      <td>3</td>\n      <td>-1</td>\n      <td>3</td>\n      <td>2</td>\n      <td>3</td>\n      <td>3</td>\n      <td>3.0</td>\n      <td>2</td>\n      <td>1</td>\n      <td>1</td>\n      <td>2</td>\n      <td>3</td>\n      <td>2</td>\n      <td>2</td>\n      <td>3.0</td>\n      <td>3</td>\n      <td>sad</td>\n    </tr>\n  </tbody>\n</table>\n<p>2638 rows × 20 columns</p>\n</div>"
     },
     "execution_count": 270,
     "metadata": {},
     "output_type": "execute_result"
    }
   ],
   "source": [
    "def label_race(row):\n",
    "   if row['valence'] <= 0 and row['arousal'] > 3:\n",
    "        return 'angry'\n",
    "   elif row['valence'] > 0 and row['arousal'] >= 3:\n",
    "       return 'happy'\n",
    "   elif row['valence'] < 0 and row['arousal'] <= 3:\n",
    "       return 'sad'\n",
    "   elif row['valence'] >= 0 and row['arousal'] < 3:\n",
    "       return 'relaxed'\n",
    "   else:\n",
    "       return 'None'\n",
    "\n",
    "annot_df['class'] = annot_df.apply(lambda row: label_race(row), axis=1)\n",
    "annot_df"
   ],
   "metadata": {
    "collapsed": false,
    "pycharm": {
     "name": "#%%\n"
    }
   }
  },
  {
   "cell_type": "markdown",
   "source": [
    "+ Are the choices of the annotators for each segment and pianist consistent?\n",
    "\n",
    "+ What happens when we try different values to also include the None cases?\n",
    "\n",
    "+ Maybe somehow visualize the classes... in a scatterplot with arousal and valence, colored by ... ?"
   ],
   "metadata": {
    "collapsed": false
   }
  },
  {
   "cell_type": "code",
   "execution_count": 271,
   "outputs": [
    {
     "name": "stdout",
     "output_type": "stream",
     "text": [
      "    valence  arousal  count    class\n",
      "0        -2        1     26      sad\n",
      "1        -2        2     49      sad\n",
      "2        -2        3     30      sad\n",
      "3        -2        4     49    angry\n",
      "4        -2        5     43    angry\n",
      "5        -1        1     77      sad\n",
      "6        -1        2    250      sad\n",
      "7        -1        3    172      sad\n",
      "8        -1        4    178    angry\n",
      "9        -1        5     61    angry\n",
      "10        0        1    116  relaxed\n",
      "11        0        2    263  relaxed\n",
      "12        0        3    191     None\n",
      "13        0        4    144    angry\n",
      "14        0        5     41    angry\n",
      "15        1        1     60  relaxed\n",
      "16        1        2    196  relaxed\n",
      "17        1        3    184    happy\n",
      "18        1        4    199    happy\n",
      "19        1        5     70    happy\n",
      "20        2        1     11  relaxed\n",
      "21        2        2     46  relaxed\n",
      "22        2        3     43    happy\n",
      "23        2        4     80    happy\n",
      "24        2        5     59    happy\n"
     ]
    }
   ],
   "source": [
    "annot_df_no_none = annot_df.copy()\n",
    "annot_df_no_none['class'] = annot_df_no_none['class'].replace([None], 'None')\n",
    "group_arou = annot_df_no_none.groupby(['valence', 'arousal']).count()\n",
    "\n",
    "valance = np.repeat(np.array([-2, -1, 0, 1, 2]), 5)\n",
    "arousal = np.tile(np.array([1, 2, 3, 4, 5]), 5)\n",
    "scatter_data = np.stack([valance, arousal, group_arou['class']]).T\n",
    "\n",
    "scatter_df = pd.DataFrame(data=scatter_data, columns=['valence', 'arousal', 'count'])\n",
    "scatter_df['class'] = scatter_df.apply(lambda row: label_race(row), axis=1)\n",
    "print(scatter_df)"
   ],
   "metadata": {
    "collapsed": false,
    "pycharm": {
     "name": "#%%\n"
    }
   }
  },
  {
   "cell_type": "code",
   "execution_count": 272,
   "outputs": [
    {
     "data": {
      "application/vnd.plotly.v1+json": {
       "data": [
        {
         "text": [
          [
           26,
           77,
           116,
           60,
           11
          ],
          [
           49,
           250,
           263,
           196,
           46
          ],
          [
           30,
           172,
           191,
           184,
           43
          ],
          [
           49,
           178,
           144,
           199,
           80
          ],
          [
           43,
           61,
           41,
           70,
           59
          ]
         ],
         "textfont": {
          "size": 20
         },
         "texttemplate": "%{text}",
         "x": [
          "-2",
          "-1",
          "0",
          "1",
          "2"
         ],
         "y": [
          "1",
          "2",
          "3",
          "4",
          "5"
         ],
         "z": [
          [
           26,
           77,
           116,
           60,
           11
          ],
          [
           49,
           250,
           263,
           196,
           46
          ],
          [
           30,
           172,
           191,
           184,
           43
          ],
          [
           49,
           178,
           144,
           199,
           80
          ],
          [
           43,
           61,
           41,
           70,
           59
          ]
         ],
         "type": "heatmap"
        }
       ],
       "layout": {
        "template": {
         "data": {
          "bar": [
           {
            "error_x": {
             "color": "#2a3f5f"
            },
            "error_y": {
             "color": "#2a3f5f"
            },
            "marker": {
             "line": {
              "color": "#E5ECF6",
              "width": 0.5
             },
             "pattern": {
              "fillmode": "overlay",
              "size": 10,
              "solidity": 0.2
             }
            },
            "type": "bar"
           }
          ],
          "barpolar": [
           {
            "marker": {
             "line": {
              "color": "#E5ECF6",
              "width": 0.5
             },
             "pattern": {
              "fillmode": "overlay",
              "size": 10,
              "solidity": 0.2
             }
            },
            "type": "barpolar"
           }
          ],
          "carpet": [
           {
            "aaxis": {
             "endlinecolor": "#2a3f5f",
             "gridcolor": "white",
             "linecolor": "white",
             "minorgridcolor": "white",
             "startlinecolor": "#2a3f5f"
            },
            "baxis": {
             "endlinecolor": "#2a3f5f",
             "gridcolor": "white",
             "linecolor": "white",
             "minorgridcolor": "white",
             "startlinecolor": "#2a3f5f"
            },
            "type": "carpet"
           }
          ],
          "choropleth": [
           {
            "colorbar": {
             "outlinewidth": 0,
             "ticks": ""
            },
            "type": "choropleth"
           }
          ],
          "contour": [
           {
            "colorbar": {
             "outlinewidth": 0,
             "ticks": ""
            },
            "colorscale": [
             [
              0.0,
              "#0d0887"
             ],
             [
              0.1111111111111111,
              "#46039f"
             ],
             [
              0.2222222222222222,
              "#7201a8"
             ],
             [
              0.3333333333333333,
              "#9c179e"
             ],
             [
              0.4444444444444444,
              "#bd3786"
             ],
             [
              0.5555555555555556,
              "#d8576b"
             ],
             [
              0.6666666666666666,
              "#ed7953"
             ],
             [
              0.7777777777777778,
              "#fb9f3a"
             ],
             [
              0.8888888888888888,
              "#fdca26"
             ],
             [
              1.0,
              "#f0f921"
             ]
            ],
            "type": "contour"
           }
          ],
          "contourcarpet": [
           {
            "colorbar": {
             "outlinewidth": 0,
             "ticks": ""
            },
            "type": "contourcarpet"
           }
          ],
          "heatmap": [
           {
            "colorbar": {
             "outlinewidth": 0,
             "ticks": ""
            },
            "colorscale": [
             [
              0.0,
              "#0d0887"
             ],
             [
              0.1111111111111111,
              "#46039f"
             ],
             [
              0.2222222222222222,
              "#7201a8"
             ],
             [
              0.3333333333333333,
              "#9c179e"
             ],
             [
              0.4444444444444444,
              "#bd3786"
             ],
             [
              0.5555555555555556,
              "#d8576b"
             ],
             [
              0.6666666666666666,
              "#ed7953"
             ],
             [
              0.7777777777777778,
              "#fb9f3a"
             ],
             [
              0.8888888888888888,
              "#fdca26"
             ],
             [
              1.0,
              "#f0f921"
             ]
            ],
            "type": "heatmap"
           }
          ],
          "heatmapgl": [
           {
            "colorbar": {
             "outlinewidth": 0,
             "ticks": ""
            },
            "colorscale": [
             [
              0.0,
              "#0d0887"
             ],
             [
              0.1111111111111111,
              "#46039f"
             ],
             [
              0.2222222222222222,
              "#7201a8"
             ],
             [
              0.3333333333333333,
              "#9c179e"
             ],
             [
              0.4444444444444444,
              "#bd3786"
             ],
             [
              0.5555555555555556,
              "#d8576b"
             ],
             [
              0.6666666666666666,
              "#ed7953"
             ],
             [
              0.7777777777777778,
              "#fb9f3a"
             ],
             [
              0.8888888888888888,
              "#fdca26"
             ],
             [
              1.0,
              "#f0f921"
             ]
            ],
            "type": "heatmapgl"
           }
          ],
          "histogram": [
           {
            "marker": {
             "pattern": {
              "fillmode": "overlay",
              "size": 10,
              "solidity": 0.2
             }
            },
            "type": "histogram"
           }
          ],
          "histogram2d": [
           {
            "colorbar": {
             "outlinewidth": 0,
             "ticks": ""
            },
            "colorscale": [
             [
              0.0,
              "#0d0887"
             ],
             [
              0.1111111111111111,
              "#46039f"
             ],
             [
              0.2222222222222222,
              "#7201a8"
             ],
             [
              0.3333333333333333,
              "#9c179e"
             ],
             [
              0.4444444444444444,
              "#bd3786"
             ],
             [
              0.5555555555555556,
              "#d8576b"
             ],
             [
              0.6666666666666666,
              "#ed7953"
             ],
             [
              0.7777777777777778,
              "#fb9f3a"
             ],
             [
              0.8888888888888888,
              "#fdca26"
             ],
             [
              1.0,
              "#f0f921"
             ]
            ],
            "type": "histogram2d"
           }
          ],
          "histogram2dcontour": [
           {
            "colorbar": {
             "outlinewidth": 0,
             "ticks": ""
            },
            "colorscale": [
             [
              0.0,
              "#0d0887"
             ],
             [
              0.1111111111111111,
              "#46039f"
             ],
             [
              0.2222222222222222,
              "#7201a8"
             ],
             [
              0.3333333333333333,
              "#9c179e"
             ],
             [
              0.4444444444444444,
              "#bd3786"
             ],
             [
              0.5555555555555556,
              "#d8576b"
             ],
             [
              0.6666666666666666,
              "#ed7953"
             ],
             [
              0.7777777777777778,
              "#fb9f3a"
             ],
             [
              0.8888888888888888,
              "#fdca26"
             ],
             [
              1.0,
              "#f0f921"
             ]
            ],
            "type": "histogram2dcontour"
           }
          ],
          "mesh3d": [
           {
            "colorbar": {
             "outlinewidth": 0,
             "ticks": ""
            },
            "type": "mesh3d"
           }
          ],
          "parcoords": [
           {
            "line": {
             "colorbar": {
              "outlinewidth": 0,
              "ticks": ""
             }
            },
            "type": "parcoords"
           }
          ],
          "pie": [
           {
            "automargin": true,
            "type": "pie"
           }
          ],
          "scatter": [
           {
            "marker": {
             "colorbar": {
              "outlinewidth": 0,
              "ticks": ""
             }
            },
            "type": "scatter"
           }
          ],
          "scatter3d": [
           {
            "line": {
             "colorbar": {
              "outlinewidth": 0,
              "ticks": ""
             }
            },
            "marker": {
             "colorbar": {
              "outlinewidth": 0,
              "ticks": ""
             }
            },
            "type": "scatter3d"
           }
          ],
          "scattercarpet": [
           {
            "marker": {
             "colorbar": {
              "outlinewidth": 0,
              "ticks": ""
             }
            },
            "type": "scattercarpet"
           }
          ],
          "scattergeo": [
           {
            "marker": {
             "colorbar": {
              "outlinewidth": 0,
              "ticks": ""
             }
            },
            "type": "scattergeo"
           }
          ],
          "scattergl": [
           {
            "marker": {
             "colorbar": {
              "outlinewidth": 0,
              "ticks": ""
             }
            },
            "type": "scattergl"
           }
          ],
          "scattermapbox": [
           {
            "marker": {
             "colorbar": {
              "outlinewidth": 0,
              "ticks": ""
             }
            },
            "type": "scattermapbox"
           }
          ],
          "scatterpolar": [
           {
            "marker": {
             "colorbar": {
              "outlinewidth": 0,
              "ticks": ""
             }
            },
            "type": "scatterpolar"
           }
          ],
          "scatterpolargl": [
           {
            "marker": {
             "colorbar": {
              "outlinewidth": 0,
              "ticks": ""
             }
            },
            "type": "scatterpolargl"
           }
          ],
          "scatterternary": [
           {
            "marker": {
             "colorbar": {
              "outlinewidth": 0,
              "ticks": ""
             }
            },
            "type": "scatterternary"
           }
          ],
          "surface": [
           {
            "colorbar": {
             "outlinewidth": 0,
             "ticks": ""
            },
            "colorscale": [
             [
              0.0,
              "#0d0887"
             ],
             [
              0.1111111111111111,
              "#46039f"
             ],
             [
              0.2222222222222222,
              "#7201a8"
             ],
             [
              0.3333333333333333,
              "#9c179e"
             ],
             [
              0.4444444444444444,
              "#bd3786"
             ],
             [
              0.5555555555555556,
              "#d8576b"
             ],
             [
              0.6666666666666666,
              "#ed7953"
             ],
             [
              0.7777777777777778,
              "#fb9f3a"
             ],
             [
              0.8888888888888888,
              "#fdca26"
             ],
             [
              1.0,
              "#f0f921"
             ]
            ],
            "type": "surface"
           }
          ],
          "table": [
           {
            "cells": {
             "fill": {
              "color": "#EBF0F8"
             },
             "line": {
              "color": "white"
             }
            },
            "header": {
             "fill": {
              "color": "#C8D4E3"
             },
             "line": {
              "color": "white"
             }
            },
            "type": "table"
           }
          ]
         },
         "layout": {
          "annotationdefaults": {
           "arrowcolor": "#2a3f5f",
           "arrowhead": 0,
           "arrowwidth": 1
          },
          "autotypenumbers": "strict",
          "coloraxis": {
           "colorbar": {
            "outlinewidth": 0,
            "ticks": ""
           }
          },
          "colorscale": {
           "diverging": [
            [
             0,
             "#8e0152"
            ],
            [
             0.1,
             "#c51b7d"
            ],
            [
             0.2,
             "#de77ae"
            ],
            [
             0.3,
             "#f1b6da"
            ],
            [
             0.4,
             "#fde0ef"
            ],
            [
             0.5,
             "#f7f7f7"
            ],
            [
             0.6,
             "#e6f5d0"
            ],
            [
             0.7,
             "#b8e186"
            ],
            [
             0.8,
             "#7fbc41"
            ],
            [
             0.9,
             "#4d9221"
            ],
            [
             1,
             "#276419"
            ]
           ],
           "sequential": [
            [
             0.0,
             "#0d0887"
            ],
            [
             0.1111111111111111,
             "#46039f"
            ],
            [
             0.2222222222222222,
             "#7201a8"
            ],
            [
             0.3333333333333333,
             "#9c179e"
            ],
            [
             0.4444444444444444,
             "#bd3786"
            ],
            [
             0.5555555555555556,
             "#d8576b"
            ],
            [
             0.6666666666666666,
             "#ed7953"
            ],
            [
             0.7777777777777778,
             "#fb9f3a"
            ],
            [
             0.8888888888888888,
             "#fdca26"
            ],
            [
             1.0,
             "#f0f921"
            ]
           ],
           "sequentialminus": [
            [
             0.0,
             "#0d0887"
            ],
            [
             0.1111111111111111,
             "#46039f"
            ],
            [
             0.2222222222222222,
             "#7201a8"
            ],
            [
             0.3333333333333333,
             "#9c179e"
            ],
            [
             0.4444444444444444,
             "#bd3786"
            ],
            [
             0.5555555555555556,
             "#d8576b"
            ],
            [
             0.6666666666666666,
             "#ed7953"
            ],
            [
             0.7777777777777778,
             "#fb9f3a"
            ],
            [
             0.8888888888888888,
             "#fdca26"
            ],
            [
             1.0,
             "#f0f921"
            ]
           ]
          },
          "colorway": [
           "#636efa",
           "#EF553B",
           "#00cc96",
           "#ab63fa",
           "#FFA15A",
           "#19d3f3",
           "#FF6692",
           "#B6E880",
           "#FF97FF",
           "#FECB52"
          ],
          "font": {
           "color": "#2a3f5f"
          },
          "geo": {
           "bgcolor": "white",
           "lakecolor": "white",
           "landcolor": "#E5ECF6",
           "showlakes": true,
           "showland": true,
           "subunitcolor": "white"
          },
          "hoverlabel": {
           "align": "left"
          },
          "hovermode": "closest",
          "mapbox": {
           "style": "light"
          },
          "paper_bgcolor": "white",
          "plot_bgcolor": "#E5ECF6",
          "polar": {
           "angularaxis": {
            "gridcolor": "white",
            "linecolor": "white",
            "ticks": ""
           },
           "bgcolor": "#E5ECF6",
           "radialaxis": {
            "gridcolor": "white",
            "linecolor": "white",
            "ticks": ""
           }
          },
          "scene": {
           "xaxis": {
            "backgroundcolor": "#E5ECF6",
            "gridcolor": "white",
            "gridwidth": 2,
            "linecolor": "white",
            "showbackground": true,
            "ticks": "",
            "zerolinecolor": "white"
           },
           "yaxis": {
            "backgroundcolor": "#E5ECF6",
            "gridcolor": "white",
            "gridwidth": 2,
            "linecolor": "white",
            "showbackground": true,
            "ticks": "",
            "zerolinecolor": "white"
           },
           "zaxis": {
            "backgroundcolor": "#E5ECF6",
            "gridcolor": "white",
            "gridwidth": 2,
            "linecolor": "white",
            "showbackground": true,
            "ticks": "",
            "zerolinecolor": "white"
           }
          },
          "shapedefaults": {
           "line": {
            "color": "#2a3f5f"
           }
          },
          "ternary": {
           "aaxis": {
            "gridcolor": "white",
            "linecolor": "white",
            "ticks": ""
           },
           "baxis": {
            "gridcolor": "white",
            "linecolor": "white",
            "ticks": ""
           },
           "bgcolor": "#E5ECF6",
           "caxis": {
            "gridcolor": "white",
            "linecolor": "white",
            "ticks": ""
           }
          },
          "title": {
           "x": 0.05
          },
          "xaxis": {
           "automargin": true,
           "gridcolor": "white",
           "linecolor": "white",
           "ticks": "",
           "title": {
            "standoff": 15
           },
           "zerolinecolor": "white",
           "zerolinewidth": 2
          },
          "yaxis": {
           "automargin": true,
           "gridcolor": "white",
           "linecolor": "white",
           "ticks": "",
           "title": {
            "standoff": 15
           },
           "zerolinecolor": "white",
           "zerolinewidth": 2
          }
         }
        },
        "xaxis": {
         "side": "top",
         "title": {
          "text": "Valence"
         }
        },
        "title": {
         "text": "Heatmap"
        },
        "yaxis": {
         "title": {
          "text": "Arousal"
         }
        },
        "legend": {
         "title": {
          "text": "Count"
         }
        }
       },
       "config": {
        "plotlyServerURL": "https://plot.ly"
       }
      },
      "text/html": "<div>                            <div id=\"00dc589a-2be9-4dcc-9a47-9bbf058adeb3\" class=\"plotly-graph-div\" style=\"height:525px; width:100%;\"></div>            <script type=\"text/javascript\">                require([\"plotly\"], function(Plotly) {                    window.PLOTLYENV=window.PLOTLYENV || {};                                    if (document.getElementById(\"00dc589a-2be9-4dcc-9a47-9bbf058adeb3\")) {                    Plotly.newPlot(                        \"00dc589a-2be9-4dcc-9a47-9bbf058adeb3\",                        [{\"text\":[[26,77,116,60,11],[49,250,263,196,46],[30,172,191,184,43],[49,178,144,199,80],[43,61,41,70,59]],\"textfont\":{\"size\":20},\"texttemplate\":\"%{text}\",\"x\":[\"-2\",\"-1\",\"0\",\"1\",\"2\"],\"y\":[\"1\",\"2\",\"3\",\"4\",\"5\"],\"z\":[[26,77,116,60,11],[49,250,263,196,46],[30,172,191,184,43],[49,178,144,199,80],[43,61,41,70,59]],\"type\":\"heatmap\"}],                        {\"template\":{\"data\":{\"bar\":[{\"error_x\":{\"color\":\"#2a3f5f\"},\"error_y\":{\"color\":\"#2a3f5f\"},\"marker\":{\"line\":{\"color\":\"#E5ECF6\",\"width\":0.5},\"pattern\":{\"fillmode\":\"overlay\",\"size\":10,\"solidity\":0.2}},\"type\":\"bar\"}],\"barpolar\":[{\"marker\":{\"line\":{\"color\":\"#E5ECF6\",\"width\":0.5},\"pattern\":{\"fillmode\":\"overlay\",\"size\":10,\"solidity\":0.2}},\"type\":\"barpolar\"}],\"carpet\":[{\"aaxis\":{\"endlinecolor\":\"#2a3f5f\",\"gridcolor\":\"white\",\"linecolor\":\"white\",\"minorgridcolor\":\"white\",\"startlinecolor\":\"#2a3f5f\"},\"baxis\":{\"endlinecolor\":\"#2a3f5f\",\"gridcolor\":\"white\",\"linecolor\":\"white\",\"minorgridcolor\":\"white\",\"startlinecolor\":\"#2a3f5f\"},\"type\":\"carpet\"}],\"choropleth\":[{\"colorbar\":{\"outlinewidth\":0,\"ticks\":\"\"},\"type\":\"choropleth\"}],\"contour\":[{\"colorbar\":{\"outlinewidth\":0,\"ticks\":\"\"},\"colorscale\":[[0.0,\"#0d0887\"],[0.1111111111111111,\"#46039f\"],[0.2222222222222222,\"#7201a8\"],[0.3333333333333333,\"#9c179e\"],[0.4444444444444444,\"#bd3786\"],[0.5555555555555556,\"#d8576b\"],[0.6666666666666666,\"#ed7953\"],[0.7777777777777778,\"#fb9f3a\"],[0.8888888888888888,\"#fdca26\"],[1.0,\"#f0f921\"]],\"type\":\"contour\"}],\"contourcarpet\":[{\"colorbar\":{\"outlinewidth\":0,\"ticks\":\"\"},\"type\":\"contourcarpet\"}],\"heatmap\":[{\"colorbar\":{\"outlinewidth\":0,\"ticks\":\"\"},\"colorscale\":[[0.0,\"#0d0887\"],[0.1111111111111111,\"#46039f\"],[0.2222222222222222,\"#7201a8\"],[0.3333333333333333,\"#9c179e\"],[0.4444444444444444,\"#bd3786\"],[0.5555555555555556,\"#d8576b\"],[0.6666666666666666,\"#ed7953\"],[0.7777777777777778,\"#fb9f3a\"],[0.8888888888888888,\"#fdca26\"],[1.0,\"#f0f921\"]],\"type\":\"heatmap\"}],\"heatmapgl\":[{\"colorbar\":{\"outlinewidth\":0,\"ticks\":\"\"},\"colorscale\":[[0.0,\"#0d0887\"],[0.1111111111111111,\"#46039f\"],[0.2222222222222222,\"#7201a8\"],[0.3333333333333333,\"#9c179e\"],[0.4444444444444444,\"#bd3786\"],[0.5555555555555556,\"#d8576b\"],[0.6666666666666666,\"#ed7953\"],[0.7777777777777778,\"#fb9f3a\"],[0.8888888888888888,\"#fdca26\"],[1.0,\"#f0f921\"]],\"type\":\"heatmapgl\"}],\"histogram\":[{\"marker\":{\"pattern\":{\"fillmode\":\"overlay\",\"size\":10,\"solidity\":0.2}},\"type\":\"histogram\"}],\"histogram2d\":[{\"colorbar\":{\"outlinewidth\":0,\"ticks\":\"\"},\"colorscale\":[[0.0,\"#0d0887\"],[0.1111111111111111,\"#46039f\"],[0.2222222222222222,\"#7201a8\"],[0.3333333333333333,\"#9c179e\"],[0.4444444444444444,\"#bd3786\"],[0.5555555555555556,\"#d8576b\"],[0.6666666666666666,\"#ed7953\"],[0.7777777777777778,\"#fb9f3a\"],[0.8888888888888888,\"#fdca26\"],[1.0,\"#f0f921\"]],\"type\":\"histogram2d\"}],\"histogram2dcontour\":[{\"colorbar\":{\"outlinewidth\":0,\"ticks\":\"\"},\"colorscale\":[[0.0,\"#0d0887\"],[0.1111111111111111,\"#46039f\"],[0.2222222222222222,\"#7201a8\"],[0.3333333333333333,\"#9c179e\"],[0.4444444444444444,\"#bd3786\"],[0.5555555555555556,\"#d8576b\"],[0.6666666666666666,\"#ed7953\"],[0.7777777777777778,\"#fb9f3a\"],[0.8888888888888888,\"#fdca26\"],[1.0,\"#f0f921\"]],\"type\":\"histogram2dcontour\"}],\"mesh3d\":[{\"colorbar\":{\"outlinewidth\":0,\"ticks\":\"\"},\"type\":\"mesh3d\"}],\"parcoords\":[{\"line\":{\"colorbar\":{\"outlinewidth\":0,\"ticks\":\"\"}},\"type\":\"parcoords\"}],\"pie\":[{\"automargin\":true,\"type\":\"pie\"}],\"scatter\":[{\"marker\":{\"colorbar\":{\"outlinewidth\":0,\"ticks\":\"\"}},\"type\":\"scatter\"}],\"scatter3d\":[{\"line\":{\"colorbar\":{\"outlinewidth\":0,\"ticks\":\"\"}},\"marker\":{\"colorbar\":{\"outlinewidth\":0,\"ticks\":\"\"}},\"type\":\"scatter3d\"}],\"scattercarpet\":[{\"marker\":{\"colorbar\":{\"outlinewidth\":0,\"ticks\":\"\"}},\"type\":\"scattercarpet\"}],\"scattergeo\":[{\"marker\":{\"colorbar\":{\"outlinewidth\":0,\"ticks\":\"\"}},\"type\":\"scattergeo\"}],\"scattergl\":[{\"marker\":{\"colorbar\":{\"outlinewidth\":0,\"ticks\":\"\"}},\"type\":\"scattergl\"}],\"scattermapbox\":[{\"marker\":{\"colorbar\":{\"outlinewidth\":0,\"ticks\":\"\"}},\"type\":\"scattermapbox\"}],\"scatterpolar\":[{\"marker\":{\"colorbar\":{\"outlinewidth\":0,\"ticks\":\"\"}},\"type\":\"scatterpolar\"}],\"scatterpolargl\":[{\"marker\":{\"colorbar\":{\"outlinewidth\":0,\"ticks\":\"\"}},\"type\":\"scatterpolargl\"}],\"scatterternary\":[{\"marker\":{\"colorbar\":{\"outlinewidth\":0,\"ticks\":\"\"}},\"type\":\"scatterternary\"}],\"surface\":[{\"colorbar\":{\"outlinewidth\":0,\"ticks\":\"\"},\"colorscale\":[[0.0,\"#0d0887\"],[0.1111111111111111,\"#46039f\"],[0.2222222222222222,\"#7201a8\"],[0.3333333333333333,\"#9c179e\"],[0.4444444444444444,\"#bd3786\"],[0.5555555555555556,\"#d8576b\"],[0.6666666666666666,\"#ed7953\"],[0.7777777777777778,\"#fb9f3a\"],[0.8888888888888888,\"#fdca26\"],[1.0,\"#f0f921\"]],\"type\":\"surface\"}],\"table\":[{\"cells\":{\"fill\":{\"color\":\"#EBF0F8\"},\"line\":{\"color\":\"white\"}},\"header\":{\"fill\":{\"color\":\"#C8D4E3\"},\"line\":{\"color\":\"white\"}},\"type\":\"table\"}]},\"layout\":{\"annotationdefaults\":{\"arrowcolor\":\"#2a3f5f\",\"arrowhead\":0,\"arrowwidth\":1},\"autotypenumbers\":\"strict\",\"coloraxis\":{\"colorbar\":{\"outlinewidth\":0,\"ticks\":\"\"}},\"colorscale\":{\"diverging\":[[0,\"#8e0152\"],[0.1,\"#c51b7d\"],[0.2,\"#de77ae\"],[0.3,\"#f1b6da\"],[0.4,\"#fde0ef\"],[0.5,\"#f7f7f7\"],[0.6,\"#e6f5d0\"],[0.7,\"#b8e186\"],[0.8,\"#7fbc41\"],[0.9,\"#4d9221\"],[1,\"#276419\"]],\"sequential\":[[0.0,\"#0d0887\"],[0.1111111111111111,\"#46039f\"],[0.2222222222222222,\"#7201a8\"],[0.3333333333333333,\"#9c179e\"],[0.4444444444444444,\"#bd3786\"],[0.5555555555555556,\"#d8576b\"],[0.6666666666666666,\"#ed7953\"],[0.7777777777777778,\"#fb9f3a\"],[0.8888888888888888,\"#fdca26\"],[1.0,\"#f0f921\"]],\"sequentialminus\":[[0.0,\"#0d0887\"],[0.1111111111111111,\"#46039f\"],[0.2222222222222222,\"#7201a8\"],[0.3333333333333333,\"#9c179e\"],[0.4444444444444444,\"#bd3786\"],[0.5555555555555556,\"#d8576b\"],[0.6666666666666666,\"#ed7953\"],[0.7777777777777778,\"#fb9f3a\"],[0.8888888888888888,\"#fdca26\"],[1.0,\"#f0f921\"]]},\"colorway\":[\"#636efa\",\"#EF553B\",\"#00cc96\",\"#ab63fa\",\"#FFA15A\",\"#19d3f3\",\"#FF6692\",\"#B6E880\",\"#FF97FF\",\"#FECB52\"],\"font\":{\"color\":\"#2a3f5f\"},\"geo\":{\"bgcolor\":\"white\",\"lakecolor\":\"white\",\"landcolor\":\"#E5ECF6\",\"showlakes\":true,\"showland\":true,\"subunitcolor\":\"white\"},\"hoverlabel\":{\"align\":\"left\"},\"hovermode\":\"closest\",\"mapbox\":{\"style\":\"light\"},\"paper_bgcolor\":\"white\",\"plot_bgcolor\":\"#E5ECF6\",\"polar\":{\"angularaxis\":{\"gridcolor\":\"white\",\"linecolor\":\"white\",\"ticks\":\"\"},\"bgcolor\":\"#E5ECF6\",\"radialaxis\":{\"gridcolor\":\"white\",\"linecolor\":\"white\",\"ticks\":\"\"}},\"scene\":{\"xaxis\":{\"backgroundcolor\":\"#E5ECF6\",\"gridcolor\":\"white\",\"gridwidth\":2,\"linecolor\":\"white\",\"showbackground\":true,\"ticks\":\"\",\"zerolinecolor\":\"white\"},\"yaxis\":{\"backgroundcolor\":\"#E5ECF6\",\"gridcolor\":\"white\",\"gridwidth\":2,\"linecolor\":\"white\",\"showbackground\":true,\"ticks\":\"\",\"zerolinecolor\":\"white\"},\"zaxis\":{\"backgroundcolor\":\"#E5ECF6\",\"gridcolor\":\"white\",\"gridwidth\":2,\"linecolor\":\"white\",\"showbackground\":true,\"ticks\":\"\",\"zerolinecolor\":\"white\"}},\"shapedefaults\":{\"line\":{\"color\":\"#2a3f5f\"}},\"ternary\":{\"aaxis\":{\"gridcolor\":\"white\",\"linecolor\":\"white\",\"ticks\":\"\"},\"baxis\":{\"gridcolor\":\"white\",\"linecolor\":\"white\",\"ticks\":\"\"},\"bgcolor\":\"#E5ECF6\",\"caxis\":{\"gridcolor\":\"white\",\"linecolor\":\"white\",\"ticks\":\"\"}},\"title\":{\"x\":0.05},\"xaxis\":{\"automargin\":true,\"gridcolor\":\"white\",\"linecolor\":\"white\",\"ticks\":\"\",\"title\":{\"standoff\":15},\"zerolinecolor\":\"white\",\"zerolinewidth\":2},\"yaxis\":{\"automargin\":true,\"gridcolor\":\"white\",\"linecolor\":\"white\",\"ticks\":\"\",\"title\":{\"standoff\":15},\"zerolinecolor\":\"white\",\"zerolinewidth\":2}}},\"xaxis\":{\"side\":\"top\",\"title\":{\"text\":\"Valence\"}},\"title\":{\"text\":\"Heatmap\"},\"yaxis\":{\"title\":{\"text\":\"Arousal\"}},\"legend\":{\"title\":{\"text\":\"Count\"}}},                        {\"responsive\": true}                    ).then(function(){\n                            \nvar gd = document.getElementById('00dc589a-2be9-4dcc-9a47-9bbf058adeb3');\nvar x = new MutationObserver(function (mutations, observer) {{\n        var display = window.getComputedStyle(gd).display;\n        if (!display || display === 'none') {{\n            console.log([gd, 'removed!']);\n            Plotly.purge(gd);\n            observer.disconnect();\n        }}\n}});\n\n// Listen for the removal of the full notebook cells\nvar notebookContainer = gd.closest('#notebook-container');\nif (notebookContainer) {{\n    x.observe(notebookContainer, {childList: true});\n}}\n\n// Listen for the clearing of the current output cell\nvar outputEl = gd.closest('.output');\nif (outputEl) {{\n    x.observe(outputEl, {childList: true});\n}}\n\n                        })                };                });            </script>        </div>"
     },
     "metadata": {},
     "output_type": "display_data"
    }
   ],
   "source": [
    "import plotly.graph_objects as go\n",
    "fig = go.Figure(data=go.Heatmap(\n",
    "                   z=np.reshape(np.array(group_arou['class']), (5, 5)).T,\n",
    "                   x=['-2', '-1', '0', '1', '2'],\n",
    "                   y=['1', '2', '3', '4', '5'],\n",
    "                   text=np.reshape(np.array(group_arou['class']), (5, 5)).T,\n",
    "                   texttemplate=\"%{text}\",\n",
    "                   textfont={\"size\":20}\n",
    "                   ))\n",
    "\n",
    "fig.update_xaxes(side=\"top\")\n",
    "fig.update_layout(\n",
    "    title='Heatmap',\n",
    "    xaxis_title=\"Valence\",\n",
    "    yaxis_title=\"Arousal\",\n",
    "    legend_title=\"Count\",\n",
    "    )\n",
    "\n",
    "fig.show()"
   ],
   "metadata": {
    "collapsed": false,
    "pycharm": {
     "name": "#%%\n"
    }
   }
  },
  {
   "cell_type": "markdown",
   "source": [
    "## Discrete quadrant based class labels"
   ],
   "metadata": {
    "collapsed": false
   }
  },
  {
   "cell_type": "code",
   "execution_count": 273,
   "outputs": [
    {
     "data": {
      "application/vnd.plotly.v1+json": {
       "data": [
        {
         "hovertemplate": "class=sad<br>valence=%{x}<br>arousal=%{y}<br>count=%{marker.size}<extra></extra>",
         "legendgroup": "sad",
         "marker": {
          "color": "rgb(29, 105, 150)",
          "size": [
           26,
           49,
           30,
           77,
           250,
           172
          ],
          "sizemode": "area",
          "sizeref": 0.6575,
          "symbol": "circle"
         },
         "mode": "markers",
         "name": "sad",
         "orientation": "v",
         "showlegend": true,
         "x": [
          -2,
          -2,
          -2,
          -1,
          -1,
          -1
         ],
         "xaxis": "x",
         "y": [
          1,
          2,
          3,
          1,
          2,
          3
         ],
         "yaxis": "y",
         "type": "scatter"
        },
        {
         "hovertemplate": "class=angry<br>valence=%{x}<br>arousal=%{y}<br>count=%{marker.size}<extra></extra>",
         "legendgroup": "angry",
         "marker": {
          "color": "rgb(204, 80, 62)",
          "size": [
           49,
           43,
           178,
           61,
           144,
           41
          ],
          "sizemode": "area",
          "sizeref": 0.6575,
          "symbol": "circle"
         },
         "mode": "markers",
         "name": "angry",
         "orientation": "v",
         "showlegend": true,
         "x": [
          -2,
          -2,
          -1,
          -1,
          0,
          0
         ],
         "xaxis": "x",
         "y": [
          4,
          5,
          4,
          5,
          4,
          5
         ],
         "yaxis": "y",
         "type": "scatter"
        },
        {
         "hovertemplate": "class=relaxed<br>valence=%{x}<br>arousal=%{y}<br>count=%{marker.size}<extra></extra>",
         "legendgroup": "relaxed",
         "marker": {
          "color": "rgb(115, 175, 72)",
          "size": [
           116,
           263,
           60,
           196,
           11,
           46
          ],
          "sizemode": "area",
          "sizeref": 0.6575,
          "symbol": "circle"
         },
         "mode": "markers",
         "name": "relaxed",
         "orientation": "v",
         "showlegend": true,
         "x": [
          0,
          0,
          1,
          1,
          2,
          2
         ],
         "xaxis": "x",
         "y": [
          1,
          2,
          1,
          2,
          1,
          2
         ],
         "yaxis": "y",
         "type": "scatter"
        },
        {
         "hovertemplate": "class=None<br>valence=%{x}<br>arousal=%{y}<br>count=%{marker.size}<extra></extra>",
         "legendgroup": "None",
         "marker": {
          "color": "rgb(102, 102, 102)",
          "size": [
           191
          ],
          "sizemode": "area",
          "sizeref": 0.6575,
          "symbol": "circle"
         },
         "mode": "markers",
         "name": "None",
         "orientation": "v",
         "showlegend": true,
         "x": [
          0
         ],
         "xaxis": "x",
         "y": [
          3
         ],
         "yaxis": "y",
         "type": "scatter"
        },
        {
         "hovertemplate": "class=happy<br>valence=%{x}<br>arousal=%{y}<br>count=%{marker.size}<extra></extra>",
         "legendgroup": "happy",
         "marker": {
          "color": "rgb(237, 173, 8)",
          "size": [
           184,
           199,
           70,
           43,
           80,
           59
          ],
          "sizemode": "area",
          "sizeref": 0.6575,
          "symbol": "circle"
         },
         "mode": "markers",
         "name": "happy",
         "orientation": "v",
         "showlegend": true,
         "x": [
          1,
          1,
          1,
          2,
          2,
          2
         ],
         "xaxis": "x",
         "y": [
          3,
          4,
          5,
          3,
          4,
          5
         ],
         "yaxis": "y",
         "type": "scatter"
        }
       ],
       "layout": {
        "template": {
         "data": {
          "bar": [
           {
            "error_x": {
             "color": "#2a3f5f"
            },
            "error_y": {
             "color": "#2a3f5f"
            },
            "marker": {
             "line": {
              "color": "#E5ECF6",
              "width": 0.5
             },
             "pattern": {
              "fillmode": "overlay",
              "size": 10,
              "solidity": 0.2
             }
            },
            "type": "bar"
           }
          ],
          "barpolar": [
           {
            "marker": {
             "line": {
              "color": "#E5ECF6",
              "width": 0.5
             },
             "pattern": {
              "fillmode": "overlay",
              "size": 10,
              "solidity": 0.2
             }
            },
            "type": "barpolar"
           }
          ],
          "carpet": [
           {
            "aaxis": {
             "endlinecolor": "#2a3f5f",
             "gridcolor": "white",
             "linecolor": "white",
             "minorgridcolor": "white",
             "startlinecolor": "#2a3f5f"
            },
            "baxis": {
             "endlinecolor": "#2a3f5f",
             "gridcolor": "white",
             "linecolor": "white",
             "minorgridcolor": "white",
             "startlinecolor": "#2a3f5f"
            },
            "type": "carpet"
           }
          ],
          "choropleth": [
           {
            "colorbar": {
             "outlinewidth": 0,
             "ticks": ""
            },
            "type": "choropleth"
           }
          ],
          "contour": [
           {
            "colorbar": {
             "outlinewidth": 0,
             "ticks": ""
            },
            "colorscale": [
             [
              0.0,
              "#0d0887"
             ],
             [
              0.1111111111111111,
              "#46039f"
             ],
             [
              0.2222222222222222,
              "#7201a8"
             ],
             [
              0.3333333333333333,
              "#9c179e"
             ],
             [
              0.4444444444444444,
              "#bd3786"
             ],
             [
              0.5555555555555556,
              "#d8576b"
             ],
             [
              0.6666666666666666,
              "#ed7953"
             ],
             [
              0.7777777777777778,
              "#fb9f3a"
             ],
             [
              0.8888888888888888,
              "#fdca26"
             ],
             [
              1.0,
              "#f0f921"
             ]
            ],
            "type": "contour"
           }
          ],
          "contourcarpet": [
           {
            "colorbar": {
             "outlinewidth": 0,
             "ticks": ""
            },
            "type": "contourcarpet"
           }
          ],
          "heatmap": [
           {
            "colorbar": {
             "outlinewidth": 0,
             "ticks": ""
            },
            "colorscale": [
             [
              0.0,
              "#0d0887"
             ],
             [
              0.1111111111111111,
              "#46039f"
             ],
             [
              0.2222222222222222,
              "#7201a8"
             ],
             [
              0.3333333333333333,
              "#9c179e"
             ],
             [
              0.4444444444444444,
              "#bd3786"
             ],
             [
              0.5555555555555556,
              "#d8576b"
             ],
             [
              0.6666666666666666,
              "#ed7953"
             ],
             [
              0.7777777777777778,
              "#fb9f3a"
             ],
             [
              0.8888888888888888,
              "#fdca26"
             ],
             [
              1.0,
              "#f0f921"
             ]
            ],
            "type": "heatmap"
           }
          ],
          "heatmapgl": [
           {
            "colorbar": {
             "outlinewidth": 0,
             "ticks": ""
            },
            "colorscale": [
             [
              0.0,
              "#0d0887"
             ],
             [
              0.1111111111111111,
              "#46039f"
             ],
             [
              0.2222222222222222,
              "#7201a8"
             ],
             [
              0.3333333333333333,
              "#9c179e"
             ],
             [
              0.4444444444444444,
              "#bd3786"
             ],
             [
              0.5555555555555556,
              "#d8576b"
             ],
             [
              0.6666666666666666,
              "#ed7953"
             ],
             [
              0.7777777777777778,
              "#fb9f3a"
             ],
             [
              0.8888888888888888,
              "#fdca26"
             ],
             [
              1.0,
              "#f0f921"
             ]
            ],
            "type": "heatmapgl"
           }
          ],
          "histogram": [
           {
            "marker": {
             "pattern": {
              "fillmode": "overlay",
              "size": 10,
              "solidity": 0.2
             }
            },
            "type": "histogram"
           }
          ],
          "histogram2d": [
           {
            "colorbar": {
             "outlinewidth": 0,
             "ticks": ""
            },
            "colorscale": [
             [
              0.0,
              "#0d0887"
             ],
             [
              0.1111111111111111,
              "#46039f"
             ],
             [
              0.2222222222222222,
              "#7201a8"
             ],
             [
              0.3333333333333333,
              "#9c179e"
             ],
             [
              0.4444444444444444,
              "#bd3786"
             ],
             [
              0.5555555555555556,
              "#d8576b"
             ],
             [
              0.6666666666666666,
              "#ed7953"
             ],
             [
              0.7777777777777778,
              "#fb9f3a"
             ],
             [
              0.8888888888888888,
              "#fdca26"
             ],
             [
              1.0,
              "#f0f921"
             ]
            ],
            "type": "histogram2d"
           }
          ],
          "histogram2dcontour": [
           {
            "colorbar": {
             "outlinewidth": 0,
             "ticks": ""
            },
            "colorscale": [
             [
              0.0,
              "#0d0887"
             ],
             [
              0.1111111111111111,
              "#46039f"
             ],
             [
              0.2222222222222222,
              "#7201a8"
             ],
             [
              0.3333333333333333,
              "#9c179e"
             ],
             [
              0.4444444444444444,
              "#bd3786"
             ],
             [
              0.5555555555555556,
              "#d8576b"
             ],
             [
              0.6666666666666666,
              "#ed7953"
             ],
             [
              0.7777777777777778,
              "#fb9f3a"
             ],
             [
              0.8888888888888888,
              "#fdca26"
             ],
             [
              1.0,
              "#f0f921"
             ]
            ],
            "type": "histogram2dcontour"
           }
          ],
          "mesh3d": [
           {
            "colorbar": {
             "outlinewidth": 0,
             "ticks": ""
            },
            "type": "mesh3d"
           }
          ],
          "parcoords": [
           {
            "line": {
             "colorbar": {
              "outlinewidth": 0,
              "ticks": ""
             }
            },
            "type": "parcoords"
           }
          ],
          "pie": [
           {
            "automargin": true,
            "type": "pie"
           }
          ],
          "scatter": [
           {
            "marker": {
             "colorbar": {
              "outlinewidth": 0,
              "ticks": ""
             }
            },
            "type": "scatter"
           }
          ],
          "scatter3d": [
           {
            "line": {
             "colorbar": {
              "outlinewidth": 0,
              "ticks": ""
             }
            },
            "marker": {
             "colorbar": {
              "outlinewidth": 0,
              "ticks": ""
             }
            },
            "type": "scatter3d"
           }
          ],
          "scattercarpet": [
           {
            "marker": {
             "colorbar": {
              "outlinewidth": 0,
              "ticks": ""
             }
            },
            "type": "scattercarpet"
           }
          ],
          "scattergeo": [
           {
            "marker": {
             "colorbar": {
              "outlinewidth": 0,
              "ticks": ""
             }
            },
            "type": "scattergeo"
           }
          ],
          "scattergl": [
           {
            "marker": {
             "colorbar": {
              "outlinewidth": 0,
              "ticks": ""
             }
            },
            "type": "scattergl"
           }
          ],
          "scattermapbox": [
           {
            "marker": {
             "colorbar": {
              "outlinewidth": 0,
              "ticks": ""
             }
            },
            "type": "scattermapbox"
           }
          ],
          "scatterpolar": [
           {
            "marker": {
             "colorbar": {
              "outlinewidth": 0,
              "ticks": ""
             }
            },
            "type": "scatterpolar"
           }
          ],
          "scatterpolargl": [
           {
            "marker": {
             "colorbar": {
              "outlinewidth": 0,
              "ticks": ""
             }
            },
            "type": "scatterpolargl"
           }
          ],
          "scatterternary": [
           {
            "marker": {
             "colorbar": {
              "outlinewidth": 0,
              "ticks": ""
             }
            },
            "type": "scatterternary"
           }
          ],
          "surface": [
           {
            "colorbar": {
             "outlinewidth": 0,
             "ticks": ""
            },
            "colorscale": [
             [
              0.0,
              "#0d0887"
             ],
             [
              0.1111111111111111,
              "#46039f"
             ],
             [
              0.2222222222222222,
              "#7201a8"
             ],
             [
              0.3333333333333333,
              "#9c179e"
             ],
             [
              0.4444444444444444,
              "#bd3786"
             ],
             [
              0.5555555555555556,
              "#d8576b"
             ],
             [
              0.6666666666666666,
              "#ed7953"
             ],
             [
              0.7777777777777778,
              "#fb9f3a"
             ],
             [
              0.8888888888888888,
              "#fdca26"
             ],
             [
              1.0,
              "#f0f921"
             ]
            ],
            "type": "surface"
           }
          ],
          "table": [
           {
            "cells": {
             "fill": {
              "color": "#EBF0F8"
             },
             "line": {
              "color": "white"
             }
            },
            "header": {
             "fill": {
              "color": "#C8D4E3"
             },
             "line": {
              "color": "white"
             }
            },
            "type": "table"
           }
          ]
         },
         "layout": {
          "annotationdefaults": {
           "arrowcolor": "#2a3f5f",
           "arrowhead": 0,
           "arrowwidth": 1
          },
          "autotypenumbers": "strict",
          "coloraxis": {
           "colorbar": {
            "outlinewidth": 0,
            "ticks": ""
           }
          },
          "colorscale": {
           "diverging": [
            [
             0,
             "#8e0152"
            ],
            [
             0.1,
             "#c51b7d"
            ],
            [
             0.2,
             "#de77ae"
            ],
            [
             0.3,
             "#f1b6da"
            ],
            [
             0.4,
             "#fde0ef"
            ],
            [
             0.5,
             "#f7f7f7"
            ],
            [
             0.6,
             "#e6f5d0"
            ],
            [
             0.7,
             "#b8e186"
            ],
            [
             0.8,
             "#7fbc41"
            ],
            [
             0.9,
             "#4d9221"
            ],
            [
             1,
             "#276419"
            ]
           ],
           "sequential": [
            [
             0.0,
             "#0d0887"
            ],
            [
             0.1111111111111111,
             "#46039f"
            ],
            [
             0.2222222222222222,
             "#7201a8"
            ],
            [
             0.3333333333333333,
             "#9c179e"
            ],
            [
             0.4444444444444444,
             "#bd3786"
            ],
            [
             0.5555555555555556,
             "#d8576b"
            ],
            [
             0.6666666666666666,
             "#ed7953"
            ],
            [
             0.7777777777777778,
             "#fb9f3a"
            ],
            [
             0.8888888888888888,
             "#fdca26"
            ],
            [
             1.0,
             "#f0f921"
            ]
           ],
           "sequentialminus": [
            [
             0.0,
             "#0d0887"
            ],
            [
             0.1111111111111111,
             "#46039f"
            ],
            [
             0.2222222222222222,
             "#7201a8"
            ],
            [
             0.3333333333333333,
             "#9c179e"
            ],
            [
             0.4444444444444444,
             "#bd3786"
            ],
            [
             0.5555555555555556,
             "#d8576b"
            ],
            [
             0.6666666666666666,
             "#ed7953"
            ],
            [
             0.7777777777777778,
             "#fb9f3a"
            ],
            [
             0.8888888888888888,
             "#fdca26"
            ],
            [
             1.0,
             "#f0f921"
            ]
           ]
          },
          "colorway": [
           "#636efa",
           "#EF553B",
           "#00cc96",
           "#ab63fa",
           "#FFA15A",
           "#19d3f3",
           "#FF6692",
           "#B6E880",
           "#FF97FF",
           "#FECB52"
          ],
          "font": {
           "color": "#2a3f5f"
          },
          "geo": {
           "bgcolor": "white",
           "lakecolor": "white",
           "landcolor": "#E5ECF6",
           "showlakes": true,
           "showland": true,
           "subunitcolor": "white"
          },
          "hoverlabel": {
           "align": "left"
          },
          "hovermode": "closest",
          "mapbox": {
           "style": "light"
          },
          "paper_bgcolor": "white",
          "plot_bgcolor": "#E5ECF6",
          "polar": {
           "angularaxis": {
            "gridcolor": "white",
            "linecolor": "white",
            "ticks": ""
           },
           "bgcolor": "#E5ECF6",
           "radialaxis": {
            "gridcolor": "white",
            "linecolor": "white",
            "ticks": ""
           }
          },
          "scene": {
           "xaxis": {
            "backgroundcolor": "#E5ECF6",
            "gridcolor": "white",
            "gridwidth": 2,
            "linecolor": "white",
            "showbackground": true,
            "ticks": "",
            "zerolinecolor": "white"
           },
           "yaxis": {
            "backgroundcolor": "#E5ECF6",
            "gridcolor": "white",
            "gridwidth": 2,
            "linecolor": "white",
            "showbackground": true,
            "ticks": "",
            "zerolinecolor": "white"
           },
           "zaxis": {
            "backgroundcolor": "#E5ECF6",
            "gridcolor": "white",
            "gridwidth": 2,
            "linecolor": "white",
            "showbackground": true,
            "ticks": "",
            "zerolinecolor": "white"
           }
          },
          "shapedefaults": {
           "line": {
            "color": "#2a3f5f"
           }
          },
          "ternary": {
           "aaxis": {
            "gridcolor": "white",
            "linecolor": "white",
            "ticks": ""
           },
           "baxis": {
            "gridcolor": "white",
            "linecolor": "white",
            "ticks": ""
           },
           "bgcolor": "#E5ECF6",
           "caxis": {
            "gridcolor": "white",
            "linecolor": "white",
            "ticks": ""
           }
          },
          "title": {
           "x": 0.05
          },
          "xaxis": {
           "automargin": true,
           "gridcolor": "white",
           "linecolor": "white",
           "ticks": "",
           "title": {
            "standoff": 15
           },
           "zerolinecolor": "white",
           "zerolinewidth": 2
          },
          "yaxis": {
           "automargin": true,
           "gridcolor": "white",
           "linecolor": "white",
           "ticks": "",
           "title": {
            "standoff": 15
           },
           "zerolinecolor": "white",
           "zerolinewidth": 2
          }
         }
        },
        "xaxis": {
         "anchor": "y",
         "domain": [
          0.0,
          1.0
         ],
         "title": {
          "text": "valence"
         }
        },
        "yaxis": {
         "anchor": "x",
         "domain": [
          0.0,
          1.0
         ],
         "title": {
          "text": "arousal"
         }
        },
        "legend": {
         "title": {
          "text": "class"
         },
         "tracegroupgap": 0,
         "itemsizing": "constant"
        },
        "title": {
         "text": "Method 1. Discrete quadrant based class labels"
        },
        "height": 400,
        "width": 600
       },
       "config": {
        "plotlyServerURL": "https://plot.ly"
       }
      },
      "text/html": "<div>                            <div id=\"e6a362d2-4cb0-4f40-9ff1-cd76adfb1536\" class=\"plotly-graph-div\" style=\"height:400px; width:600px;\"></div>            <script type=\"text/javascript\">                require([\"plotly\"], function(Plotly) {                    window.PLOTLYENV=window.PLOTLYENV || {};                                    if (document.getElementById(\"e6a362d2-4cb0-4f40-9ff1-cd76adfb1536\")) {                    Plotly.newPlot(                        \"e6a362d2-4cb0-4f40-9ff1-cd76adfb1536\",                        [{\"hovertemplate\":\"class=sad<br>valence=%{x}<br>arousal=%{y}<br>count=%{marker.size}<extra></extra>\",\"legendgroup\":\"sad\",\"marker\":{\"color\":\"rgb(29, 105, 150)\",\"size\":[26,49,30,77,250,172],\"sizemode\":\"area\",\"sizeref\":0.6575,\"symbol\":\"circle\"},\"mode\":\"markers\",\"name\":\"sad\",\"orientation\":\"v\",\"showlegend\":true,\"x\":[-2,-2,-2,-1,-1,-1],\"xaxis\":\"x\",\"y\":[1,2,3,1,2,3],\"yaxis\":\"y\",\"type\":\"scatter\"},{\"hovertemplate\":\"class=angry<br>valence=%{x}<br>arousal=%{y}<br>count=%{marker.size}<extra></extra>\",\"legendgroup\":\"angry\",\"marker\":{\"color\":\"rgb(204, 80, 62)\",\"size\":[49,43,178,61,144,41],\"sizemode\":\"area\",\"sizeref\":0.6575,\"symbol\":\"circle\"},\"mode\":\"markers\",\"name\":\"angry\",\"orientation\":\"v\",\"showlegend\":true,\"x\":[-2,-2,-1,-1,0,0],\"xaxis\":\"x\",\"y\":[4,5,4,5,4,5],\"yaxis\":\"y\",\"type\":\"scatter\"},{\"hovertemplate\":\"class=relaxed<br>valence=%{x}<br>arousal=%{y}<br>count=%{marker.size}<extra></extra>\",\"legendgroup\":\"relaxed\",\"marker\":{\"color\":\"rgb(115, 175, 72)\",\"size\":[116,263,60,196,11,46],\"sizemode\":\"area\",\"sizeref\":0.6575,\"symbol\":\"circle\"},\"mode\":\"markers\",\"name\":\"relaxed\",\"orientation\":\"v\",\"showlegend\":true,\"x\":[0,0,1,1,2,2],\"xaxis\":\"x\",\"y\":[1,2,1,2,1,2],\"yaxis\":\"y\",\"type\":\"scatter\"},{\"hovertemplate\":\"class=None<br>valence=%{x}<br>arousal=%{y}<br>count=%{marker.size}<extra></extra>\",\"legendgroup\":\"None\",\"marker\":{\"color\":\"rgb(102, 102, 102)\",\"size\":[191],\"sizemode\":\"area\",\"sizeref\":0.6575,\"symbol\":\"circle\"},\"mode\":\"markers\",\"name\":\"None\",\"orientation\":\"v\",\"showlegend\":true,\"x\":[0],\"xaxis\":\"x\",\"y\":[3],\"yaxis\":\"y\",\"type\":\"scatter\"},{\"hovertemplate\":\"class=happy<br>valence=%{x}<br>arousal=%{y}<br>count=%{marker.size}<extra></extra>\",\"legendgroup\":\"happy\",\"marker\":{\"color\":\"rgb(237, 173, 8)\",\"size\":[184,199,70,43,80,59],\"sizemode\":\"area\",\"sizeref\":0.6575,\"symbol\":\"circle\"},\"mode\":\"markers\",\"name\":\"happy\",\"orientation\":\"v\",\"showlegend\":true,\"x\":[1,1,1,2,2,2],\"xaxis\":\"x\",\"y\":[3,4,5,3,4,5],\"yaxis\":\"y\",\"type\":\"scatter\"}],                        {\"template\":{\"data\":{\"bar\":[{\"error_x\":{\"color\":\"#2a3f5f\"},\"error_y\":{\"color\":\"#2a3f5f\"},\"marker\":{\"line\":{\"color\":\"#E5ECF6\",\"width\":0.5},\"pattern\":{\"fillmode\":\"overlay\",\"size\":10,\"solidity\":0.2}},\"type\":\"bar\"}],\"barpolar\":[{\"marker\":{\"line\":{\"color\":\"#E5ECF6\",\"width\":0.5},\"pattern\":{\"fillmode\":\"overlay\",\"size\":10,\"solidity\":0.2}},\"type\":\"barpolar\"}],\"carpet\":[{\"aaxis\":{\"endlinecolor\":\"#2a3f5f\",\"gridcolor\":\"white\",\"linecolor\":\"white\",\"minorgridcolor\":\"white\",\"startlinecolor\":\"#2a3f5f\"},\"baxis\":{\"endlinecolor\":\"#2a3f5f\",\"gridcolor\":\"white\",\"linecolor\":\"white\",\"minorgridcolor\":\"white\",\"startlinecolor\":\"#2a3f5f\"},\"type\":\"carpet\"}],\"choropleth\":[{\"colorbar\":{\"outlinewidth\":0,\"ticks\":\"\"},\"type\":\"choropleth\"}],\"contour\":[{\"colorbar\":{\"outlinewidth\":0,\"ticks\":\"\"},\"colorscale\":[[0.0,\"#0d0887\"],[0.1111111111111111,\"#46039f\"],[0.2222222222222222,\"#7201a8\"],[0.3333333333333333,\"#9c179e\"],[0.4444444444444444,\"#bd3786\"],[0.5555555555555556,\"#d8576b\"],[0.6666666666666666,\"#ed7953\"],[0.7777777777777778,\"#fb9f3a\"],[0.8888888888888888,\"#fdca26\"],[1.0,\"#f0f921\"]],\"type\":\"contour\"}],\"contourcarpet\":[{\"colorbar\":{\"outlinewidth\":0,\"ticks\":\"\"},\"type\":\"contourcarpet\"}],\"heatmap\":[{\"colorbar\":{\"outlinewidth\":0,\"ticks\":\"\"},\"colorscale\":[[0.0,\"#0d0887\"],[0.1111111111111111,\"#46039f\"],[0.2222222222222222,\"#7201a8\"],[0.3333333333333333,\"#9c179e\"],[0.4444444444444444,\"#bd3786\"],[0.5555555555555556,\"#d8576b\"],[0.6666666666666666,\"#ed7953\"],[0.7777777777777778,\"#fb9f3a\"],[0.8888888888888888,\"#fdca26\"],[1.0,\"#f0f921\"]],\"type\":\"heatmap\"}],\"heatmapgl\":[{\"colorbar\":{\"outlinewidth\":0,\"ticks\":\"\"},\"colorscale\":[[0.0,\"#0d0887\"],[0.1111111111111111,\"#46039f\"],[0.2222222222222222,\"#7201a8\"],[0.3333333333333333,\"#9c179e\"],[0.4444444444444444,\"#bd3786\"],[0.5555555555555556,\"#d8576b\"],[0.6666666666666666,\"#ed7953\"],[0.7777777777777778,\"#fb9f3a\"],[0.8888888888888888,\"#fdca26\"],[1.0,\"#f0f921\"]],\"type\":\"heatmapgl\"}],\"histogram\":[{\"marker\":{\"pattern\":{\"fillmode\":\"overlay\",\"size\":10,\"solidity\":0.2}},\"type\":\"histogram\"}],\"histogram2d\":[{\"colorbar\":{\"outlinewidth\":0,\"ticks\":\"\"},\"colorscale\":[[0.0,\"#0d0887\"],[0.1111111111111111,\"#46039f\"],[0.2222222222222222,\"#7201a8\"],[0.3333333333333333,\"#9c179e\"],[0.4444444444444444,\"#bd3786\"],[0.5555555555555556,\"#d8576b\"],[0.6666666666666666,\"#ed7953\"],[0.7777777777777778,\"#fb9f3a\"],[0.8888888888888888,\"#fdca26\"],[1.0,\"#f0f921\"]],\"type\":\"histogram2d\"}],\"histogram2dcontour\":[{\"colorbar\":{\"outlinewidth\":0,\"ticks\":\"\"},\"colorscale\":[[0.0,\"#0d0887\"],[0.1111111111111111,\"#46039f\"],[0.2222222222222222,\"#7201a8\"],[0.3333333333333333,\"#9c179e\"],[0.4444444444444444,\"#bd3786\"],[0.5555555555555556,\"#d8576b\"],[0.6666666666666666,\"#ed7953\"],[0.7777777777777778,\"#fb9f3a\"],[0.8888888888888888,\"#fdca26\"],[1.0,\"#f0f921\"]],\"type\":\"histogram2dcontour\"}],\"mesh3d\":[{\"colorbar\":{\"outlinewidth\":0,\"ticks\":\"\"},\"type\":\"mesh3d\"}],\"parcoords\":[{\"line\":{\"colorbar\":{\"outlinewidth\":0,\"ticks\":\"\"}},\"type\":\"parcoords\"}],\"pie\":[{\"automargin\":true,\"type\":\"pie\"}],\"scatter\":[{\"marker\":{\"colorbar\":{\"outlinewidth\":0,\"ticks\":\"\"}},\"type\":\"scatter\"}],\"scatter3d\":[{\"line\":{\"colorbar\":{\"outlinewidth\":0,\"ticks\":\"\"}},\"marker\":{\"colorbar\":{\"outlinewidth\":0,\"ticks\":\"\"}},\"type\":\"scatter3d\"}],\"scattercarpet\":[{\"marker\":{\"colorbar\":{\"outlinewidth\":0,\"ticks\":\"\"}},\"type\":\"scattercarpet\"}],\"scattergeo\":[{\"marker\":{\"colorbar\":{\"outlinewidth\":0,\"ticks\":\"\"}},\"type\":\"scattergeo\"}],\"scattergl\":[{\"marker\":{\"colorbar\":{\"outlinewidth\":0,\"ticks\":\"\"}},\"type\":\"scattergl\"}],\"scattermapbox\":[{\"marker\":{\"colorbar\":{\"outlinewidth\":0,\"ticks\":\"\"}},\"type\":\"scattermapbox\"}],\"scatterpolar\":[{\"marker\":{\"colorbar\":{\"outlinewidth\":0,\"ticks\":\"\"}},\"type\":\"scatterpolar\"}],\"scatterpolargl\":[{\"marker\":{\"colorbar\":{\"outlinewidth\":0,\"ticks\":\"\"}},\"type\":\"scatterpolargl\"}],\"scatterternary\":[{\"marker\":{\"colorbar\":{\"outlinewidth\":0,\"ticks\":\"\"}},\"type\":\"scatterternary\"}],\"surface\":[{\"colorbar\":{\"outlinewidth\":0,\"ticks\":\"\"},\"colorscale\":[[0.0,\"#0d0887\"],[0.1111111111111111,\"#46039f\"],[0.2222222222222222,\"#7201a8\"],[0.3333333333333333,\"#9c179e\"],[0.4444444444444444,\"#bd3786\"],[0.5555555555555556,\"#d8576b\"],[0.6666666666666666,\"#ed7953\"],[0.7777777777777778,\"#fb9f3a\"],[0.8888888888888888,\"#fdca26\"],[1.0,\"#f0f921\"]],\"type\":\"surface\"}],\"table\":[{\"cells\":{\"fill\":{\"color\":\"#EBF0F8\"},\"line\":{\"color\":\"white\"}},\"header\":{\"fill\":{\"color\":\"#C8D4E3\"},\"line\":{\"color\":\"white\"}},\"type\":\"table\"}]},\"layout\":{\"annotationdefaults\":{\"arrowcolor\":\"#2a3f5f\",\"arrowhead\":0,\"arrowwidth\":1},\"autotypenumbers\":\"strict\",\"coloraxis\":{\"colorbar\":{\"outlinewidth\":0,\"ticks\":\"\"}},\"colorscale\":{\"diverging\":[[0,\"#8e0152\"],[0.1,\"#c51b7d\"],[0.2,\"#de77ae\"],[0.3,\"#f1b6da\"],[0.4,\"#fde0ef\"],[0.5,\"#f7f7f7\"],[0.6,\"#e6f5d0\"],[0.7,\"#b8e186\"],[0.8,\"#7fbc41\"],[0.9,\"#4d9221\"],[1,\"#276419\"]],\"sequential\":[[0.0,\"#0d0887\"],[0.1111111111111111,\"#46039f\"],[0.2222222222222222,\"#7201a8\"],[0.3333333333333333,\"#9c179e\"],[0.4444444444444444,\"#bd3786\"],[0.5555555555555556,\"#d8576b\"],[0.6666666666666666,\"#ed7953\"],[0.7777777777777778,\"#fb9f3a\"],[0.8888888888888888,\"#fdca26\"],[1.0,\"#f0f921\"]],\"sequentialminus\":[[0.0,\"#0d0887\"],[0.1111111111111111,\"#46039f\"],[0.2222222222222222,\"#7201a8\"],[0.3333333333333333,\"#9c179e\"],[0.4444444444444444,\"#bd3786\"],[0.5555555555555556,\"#d8576b\"],[0.6666666666666666,\"#ed7953\"],[0.7777777777777778,\"#fb9f3a\"],[0.8888888888888888,\"#fdca26\"],[1.0,\"#f0f921\"]]},\"colorway\":[\"#636efa\",\"#EF553B\",\"#00cc96\",\"#ab63fa\",\"#FFA15A\",\"#19d3f3\",\"#FF6692\",\"#B6E880\",\"#FF97FF\",\"#FECB52\"],\"font\":{\"color\":\"#2a3f5f\"},\"geo\":{\"bgcolor\":\"white\",\"lakecolor\":\"white\",\"landcolor\":\"#E5ECF6\",\"showlakes\":true,\"showland\":true,\"subunitcolor\":\"white\"},\"hoverlabel\":{\"align\":\"left\"},\"hovermode\":\"closest\",\"mapbox\":{\"style\":\"light\"},\"paper_bgcolor\":\"white\",\"plot_bgcolor\":\"#E5ECF6\",\"polar\":{\"angularaxis\":{\"gridcolor\":\"white\",\"linecolor\":\"white\",\"ticks\":\"\"},\"bgcolor\":\"#E5ECF6\",\"radialaxis\":{\"gridcolor\":\"white\",\"linecolor\":\"white\",\"ticks\":\"\"}},\"scene\":{\"xaxis\":{\"backgroundcolor\":\"#E5ECF6\",\"gridcolor\":\"white\",\"gridwidth\":2,\"linecolor\":\"white\",\"showbackground\":true,\"ticks\":\"\",\"zerolinecolor\":\"white\"},\"yaxis\":{\"backgroundcolor\":\"#E5ECF6\",\"gridcolor\":\"white\",\"gridwidth\":2,\"linecolor\":\"white\",\"showbackground\":true,\"ticks\":\"\",\"zerolinecolor\":\"white\"},\"zaxis\":{\"backgroundcolor\":\"#E5ECF6\",\"gridcolor\":\"white\",\"gridwidth\":2,\"linecolor\":\"white\",\"showbackground\":true,\"ticks\":\"\",\"zerolinecolor\":\"white\"}},\"shapedefaults\":{\"line\":{\"color\":\"#2a3f5f\"}},\"ternary\":{\"aaxis\":{\"gridcolor\":\"white\",\"linecolor\":\"white\",\"ticks\":\"\"},\"baxis\":{\"gridcolor\":\"white\",\"linecolor\":\"white\",\"ticks\":\"\"},\"bgcolor\":\"#E5ECF6\",\"caxis\":{\"gridcolor\":\"white\",\"linecolor\":\"white\",\"ticks\":\"\"}},\"title\":{\"x\":0.05},\"xaxis\":{\"automargin\":true,\"gridcolor\":\"white\",\"linecolor\":\"white\",\"ticks\":\"\",\"title\":{\"standoff\":15},\"zerolinecolor\":\"white\",\"zerolinewidth\":2},\"yaxis\":{\"automargin\":true,\"gridcolor\":\"white\",\"linecolor\":\"white\",\"ticks\":\"\",\"title\":{\"standoff\":15},\"zerolinecolor\":\"white\",\"zerolinewidth\":2}}},\"xaxis\":{\"anchor\":\"y\",\"domain\":[0.0,1.0],\"title\":{\"text\":\"valence\"}},\"yaxis\":{\"anchor\":\"x\",\"domain\":[0.0,1.0],\"title\":{\"text\":\"arousal\"}},\"legend\":{\"title\":{\"text\":\"class\"},\"tracegroupgap\":0,\"itemsizing\":\"constant\"},\"title\":{\"text\":\"Method 1. Discrete quadrant based class labels\"},\"height\":400,\"width\":600},                        {\"responsive\": true}                    ).then(function(){\n                            \nvar gd = document.getElementById('e6a362d2-4cb0-4f40-9ff1-cd76adfb1536');\nvar x = new MutationObserver(function (mutations, observer) {{\n        var display = window.getComputedStyle(gd).display;\n        if (!display || display === 'none') {{\n            console.log([gd, 'removed!']);\n            Plotly.purge(gd);\n            observer.disconnect();\n        }}\n}});\n\n// Listen for the removal of the full notebook cells\nvar notebookContainer = gd.closest('#notebook-container');\nif (notebookContainer) {{\n    x.observe(notebookContainer, {childList: true});\n}}\n\n// Listen for the clearing of the current output cell\nvar outputEl = gd.closest('.output');\nif (outputEl) {{\n    x.observe(outputEl, {childList: true});\n}}\n\n                        })                };                });            </script>        </div>"
     },
     "metadata": {},
     "output_type": "display_data"
    }
   ],
   "source": [
    "fig = px.scatter(scatter_df,\n",
    "                 x='valence',\n",
    "                 y='arousal',\n",
    "                 size='count',\n",
    "                 color='class',\n",
    "                 width=600,\n",
    "                 height=400,\n",
    "                 color_discrete_map={\n",
    "                \"sad\": px.colors.qualitative.Prism[1],\n",
    "                \"angry\": px.colors.qualitative.Prism[7],\n",
    "                \"relaxed\": px.colors.qualitative.Prism[4],\n",
    "                \"happy\": px.colors.qualitative.Prism[5],\n",
    "                \"None\": px.colors.qualitative.Prism[10]},\n",
    "                title='Method 1. Discrete quadrant based class labels')\n",
    "fig.show()"
   ],
   "metadata": {
    "collapsed": false,
    "pycharm": {
     "name": "#%%\n"
    }
   }
  },
  {
   "cell_type": "markdown",
   "source": [
    "- what about samples with valence=0 and arousal=3 ?\n",
    "- what about outliers in the data?"
   ],
   "metadata": {
    "collapsed": false
   }
  },
  {
   "cell_type": "markdown",
   "source": [
    "## Relaxing the conditions for class happy"
   ],
   "metadata": {
    "collapsed": false
   }
  },
  {
   "cell_type": "code",
   "execution_count": 274,
   "outputs": [
    {
     "data": {
      "application/vnd.plotly.v1+json": {
       "data": [
        {
         "hovertemplate": "class=sad<br>valence=%{x}<br>arousal=%{y}<br>count=%{marker.size}<extra></extra>",
         "legendgroup": "sad",
         "marker": {
          "color": "rgb(29, 105, 150)",
          "size": [
           26,
           49,
           30,
           77,
           250,
           172
          ],
          "sizemode": "area",
          "sizeref": 0.6575,
          "symbol": "circle"
         },
         "mode": "markers",
         "name": "sad",
         "orientation": "v",
         "showlegend": true,
         "x": [
          -2,
          -2,
          -2,
          -1,
          -1,
          -1
         ],
         "xaxis": "x",
         "y": [
          1,
          2,
          3,
          1,
          2,
          3
         ],
         "yaxis": "y",
         "type": "scatter"
        },
        {
         "hovertemplate": "class=angry<br>valence=%{x}<br>arousal=%{y}<br>count=%{marker.size}<extra></extra>",
         "legendgroup": "angry",
         "marker": {
          "color": "rgb(204, 80, 62)",
          "size": [
           49,
           43,
           178,
           61,
           144,
           41
          ],
          "sizemode": "area",
          "sizeref": 0.6575,
          "symbol": "circle"
         },
         "mode": "markers",
         "name": "angry",
         "orientation": "v",
         "showlegend": true,
         "x": [
          -2,
          -2,
          -1,
          -1,
          0,
          0
         ],
         "xaxis": "x",
         "y": [
          4,
          5,
          4,
          5,
          4,
          5
         ],
         "yaxis": "y",
         "type": "scatter"
        },
        {
         "hovertemplate": "class=relaxed<br>valence=%{x}<br>arousal=%{y}<br>count=%{marker.size}<extra></extra>",
         "legendgroup": "relaxed",
         "marker": {
          "color": "rgb(115, 175, 72)",
          "size": [
           116,
           263,
           60,
           196,
           11,
           46
          ],
          "sizemode": "area",
          "sizeref": 0.6575,
          "symbol": "circle"
         },
         "mode": "markers",
         "name": "relaxed",
         "orientation": "v",
         "showlegend": true,
         "x": [
          0,
          0,
          1,
          1,
          2,
          2
         ],
         "xaxis": "x",
         "y": [
          1,
          2,
          1,
          2,
          1,
          2
         ],
         "yaxis": "y",
         "type": "scatter"
        },
        {
         "hovertemplate": "class=happy<br>valence=%{x}<br>arousal=%{y}<br>count=%{marker.size}<extra></extra>",
         "legendgroup": "happy",
         "marker": {
          "color": "rgb(237, 173, 8)",
          "size": [
           191,
           184,
           199,
           70,
           43,
           80,
           59
          ],
          "sizemode": "area",
          "sizeref": 0.6575,
          "symbol": "circle"
         },
         "mode": "markers",
         "name": "happy",
         "orientation": "v",
         "showlegend": true,
         "x": [
          0,
          1,
          1,
          1,
          2,
          2,
          2
         ],
         "xaxis": "x",
         "y": [
          3,
          3,
          4,
          5,
          3,
          4,
          5
         ],
         "yaxis": "y",
         "type": "scatter"
        }
       ],
       "layout": {
        "template": {
         "data": {
          "bar": [
           {
            "error_x": {
             "color": "#2a3f5f"
            },
            "error_y": {
             "color": "#2a3f5f"
            },
            "marker": {
             "line": {
              "color": "#E5ECF6",
              "width": 0.5
             },
             "pattern": {
              "fillmode": "overlay",
              "size": 10,
              "solidity": 0.2
             }
            },
            "type": "bar"
           }
          ],
          "barpolar": [
           {
            "marker": {
             "line": {
              "color": "#E5ECF6",
              "width": 0.5
             },
             "pattern": {
              "fillmode": "overlay",
              "size": 10,
              "solidity": 0.2
             }
            },
            "type": "barpolar"
           }
          ],
          "carpet": [
           {
            "aaxis": {
             "endlinecolor": "#2a3f5f",
             "gridcolor": "white",
             "linecolor": "white",
             "minorgridcolor": "white",
             "startlinecolor": "#2a3f5f"
            },
            "baxis": {
             "endlinecolor": "#2a3f5f",
             "gridcolor": "white",
             "linecolor": "white",
             "minorgridcolor": "white",
             "startlinecolor": "#2a3f5f"
            },
            "type": "carpet"
           }
          ],
          "choropleth": [
           {
            "colorbar": {
             "outlinewidth": 0,
             "ticks": ""
            },
            "type": "choropleth"
           }
          ],
          "contour": [
           {
            "colorbar": {
             "outlinewidth": 0,
             "ticks": ""
            },
            "colorscale": [
             [
              0.0,
              "#0d0887"
             ],
             [
              0.1111111111111111,
              "#46039f"
             ],
             [
              0.2222222222222222,
              "#7201a8"
             ],
             [
              0.3333333333333333,
              "#9c179e"
             ],
             [
              0.4444444444444444,
              "#bd3786"
             ],
             [
              0.5555555555555556,
              "#d8576b"
             ],
             [
              0.6666666666666666,
              "#ed7953"
             ],
             [
              0.7777777777777778,
              "#fb9f3a"
             ],
             [
              0.8888888888888888,
              "#fdca26"
             ],
             [
              1.0,
              "#f0f921"
             ]
            ],
            "type": "contour"
           }
          ],
          "contourcarpet": [
           {
            "colorbar": {
             "outlinewidth": 0,
             "ticks": ""
            },
            "type": "contourcarpet"
           }
          ],
          "heatmap": [
           {
            "colorbar": {
             "outlinewidth": 0,
             "ticks": ""
            },
            "colorscale": [
             [
              0.0,
              "#0d0887"
             ],
             [
              0.1111111111111111,
              "#46039f"
             ],
             [
              0.2222222222222222,
              "#7201a8"
             ],
             [
              0.3333333333333333,
              "#9c179e"
             ],
             [
              0.4444444444444444,
              "#bd3786"
             ],
             [
              0.5555555555555556,
              "#d8576b"
             ],
             [
              0.6666666666666666,
              "#ed7953"
             ],
             [
              0.7777777777777778,
              "#fb9f3a"
             ],
             [
              0.8888888888888888,
              "#fdca26"
             ],
             [
              1.0,
              "#f0f921"
             ]
            ],
            "type": "heatmap"
           }
          ],
          "heatmapgl": [
           {
            "colorbar": {
             "outlinewidth": 0,
             "ticks": ""
            },
            "colorscale": [
             [
              0.0,
              "#0d0887"
             ],
             [
              0.1111111111111111,
              "#46039f"
             ],
             [
              0.2222222222222222,
              "#7201a8"
             ],
             [
              0.3333333333333333,
              "#9c179e"
             ],
             [
              0.4444444444444444,
              "#bd3786"
             ],
             [
              0.5555555555555556,
              "#d8576b"
             ],
             [
              0.6666666666666666,
              "#ed7953"
             ],
             [
              0.7777777777777778,
              "#fb9f3a"
             ],
             [
              0.8888888888888888,
              "#fdca26"
             ],
             [
              1.0,
              "#f0f921"
             ]
            ],
            "type": "heatmapgl"
           }
          ],
          "histogram": [
           {
            "marker": {
             "pattern": {
              "fillmode": "overlay",
              "size": 10,
              "solidity": 0.2
             }
            },
            "type": "histogram"
           }
          ],
          "histogram2d": [
           {
            "colorbar": {
             "outlinewidth": 0,
             "ticks": ""
            },
            "colorscale": [
             [
              0.0,
              "#0d0887"
             ],
             [
              0.1111111111111111,
              "#46039f"
             ],
             [
              0.2222222222222222,
              "#7201a8"
             ],
             [
              0.3333333333333333,
              "#9c179e"
             ],
             [
              0.4444444444444444,
              "#bd3786"
             ],
             [
              0.5555555555555556,
              "#d8576b"
             ],
             [
              0.6666666666666666,
              "#ed7953"
             ],
             [
              0.7777777777777778,
              "#fb9f3a"
             ],
             [
              0.8888888888888888,
              "#fdca26"
             ],
             [
              1.0,
              "#f0f921"
             ]
            ],
            "type": "histogram2d"
           }
          ],
          "histogram2dcontour": [
           {
            "colorbar": {
             "outlinewidth": 0,
             "ticks": ""
            },
            "colorscale": [
             [
              0.0,
              "#0d0887"
             ],
             [
              0.1111111111111111,
              "#46039f"
             ],
             [
              0.2222222222222222,
              "#7201a8"
             ],
             [
              0.3333333333333333,
              "#9c179e"
             ],
             [
              0.4444444444444444,
              "#bd3786"
             ],
             [
              0.5555555555555556,
              "#d8576b"
             ],
             [
              0.6666666666666666,
              "#ed7953"
             ],
             [
              0.7777777777777778,
              "#fb9f3a"
             ],
             [
              0.8888888888888888,
              "#fdca26"
             ],
             [
              1.0,
              "#f0f921"
             ]
            ],
            "type": "histogram2dcontour"
           }
          ],
          "mesh3d": [
           {
            "colorbar": {
             "outlinewidth": 0,
             "ticks": ""
            },
            "type": "mesh3d"
           }
          ],
          "parcoords": [
           {
            "line": {
             "colorbar": {
              "outlinewidth": 0,
              "ticks": ""
             }
            },
            "type": "parcoords"
           }
          ],
          "pie": [
           {
            "automargin": true,
            "type": "pie"
           }
          ],
          "scatter": [
           {
            "marker": {
             "colorbar": {
              "outlinewidth": 0,
              "ticks": ""
             }
            },
            "type": "scatter"
           }
          ],
          "scatter3d": [
           {
            "line": {
             "colorbar": {
              "outlinewidth": 0,
              "ticks": ""
             }
            },
            "marker": {
             "colorbar": {
              "outlinewidth": 0,
              "ticks": ""
             }
            },
            "type": "scatter3d"
           }
          ],
          "scattercarpet": [
           {
            "marker": {
             "colorbar": {
              "outlinewidth": 0,
              "ticks": ""
             }
            },
            "type": "scattercarpet"
           }
          ],
          "scattergeo": [
           {
            "marker": {
             "colorbar": {
              "outlinewidth": 0,
              "ticks": ""
             }
            },
            "type": "scattergeo"
           }
          ],
          "scattergl": [
           {
            "marker": {
             "colorbar": {
              "outlinewidth": 0,
              "ticks": ""
             }
            },
            "type": "scattergl"
           }
          ],
          "scattermapbox": [
           {
            "marker": {
             "colorbar": {
              "outlinewidth": 0,
              "ticks": ""
             }
            },
            "type": "scattermapbox"
           }
          ],
          "scatterpolar": [
           {
            "marker": {
             "colorbar": {
              "outlinewidth": 0,
              "ticks": ""
             }
            },
            "type": "scatterpolar"
           }
          ],
          "scatterpolargl": [
           {
            "marker": {
             "colorbar": {
              "outlinewidth": 0,
              "ticks": ""
             }
            },
            "type": "scatterpolargl"
           }
          ],
          "scatterternary": [
           {
            "marker": {
             "colorbar": {
              "outlinewidth": 0,
              "ticks": ""
             }
            },
            "type": "scatterternary"
           }
          ],
          "surface": [
           {
            "colorbar": {
             "outlinewidth": 0,
             "ticks": ""
            },
            "colorscale": [
             [
              0.0,
              "#0d0887"
             ],
             [
              0.1111111111111111,
              "#46039f"
             ],
             [
              0.2222222222222222,
              "#7201a8"
             ],
             [
              0.3333333333333333,
              "#9c179e"
             ],
             [
              0.4444444444444444,
              "#bd3786"
             ],
             [
              0.5555555555555556,
              "#d8576b"
             ],
             [
              0.6666666666666666,
              "#ed7953"
             ],
             [
              0.7777777777777778,
              "#fb9f3a"
             ],
             [
              0.8888888888888888,
              "#fdca26"
             ],
             [
              1.0,
              "#f0f921"
             ]
            ],
            "type": "surface"
           }
          ],
          "table": [
           {
            "cells": {
             "fill": {
              "color": "#EBF0F8"
             },
             "line": {
              "color": "white"
             }
            },
            "header": {
             "fill": {
              "color": "#C8D4E3"
             },
             "line": {
              "color": "white"
             }
            },
            "type": "table"
           }
          ]
         },
         "layout": {
          "annotationdefaults": {
           "arrowcolor": "#2a3f5f",
           "arrowhead": 0,
           "arrowwidth": 1
          },
          "autotypenumbers": "strict",
          "coloraxis": {
           "colorbar": {
            "outlinewidth": 0,
            "ticks": ""
           }
          },
          "colorscale": {
           "diverging": [
            [
             0,
             "#8e0152"
            ],
            [
             0.1,
             "#c51b7d"
            ],
            [
             0.2,
             "#de77ae"
            ],
            [
             0.3,
             "#f1b6da"
            ],
            [
             0.4,
             "#fde0ef"
            ],
            [
             0.5,
             "#f7f7f7"
            ],
            [
             0.6,
             "#e6f5d0"
            ],
            [
             0.7,
             "#b8e186"
            ],
            [
             0.8,
             "#7fbc41"
            ],
            [
             0.9,
             "#4d9221"
            ],
            [
             1,
             "#276419"
            ]
           ],
           "sequential": [
            [
             0.0,
             "#0d0887"
            ],
            [
             0.1111111111111111,
             "#46039f"
            ],
            [
             0.2222222222222222,
             "#7201a8"
            ],
            [
             0.3333333333333333,
             "#9c179e"
            ],
            [
             0.4444444444444444,
             "#bd3786"
            ],
            [
             0.5555555555555556,
             "#d8576b"
            ],
            [
             0.6666666666666666,
             "#ed7953"
            ],
            [
             0.7777777777777778,
             "#fb9f3a"
            ],
            [
             0.8888888888888888,
             "#fdca26"
            ],
            [
             1.0,
             "#f0f921"
            ]
           ],
           "sequentialminus": [
            [
             0.0,
             "#0d0887"
            ],
            [
             0.1111111111111111,
             "#46039f"
            ],
            [
             0.2222222222222222,
             "#7201a8"
            ],
            [
             0.3333333333333333,
             "#9c179e"
            ],
            [
             0.4444444444444444,
             "#bd3786"
            ],
            [
             0.5555555555555556,
             "#d8576b"
            ],
            [
             0.6666666666666666,
             "#ed7953"
            ],
            [
             0.7777777777777778,
             "#fb9f3a"
            ],
            [
             0.8888888888888888,
             "#fdca26"
            ],
            [
             1.0,
             "#f0f921"
            ]
           ]
          },
          "colorway": [
           "#636efa",
           "#EF553B",
           "#00cc96",
           "#ab63fa",
           "#FFA15A",
           "#19d3f3",
           "#FF6692",
           "#B6E880",
           "#FF97FF",
           "#FECB52"
          ],
          "font": {
           "color": "#2a3f5f"
          },
          "geo": {
           "bgcolor": "white",
           "lakecolor": "white",
           "landcolor": "#E5ECF6",
           "showlakes": true,
           "showland": true,
           "subunitcolor": "white"
          },
          "hoverlabel": {
           "align": "left"
          },
          "hovermode": "closest",
          "mapbox": {
           "style": "light"
          },
          "paper_bgcolor": "white",
          "plot_bgcolor": "#E5ECF6",
          "polar": {
           "angularaxis": {
            "gridcolor": "white",
            "linecolor": "white",
            "ticks": ""
           },
           "bgcolor": "#E5ECF6",
           "radialaxis": {
            "gridcolor": "white",
            "linecolor": "white",
            "ticks": ""
           }
          },
          "scene": {
           "xaxis": {
            "backgroundcolor": "#E5ECF6",
            "gridcolor": "white",
            "gridwidth": 2,
            "linecolor": "white",
            "showbackground": true,
            "ticks": "",
            "zerolinecolor": "white"
           },
           "yaxis": {
            "backgroundcolor": "#E5ECF6",
            "gridcolor": "white",
            "gridwidth": 2,
            "linecolor": "white",
            "showbackground": true,
            "ticks": "",
            "zerolinecolor": "white"
           },
           "zaxis": {
            "backgroundcolor": "#E5ECF6",
            "gridcolor": "white",
            "gridwidth": 2,
            "linecolor": "white",
            "showbackground": true,
            "ticks": "",
            "zerolinecolor": "white"
           }
          },
          "shapedefaults": {
           "line": {
            "color": "#2a3f5f"
           }
          },
          "ternary": {
           "aaxis": {
            "gridcolor": "white",
            "linecolor": "white",
            "ticks": ""
           },
           "baxis": {
            "gridcolor": "white",
            "linecolor": "white",
            "ticks": ""
           },
           "bgcolor": "#E5ECF6",
           "caxis": {
            "gridcolor": "white",
            "linecolor": "white",
            "ticks": ""
           }
          },
          "title": {
           "x": 0.05
          },
          "xaxis": {
           "automargin": true,
           "gridcolor": "white",
           "linecolor": "white",
           "ticks": "",
           "title": {
            "standoff": 15
           },
           "zerolinecolor": "white",
           "zerolinewidth": 2
          },
          "yaxis": {
           "automargin": true,
           "gridcolor": "white",
           "linecolor": "white",
           "ticks": "",
           "title": {
            "standoff": 15
           },
           "zerolinecolor": "white",
           "zerolinewidth": 2
          }
         }
        },
        "xaxis": {
         "anchor": "y",
         "domain": [
          0.0,
          1.0
         ],
         "title": {
          "text": "valence"
         }
        },
        "yaxis": {
         "anchor": "x",
         "domain": [
          0.0,
          1.0
         ],
         "title": {
          "text": "arousal"
         }
        },
        "legend": {
         "title": {
          "text": "class"
         },
         "tracegroupgap": 0,
         "itemsizing": "constant"
        },
        "title": {
         "text": "Method 2. Relaxing the conditions for class happy"
        },
        "height": 400,
        "width": 600
       },
       "config": {
        "plotlyServerURL": "https://plot.ly"
       }
      },
      "text/html": "<div>                            <div id=\"3fc276ca-e7f7-4e5a-8380-17163a0fdce6\" class=\"plotly-graph-div\" style=\"height:400px; width:600px;\"></div>            <script type=\"text/javascript\">                require([\"plotly\"], function(Plotly) {                    window.PLOTLYENV=window.PLOTLYENV || {};                                    if (document.getElementById(\"3fc276ca-e7f7-4e5a-8380-17163a0fdce6\")) {                    Plotly.newPlot(                        \"3fc276ca-e7f7-4e5a-8380-17163a0fdce6\",                        [{\"hovertemplate\":\"class=sad<br>valence=%{x}<br>arousal=%{y}<br>count=%{marker.size}<extra></extra>\",\"legendgroup\":\"sad\",\"marker\":{\"color\":\"rgb(29, 105, 150)\",\"size\":[26,49,30,77,250,172],\"sizemode\":\"area\",\"sizeref\":0.6575,\"symbol\":\"circle\"},\"mode\":\"markers\",\"name\":\"sad\",\"orientation\":\"v\",\"showlegend\":true,\"x\":[-2,-2,-2,-1,-1,-1],\"xaxis\":\"x\",\"y\":[1,2,3,1,2,3],\"yaxis\":\"y\",\"type\":\"scatter\"},{\"hovertemplate\":\"class=angry<br>valence=%{x}<br>arousal=%{y}<br>count=%{marker.size}<extra></extra>\",\"legendgroup\":\"angry\",\"marker\":{\"color\":\"rgb(204, 80, 62)\",\"size\":[49,43,178,61,144,41],\"sizemode\":\"area\",\"sizeref\":0.6575,\"symbol\":\"circle\"},\"mode\":\"markers\",\"name\":\"angry\",\"orientation\":\"v\",\"showlegend\":true,\"x\":[-2,-2,-1,-1,0,0],\"xaxis\":\"x\",\"y\":[4,5,4,5,4,5],\"yaxis\":\"y\",\"type\":\"scatter\"},{\"hovertemplate\":\"class=relaxed<br>valence=%{x}<br>arousal=%{y}<br>count=%{marker.size}<extra></extra>\",\"legendgroup\":\"relaxed\",\"marker\":{\"color\":\"rgb(115, 175, 72)\",\"size\":[116,263,60,196,11,46],\"sizemode\":\"area\",\"sizeref\":0.6575,\"symbol\":\"circle\"},\"mode\":\"markers\",\"name\":\"relaxed\",\"orientation\":\"v\",\"showlegend\":true,\"x\":[0,0,1,1,2,2],\"xaxis\":\"x\",\"y\":[1,2,1,2,1,2],\"yaxis\":\"y\",\"type\":\"scatter\"},{\"hovertemplate\":\"class=happy<br>valence=%{x}<br>arousal=%{y}<br>count=%{marker.size}<extra></extra>\",\"legendgroup\":\"happy\",\"marker\":{\"color\":\"rgb(237, 173, 8)\",\"size\":[191,184,199,70,43,80,59],\"sizemode\":\"area\",\"sizeref\":0.6575,\"symbol\":\"circle\"},\"mode\":\"markers\",\"name\":\"happy\",\"orientation\":\"v\",\"showlegend\":true,\"x\":[0,1,1,1,2,2,2],\"xaxis\":\"x\",\"y\":[3,3,4,5,3,4,5],\"yaxis\":\"y\",\"type\":\"scatter\"}],                        {\"template\":{\"data\":{\"bar\":[{\"error_x\":{\"color\":\"#2a3f5f\"},\"error_y\":{\"color\":\"#2a3f5f\"},\"marker\":{\"line\":{\"color\":\"#E5ECF6\",\"width\":0.5},\"pattern\":{\"fillmode\":\"overlay\",\"size\":10,\"solidity\":0.2}},\"type\":\"bar\"}],\"barpolar\":[{\"marker\":{\"line\":{\"color\":\"#E5ECF6\",\"width\":0.5},\"pattern\":{\"fillmode\":\"overlay\",\"size\":10,\"solidity\":0.2}},\"type\":\"barpolar\"}],\"carpet\":[{\"aaxis\":{\"endlinecolor\":\"#2a3f5f\",\"gridcolor\":\"white\",\"linecolor\":\"white\",\"minorgridcolor\":\"white\",\"startlinecolor\":\"#2a3f5f\"},\"baxis\":{\"endlinecolor\":\"#2a3f5f\",\"gridcolor\":\"white\",\"linecolor\":\"white\",\"minorgridcolor\":\"white\",\"startlinecolor\":\"#2a3f5f\"},\"type\":\"carpet\"}],\"choropleth\":[{\"colorbar\":{\"outlinewidth\":0,\"ticks\":\"\"},\"type\":\"choropleth\"}],\"contour\":[{\"colorbar\":{\"outlinewidth\":0,\"ticks\":\"\"},\"colorscale\":[[0.0,\"#0d0887\"],[0.1111111111111111,\"#46039f\"],[0.2222222222222222,\"#7201a8\"],[0.3333333333333333,\"#9c179e\"],[0.4444444444444444,\"#bd3786\"],[0.5555555555555556,\"#d8576b\"],[0.6666666666666666,\"#ed7953\"],[0.7777777777777778,\"#fb9f3a\"],[0.8888888888888888,\"#fdca26\"],[1.0,\"#f0f921\"]],\"type\":\"contour\"}],\"contourcarpet\":[{\"colorbar\":{\"outlinewidth\":0,\"ticks\":\"\"},\"type\":\"contourcarpet\"}],\"heatmap\":[{\"colorbar\":{\"outlinewidth\":0,\"ticks\":\"\"},\"colorscale\":[[0.0,\"#0d0887\"],[0.1111111111111111,\"#46039f\"],[0.2222222222222222,\"#7201a8\"],[0.3333333333333333,\"#9c179e\"],[0.4444444444444444,\"#bd3786\"],[0.5555555555555556,\"#d8576b\"],[0.6666666666666666,\"#ed7953\"],[0.7777777777777778,\"#fb9f3a\"],[0.8888888888888888,\"#fdca26\"],[1.0,\"#f0f921\"]],\"type\":\"heatmap\"}],\"heatmapgl\":[{\"colorbar\":{\"outlinewidth\":0,\"ticks\":\"\"},\"colorscale\":[[0.0,\"#0d0887\"],[0.1111111111111111,\"#46039f\"],[0.2222222222222222,\"#7201a8\"],[0.3333333333333333,\"#9c179e\"],[0.4444444444444444,\"#bd3786\"],[0.5555555555555556,\"#d8576b\"],[0.6666666666666666,\"#ed7953\"],[0.7777777777777778,\"#fb9f3a\"],[0.8888888888888888,\"#fdca26\"],[1.0,\"#f0f921\"]],\"type\":\"heatmapgl\"}],\"histogram\":[{\"marker\":{\"pattern\":{\"fillmode\":\"overlay\",\"size\":10,\"solidity\":0.2}},\"type\":\"histogram\"}],\"histogram2d\":[{\"colorbar\":{\"outlinewidth\":0,\"ticks\":\"\"},\"colorscale\":[[0.0,\"#0d0887\"],[0.1111111111111111,\"#46039f\"],[0.2222222222222222,\"#7201a8\"],[0.3333333333333333,\"#9c179e\"],[0.4444444444444444,\"#bd3786\"],[0.5555555555555556,\"#d8576b\"],[0.6666666666666666,\"#ed7953\"],[0.7777777777777778,\"#fb9f3a\"],[0.8888888888888888,\"#fdca26\"],[1.0,\"#f0f921\"]],\"type\":\"histogram2d\"}],\"histogram2dcontour\":[{\"colorbar\":{\"outlinewidth\":0,\"ticks\":\"\"},\"colorscale\":[[0.0,\"#0d0887\"],[0.1111111111111111,\"#46039f\"],[0.2222222222222222,\"#7201a8\"],[0.3333333333333333,\"#9c179e\"],[0.4444444444444444,\"#bd3786\"],[0.5555555555555556,\"#d8576b\"],[0.6666666666666666,\"#ed7953\"],[0.7777777777777778,\"#fb9f3a\"],[0.8888888888888888,\"#fdca26\"],[1.0,\"#f0f921\"]],\"type\":\"histogram2dcontour\"}],\"mesh3d\":[{\"colorbar\":{\"outlinewidth\":0,\"ticks\":\"\"},\"type\":\"mesh3d\"}],\"parcoords\":[{\"line\":{\"colorbar\":{\"outlinewidth\":0,\"ticks\":\"\"}},\"type\":\"parcoords\"}],\"pie\":[{\"automargin\":true,\"type\":\"pie\"}],\"scatter\":[{\"marker\":{\"colorbar\":{\"outlinewidth\":0,\"ticks\":\"\"}},\"type\":\"scatter\"}],\"scatter3d\":[{\"line\":{\"colorbar\":{\"outlinewidth\":0,\"ticks\":\"\"}},\"marker\":{\"colorbar\":{\"outlinewidth\":0,\"ticks\":\"\"}},\"type\":\"scatter3d\"}],\"scattercarpet\":[{\"marker\":{\"colorbar\":{\"outlinewidth\":0,\"ticks\":\"\"}},\"type\":\"scattercarpet\"}],\"scattergeo\":[{\"marker\":{\"colorbar\":{\"outlinewidth\":0,\"ticks\":\"\"}},\"type\":\"scattergeo\"}],\"scattergl\":[{\"marker\":{\"colorbar\":{\"outlinewidth\":0,\"ticks\":\"\"}},\"type\":\"scattergl\"}],\"scattermapbox\":[{\"marker\":{\"colorbar\":{\"outlinewidth\":0,\"ticks\":\"\"}},\"type\":\"scattermapbox\"}],\"scatterpolar\":[{\"marker\":{\"colorbar\":{\"outlinewidth\":0,\"ticks\":\"\"}},\"type\":\"scatterpolar\"}],\"scatterpolargl\":[{\"marker\":{\"colorbar\":{\"outlinewidth\":0,\"ticks\":\"\"}},\"type\":\"scatterpolargl\"}],\"scatterternary\":[{\"marker\":{\"colorbar\":{\"outlinewidth\":0,\"ticks\":\"\"}},\"type\":\"scatterternary\"}],\"surface\":[{\"colorbar\":{\"outlinewidth\":0,\"ticks\":\"\"},\"colorscale\":[[0.0,\"#0d0887\"],[0.1111111111111111,\"#46039f\"],[0.2222222222222222,\"#7201a8\"],[0.3333333333333333,\"#9c179e\"],[0.4444444444444444,\"#bd3786\"],[0.5555555555555556,\"#d8576b\"],[0.6666666666666666,\"#ed7953\"],[0.7777777777777778,\"#fb9f3a\"],[0.8888888888888888,\"#fdca26\"],[1.0,\"#f0f921\"]],\"type\":\"surface\"}],\"table\":[{\"cells\":{\"fill\":{\"color\":\"#EBF0F8\"},\"line\":{\"color\":\"white\"}},\"header\":{\"fill\":{\"color\":\"#C8D4E3\"},\"line\":{\"color\":\"white\"}},\"type\":\"table\"}]},\"layout\":{\"annotationdefaults\":{\"arrowcolor\":\"#2a3f5f\",\"arrowhead\":0,\"arrowwidth\":1},\"autotypenumbers\":\"strict\",\"coloraxis\":{\"colorbar\":{\"outlinewidth\":0,\"ticks\":\"\"}},\"colorscale\":{\"diverging\":[[0,\"#8e0152\"],[0.1,\"#c51b7d\"],[0.2,\"#de77ae\"],[0.3,\"#f1b6da\"],[0.4,\"#fde0ef\"],[0.5,\"#f7f7f7\"],[0.6,\"#e6f5d0\"],[0.7,\"#b8e186\"],[0.8,\"#7fbc41\"],[0.9,\"#4d9221\"],[1,\"#276419\"]],\"sequential\":[[0.0,\"#0d0887\"],[0.1111111111111111,\"#46039f\"],[0.2222222222222222,\"#7201a8\"],[0.3333333333333333,\"#9c179e\"],[0.4444444444444444,\"#bd3786\"],[0.5555555555555556,\"#d8576b\"],[0.6666666666666666,\"#ed7953\"],[0.7777777777777778,\"#fb9f3a\"],[0.8888888888888888,\"#fdca26\"],[1.0,\"#f0f921\"]],\"sequentialminus\":[[0.0,\"#0d0887\"],[0.1111111111111111,\"#46039f\"],[0.2222222222222222,\"#7201a8\"],[0.3333333333333333,\"#9c179e\"],[0.4444444444444444,\"#bd3786\"],[0.5555555555555556,\"#d8576b\"],[0.6666666666666666,\"#ed7953\"],[0.7777777777777778,\"#fb9f3a\"],[0.8888888888888888,\"#fdca26\"],[1.0,\"#f0f921\"]]},\"colorway\":[\"#636efa\",\"#EF553B\",\"#00cc96\",\"#ab63fa\",\"#FFA15A\",\"#19d3f3\",\"#FF6692\",\"#B6E880\",\"#FF97FF\",\"#FECB52\"],\"font\":{\"color\":\"#2a3f5f\"},\"geo\":{\"bgcolor\":\"white\",\"lakecolor\":\"white\",\"landcolor\":\"#E5ECF6\",\"showlakes\":true,\"showland\":true,\"subunitcolor\":\"white\"},\"hoverlabel\":{\"align\":\"left\"},\"hovermode\":\"closest\",\"mapbox\":{\"style\":\"light\"},\"paper_bgcolor\":\"white\",\"plot_bgcolor\":\"#E5ECF6\",\"polar\":{\"angularaxis\":{\"gridcolor\":\"white\",\"linecolor\":\"white\",\"ticks\":\"\"},\"bgcolor\":\"#E5ECF6\",\"radialaxis\":{\"gridcolor\":\"white\",\"linecolor\":\"white\",\"ticks\":\"\"}},\"scene\":{\"xaxis\":{\"backgroundcolor\":\"#E5ECF6\",\"gridcolor\":\"white\",\"gridwidth\":2,\"linecolor\":\"white\",\"showbackground\":true,\"ticks\":\"\",\"zerolinecolor\":\"white\"},\"yaxis\":{\"backgroundcolor\":\"#E5ECF6\",\"gridcolor\":\"white\",\"gridwidth\":2,\"linecolor\":\"white\",\"showbackground\":true,\"ticks\":\"\",\"zerolinecolor\":\"white\"},\"zaxis\":{\"backgroundcolor\":\"#E5ECF6\",\"gridcolor\":\"white\",\"gridwidth\":2,\"linecolor\":\"white\",\"showbackground\":true,\"ticks\":\"\",\"zerolinecolor\":\"white\"}},\"shapedefaults\":{\"line\":{\"color\":\"#2a3f5f\"}},\"ternary\":{\"aaxis\":{\"gridcolor\":\"white\",\"linecolor\":\"white\",\"ticks\":\"\"},\"baxis\":{\"gridcolor\":\"white\",\"linecolor\":\"white\",\"ticks\":\"\"},\"bgcolor\":\"#E5ECF6\",\"caxis\":{\"gridcolor\":\"white\",\"linecolor\":\"white\",\"ticks\":\"\"}},\"title\":{\"x\":0.05},\"xaxis\":{\"automargin\":true,\"gridcolor\":\"white\",\"linecolor\":\"white\",\"ticks\":\"\",\"title\":{\"standoff\":15},\"zerolinecolor\":\"white\",\"zerolinewidth\":2},\"yaxis\":{\"automargin\":true,\"gridcolor\":\"white\",\"linecolor\":\"white\",\"ticks\":\"\",\"title\":{\"standoff\":15},\"zerolinecolor\":\"white\",\"zerolinewidth\":2}}},\"xaxis\":{\"anchor\":\"y\",\"domain\":[0.0,1.0],\"title\":{\"text\":\"valence\"}},\"yaxis\":{\"anchor\":\"x\",\"domain\":[0.0,1.0],\"title\":{\"text\":\"arousal\"}},\"legend\":{\"title\":{\"text\":\"class\"},\"tracegroupgap\":0,\"itemsizing\":\"constant\"},\"title\":{\"text\":\"Method 2. Relaxing the conditions for class happy\"},\"height\":400,\"width\":600},                        {\"responsive\": true}                    ).then(function(){\n                            \nvar gd = document.getElementById('3fc276ca-e7f7-4e5a-8380-17163a0fdce6');\nvar x = new MutationObserver(function (mutations, observer) {{\n        var display = window.getComputedStyle(gd).display;\n        if (!display || display === 'none') {{\n            console.log([gd, 'removed!']);\n            Plotly.purge(gd);\n            observer.disconnect();\n        }}\n}});\n\n// Listen for the removal of the full notebook cells\nvar notebookContainer = gd.closest('#notebook-container');\nif (notebookContainer) {{\n    x.observe(notebookContainer, {childList: true});\n}}\n\n// Listen for the clearing of the current output cell\nvar outputEl = gd.closest('.output');\nif (outputEl) {{\n    x.observe(outputEl, {childList: true});\n}}\n\n                        })                };                });            </script>        </div>"
     },
     "metadata": {},
     "output_type": "display_data"
    }
   ],
   "source": [
    "scatter_df_sad = scatter_df.copy()\n",
    "scatter_df_sad['class'] = scatter_df_sad['class'].replace(['None'], 'happy')\n",
    "fig = px.scatter(scatter_df_sad,\n",
    "                 x='valence',\n",
    "                 y='arousal',\n",
    "                 size='count',\n",
    "                 color='class',\n",
    "                 width=600,\n",
    "                 height=400,\n",
    "                 color_discrete_map={\n",
    "                \"sad\": px.colors.qualitative.Prism[1],\n",
    "                \"angry\": px.colors.qualitative.Prism[7],\n",
    "                \"relaxed\": px.colors.qualitative.Prism[4],\n",
    "                \"happy\": px.colors.qualitative.Prism[5],\n",
    "                \"None\": px.colors.qualitative.Prism[10]},\n",
    "                 title='Method 2. Relaxing the conditions for class happy')\n",
    "fig.show()"
   ],
   "metadata": {
    "collapsed": false,
    "pycharm": {
     "name": "#%%\n"
    }
   }
  },
  {
   "cell_type": "markdown",
   "source": [
    "- introduces new bias, why should all these songs be happy?\n",
    "- what about outliers in the data?"
   ],
   "metadata": {
    "collapsed": false
   }
  },
  {
   "cell_type": "markdown",
   "source": [
    "## Mean value over all annotators for the same segment and pianist"
   ],
   "metadata": {
    "collapsed": false
   }
  },
  {
   "cell_type": "code",
   "execution_count": 275,
   "outputs": [
    {
     "data": {
      "text/plain": "      valence   arousal  count    class\n0    0.181818  2.909091   11.0  relaxed\n1    0.000000  3.875000    8.0    angry\n2    0.181818  2.909091   11.0  relaxed\n3   -0.250000  3.000000    8.0      sad\n4   -0.181818  3.000000   11.0      sad\n..        ...       ...    ...      ...\n292  0.090909  2.181818   11.0  relaxed\n293  0.000000  3.166667    6.0    angry\n294 -0.181818  2.000000   11.0      sad\n295  0.000000  1.833333    6.0  relaxed\n296  0.181818  2.909091   11.0  relaxed\n\n[297 rows x 4 columns]",
      "text/html": "<div>\n<style scoped>\n    .dataframe tbody tr th:only-of-type {\n        vertical-align: middle;\n    }\n\n    .dataframe tbody tr th {\n        vertical-align: top;\n    }\n\n    .dataframe thead th {\n        text-align: right;\n    }\n</style>\n<table border=\"1\" class=\"dataframe\">\n  <thead>\n    <tr style=\"text-align: right;\">\n      <th></th>\n      <th>valence</th>\n      <th>arousal</th>\n      <th>count</th>\n      <th>class</th>\n    </tr>\n  </thead>\n  <tbody>\n    <tr>\n      <th>0</th>\n      <td>0.181818</td>\n      <td>2.909091</td>\n      <td>11.0</td>\n      <td>relaxed</td>\n    </tr>\n    <tr>\n      <th>1</th>\n      <td>0.000000</td>\n      <td>3.875000</td>\n      <td>8.0</td>\n      <td>angry</td>\n    </tr>\n    <tr>\n      <th>2</th>\n      <td>0.181818</td>\n      <td>2.909091</td>\n      <td>11.0</td>\n      <td>relaxed</td>\n    </tr>\n    <tr>\n      <th>3</th>\n      <td>-0.250000</td>\n      <td>3.000000</td>\n      <td>8.0</td>\n      <td>sad</td>\n    </tr>\n    <tr>\n      <th>4</th>\n      <td>-0.181818</td>\n      <td>3.000000</td>\n      <td>11.0</td>\n      <td>sad</td>\n    </tr>\n    <tr>\n      <th>...</th>\n      <td>...</td>\n      <td>...</td>\n      <td>...</td>\n      <td>...</td>\n    </tr>\n    <tr>\n      <th>292</th>\n      <td>0.090909</td>\n      <td>2.181818</td>\n      <td>11.0</td>\n      <td>relaxed</td>\n    </tr>\n    <tr>\n      <th>293</th>\n      <td>0.000000</td>\n      <td>3.166667</td>\n      <td>6.0</td>\n      <td>angry</td>\n    </tr>\n    <tr>\n      <th>294</th>\n      <td>-0.181818</td>\n      <td>2.000000</td>\n      <td>11.0</td>\n      <td>sad</td>\n    </tr>\n    <tr>\n      <th>295</th>\n      <td>0.000000</td>\n      <td>1.833333</td>\n      <td>6.0</td>\n      <td>relaxed</td>\n    </tr>\n    <tr>\n      <th>296</th>\n      <td>0.181818</td>\n      <td>2.909091</td>\n      <td>11.0</td>\n      <td>relaxed</td>\n    </tr>\n  </tbody>\n</table>\n<p>297 rows × 4 columns</p>\n</div>"
     },
     "execution_count": 275,
     "metadata": {},
     "output_type": "execute_result"
    }
   ],
   "source": [
    "annot_df_mean = annot_df.copy()\n",
    "group_mean = annot_df_mean.groupby(['pianist_id', 'segment_id']).mean()\n",
    "group_mean['class'] = group_mean.apply(lambda row: label_race(row), axis=1)\n",
    "\n",
    "annot_df_count = annot_df.copy()\n",
    "group_count = annot_df_count.groupby(['pianist_id', 'segment_id']).count()\n",
    "\n",
    "scatter_data_mean = np.stack([group_mean['valence'], group_mean['arousal'], group_count['annotator_id']]).T\n",
    "\n",
    "scatter_df_mean = pd.DataFrame(data=scatter_data_mean, columns=['valence', 'arousal', 'count'])\n",
    "scatter_df_mean['class'] = scatter_df_mean.apply(lambda row: label_race(row), axis=1)\n",
    "scatter_df_mean"
   ],
   "metadata": {
    "collapsed": false,
    "pycharm": {
     "name": "#%%\n"
    }
   }
  },
  {
   "cell_type": "code",
   "execution_count": 276,
   "outputs": [
    {
     "data": {
      "text/plain": "                       annotator_id   arousal   valence  gems_wonder  \\\npianist_id segment_id                                                  \n1          0              98.000000  2.909091  0.181818     3.272727   \n           1             107.750000  3.875000  0.000000     3.375000   \n           2              98.000000  2.909091  0.181818     2.818182   \n           3             107.750000  3.000000 -0.250000     1.875000   \n           4              98.000000  3.000000 -0.181818     2.727273   \n...                             ...       ...       ...          ...   \n11         22            100.090909  2.181818  0.090909     2.727273   \n           23            106.833333  3.166667  0.000000     2.833333   \n           24            100.090909  2.000000 -0.181818     2.454545   \n           25            106.833333  1.833333  0.000000     2.833333   \n           26            100.090909  2.909091  0.181818     3.090909   \n\n                       gems_transcendence  gems_tenderness  gems_nostalgia  \\\npianist_id segment_id                                                        \n1          0                     3.181818         2.909091        3.727273   \n           1                     3.250000         2.125000        2.375000   \n           2                     2.545455         1.636364        1.545455   \n           3                     1.750000         1.375000        1.750000   \n           4                     2.636364         2.545455        2.545455   \n...                                   ...              ...             ...   \n11         22                    1.545455         3.272727        2.818182   \n           23                    2.833333         1.666667        2.000000   \n           24                    1.636364         3.272727        3.818182   \n           25                    2.000000         1.833333        3.500000   \n           26                    1.909091         1.454545        2.363636   \n\n                       gems_peacefulness  gems_power  gems_joyful_activation  \\\npianist_id segment_id                                                          \n1          0                    3.454545    2.090909                2.363636   \n           1                    1.750000    2.375000                2.875000   \n           2                    1.545455    2.909091                3.000000   \n           3                    1.375000    2.625000                1.500000   \n           4                    2.272727    2.363636                1.454545   \n...                                  ...         ...                     ...   \n11         22                   3.454545    1.454545                2.090909   \n           23                   1.333333    3.000000                1.666667   \n           24                   3.636364    1.181818                1.909091   \n           25                   2.833333    1.333333                1.333333   \n           26                   1.818182    2.636364                2.545455   \n\n                       gems_tension  gems_sadness  gemmes_flow  \\\npianist_id segment_id                                            \n1          0               2.090909      2.363636     3.818182   \n           1               2.625000      1.875000     3.375000   \n           2               3.363636      1.727273     3.000000   \n           3               3.375000      2.375000     2.000000   \n           4               2.727273      2.909091     3.000000   \n...                             ...           ...          ...   \n11         22              1.636364      2.545455     2.636364   \n           23              2.666667      1.166667     2.833333   \n           24              1.636364      2.545455     3.545455   \n           25              1.500000      2.000000     3.500000   \n           26              2.272727      1.727273     2.636364   \n\n                       gemmes_movement  gemmes_force  gemmes_interior  \\\npianist_id segment_id                                                   \n1          0                  2.000000      2.090909         2.909091   \n           1                  4.125000      2.500000         2.250000   \n           2                  3.636364      3.000000         1.909091   \n           3                  3.250000      2.500000         1.750000   \n           4                  1.727273      2.363636         2.818182   \n...                                ...           ...              ...   \n11         22                 2.272727      1.545455         3.000000   \n           23                 2.833333      3.333333         2.833333   \n           24                 1.545455      1.363636         3.090909   \n           25                 2.166667      2.166667         3.166667   \n           26                 2.181818      2.454545         2.181818   \n\n                       gemmes_wandering    class  count  \npianist_id segment_id                                    \n1          0                   3.545455  relaxed     11  \n           1                   2.000000    angry      8  \n           2                   2.090909  relaxed     11  \n           3                   1.750000      sad      8  \n           4                   2.363636      sad     11  \n...                                 ...      ...    ...  \n11         22                  2.545455  relaxed     11  \n           23                  2.666667    angry      6  \n           24                  2.545455      sad     11  \n           25                  2.666667  relaxed      6  \n           26                  2.090909  relaxed     11  \n\n[297 rows x 19 columns]",
      "text/html": "<div>\n<style scoped>\n    .dataframe tbody tr th:only-of-type {\n        vertical-align: middle;\n    }\n\n    .dataframe tbody tr th {\n        vertical-align: top;\n    }\n\n    .dataframe thead th {\n        text-align: right;\n    }\n</style>\n<table border=\"1\" class=\"dataframe\">\n  <thead>\n    <tr style=\"text-align: right;\">\n      <th></th>\n      <th></th>\n      <th>annotator_id</th>\n      <th>arousal</th>\n      <th>valence</th>\n      <th>gems_wonder</th>\n      <th>gems_transcendence</th>\n      <th>gems_tenderness</th>\n      <th>gems_nostalgia</th>\n      <th>gems_peacefulness</th>\n      <th>gems_power</th>\n      <th>gems_joyful_activation</th>\n      <th>gems_tension</th>\n      <th>gems_sadness</th>\n      <th>gemmes_flow</th>\n      <th>gemmes_movement</th>\n      <th>gemmes_force</th>\n      <th>gemmes_interior</th>\n      <th>gemmes_wandering</th>\n      <th>class</th>\n      <th>count</th>\n    </tr>\n    <tr>\n      <th>pianist_id</th>\n      <th>segment_id</th>\n      <th></th>\n      <th></th>\n      <th></th>\n      <th></th>\n      <th></th>\n      <th></th>\n      <th></th>\n      <th></th>\n      <th></th>\n      <th></th>\n      <th></th>\n      <th></th>\n      <th></th>\n      <th></th>\n      <th></th>\n      <th></th>\n      <th></th>\n      <th></th>\n      <th></th>\n    </tr>\n  </thead>\n  <tbody>\n    <tr>\n      <th rowspan=\"5\" valign=\"top\">1</th>\n      <th>0</th>\n      <td>98.000000</td>\n      <td>2.909091</td>\n      <td>0.181818</td>\n      <td>3.272727</td>\n      <td>3.181818</td>\n      <td>2.909091</td>\n      <td>3.727273</td>\n      <td>3.454545</td>\n      <td>2.090909</td>\n      <td>2.363636</td>\n      <td>2.090909</td>\n      <td>2.363636</td>\n      <td>3.818182</td>\n      <td>2.000000</td>\n      <td>2.090909</td>\n      <td>2.909091</td>\n      <td>3.545455</td>\n      <td>relaxed</td>\n      <td>11</td>\n    </tr>\n    <tr>\n      <th>1</th>\n      <td>107.750000</td>\n      <td>3.875000</td>\n      <td>0.000000</td>\n      <td>3.375000</td>\n      <td>3.250000</td>\n      <td>2.125000</td>\n      <td>2.375000</td>\n      <td>1.750000</td>\n      <td>2.375000</td>\n      <td>2.875000</td>\n      <td>2.625000</td>\n      <td>1.875000</td>\n      <td>3.375000</td>\n      <td>4.125000</td>\n      <td>2.500000</td>\n      <td>2.250000</td>\n      <td>2.000000</td>\n      <td>angry</td>\n      <td>8</td>\n    </tr>\n    <tr>\n      <th>2</th>\n      <td>98.000000</td>\n      <td>2.909091</td>\n      <td>0.181818</td>\n      <td>2.818182</td>\n      <td>2.545455</td>\n      <td>1.636364</td>\n      <td>1.545455</td>\n      <td>1.545455</td>\n      <td>2.909091</td>\n      <td>3.000000</td>\n      <td>3.363636</td>\n      <td>1.727273</td>\n      <td>3.000000</td>\n      <td>3.636364</td>\n      <td>3.000000</td>\n      <td>1.909091</td>\n      <td>2.090909</td>\n      <td>relaxed</td>\n      <td>11</td>\n    </tr>\n    <tr>\n      <th>3</th>\n      <td>107.750000</td>\n      <td>3.000000</td>\n      <td>-0.250000</td>\n      <td>1.875000</td>\n      <td>1.750000</td>\n      <td>1.375000</td>\n      <td>1.750000</td>\n      <td>1.375000</td>\n      <td>2.625000</td>\n      <td>1.500000</td>\n      <td>3.375000</td>\n      <td>2.375000</td>\n      <td>2.000000</td>\n      <td>3.250000</td>\n      <td>2.500000</td>\n      <td>1.750000</td>\n      <td>1.750000</td>\n      <td>sad</td>\n      <td>8</td>\n    </tr>\n    <tr>\n      <th>4</th>\n      <td>98.000000</td>\n      <td>3.000000</td>\n      <td>-0.181818</td>\n      <td>2.727273</td>\n      <td>2.636364</td>\n      <td>2.545455</td>\n      <td>2.545455</td>\n      <td>2.272727</td>\n      <td>2.363636</td>\n      <td>1.454545</td>\n      <td>2.727273</td>\n      <td>2.909091</td>\n      <td>3.000000</td>\n      <td>1.727273</td>\n      <td>2.363636</td>\n      <td>2.818182</td>\n      <td>2.363636</td>\n      <td>sad</td>\n      <td>11</td>\n    </tr>\n    <tr>\n      <th>...</th>\n      <th>...</th>\n      <td>...</td>\n      <td>...</td>\n      <td>...</td>\n      <td>...</td>\n      <td>...</td>\n      <td>...</td>\n      <td>...</td>\n      <td>...</td>\n      <td>...</td>\n      <td>...</td>\n      <td>...</td>\n      <td>...</td>\n      <td>...</td>\n      <td>...</td>\n      <td>...</td>\n      <td>...</td>\n      <td>...</td>\n      <td>...</td>\n      <td>...</td>\n    </tr>\n    <tr>\n      <th rowspan=\"5\" valign=\"top\">11</th>\n      <th>22</th>\n      <td>100.090909</td>\n      <td>2.181818</td>\n      <td>0.090909</td>\n      <td>2.727273</td>\n      <td>1.545455</td>\n      <td>3.272727</td>\n      <td>2.818182</td>\n      <td>3.454545</td>\n      <td>1.454545</td>\n      <td>2.090909</td>\n      <td>1.636364</td>\n      <td>2.545455</td>\n      <td>2.636364</td>\n      <td>2.272727</td>\n      <td>1.545455</td>\n      <td>3.000000</td>\n      <td>2.545455</td>\n      <td>relaxed</td>\n      <td>11</td>\n    </tr>\n    <tr>\n      <th>23</th>\n      <td>106.833333</td>\n      <td>3.166667</td>\n      <td>0.000000</td>\n      <td>2.833333</td>\n      <td>2.833333</td>\n      <td>1.666667</td>\n      <td>2.000000</td>\n      <td>1.333333</td>\n      <td>3.000000</td>\n      <td>1.666667</td>\n      <td>2.666667</td>\n      <td>1.166667</td>\n      <td>2.833333</td>\n      <td>2.833333</td>\n      <td>3.333333</td>\n      <td>2.833333</td>\n      <td>2.666667</td>\n      <td>angry</td>\n      <td>6</td>\n    </tr>\n    <tr>\n      <th>24</th>\n      <td>100.090909</td>\n      <td>2.000000</td>\n      <td>-0.181818</td>\n      <td>2.454545</td>\n      <td>1.636364</td>\n      <td>3.272727</td>\n      <td>3.818182</td>\n      <td>3.636364</td>\n      <td>1.181818</td>\n      <td>1.909091</td>\n      <td>1.636364</td>\n      <td>2.545455</td>\n      <td>3.545455</td>\n      <td>1.545455</td>\n      <td>1.363636</td>\n      <td>3.090909</td>\n      <td>2.545455</td>\n      <td>sad</td>\n      <td>11</td>\n    </tr>\n    <tr>\n      <th>25</th>\n      <td>106.833333</td>\n      <td>1.833333</td>\n      <td>0.000000</td>\n      <td>2.833333</td>\n      <td>2.000000</td>\n      <td>1.833333</td>\n      <td>3.500000</td>\n      <td>2.833333</td>\n      <td>1.333333</td>\n      <td>1.333333</td>\n      <td>1.500000</td>\n      <td>2.000000</td>\n      <td>3.500000</td>\n      <td>2.166667</td>\n      <td>2.166667</td>\n      <td>3.166667</td>\n      <td>2.666667</td>\n      <td>relaxed</td>\n      <td>6</td>\n    </tr>\n    <tr>\n      <th>26</th>\n      <td>100.090909</td>\n      <td>2.909091</td>\n      <td>0.181818</td>\n      <td>3.090909</td>\n      <td>1.909091</td>\n      <td>1.454545</td>\n      <td>2.363636</td>\n      <td>1.818182</td>\n      <td>2.636364</td>\n      <td>2.545455</td>\n      <td>2.272727</td>\n      <td>1.727273</td>\n      <td>2.636364</td>\n      <td>2.181818</td>\n      <td>2.454545</td>\n      <td>2.181818</td>\n      <td>2.090909</td>\n      <td>relaxed</td>\n      <td>11</td>\n    </tr>\n  </tbody>\n</table>\n<p>297 rows × 19 columns</p>\n</div>"
     },
     "execution_count": 276,
     "metadata": {},
     "output_type": "execute_result"
    }
   ],
   "source": [
    "# Get the grouped dataframe\n",
    "annot_df_mean = annot_df.copy()\n",
    "group_mean = annot_df_mean.groupby(['pianist_id', 'segment_id']).mean()\n",
    "group_mean['class'] = group_mean.apply(lambda row: label_race(row), axis=1)\n",
    "\n",
    "annot_df_count = annot_df.copy()\n",
    "group_mean['count'] = annot_df_count.groupby(['pianist_id', 'segment_id']).count()['annotator_id']\n",
    "group_mean"
   ],
   "metadata": {
    "collapsed": false,
    "pycharm": {
     "name": "#%%\n"
    }
   }
  },
  {
   "cell_type": "code",
   "execution_count": 277,
   "outputs": [
    {
     "data": {
      "application/vnd.plotly.v1+json": {
       "data": [
        {
         "hovertemplate": "class=relaxed<br>valence=%{x}<br>arousal=%{y}<br>count=%{marker.size}<extra></extra>",
         "legendgroup": "relaxed",
         "marker": {
          "color": "rgb(115, 175, 72)",
          "size": [
           11.0,
           11.0,
           8.0,
           11.0,
           8.0,
           11.0,
           11.0,
           8.0,
           8.0,
           8.0,
           8.0,
           8.0,
           8.0,
           8.0,
           8.0,
           8.0,
           7.0,
           11.0,
           11.0,
           7.0,
           7.0,
           10.0,
           7.0,
           7.0,
           10.0,
           10.0,
           7.0,
           10.0,
           8.0,
           8.0,
           8.0,
           8.0,
           8.0,
           8.0,
           8.0,
           8.0,
           8.0,
           8.0,
           8.0,
           9.0,
           10.0,
           9.0,
           10.0,
           9.0,
           10.0,
           9.0,
           10.0,
           9.0,
           8.0,
           10.0,
           8.0,
           8.0,
           10.0,
           8.0,
           9.0,
           10.0,
           10.0,
           9.0,
           10.0,
           10.0,
           10.0,
           9.0,
           10.0,
           7.0,
           8.0,
           7.0,
           8.0,
           8.0,
           8.0,
           7.0,
           10.0,
           11.0,
           10.0,
           11.0,
           10.0,
           11.0,
           10.0,
           10.0,
           10.0,
           11.0,
           6.0,
           11.0,
           11.0,
           6.0,
           11.0,
           6.0,
           11.0,
           11.0,
           11.0,
           6.0,
           11.0
          ],
          "sizemode": "area",
          "sizeref": 0.0275,
          "symbol": "circle"
         },
         "mode": "markers",
         "name": "relaxed",
         "orientation": "v",
         "showlegend": true,
         "x": [
          0.18181818181818182,
          0.18181818181818182,
          1.0,
          0.7272727272727273,
          0.5,
          0.9090909090909091,
          0.09090909090909091,
          0.25,
          0.75,
          1.0,
          0.25,
          0.75,
          0.375,
          0.125,
          0.125,
          0.5,
          0.5714285714285714,
          0.18181818181818182,
          0.7272727272727273,
          0.14285714285714285,
          0.2857142857142857,
          0.7,
          0.5714285714285714,
          0.2857142857142857,
          0.6,
          0.5,
          0.0,
          0.5,
          0.375,
          0.0,
          0.375,
          0.125,
          0.5,
          0.125,
          0.0,
          0.125,
          0.5,
          0.375,
          0.0,
          0.0,
          0.8,
          0.5555555555555556,
          0.2,
          0.0,
          0.3,
          0.1111111111111111,
          0.7,
          0.4444444444444444,
          0.875,
          0.7,
          0.0,
          0.125,
          0.2,
          0.0,
          0.4444444444444444,
          0.9,
          0.2,
          0.0,
          0.7,
          0.2,
          0.0,
          0.0,
          0.3,
          0.8571428571428571,
          0.125,
          0.0,
          0.875,
          0.75,
          0.375,
          0.2857142857142857,
          0.1,
          0.18181818181818182,
          0.1,
          0.5454545454545454,
          0.8,
          0.6363636363636364,
          0.8,
          0.3,
          0.3,
          0.2727272727272727,
          0.3333333333333333,
          0.8181818181818182,
          0.9090909090909091,
          0.16666666666666666,
          0.7272727272727273,
          0.0,
          0.18181818181818182,
          0.45454545454545453,
          0.09090909090909091,
          0.0,
          0.18181818181818182
         ],
         "xaxis": "x",
         "y": [
          2.909090909090909,
          2.909090909090909,
          2.875,
          2.8181818181818183,
          2.25,
          2.727272727272727,
          2.1818181818181817,
          2.875,
          2.375,
          2.75,
          2.75,
          2.875,
          2.375,
          2.5,
          2.5,
          2.0,
          2.142857142857143,
          2.5454545454545454,
          2.727272727272727,
          1.1428571428571428,
          2.857142857142857,
          2.5,
          2.4285714285714284,
          2.7142857142857144,
          2.8,
          2.4,
          2.142857142857143,
          2.3,
          2.25,
          2.875,
          2.625,
          2.5,
          2.25,
          2.375,
          2.875,
          2.25,
          2.375,
          2.25,
          1.625,
          2.3333333333333335,
          2.7,
          1.8888888888888888,
          2.8,
          2.111111111111111,
          2.2,
          1.8888888888888888,
          2.1,
          2.888888888888889,
          2.125,
          2.8,
          2.5,
          2.625,
          2.7,
          2.125,
          2.3333333333333335,
          2.3,
          2.5,
          2.111111111111111,
          2.7,
          2.3,
          1.9,
          2.4444444444444446,
          2.9,
          2.142857142857143,
          2.25,
          2.2857142857142856,
          2.5,
          2.5,
          1.875,
          2.142857142857143,
          1.4,
          2.5454545454545454,
          2.8,
          2.272727272727273,
          2.1,
          2.6363636363636362,
          2.2,
          1.4,
          1.5,
          2.6363636363636362,
          2.5,
          2.1818181818181817,
          2.909090909090909,
          2.6666666666666665,
          2.272727272727273,
          2.0,
          2.4545454545454546,
          2.5454545454545454,
          2.1818181818181817,
          1.8333333333333333,
          2.909090909090909
         ],
         "yaxis": "y",
         "type": "scatter"
        },
        {
         "hovertemplate": "class=angry<br>valence=%{x}<br>arousal=%{y}<br>count=%{marker.size}<extra></extra>",
         "legendgroup": "angry",
         "marker": {
          "color": "rgb(204, 80, 62)",
          "size": [
           8.0,
           11.0,
           8.0,
           11.0,
           8.0,
           11.0,
           8.0,
           11.0,
           8.0,
           8.0,
           8.0,
           8.0,
           8.0,
           8.0,
           8.0,
           11.0,
           11.0,
           7.0,
           11.0,
           7.0,
           11.0,
           10.0,
           7.0,
           7.0,
           10.0,
           10.0,
           8.0,
           8.0,
           8.0,
           8.0,
           8.0,
           8.0,
           9.0,
           10.0,
           10.0,
           9.0,
           10.0,
           10.0,
           10.0,
           9.0,
           10.0,
           8.0,
           10.0,
           8.0,
           8.0,
           10.0,
           9.0,
           10.0,
           9.0,
           10.0,
           9.0,
           9.0,
           8.0,
           8.0,
           8.0,
           8.0,
           7.0,
           8.0,
           7.0,
           8.0,
           7.0,
           11.0,
           11.0,
           10.0,
           11.0,
           11.0,
           10.0,
           6.0,
           11.0,
           6.0,
           11.0,
           6.0
          ],
          "sizemode": "area",
          "sizeref": 0.0275,
          "symbol": "circle"
         },
         "mode": "markers",
         "name": "angry",
         "orientation": "v",
         "showlegend": true,
         "x": [
          0.0,
          -0.36363636363636365,
          -1.125,
          -0.45454545454545453,
          -0.5,
          -0.09090909090909091,
          -1.0,
          -0.09090909090909091,
          -0.25,
          -0.25,
          -0.875,
          -0.125,
          -0.25,
          -0.75,
          -0.375,
          -0.09090909090909091,
          0.0,
          -1.0,
          -0.6363636363636364,
          -0.7142857142857143,
          -0.36363636363636365,
          -0.7,
          -0.5714285714285714,
          -1.1428571428571428,
          -0.3,
          -0.6,
          -0.375,
          0.0,
          -0.25,
          -0.625,
          -1.25,
          0.0,
          -0.1111111111111111,
          -0.5,
          -0.9,
          0.0,
          -1.0,
          -0.2,
          -1.5,
          -0.2222222222222222,
          -0.1,
          -0.5,
          0.0,
          -0.375,
          -0.875,
          0.0,
          -0.2222222222222222,
          -0.2,
          -1.0,
          -1.1,
          -0.5555555555555556,
          -0.5555555555555556,
          -0.875,
          -0.125,
          -0.375,
          -0.625,
          -0.8571428571428571,
          -0.375,
          -0.42857142857142855,
          0.0,
          -1.0,
          -0.45454545454545453,
          -0.8181818181818182,
          -1.2,
          -1.0,
          -0.7272727272727273,
          0.0,
          -0.16666666666666666,
          -0.09090909090909091,
          -0.16666666666666666,
          -0.18181818181818182,
          0.0
         ],
         "xaxis": "x",
         "y": [
          3.875,
          3.1818181818181817,
          3.125,
          3.8181818181818183,
          3.75,
          3.272727272727273,
          3.125,
          3.3636363636363638,
          3.125,
          3.25,
          3.125,
          4.25,
          3.125,
          3.25,
          3.625,
          3.5454545454545454,
          3.6363636363636362,
          3.142857142857143,
          3.8181818181818183,
          3.142857142857143,
          3.4545454545454546,
          3.4,
          3.2857142857142856,
          4.714285714285714,
          3.9,
          3.2,
          3.375,
          3.625,
          3.25,
          3.75,
          3.5,
          3.125,
          3.7777777777777777,
          3.4,
          3.3,
          3.5555555555555554,
          3.3,
          3.3,
          4.3,
          4.0,
          3.1,
          3.375,
          4.7,
          3.25,
          3.75,
          3.8,
          3.111111111111111,
          3.1,
          3.3333333333333335,
          4.8,
          3.3333333333333335,
          3.111111111111111,
          3.5,
          3.375,
          4.125,
          4.125,
          3.142857142857143,
          3.25,
          3.142857142857143,
          3.25,
          3.142857142857143,
          3.090909090909091,
          3.1818181818181817,
          4.7,
          3.090909090909091,
          3.5454545454545454,
          3.5,
          3.1666666666666665,
          3.727272727272727,
          3.1666666666666665,
          3.090909090909091,
          3.1666666666666665
         ],
         "yaxis": "y",
         "type": "scatter"
        },
        {
         "hovertemplate": "class=sad<br>valence=%{x}<br>arousal=%{y}<br>count=%{marker.size}<extra></extra>",
         "legendgroup": "sad",
         "marker": {
          "color": "rgb(29, 105, 150)",
          "size": [
           8.0,
           11.0,
           8.0,
           8.0,
           11.0,
           8.0,
           8.0,
           8.0,
           8.0,
           8.0,
           8.0,
           8.0,
           8.0,
           11.0,
           7.0,
           7.0,
           7.0,
           7.0,
           7.0,
           7.0,
           11.0,
           7.0,
           7.0,
           11.0,
           7.0,
           10.0,
           10.0,
           10.0,
           7.0,
           10.0,
           7.0,
           7.0,
           8.0,
           8.0,
           8.0,
           8.0,
           8.0,
           9.0,
           9.0,
           9.0,
           10.0,
           8.0,
           10.0,
           8.0,
           10.0,
           10.0,
           9.0,
           9.0,
           10.0,
           9.0,
           7.0,
           8.0,
           7.0,
           7.0,
           7.0,
           7.0,
           11.0,
           10.0,
           11.0,
           11.0,
           11.0,
           11.0,
           11.0,
           11.0,
           11.0,
           6.0,
           6.0,
           11.0
          ],
          "sizemode": "area",
          "sizeref": 0.0275,
          "symbol": "circle"
         },
         "mode": "markers",
         "name": "sad",
         "orientation": "v",
         "showlegend": true,
         "x": [
          -0.25,
          -0.18181818181818182,
          -0.125,
          -0.875,
          -0.36363636363636365,
          -0.375,
          -0.375,
          -0.375,
          -0.625,
          -0.375,
          -0.25,
          -0.5,
          -0.125,
          -0.2727272727272727,
          -0.42857142857142855,
          -0.2857142857142857,
          -0.8571428571428571,
          -0.8571428571428571,
          -0.2857142857142857,
          -0.5714285714285714,
          -0.2727272727272727,
          -0.2857142857142857,
          -0.42857142857142855,
          -0.2727272727272727,
          -0.7142857142857143,
          -0.1,
          -1.0,
          -0.4,
          -1.2857142857142858,
          -0.9,
          -0.2857142857142857,
          -0.2857142857142857,
          -0.25,
          -0.875,
          -0.875,
          -0.625,
          -0.375,
          -0.1111111111111111,
          -0.2222222222222222,
          -0.1111111111111111,
          -0.1,
          -0.625,
          -0.3,
          -0.125,
          -0.1,
          -0.4,
          -0.3333333333333333,
          -0.8888888888888888,
          -0.7,
          -0.2222222222222222,
          -0.42857142857142855,
          -0.25,
          -0.7142857142857143,
          -0.7142857142857143,
          -0.14285714285714285,
          -0.5714285714285714,
          -0.09090909090909091,
          -0.4,
          -0.36363636363636365,
          -0.09090909090909091,
          -0.45454545454545453,
          -0.09090909090909091,
          -0.09090909090909091,
          -0.36363636363636365,
          -0.18181818181818182,
          -1.0,
          -0.16666666666666666,
          -0.18181818181818182
         ],
         "xaxis": "x",
         "y": [
          3.0,
          3.0,
          2.875,
          3.0,
          2.6363636363636362,
          2.25,
          2.5,
          2.625,
          3.0,
          2.25,
          3.0,
          2.875,
          2.5,
          2.3636363636363638,
          2.4285714285714284,
          3.0,
          3.0,
          2.2857142857142856,
          2.0,
          3.0,
          2.909090909090909,
          2.0,
          3.0,
          2.0,
          2.7142857142857144,
          2.5,
          2.6,
          2.8,
          2.142857142857143,
          3.0,
          2.7142857142857144,
          2.857142857142857,
          2.0,
          2.625,
          2.875,
          2.875,
          2.375,
          3.0,
          3.0,
          2.2222222222222223,
          2.7,
          2.625,
          2.6,
          2.25,
          2.5,
          2.9,
          2.6666666666666665,
          2.888888888888889,
          2.2,
          3.0,
          2.7142857142857144,
          2.875,
          2.5714285714285716,
          2.5714285714285716,
          2.5714285714285716,
          3.0,
          1.9090909090909092,
          2.3,
          2.4545454545454546,
          2.090909090909091,
          2.5454545454545454,
          1.7272727272727273,
          2.727272727272727,
          2.727272727272727,
          2.6363636363636362,
          2.8333333333333335,
          3.0,
          2.0
         ],
         "yaxis": "y",
         "type": "scatter"
        },
        {
         "hovertemplate": "class=happy<br>valence=%{x}<br>arousal=%{y}<br>count=%{marker.size}<extra></extra>",
         "legendgroup": "happy",
         "marker": {
          "color": "rgb(237, 173, 8)",
          "size": [
           11.0,
           11.0,
           8.0,
           11.0,
           8.0,
           8.0,
           8.0,
           8.0,
           8.0,
           8.0,
           11.0,
           11.0,
           11.0,
           11.0,
           7.0,
           11.0,
           10.0,
           7.0,
           10.0,
           7.0,
           7.0,
           7.0,
           8.0,
           8.0,
           8.0,
           8.0,
           8.0,
           10.0,
           9.0,
           10.0,
           9.0,
           10.0,
           9.0,
           8.0,
           10.0,
           8.0,
           10.0,
           8.0,
           10.0,
           10.0,
           10.0,
           10.0,
           10.0,
           10.0,
           8.0,
           9.0,
           10.0,
           9.0,
           10.0,
           10.0,
           9.0,
           7.0,
           8.0,
           7.0,
           8.0,
           8.0,
           10.0,
           11.0,
           10.0,
           10.0,
           10.0,
           10.0,
           6.0,
           6.0,
           6.0,
           6.0
          ],
          "sizemode": "area",
          "sizeref": 0.0275,
          "symbol": "circle"
         },
         "mode": "markers",
         "name": "happy",
         "orientation": "v",
         "showlegend": true,
         "x": [
          0.8181818181818182,
          0.6363636363636364,
          0.125,
          0.5454545454545454,
          0.5,
          0.625,
          1.125,
          0.25,
          0.5,
          0.375,
          0.09090909090909091,
          1.0,
          0.8181818181818182,
          0.36363636363636365,
          0.5714285714285714,
          0.2727272727272727,
          0.7,
          0.7142857142857143,
          0.1,
          1.0,
          0.7142857142857143,
          0.2857142857142857,
          0.25,
          0.25,
          0.625,
          0.125,
          0.875,
          0.1,
          1.0,
          0.9,
          0.5555555555555556,
          0.7,
          0.1111111111111111,
          0.625,
          0.3,
          0.125,
          0.5,
          0.875,
          0.7,
          0.6,
          0.2,
          0.3,
          0.4,
          0.3,
          0.25,
          0.2222222222222222,
          0.2,
          0.1111111111111111,
          0.7,
          0.2,
          0.4444444444444444,
          0.2857142857142857,
          1.0,
          0.14285714285714285,
          0.125,
          0.375,
          0.6,
          0.36363636363636365,
          0.7,
          0.3,
          0.6,
          0.2,
          0.6666666666666666,
          0.3333333333333333,
          0.6666666666666666,
          0.3333333333333333
         ],
         "xaxis": "x",
         "y": [
          3.0,
          3.0,
          3.375,
          3.1818181818181817,
          3.625,
          3.25,
          3.75,
          3.375,
          3.125,
          3.5,
          3.0,
          3.4545454545454546,
          3.090909090909091,
          3.1818181818181817,
          3.5714285714285716,
          3.1818181818181817,
          3.1,
          3.7142857142857144,
          3.3,
          3.2857142857142856,
          3.4285714285714284,
          3.7142857142857144,
          3.75,
          3.375,
          3.0,
          4.0,
          3.875,
          4.3,
          3.3333333333333335,
          3.0,
          3.3333333333333335,
          3.1,
          3.4444444444444446,
          3.125,
          3.9,
          3.0,
          3.6,
          3.5,
          4.4,
          3.2,
          3.5,
          4.1,
          3.9,
          3.0,
          3.125,
          3.5555555555555554,
          3.0,
          3.2222222222222223,
          3.4,
          3.9,
          3.2222222222222223,
          3.142857142857143,
          3.125,
          3.0,
          3.75,
          3.5,
          3.5,
          3.1818181818181817,
          3.1,
          3.0,
          3.3,
          3.5,
          3.1666666666666665,
          3.0,
          3.3333333333333335,
          3.0
         ],
         "yaxis": "y",
         "type": "scatter"
        }
       ],
       "layout": {
        "template": {
         "data": {
          "bar": [
           {
            "error_x": {
             "color": "#2a3f5f"
            },
            "error_y": {
             "color": "#2a3f5f"
            },
            "marker": {
             "line": {
              "color": "#E5ECF6",
              "width": 0.5
             },
             "pattern": {
              "fillmode": "overlay",
              "size": 10,
              "solidity": 0.2
             }
            },
            "type": "bar"
           }
          ],
          "barpolar": [
           {
            "marker": {
             "line": {
              "color": "#E5ECF6",
              "width": 0.5
             },
             "pattern": {
              "fillmode": "overlay",
              "size": 10,
              "solidity": 0.2
             }
            },
            "type": "barpolar"
           }
          ],
          "carpet": [
           {
            "aaxis": {
             "endlinecolor": "#2a3f5f",
             "gridcolor": "white",
             "linecolor": "white",
             "minorgridcolor": "white",
             "startlinecolor": "#2a3f5f"
            },
            "baxis": {
             "endlinecolor": "#2a3f5f",
             "gridcolor": "white",
             "linecolor": "white",
             "minorgridcolor": "white",
             "startlinecolor": "#2a3f5f"
            },
            "type": "carpet"
           }
          ],
          "choropleth": [
           {
            "colorbar": {
             "outlinewidth": 0,
             "ticks": ""
            },
            "type": "choropleth"
           }
          ],
          "contour": [
           {
            "colorbar": {
             "outlinewidth": 0,
             "ticks": ""
            },
            "colorscale": [
             [
              0.0,
              "#0d0887"
             ],
             [
              0.1111111111111111,
              "#46039f"
             ],
             [
              0.2222222222222222,
              "#7201a8"
             ],
             [
              0.3333333333333333,
              "#9c179e"
             ],
             [
              0.4444444444444444,
              "#bd3786"
             ],
             [
              0.5555555555555556,
              "#d8576b"
             ],
             [
              0.6666666666666666,
              "#ed7953"
             ],
             [
              0.7777777777777778,
              "#fb9f3a"
             ],
             [
              0.8888888888888888,
              "#fdca26"
             ],
             [
              1.0,
              "#f0f921"
             ]
            ],
            "type": "contour"
           }
          ],
          "contourcarpet": [
           {
            "colorbar": {
             "outlinewidth": 0,
             "ticks": ""
            },
            "type": "contourcarpet"
           }
          ],
          "heatmap": [
           {
            "colorbar": {
             "outlinewidth": 0,
             "ticks": ""
            },
            "colorscale": [
             [
              0.0,
              "#0d0887"
             ],
             [
              0.1111111111111111,
              "#46039f"
             ],
             [
              0.2222222222222222,
              "#7201a8"
             ],
             [
              0.3333333333333333,
              "#9c179e"
             ],
             [
              0.4444444444444444,
              "#bd3786"
             ],
             [
              0.5555555555555556,
              "#d8576b"
             ],
             [
              0.6666666666666666,
              "#ed7953"
             ],
             [
              0.7777777777777778,
              "#fb9f3a"
             ],
             [
              0.8888888888888888,
              "#fdca26"
             ],
             [
              1.0,
              "#f0f921"
             ]
            ],
            "type": "heatmap"
           }
          ],
          "heatmapgl": [
           {
            "colorbar": {
             "outlinewidth": 0,
             "ticks": ""
            },
            "colorscale": [
             [
              0.0,
              "#0d0887"
             ],
             [
              0.1111111111111111,
              "#46039f"
             ],
             [
              0.2222222222222222,
              "#7201a8"
             ],
             [
              0.3333333333333333,
              "#9c179e"
             ],
             [
              0.4444444444444444,
              "#bd3786"
             ],
             [
              0.5555555555555556,
              "#d8576b"
             ],
             [
              0.6666666666666666,
              "#ed7953"
             ],
             [
              0.7777777777777778,
              "#fb9f3a"
             ],
             [
              0.8888888888888888,
              "#fdca26"
             ],
             [
              1.0,
              "#f0f921"
             ]
            ],
            "type": "heatmapgl"
           }
          ],
          "histogram": [
           {
            "marker": {
             "pattern": {
              "fillmode": "overlay",
              "size": 10,
              "solidity": 0.2
             }
            },
            "type": "histogram"
           }
          ],
          "histogram2d": [
           {
            "colorbar": {
             "outlinewidth": 0,
             "ticks": ""
            },
            "colorscale": [
             [
              0.0,
              "#0d0887"
             ],
             [
              0.1111111111111111,
              "#46039f"
             ],
             [
              0.2222222222222222,
              "#7201a8"
             ],
             [
              0.3333333333333333,
              "#9c179e"
             ],
             [
              0.4444444444444444,
              "#bd3786"
             ],
             [
              0.5555555555555556,
              "#d8576b"
             ],
             [
              0.6666666666666666,
              "#ed7953"
             ],
             [
              0.7777777777777778,
              "#fb9f3a"
             ],
             [
              0.8888888888888888,
              "#fdca26"
             ],
             [
              1.0,
              "#f0f921"
             ]
            ],
            "type": "histogram2d"
           }
          ],
          "histogram2dcontour": [
           {
            "colorbar": {
             "outlinewidth": 0,
             "ticks": ""
            },
            "colorscale": [
             [
              0.0,
              "#0d0887"
             ],
             [
              0.1111111111111111,
              "#46039f"
             ],
             [
              0.2222222222222222,
              "#7201a8"
             ],
             [
              0.3333333333333333,
              "#9c179e"
             ],
             [
              0.4444444444444444,
              "#bd3786"
             ],
             [
              0.5555555555555556,
              "#d8576b"
             ],
             [
              0.6666666666666666,
              "#ed7953"
             ],
             [
              0.7777777777777778,
              "#fb9f3a"
             ],
             [
              0.8888888888888888,
              "#fdca26"
             ],
             [
              1.0,
              "#f0f921"
             ]
            ],
            "type": "histogram2dcontour"
           }
          ],
          "mesh3d": [
           {
            "colorbar": {
             "outlinewidth": 0,
             "ticks": ""
            },
            "type": "mesh3d"
           }
          ],
          "parcoords": [
           {
            "line": {
             "colorbar": {
              "outlinewidth": 0,
              "ticks": ""
             }
            },
            "type": "parcoords"
           }
          ],
          "pie": [
           {
            "automargin": true,
            "type": "pie"
           }
          ],
          "scatter": [
           {
            "marker": {
             "colorbar": {
              "outlinewidth": 0,
              "ticks": ""
             }
            },
            "type": "scatter"
           }
          ],
          "scatter3d": [
           {
            "line": {
             "colorbar": {
              "outlinewidth": 0,
              "ticks": ""
             }
            },
            "marker": {
             "colorbar": {
              "outlinewidth": 0,
              "ticks": ""
             }
            },
            "type": "scatter3d"
           }
          ],
          "scattercarpet": [
           {
            "marker": {
             "colorbar": {
              "outlinewidth": 0,
              "ticks": ""
             }
            },
            "type": "scattercarpet"
           }
          ],
          "scattergeo": [
           {
            "marker": {
             "colorbar": {
              "outlinewidth": 0,
              "ticks": ""
             }
            },
            "type": "scattergeo"
           }
          ],
          "scattergl": [
           {
            "marker": {
             "colorbar": {
              "outlinewidth": 0,
              "ticks": ""
             }
            },
            "type": "scattergl"
           }
          ],
          "scattermapbox": [
           {
            "marker": {
             "colorbar": {
              "outlinewidth": 0,
              "ticks": ""
             }
            },
            "type": "scattermapbox"
           }
          ],
          "scatterpolar": [
           {
            "marker": {
             "colorbar": {
              "outlinewidth": 0,
              "ticks": ""
             }
            },
            "type": "scatterpolar"
           }
          ],
          "scatterpolargl": [
           {
            "marker": {
             "colorbar": {
              "outlinewidth": 0,
              "ticks": ""
             }
            },
            "type": "scatterpolargl"
           }
          ],
          "scatterternary": [
           {
            "marker": {
             "colorbar": {
              "outlinewidth": 0,
              "ticks": ""
             }
            },
            "type": "scatterternary"
           }
          ],
          "surface": [
           {
            "colorbar": {
             "outlinewidth": 0,
             "ticks": ""
            },
            "colorscale": [
             [
              0.0,
              "#0d0887"
             ],
             [
              0.1111111111111111,
              "#46039f"
             ],
             [
              0.2222222222222222,
              "#7201a8"
             ],
             [
              0.3333333333333333,
              "#9c179e"
             ],
             [
              0.4444444444444444,
              "#bd3786"
             ],
             [
              0.5555555555555556,
              "#d8576b"
             ],
             [
              0.6666666666666666,
              "#ed7953"
             ],
             [
              0.7777777777777778,
              "#fb9f3a"
             ],
             [
              0.8888888888888888,
              "#fdca26"
             ],
             [
              1.0,
              "#f0f921"
             ]
            ],
            "type": "surface"
           }
          ],
          "table": [
           {
            "cells": {
             "fill": {
              "color": "#EBF0F8"
             },
             "line": {
              "color": "white"
             }
            },
            "header": {
             "fill": {
              "color": "#C8D4E3"
             },
             "line": {
              "color": "white"
             }
            },
            "type": "table"
           }
          ]
         },
         "layout": {
          "annotationdefaults": {
           "arrowcolor": "#2a3f5f",
           "arrowhead": 0,
           "arrowwidth": 1
          },
          "autotypenumbers": "strict",
          "coloraxis": {
           "colorbar": {
            "outlinewidth": 0,
            "ticks": ""
           }
          },
          "colorscale": {
           "diverging": [
            [
             0,
             "#8e0152"
            ],
            [
             0.1,
             "#c51b7d"
            ],
            [
             0.2,
             "#de77ae"
            ],
            [
             0.3,
             "#f1b6da"
            ],
            [
             0.4,
             "#fde0ef"
            ],
            [
             0.5,
             "#f7f7f7"
            ],
            [
             0.6,
             "#e6f5d0"
            ],
            [
             0.7,
             "#b8e186"
            ],
            [
             0.8,
             "#7fbc41"
            ],
            [
             0.9,
             "#4d9221"
            ],
            [
             1,
             "#276419"
            ]
           ],
           "sequential": [
            [
             0.0,
             "#0d0887"
            ],
            [
             0.1111111111111111,
             "#46039f"
            ],
            [
             0.2222222222222222,
             "#7201a8"
            ],
            [
             0.3333333333333333,
             "#9c179e"
            ],
            [
             0.4444444444444444,
             "#bd3786"
            ],
            [
             0.5555555555555556,
             "#d8576b"
            ],
            [
             0.6666666666666666,
             "#ed7953"
            ],
            [
             0.7777777777777778,
             "#fb9f3a"
            ],
            [
             0.8888888888888888,
             "#fdca26"
            ],
            [
             1.0,
             "#f0f921"
            ]
           ],
           "sequentialminus": [
            [
             0.0,
             "#0d0887"
            ],
            [
             0.1111111111111111,
             "#46039f"
            ],
            [
             0.2222222222222222,
             "#7201a8"
            ],
            [
             0.3333333333333333,
             "#9c179e"
            ],
            [
             0.4444444444444444,
             "#bd3786"
            ],
            [
             0.5555555555555556,
             "#d8576b"
            ],
            [
             0.6666666666666666,
             "#ed7953"
            ],
            [
             0.7777777777777778,
             "#fb9f3a"
            ],
            [
             0.8888888888888888,
             "#fdca26"
            ],
            [
             1.0,
             "#f0f921"
            ]
           ]
          },
          "colorway": [
           "#636efa",
           "#EF553B",
           "#00cc96",
           "#ab63fa",
           "#FFA15A",
           "#19d3f3",
           "#FF6692",
           "#B6E880",
           "#FF97FF",
           "#FECB52"
          ],
          "font": {
           "color": "#2a3f5f"
          },
          "geo": {
           "bgcolor": "white",
           "lakecolor": "white",
           "landcolor": "#E5ECF6",
           "showlakes": true,
           "showland": true,
           "subunitcolor": "white"
          },
          "hoverlabel": {
           "align": "left"
          },
          "hovermode": "closest",
          "mapbox": {
           "style": "light"
          },
          "paper_bgcolor": "white",
          "plot_bgcolor": "#E5ECF6",
          "polar": {
           "angularaxis": {
            "gridcolor": "white",
            "linecolor": "white",
            "ticks": ""
           },
           "bgcolor": "#E5ECF6",
           "radialaxis": {
            "gridcolor": "white",
            "linecolor": "white",
            "ticks": ""
           }
          },
          "scene": {
           "xaxis": {
            "backgroundcolor": "#E5ECF6",
            "gridcolor": "white",
            "gridwidth": 2,
            "linecolor": "white",
            "showbackground": true,
            "ticks": "",
            "zerolinecolor": "white"
           },
           "yaxis": {
            "backgroundcolor": "#E5ECF6",
            "gridcolor": "white",
            "gridwidth": 2,
            "linecolor": "white",
            "showbackground": true,
            "ticks": "",
            "zerolinecolor": "white"
           },
           "zaxis": {
            "backgroundcolor": "#E5ECF6",
            "gridcolor": "white",
            "gridwidth": 2,
            "linecolor": "white",
            "showbackground": true,
            "ticks": "",
            "zerolinecolor": "white"
           }
          },
          "shapedefaults": {
           "line": {
            "color": "#2a3f5f"
           }
          },
          "ternary": {
           "aaxis": {
            "gridcolor": "white",
            "linecolor": "white",
            "ticks": ""
           },
           "baxis": {
            "gridcolor": "white",
            "linecolor": "white",
            "ticks": ""
           },
           "bgcolor": "#E5ECF6",
           "caxis": {
            "gridcolor": "white",
            "linecolor": "white",
            "ticks": ""
           }
          },
          "title": {
           "x": 0.05
          },
          "xaxis": {
           "automargin": true,
           "gridcolor": "white",
           "linecolor": "white",
           "ticks": "",
           "title": {
            "standoff": 15
           },
           "zerolinecolor": "white",
           "zerolinewidth": 2
          },
          "yaxis": {
           "automargin": true,
           "gridcolor": "white",
           "linecolor": "white",
           "ticks": "",
           "title": {
            "standoff": 15
           },
           "zerolinecolor": "white",
           "zerolinewidth": 2
          }
         }
        },
        "xaxis": {
         "anchor": "y",
         "domain": [
          0.0,
          1.0
         ],
         "title": {
          "text": "valence"
         }
        },
        "yaxis": {
         "anchor": "x",
         "domain": [
          0.0,
          1.0
         ],
         "title": {
          "text": "arousal"
         }
        },
        "legend": {
         "title": {
          "text": "class"
         },
         "tracegroupgap": 0,
         "itemsizing": "constant"
        },
        "title": {
         "text": "Method 3. Mean value over the annotators"
        },
        "height": 400,
        "width": 600
       },
       "config": {
        "plotlyServerURL": "https://plot.ly"
       }
      },
      "text/html": "<div>                            <div id=\"6c49611f-b677-4d4a-9667-f8b4a353cd89\" class=\"plotly-graph-div\" style=\"height:400px; width:600px;\"></div>            <script type=\"text/javascript\">                require([\"plotly\"], function(Plotly) {                    window.PLOTLYENV=window.PLOTLYENV || {};                                    if (document.getElementById(\"6c49611f-b677-4d4a-9667-f8b4a353cd89\")) {                    Plotly.newPlot(                        \"6c49611f-b677-4d4a-9667-f8b4a353cd89\",                        [{\"hovertemplate\":\"class=relaxed<br>valence=%{x}<br>arousal=%{y}<br>count=%{marker.size}<extra></extra>\",\"legendgroup\":\"relaxed\",\"marker\":{\"color\":\"rgb(115, 175, 72)\",\"size\":[11.0,11.0,8.0,11.0,8.0,11.0,11.0,8.0,8.0,8.0,8.0,8.0,8.0,8.0,8.0,8.0,7.0,11.0,11.0,7.0,7.0,10.0,7.0,7.0,10.0,10.0,7.0,10.0,8.0,8.0,8.0,8.0,8.0,8.0,8.0,8.0,8.0,8.0,8.0,9.0,10.0,9.0,10.0,9.0,10.0,9.0,10.0,9.0,8.0,10.0,8.0,8.0,10.0,8.0,9.0,10.0,10.0,9.0,10.0,10.0,10.0,9.0,10.0,7.0,8.0,7.0,8.0,8.0,8.0,7.0,10.0,11.0,10.0,11.0,10.0,11.0,10.0,10.0,10.0,11.0,6.0,11.0,11.0,6.0,11.0,6.0,11.0,11.0,11.0,6.0,11.0],\"sizemode\":\"area\",\"sizeref\":0.0275,\"symbol\":\"circle\"},\"mode\":\"markers\",\"name\":\"relaxed\",\"orientation\":\"v\",\"showlegend\":true,\"x\":[0.18181818181818182,0.18181818181818182,1.0,0.7272727272727273,0.5,0.9090909090909091,0.09090909090909091,0.25,0.75,1.0,0.25,0.75,0.375,0.125,0.125,0.5,0.5714285714285714,0.18181818181818182,0.7272727272727273,0.14285714285714285,0.2857142857142857,0.7,0.5714285714285714,0.2857142857142857,0.6,0.5,0.0,0.5,0.375,0.0,0.375,0.125,0.5,0.125,0.0,0.125,0.5,0.375,0.0,0.0,0.8,0.5555555555555556,0.2,0.0,0.3,0.1111111111111111,0.7,0.4444444444444444,0.875,0.7,0.0,0.125,0.2,0.0,0.4444444444444444,0.9,0.2,0.0,0.7,0.2,0.0,0.0,0.3,0.8571428571428571,0.125,0.0,0.875,0.75,0.375,0.2857142857142857,0.1,0.18181818181818182,0.1,0.5454545454545454,0.8,0.6363636363636364,0.8,0.3,0.3,0.2727272727272727,0.3333333333333333,0.8181818181818182,0.9090909090909091,0.16666666666666666,0.7272727272727273,0.0,0.18181818181818182,0.45454545454545453,0.09090909090909091,0.0,0.18181818181818182],\"xaxis\":\"x\",\"y\":[2.909090909090909,2.909090909090909,2.875,2.8181818181818183,2.25,2.727272727272727,2.1818181818181817,2.875,2.375,2.75,2.75,2.875,2.375,2.5,2.5,2.0,2.142857142857143,2.5454545454545454,2.727272727272727,1.1428571428571428,2.857142857142857,2.5,2.4285714285714284,2.7142857142857144,2.8,2.4,2.142857142857143,2.3,2.25,2.875,2.625,2.5,2.25,2.375,2.875,2.25,2.375,2.25,1.625,2.3333333333333335,2.7,1.8888888888888888,2.8,2.111111111111111,2.2,1.8888888888888888,2.1,2.888888888888889,2.125,2.8,2.5,2.625,2.7,2.125,2.3333333333333335,2.3,2.5,2.111111111111111,2.7,2.3,1.9,2.4444444444444446,2.9,2.142857142857143,2.25,2.2857142857142856,2.5,2.5,1.875,2.142857142857143,1.4,2.5454545454545454,2.8,2.272727272727273,2.1,2.6363636363636362,2.2,1.4,1.5,2.6363636363636362,2.5,2.1818181818181817,2.909090909090909,2.6666666666666665,2.272727272727273,2.0,2.4545454545454546,2.5454545454545454,2.1818181818181817,1.8333333333333333,2.909090909090909],\"yaxis\":\"y\",\"type\":\"scatter\"},{\"hovertemplate\":\"class=angry<br>valence=%{x}<br>arousal=%{y}<br>count=%{marker.size}<extra></extra>\",\"legendgroup\":\"angry\",\"marker\":{\"color\":\"rgb(204, 80, 62)\",\"size\":[8.0,11.0,8.0,11.0,8.0,11.0,8.0,11.0,8.0,8.0,8.0,8.0,8.0,8.0,8.0,11.0,11.0,7.0,11.0,7.0,11.0,10.0,7.0,7.0,10.0,10.0,8.0,8.0,8.0,8.0,8.0,8.0,9.0,10.0,10.0,9.0,10.0,10.0,10.0,9.0,10.0,8.0,10.0,8.0,8.0,10.0,9.0,10.0,9.0,10.0,9.0,9.0,8.0,8.0,8.0,8.0,7.0,8.0,7.0,8.0,7.0,11.0,11.0,10.0,11.0,11.0,10.0,6.0,11.0,6.0,11.0,6.0],\"sizemode\":\"area\",\"sizeref\":0.0275,\"symbol\":\"circle\"},\"mode\":\"markers\",\"name\":\"angry\",\"orientation\":\"v\",\"showlegend\":true,\"x\":[0.0,-0.36363636363636365,-1.125,-0.45454545454545453,-0.5,-0.09090909090909091,-1.0,-0.09090909090909091,-0.25,-0.25,-0.875,-0.125,-0.25,-0.75,-0.375,-0.09090909090909091,0.0,-1.0,-0.6363636363636364,-0.7142857142857143,-0.36363636363636365,-0.7,-0.5714285714285714,-1.1428571428571428,-0.3,-0.6,-0.375,0.0,-0.25,-0.625,-1.25,0.0,-0.1111111111111111,-0.5,-0.9,0.0,-1.0,-0.2,-1.5,-0.2222222222222222,-0.1,-0.5,0.0,-0.375,-0.875,0.0,-0.2222222222222222,-0.2,-1.0,-1.1,-0.5555555555555556,-0.5555555555555556,-0.875,-0.125,-0.375,-0.625,-0.8571428571428571,-0.375,-0.42857142857142855,0.0,-1.0,-0.45454545454545453,-0.8181818181818182,-1.2,-1.0,-0.7272727272727273,0.0,-0.16666666666666666,-0.09090909090909091,-0.16666666666666666,-0.18181818181818182,0.0],\"xaxis\":\"x\",\"y\":[3.875,3.1818181818181817,3.125,3.8181818181818183,3.75,3.272727272727273,3.125,3.3636363636363638,3.125,3.25,3.125,4.25,3.125,3.25,3.625,3.5454545454545454,3.6363636363636362,3.142857142857143,3.8181818181818183,3.142857142857143,3.4545454545454546,3.4,3.2857142857142856,4.714285714285714,3.9,3.2,3.375,3.625,3.25,3.75,3.5,3.125,3.7777777777777777,3.4,3.3,3.5555555555555554,3.3,3.3,4.3,4.0,3.1,3.375,4.7,3.25,3.75,3.8,3.111111111111111,3.1,3.3333333333333335,4.8,3.3333333333333335,3.111111111111111,3.5,3.375,4.125,4.125,3.142857142857143,3.25,3.142857142857143,3.25,3.142857142857143,3.090909090909091,3.1818181818181817,4.7,3.090909090909091,3.5454545454545454,3.5,3.1666666666666665,3.727272727272727,3.1666666666666665,3.090909090909091,3.1666666666666665],\"yaxis\":\"y\",\"type\":\"scatter\"},{\"hovertemplate\":\"class=sad<br>valence=%{x}<br>arousal=%{y}<br>count=%{marker.size}<extra></extra>\",\"legendgroup\":\"sad\",\"marker\":{\"color\":\"rgb(29, 105, 150)\",\"size\":[8.0,11.0,8.0,8.0,11.0,8.0,8.0,8.0,8.0,8.0,8.0,8.0,8.0,11.0,7.0,7.0,7.0,7.0,7.0,7.0,11.0,7.0,7.0,11.0,7.0,10.0,10.0,10.0,7.0,10.0,7.0,7.0,8.0,8.0,8.0,8.0,8.0,9.0,9.0,9.0,10.0,8.0,10.0,8.0,10.0,10.0,9.0,9.0,10.0,9.0,7.0,8.0,7.0,7.0,7.0,7.0,11.0,10.0,11.0,11.0,11.0,11.0,11.0,11.0,11.0,6.0,6.0,11.0],\"sizemode\":\"area\",\"sizeref\":0.0275,\"symbol\":\"circle\"},\"mode\":\"markers\",\"name\":\"sad\",\"orientation\":\"v\",\"showlegend\":true,\"x\":[-0.25,-0.18181818181818182,-0.125,-0.875,-0.36363636363636365,-0.375,-0.375,-0.375,-0.625,-0.375,-0.25,-0.5,-0.125,-0.2727272727272727,-0.42857142857142855,-0.2857142857142857,-0.8571428571428571,-0.8571428571428571,-0.2857142857142857,-0.5714285714285714,-0.2727272727272727,-0.2857142857142857,-0.42857142857142855,-0.2727272727272727,-0.7142857142857143,-0.1,-1.0,-0.4,-1.2857142857142858,-0.9,-0.2857142857142857,-0.2857142857142857,-0.25,-0.875,-0.875,-0.625,-0.375,-0.1111111111111111,-0.2222222222222222,-0.1111111111111111,-0.1,-0.625,-0.3,-0.125,-0.1,-0.4,-0.3333333333333333,-0.8888888888888888,-0.7,-0.2222222222222222,-0.42857142857142855,-0.25,-0.7142857142857143,-0.7142857142857143,-0.14285714285714285,-0.5714285714285714,-0.09090909090909091,-0.4,-0.36363636363636365,-0.09090909090909091,-0.45454545454545453,-0.09090909090909091,-0.09090909090909091,-0.36363636363636365,-0.18181818181818182,-1.0,-0.16666666666666666,-0.18181818181818182],\"xaxis\":\"x\",\"y\":[3.0,3.0,2.875,3.0,2.6363636363636362,2.25,2.5,2.625,3.0,2.25,3.0,2.875,2.5,2.3636363636363638,2.4285714285714284,3.0,3.0,2.2857142857142856,2.0,3.0,2.909090909090909,2.0,3.0,2.0,2.7142857142857144,2.5,2.6,2.8,2.142857142857143,3.0,2.7142857142857144,2.857142857142857,2.0,2.625,2.875,2.875,2.375,3.0,3.0,2.2222222222222223,2.7,2.625,2.6,2.25,2.5,2.9,2.6666666666666665,2.888888888888889,2.2,3.0,2.7142857142857144,2.875,2.5714285714285716,2.5714285714285716,2.5714285714285716,3.0,1.9090909090909092,2.3,2.4545454545454546,2.090909090909091,2.5454545454545454,1.7272727272727273,2.727272727272727,2.727272727272727,2.6363636363636362,2.8333333333333335,3.0,2.0],\"yaxis\":\"y\",\"type\":\"scatter\"},{\"hovertemplate\":\"class=happy<br>valence=%{x}<br>arousal=%{y}<br>count=%{marker.size}<extra></extra>\",\"legendgroup\":\"happy\",\"marker\":{\"color\":\"rgb(237, 173, 8)\",\"size\":[11.0,11.0,8.0,11.0,8.0,8.0,8.0,8.0,8.0,8.0,11.0,11.0,11.0,11.0,7.0,11.0,10.0,7.0,10.0,7.0,7.0,7.0,8.0,8.0,8.0,8.0,8.0,10.0,9.0,10.0,9.0,10.0,9.0,8.0,10.0,8.0,10.0,8.0,10.0,10.0,10.0,10.0,10.0,10.0,8.0,9.0,10.0,9.0,10.0,10.0,9.0,7.0,8.0,7.0,8.0,8.0,10.0,11.0,10.0,10.0,10.0,10.0,6.0,6.0,6.0,6.0],\"sizemode\":\"area\",\"sizeref\":0.0275,\"symbol\":\"circle\"},\"mode\":\"markers\",\"name\":\"happy\",\"orientation\":\"v\",\"showlegend\":true,\"x\":[0.8181818181818182,0.6363636363636364,0.125,0.5454545454545454,0.5,0.625,1.125,0.25,0.5,0.375,0.09090909090909091,1.0,0.8181818181818182,0.36363636363636365,0.5714285714285714,0.2727272727272727,0.7,0.7142857142857143,0.1,1.0,0.7142857142857143,0.2857142857142857,0.25,0.25,0.625,0.125,0.875,0.1,1.0,0.9,0.5555555555555556,0.7,0.1111111111111111,0.625,0.3,0.125,0.5,0.875,0.7,0.6,0.2,0.3,0.4,0.3,0.25,0.2222222222222222,0.2,0.1111111111111111,0.7,0.2,0.4444444444444444,0.2857142857142857,1.0,0.14285714285714285,0.125,0.375,0.6,0.36363636363636365,0.7,0.3,0.6,0.2,0.6666666666666666,0.3333333333333333,0.6666666666666666,0.3333333333333333],\"xaxis\":\"x\",\"y\":[3.0,3.0,3.375,3.1818181818181817,3.625,3.25,3.75,3.375,3.125,3.5,3.0,3.4545454545454546,3.090909090909091,3.1818181818181817,3.5714285714285716,3.1818181818181817,3.1,3.7142857142857144,3.3,3.2857142857142856,3.4285714285714284,3.7142857142857144,3.75,3.375,3.0,4.0,3.875,4.3,3.3333333333333335,3.0,3.3333333333333335,3.1,3.4444444444444446,3.125,3.9,3.0,3.6,3.5,4.4,3.2,3.5,4.1,3.9,3.0,3.125,3.5555555555555554,3.0,3.2222222222222223,3.4,3.9,3.2222222222222223,3.142857142857143,3.125,3.0,3.75,3.5,3.5,3.1818181818181817,3.1,3.0,3.3,3.5,3.1666666666666665,3.0,3.3333333333333335,3.0],\"yaxis\":\"y\",\"type\":\"scatter\"}],                        {\"template\":{\"data\":{\"bar\":[{\"error_x\":{\"color\":\"#2a3f5f\"},\"error_y\":{\"color\":\"#2a3f5f\"},\"marker\":{\"line\":{\"color\":\"#E5ECF6\",\"width\":0.5},\"pattern\":{\"fillmode\":\"overlay\",\"size\":10,\"solidity\":0.2}},\"type\":\"bar\"}],\"barpolar\":[{\"marker\":{\"line\":{\"color\":\"#E5ECF6\",\"width\":0.5},\"pattern\":{\"fillmode\":\"overlay\",\"size\":10,\"solidity\":0.2}},\"type\":\"barpolar\"}],\"carpet\":[{\"aaxis\":{\"endlinecolor\":\"#2a3f5f\",\"gridcolor\":\"white\",\"linecolor\":\"white\",\"minorgridcolor\":\"white\",\"startlinecolor\":\"#2a3f5f\"},\"baxis\":{\"endlinecolor\":\"#2a3f5f\",\"gridcolor\":\"white\",\"linecolor\":\"white\",\"minorgridcolor\":\"white\",\"startlinecolor\":\"#2a3f5f\"},\"type\":\"carpet\"}],\"choropleth\":[{\"colorbar\":{\"outlinewidth\":0,\"ticks\":\"\"},\"type\":\"choropleth\"}],\"contour\":[{\"colorbar\":{\"outlinewidth\":0,\"ticks\":\"\"},\"colorscale\":[[0.0,\"#0d0887\"],[0.1111111111111111,\"#46039f\"],[0.2222222222222222,\"#7201a8\"],[0.3333333333333333,\"#9c179e\"],[0.4444444444444444,\"#bd3786\"],[0.5555555555555556,\"#d8576b\"],[0.6666666666666666,\"#ed7953\"],[0.7777777777777778,\"#fb9f3a\"],[0.8888888888888888,\"#fdca26\"],[1.0,\"#f0f921\"]],\"type\":\"contour\"}],\"contourcarpet\":[{\"colorbar\":{\"outlinewidth\":0,\"ticks\":\"\"},\"type\":\"contourcarpet\"}],\"heatmap\":[{\"colorbar\":{\"outlinewidth\":0,\"ticks\":\"\"},\"colorscale\":[[0.0,\"#0d0887\"],[0.1111111111111111,\"#46039f\"],[0.2222222222222222,\"#7201a8\"],[0.3333333333333333,\"#9c179e\"],[0.4444444444444444,\"#bd3786\"],[0.5555555555555556,\"#d8576b\"],[0.6666666666666666,\"#ed7953\"],[0.7777777777777778,\"#fb9f3a\"],[0.8888888888888888,\"#fdca26\"],[1.0,\"#f0f921\"]],\"type\":\"heatmap\"}],\"heatmapgl\":[{\"colorbar\":{\"outlinewidth\":0,\"ticks\":\"\"},\"colorscale\":[[0.0,\"#0d0887\"],[0.1111111111111111,\"#46039f\"],[0.2222222222222222,\"#7201a8\"],[0.3333333333333333,\"#9c179e\"],[0.4444444444444444,\"#bd3786\"],[0.5555555555555556,\"#d8576b\"],[0.6666666666666666,\"#ed7953\"],[0.7777777777777778,\"#fb9f3a\"],[0.8888888888888888,\"#fdca26\"],[1.0,\"#f0f921\"]],\"type\":\"heatmapgl\"}],\"histogram\":[{\"marker\":{\"pattern\":{\"fillmode\":\"overlay\",\"size\":10,\"solidity\":0.2}},\"type\":\"histogram\"}],\"histogram2d\":[{\"colorbar\":{\"outlinewidth\":0,\"ticks\":\"\"},\"colorscale\":[[0.0,\"#0d0887\"],[0.1111111111111111,\"#46039f\"],[0.2222222222222222,\"#7201a8\"],[0.3333333333333333,\"#9c179e\"],[0.4444444444444444,\"#bd3786\"],[0.5555555555555556,\"#d8576b\"],[0.6666666666666666,\"#ed7953\"],[0.7777777777777778,\"#fb9f3a\"],[0.8888888888888888,\"#fdca26\"],[1.0,\"#f0f921\"]],\"type\":\"histogram2d\"}],\"histogram2dcontour\":[{\"colorbar\":{\"outlinewidth\":0,\"ticks\":\"\"},\"colorscale\":[[0.0,\"#0d0887\"],[0.1111111111111111,\"#46039f\"],[0.2222222222222222,\"#7201a8\"],[0.3333333333333333,\"#9c179e\"],[0.4444444444444444,\"#bd3786\"],[0.5555555555555556,\"#d8576b\"],[0.6666666666666666,\"#ed7953\"],[0.7777777777777778,\"#fb9f3a\"],[0.8888888888888888,\"#fdca26\"],[1.0,\"#f0f921\"]],\"type\":\"histogram2dcontour\"}],\"mesh3d\":[{\"colorbar\":{\"outlinewidth\":0,\"ticks\":\"\"},\"type\":\"mesh3d\"}],\"parcoords\":[{\"line\":{\"colorbar\":{\"outlinewidth\":0,\"ticks\":\"\"}},\"type\":\"parcoords\"}],\"pie\":[{\"automargin\":true,\"type\":\"pie\"}],\"scatter\":[{\"marker\":{\"colorbar\":{\"outlinewidth\":0,\"ticks\":\"\"}},\"type\":\"scatter\"}],\"scatter3d\":[{\"line\":{\"colorbar\":{\"outlinewidth\":0,\"ticks\":\"\"}},\"marker\":{\"colorbar\":{\"outlinewidth\":0,\"ticks\":\"\"}},\"type\":\"scatter3d\"}],\"scattercarpet\":[{\"marker\":{\"colorbar\":{\"outlinewidth\":0,\"ticks\":\"\"}},\"type\":\"scattercarpet\"}],\"scattergeo\":[{\"marker\":{\"colorbar\":{\"outlinewidth\":0,\"ticks\":\"\"}},\"type\":\"scattergeo\"}],\"scattergl\":[{\"marker\":{\"colorbar\":{\"outlinewidth\":0,\"ticks\":\"\"}},\"type\":\"scattergl\"}],\"scattermapbox\":[{\"marker\":{\"colorbar\":{\"outlinewidth\":0,\"ticks\":\"\"}},\"type\":\"scattermapbox\"}],\"scatterpolar\":[{\"marker\":{\"colorbar\":{\"outlinewidth\":0,\"ticks\":\"\"}},\"type\":\"scatterpolar\"}],\"scatterpolargl\":[{\"marker\":{\"colorbar\":{\"outlinewidth\":0,\"ticks\":\"\"}},\"type\":\"scatterpolargl\"}],\"scatterternary\":[{\"marker\":{\"colorbar\":{\"outlinewidth\":0,\"ticks\":\"\"}},\"type\":\"scatterternary\"}],\"surface\":[{\"colorbar\":{\"outlinewidth\":0,\"ticks\":\"\"},\"colorscale\":[[0.0,\"#0d0887\"],[0.1111111111111111,\"#46039f\"],[0.2222222222222222,\"#7201a8\"],[0.3333333333333333,\"#9c179e\"],[0.4444444444444444,\"#bd3786\"],[0.5555555555555556,\"#d8576b\"],[0.6666666666666666,\"#ed7953\"],[0.7777777777777778,\"#fb9f3a\"],[0.8888888888888888,\"#fdca26\"],[1.0,\"#f0f921\"]],\"type\":\"surface\"}],\"table\":[{\"cells\":{\"fill\":{\"color\":\"#EBF0F8\"},\"line\":{\"color\":\"white\"}},\"header\":{\"fill\":{\"color\":\"#C8D4E3\"},\"line\":{\"color\":\"white\"}},\"type\":\"table\"}]},\"layout\":{\"annotationdefaults\":{\"arrowcolor\":\"#2a3f5f\",\"arrowhead\":0,\"arrowwidth\":1},\"autotypenumbers\":\"strict\",\"coloraxis\":{\"colorbar\":{\"outlinewidth\":0,\"ticks\":\"\"}},\"colorscale\":{\"diverging\":[[0,\"#8e0152\"],[0.1,\"#c51b7d\"],[0.2,\"#de77ae\"],[0.3,\"#f1b6da\"],[0.4,\"#fde0ef\"],[0.5,\"#f7f7f7\"],[0.6,\"#e6f5d0\"],[0.7,\"#b8e186\"],[0.8,\"#7fbc41\"],[0.9,\"#4d9221\"],[1,\"#276419\"]],\"sequential\":[[0.0,\"#0d0887\"],[0.1111111111111111,\"#46039f\"],[0.2222222222222222,\"#7201a8\"],[0.3333333333333333,\"#9c179e\"],[0.4444444444444444,\"#bd3786\"],[0.5555555555555556,\"#d8576b\"],[0.6666666666666666,\"#ed7953\"],[0.7777777777777778,\"#fb9f3a\"],[0.8888888888888888,\"#fdca26\"],[1.0,\"#f0f921\"]],\"sequentialminus\":[[0.0,\"#0d0887\"],[0.1111111111111111,\"#46039f\"],[0.2222222222222222,\"#7201a8\"],[0.3333333333333333,\"#9c179e\"],[0.4444444444444444,\"#bd3786\"],[0.5555555555555556,\"#d8576b\"],[0.6666666666666666,\"#ed7953\"],[0.7777777777777778,\"#fb9f3a\"],[0.8888888888888888,\"#fdca26\"],[1.0,\"#f0f921\"]]},\"colorway\":[\"#636efa\",\"#EF553B\",\"#00cc96\",\"#ab63fa\",\"#FFA15A\",\"#19d3f3\",\"#FF6692\",\"#B6E880\",\"#FF97FF\",\"#FECB52\"],\"font\":{\"color\":\"#2a3f5f\"},\"geo\":{\"bgcolor\":\"white\",\"lakecolor\":\"white\",\"landcolor\":\"#E5ECF6\",\"showlakes\":true,\"showland\":true,\"subunitcolor\":\"white\"},\"hoverlabel\":{\"align\":\"left\"},\"hovermode\":\"closest\",\"mapbox\":{\"style\":\"light\"},\"paper_bgcolor\":\"white\",\"plot_bgcolor\":\"#E5ECF6\",\"polar\":{\"angularaxis\":{\"gridcolor\":\"white\",\"linecolor\":\"white\",\"ticks\":\"\"},\"bgcolor\":\"#E5ECF6\",\"radialaxis\":{\"gridcolor\":\"white\",\"linecolor\":\"white\",\"ticks\":\"\"}},\"scene\":{\"xaxis\":{\"backgroundcolor\":\"#E5ECF6\",\"gridcolor\":\"white\",\"gridwidth\":2,\"linecolor\":\"white\",\"showbackground\":true,\"ticks\":\"\",\"zerolinecolor\":\"white\"},\"yaxis\":{\"backgroundcolor\":\"#E5ECF6\",\"gridcolor\":\"white\",\"gridwidth\":2,\"linecolor\":\"white\",\"showbackground\":true,\"ticks\":\"\",\"zerolinecolor\":\"white\"},\"zaxis\":{\"backgroundcolor\":\"#E5ECF6\",\"gridcolor\":\"white\",\"gridwidth\":2,\"linecolor\":\"white\",\"showbackground\":true,\"ticks\":\"\",\"zerolinecolor\":\"white\"}},\"shapedefaults\":{\"line\":{\"color\":\"#2a3f5f\"}},\"ternary\":{\"aaxis\":{\"gridcolor\":\"white\",\"linecolor\":\"white\",\"ticks\":\"\"},\"baxis\":{\"gridcolor\":\"white\",\"linecolor\":\"white\",\"ticks\":\"\"},\"bgcolor\":\"#E5ECF6\",\"caxis\":{\"gridcolor\":\"white\",\"linecolor\":\"white\",\"ticks\":\"\"}},\"title\":{\"x\":0.05},\"xaxis\":{\"automargin\":true,\"gridcolor\":\"white\",\"linecolor\":\"white\",\"ticks\":\"\",\"title\":{\"standoff\":15},\"zerolinecolor\":\"white\",\"zerolinewidth\":2},\"yaxis\":{\"automargin\":true,\"gridcolor\":\"white\",\"linecolor\":\"white\",\"ticks\":\"\",\"title\":{\"standoff\":15},\"zerolinecolor\":\"white\",\"zerolinewidth\":2}}},\"xaxis\":{\"anchor\":\"y\",\"domain\":[0.0,1.0],\"title\":{\"text\":\"valence\"}},\"yaxis\":{\"anchor\":\"x\",\"domain\":[0.0,1.0],\"title\":{\"text\":\"arousal\"}},\"legend\":{\"title\":{\"text\":\"class\"},\"tracegroupgap\":0,\"itemsizing\":\"constant\"},\"title\":{\"text\":\"Method 3. Mean value over the annotators\"},\"height\":400,\"width\":600},                        {\"responsive\": true}                    ).then(function(){\n                            \nvar gd = document.getElementById('6c49611f-b677-4d4a-9667-f8b4a353cd89');\nvar x = new MutationObserver(function (mutations, observer) {{\n        var display = window.getComputedStyle(gd).display;\n        if (!display || display === 'none') {{\n            console.log([gd, 'removed!']);\n            Plotly.purge(gd);\n            observer.disconnect();\n        }}\n}});\n\n// Listen for the removal of the full notebook cells\nvar notebookContainer = gd.closest('#notebook-container');\nif (notebookContainer) {{\n    x.observe(notebookContainer, {childList: true});\n}}\n\n// Listen for the clearing of the current output cell\nvar outputEl = gd.closest('.output');\nif (outputEl) {{\n    x.observe(outputEl, {childList: true});\n}}\n\n                        })                };                });            </script>        </div>"
     },
     "metadata": {},
     "output_type": "display_data"
    }
   ],
   "source": [
    "fig = px.scatter(scatter_df_mean,\n",
    "                 x='valence',\n",
    "                 y='arousal',\n",
    "                 size='count',\n",
    "                 color='class',\n",
    "                 width=600,\n",
    "                 height=400,\n",
    "                 color_discrete_map={\n",
    "                \"sad\": px.colors.qualitative.Prism[1],\n",
    "                \"angry\": px.colors.qualitative.Prism[7],\n",
    "                \"relaxed\": px.colors.qualitative.Prism[4],\n",
    "                \"happy\": px.colors.qualitative.Prism[5],\n",
    "                \"None\": px.colors.qualitative.Prism[10]},\n",
    "                 title='Method 3. Mean value over the annotators')\n",
    "fig.show()"
   ],
   "metadata": {
    "collapsed": false,
    "pycharm": {
     "name": "#%%\n"
    }
   }
  },
  {
   "cell_type": "markdown",
   "source": [
    "- Good solution for assigning the ones that would have had None previously\n",
    "- Also accounts for outliers"
   ],
   "metadata": {
    "collapsed": false
   }
  },
  {
   "cell_type": "markdown",
   "source": [
    "## Stacked Histogram with distribution"
   ],
   "metadata": {
    "collapsed": false
   }
  },
  {
   "cell_type": "code",
   "execution_count": 278,
   "outputs": [],
   "source": [
    "types = pd.Series(['1.', '2.', '3.']).repeat(5)\n",
    "classes = pd.concat([pd.Series(['None', 'angry', 'happy', 'relaxed', 'sad'])] * 3)\n",
    "\n",
    "scatter_df_grouped = scatter_df.groupby(['class']).sum()\n",
    "scatter_df_sad_grouped = scatter_df_sad.groupby(['class']).sum()\n",
    "scatter_df_mean_grouped = scatter_df_mean.groupby(['class']).sum()\n",
    "\n",
    "counts = scatter_df_grouped['count'].tolist()\n",
    "counts.append(0)\n",
    "counts.append(scatter_df_sad_grouped['count'].tolist()[0])\n",
    "counts.append(scatter_df_sad_grouped['count'].tolist()[1])\n",
    "counts.append(scatter_df_sad_grouped['count'].tolist()[2])\n",
    "counts.append(scatter_df_sad_grouped['count'].tolist()[3])\n",
    "counts.append(0)\n",
    "counts.append(scatter_df_mean_grouped['count'].tolist()[0])\n",
    "counts.append(scatter_df_mean_grouped['count'].tolist()[1])\n",
    "counts.append(scatter_df_mean_grouped['count'].tolist()[2])\n",
    "counts.append(scatter_df_mean_grouped['count'].tolist()[3])\n",
    "\n",
    "stack = np.stack([types, classes, np.array(counts)]).T\n",
    "bar_df = pd.DataFrame(data=stack, columns=['methods', 'classes', 'count'])"
   ],
   "metadata": {
    "collapsed": false,
    "pycharm": {
     "name": "#%%\n"
    }
   }
  },
  {
   "cell_type": "code",
   "execution_count": 279,
   "outputs": [
    {
     "data": {
      "application/vnd.plotly.v1+json": {
       "data": [
        {
         "alignmentgroup": "True",
         "hovertemplate": "classes=None<br>methods=%{x}<br>count=%{y}<extra></extra>",
         "legendgroup": "None",
         "marker": {
          "color": "rgb(102, 102, 102)",
          "pattern": {
           "shape": ""
          }
         },
         "name": "None",
         "offsetgroup": "None",
         "orientation": "v",
         "showlegend": true,
         "textposition": "auto",
         "x": [
          "1.",
          "2.",
          "3."
         ],
         "xaxis": "x",
         "y": [
          191.0,
          0.0,
          0.0
         ],
         "yaxis": "y",
         "type": "bar"
        },
        {
         "alignmentgroup": "True",
         "hovertemplate": "classes=angry<br>methods=%{x}<br>count=%{y}<extra></extra>",
         "legendgroup": "angry",
         "marker": {
          "color": "rgb(204, 80, 62)",
          "pattern": {
           "shape": ""
          }
         },
         "name": "angry",
         "offsetgroup": "angry",
         "orientation": "v",
         "showlegend": true,
         "textposition": "auto",
         "x": [
          "1.",
          "2.",
          "3."
         ],
         "xaxis": "x",
         "y": [
          516.0,
          516.0,
          642.0
         ],
         "yaxis": "y",
         "type": "bar"
        },
        {
         "alignmentgroup": "True",
         "hovertemplate": "classes=happy<br>methods=%{x}<br>count=%{y}<extra></extra>",
         "legendgroup": "happy",
         "marker": {
          "color": "rgb(237, 173, 8)",
          "pattern": {
           "shape": ""
          }
         },
         "name": "happy",
         "offsetgroup": "happy",
         "orientation": "v",
         "showlegend": true,
         "textposition": "auto",
         "x": [
          "1.",
          "2.",
          "3."
         ],
         "xaxis": "x",
         "y": [
          635.0,
          826.0,
          588.0
         ],
         "yaxis": "y",
         "type": "bar"
        },
        {
         "alignmentgroup": "True",
         "hovertemplate": "classes=relaxed<br>methods=%{x}<br>count=%{y}<extra></extra>",
         "legendgroup": "relaxed",
         "marker": {
          "color": "rgb(115, 175, 72)",
          "pattern": {
           "shape": ""
          }
         },
         "name": "relaxed",
         "offsetgroup": "relaxed",
         "orientation": "v",
         "showlegend": true,
         "textposition": "auto",
         "x": [
          "1.",
          "2.",
          "3."
         ],
         "xaxis": "x",
         "y": [
          692.0,
          692.0,
          817.0
         ],
         "yaxis": "y",
         "type": "bar"
        },
        {
         "alignmentgroup": "True",
         "hovertemplate": "classes=sad<br>methods=%{x}<br>count=%{y}<extra></extra>",
         "legendgroup": "sad",
         "marker": {
          "color": "rgb(29, 105, 150)",
          "pattern": {
           "shape": ""
          }
         },
         "name": "sad",
         "offsetgroup": "sad",
         "orientation": "v",
         "showlegend": true,
         "textposition": "auto",
         "x": [
          "1.",
          "2.",
          "3."
         ],
         "xaxis": "x",
         "y": [
          604.0,
          604.0,
          591.0
         ],
         "yaxis": "y",
         "type": "bar"
        }
       ],
       "layout": {
        "template": {
         "data": {
          "bar": [
           {
            "error_x": {
             "color": "#2a3f5f"
            },
            "error_y": {
             "color": "#2a3f5f"
            },
            "marker": {
             "line": {
              "color": "#E5ECF6",
              "width": 0.5
             },
             "pattern": {
              "fillmode": "overlay",
              "size": 10,
              "solidity": 0.2
             }
            },
            "type": "bar"
           }
          ],
          "barpolar": [
           {
            "marker": {
             "line": {
              "color": "#E5ECF6",
              "width": 0.5
             },
             "pattern": {
              "fillmode": "overlay",
              "size": 10,
              "solidity": 0.2
             }
            },
            "type": "barpolar"
           }
          ],
          "carpet": [
           {
            "aaxis": {
             "endlinecolor": "#2a3f5f",
             "gridcolor": "white",
             "linecolor": "white",
             "minorgridcolor": "white",
             "startlinecolor": "#2a3f5f"
            },
            "baxis": {
             "endlinecolor": "#2a3f5f",
             "gridcolor": "white",
             "linecolor": "white",
             "minorgridcolor": "white",
             "startlinecolor": "#2a3f5f"
            },
            "type": "carpet"
           }
          ],
          "choropleth": [
           {
            "colorbar": {
             "outlinewidth": 0,
             "ticks": ""
            },
            "type": "choropleth"
           }
          ],
          "contour": [
           {
            "colorbar": {
             "outlinewidth": 0,
             "ticks": ""
            },
            "colorscale": [
             [
              0.0,
              "#0d0887"
             ],
             [
              0.1111111111111111,
              "#46039f"
             ],
             [
              0.2222222222222222,
              "#7201a8"
             ],
             [
              0.3333333333333333,
              "#9c179e"
             ],
             [
              0.4444444444444444,
              "#bd3786"
             ],
             [
              0.5555555555555556,
              "#d8576b"
             ],
             [
              0.6666666666666666,
              "#ed7953"
             ],
             [
              0.7777777777777778,
              "#fb9f3a"
             ],
             [
              0.8888888888888888,
              "#fdca26"
             ],
             [
              1.0,
              "#f0f921"
             ]
            ],
            "type": "contour"
           }
          ],
          "contourcarpet": [
           {
            "colorbar": {
             "outlinewidth": 0,
             "ticks": ""
            },
            "type": "contourcarpet"
           }
          ],
          "heatmap": [
           {
            "colorbar": {
             "outlinewidth": 0,
             "ticks": ""
            },
            "colorscale": [
             [
              0.0,
              "#0d0887"
             ],
             [
              0.1111111111111111,
              "#46039f"
             ],
             [
              0.2222222222222222,
              "#7201a8"
             ],
             [
              0.3333333333333333,
              "#9c179e"
             ],
             [
              0.4444444444444444,
              "#bd3786"
             ],
             [
              0.5555555555555556,
              "#d8576b"
             ],
             [
              0.6666666666666666,
              "#ed7953"
             ],
             [
              0.7777777777777778,
              "#fb9f3a"
             ],
             [
              0.8888888888888888,
              "#fdca26"
             ],
             [
              1.0,
              "#f0f921"
             ]
            ],
            "type": "heatmap"
           }
          ],
          "heatmapgl": [
           {
            "colorbar": {
             "outlinewidth": 0,
             "ticks": ""
            },
            "colorscale": [
             [
              0.0,
              "#0d0887"
             ],
             [
              0.1111111111111111,
              "#46039f"
             ],
             [
              0.2222222222222222,
              "#7201a8"
             ],
             [
              0.3333333333333333,
              "#9c179e"
             ],
             [
              0.4444444444444444,
              "#bd3786"
             ],
             [
              0.5555555555555556,
              "#d8576b"
             ],
             [
              0.6666666666666666,
              "#ed7953"
             ],
             [
              0.7777777777777778,
              "#fb9f3a"
             ],
             [
              0.8888888888888888,
              "#fdca26"
             ],
             [
              1.0,
              "#f0f921"
             ]
            ],
            "type": "heatmapgl"
           }
          ],
          "histogram": [
           {
            "marker": {
             "pattern": {
              "fillmode": "overlay",
              "size": 10,
              "solidity": 0.2
             }
            },
            "type": "histogram"
           }
          ],
          "histogram2d": [
           {
            "colorbar": {
             "outlinewidth": 0,
             "ticks": ""
            },
            "colorscale": [
             [
              0.0,
              "#0d0887"
             ],
             [
              0.1111111111111111,
              "#46039f"
             ],
             [
              0.2222222222222222,
              "#7201a8"
             ],
             [
              0.3333333333333333,
              "#9c179e"
             ],
             [
              0.4444444444444444,
              "#bd3786"
             ],
             [
              0.5555555555555556,
              "#d8576b"
             ],
             [
              0.6666666666666666,
              "#ed7953"
             ],
             [
              0.7777777777777778,
              "#fb9f3a"
             ],
             [
              0.8888888888888888,
              "#fdca26"
             ],
             [
              1.0,
              "#f0f921"
             ]
            ],
            "type": "histogram2d"
           }
          ],
          "histogram2dcontour": [
           {
            "colorbar": {
             "outlinewidth": 0,
             "ticks": ""
            },
            "colorscale": [
             [
              0.0,
              "#0d0887"
             ],
             [
              0.1111111111111111,
              "#46039f"
             ],
             [
              0.2222222222222222,
              "#7201a8"
             ],
             [
              0.3333333333333333,
              "#9c179e"
             ],
             [
              0.4444444444444444,
              "#bd3786"
             ],
             [
              0.5555555555555556,
              "#d8576b"
             ],
             [
              0.6666666666666666,
              "#ed7953"
             ],
             [
              0.7777777777777778,
              "#fb9f3a"
             ],
             [
              0.8888888888888888,
              "#fdca26"
             ],
             [
              1.0,
              "#f0f921"
             ]
            ],
            "type": "histogram2dcontour"
           }
          ],
          "mesh3d": [
           {
            "colorbar": {
             "outlinewidth": 0,
             "ticks": ""
            },
            "type": "mesh3d"
           }
          ],
          "parcoords": [
           {
            "line": {
             "colorbar": {
              "outlinewidth": 0,
              "ticks": ""
             }
            },
            "type": "parcoords"
           }
          ],
          "pie": [
           {
            "automargin": true,
            "type": "pie"
           }
          ],
          "scatter": [
           {
            "marker": {
             "colorbar": {
              "outlinewidth": 0,
              "ticks": ""
             }
            },
            "type": "scatter"
           }
          ],
          "scatter3d": [
           {
            "line": {
             "colorbar": {
              "outlinewidth": 0,
              "ticks": ""
             }
            },
            "marker": {
             "colorbar": {
              "outlinewidth": 0,
              "ticks": ""
             }
            },
            "type": "scatter3d"
           }
          ],
          "scattercarpet": [
           {
            "marker": {
             "colorbar": {
              "outlinewidth": 0,
              "ticks": ""
             }
            },
            "type": "scattercarpet"
           }
          ],
          "scattergeo": [
           {
            "marker": {
             "colorbar": {
              "outlinewidth": 0,
              "ticks": ""
             }
            },
            "type": "scattergeo"
           }
          ],
          "scattergl": [
           {
            "marker": {
             "colorbar": {
              "outlinewidth": 0,
              "ticks": ""
             }
            },
            "type": "scattergl"
           }
          ],
          "scattermapbox": [
           {
            "marker": {
             "colorbar": {
              "outlinewidth": 0,
              "ticks": ""
             }
            },
            "type": "scattermapbox"
           }
          ],
          "scatterpolar": [
           {
            "marker": {
             "colorbar": {
              "outlinewidth": 0,
              "ticks": ""
             }
            },
            "type": "scatterpolar"
           }
          ],
          "scatterpolargl": [
           {
            "marker": {
             "colorbar": {
              "outlinewidth": 0,
              "ticks": ""
             }
            },
            "type": "scatterpolargl"
           }
          ],
          "scatterternary": [
           {
            "marker": {
             "colorbar": {
              "outlinewidth": 0,
              "ticks": ""
             }
            },
            "type": "scatterternary"
           }
          ],
          "surface": [
           {
            "colorbar": {
             "outlinewidth": 0,
             "ticks": ""
            },
            "colorscale": [
             [
              0.0,
              "#0d0887"
             ],
             [
              0.1111111111111111,
              "#46039f"
             ],
             [
              0.2222222222222222,
              "#7201a8"
             ],
             [
              0.3333333333333333,
              "#9c179e"
             ],
             [
              0.4444444444444444,
              "#bd3786"
             ],
             [
              0.5555555555555556,
              "#d8576b"
             ],
             [
              0.6666666666666666,
              "#ed7953"
             ],
             [
              0.7777777777777778,
              "#fb9f3a"
             ],
             [
              0.8888888888888888,
              "#fdca26"
             ],
             [
              1.0,
              "#f0f921"
             ]
            ],
            "type": "surface"
           }
          ],
          "table": [
           {
            "cells": {
             "fill": {
              "color": "#EBF0F8"
             },
             "line": {
              "color": "white"
             }
            },
            "header": {
             "fill": {
              "color": "#C8D4E3"
             },
             "line": {
              "color": "white"
             }
            },
            "type": "table"
           }
          ]
         },
         "layout": {
          "annotationdefaults": {
           "arrowcolor": "#2a3f5f",
           "arrowhead": 0,
           "arrowwidth": 1
          },
          "autotypenumbers": "strict",
          "coloraxis": {
           "colorbar": {
            "outlinewidth": 0,
            "ticks": ""
           }
          },
          "colorscale": {
           "diverging": [
            [
             0,
             "#8e0152"
            ],
            [
             0.1,
             "#c51b7d"
            ],
            [
             0.2,
             "#de77ae"
            ],
            [
             0.3,
             "#f1b6da"
            ],
            [
             0.4,
             "#fde0ef"
            ],
            [
             0.5,
             "#f7f7f7"
            ],
            [
             0.6,
             "#e6f5d0"
            ],
            [
             0.7,
             "#b8e186"
            ],
            [
             0.8,
             "#7fbc41"
            ],
            [
             0.9,
             "#4d9221"
            ],
            [
             1,
             "#276419"
            ]
           ],
           "sequential": [
            [
             0.0,
             "#0d0887"
            ],
            [
             0.1111111111111111,
             "#46039f"
            ],
            [
             0.2222222222222222,
             "#7201a8"
            ],
            [
             0.3333333333333333,
             "#9c179e"
            ],
            [
             0.4444444444444444,
             "#bd3786"
            ],
            [
             0.5555555555555556,
             "#d8576b"
            ],
            [
             0.6666666666666666,
             "#ed7953"
            ],
            [
             0.7777777777777778,
             "#fb9f3a"
            ],
            [
             0.8888888888888888,
             "#fdca26"
            ],
            [
             1.0,
             "#f0f921"
            ]
           ],
           "sequentialminus": [
            [
             0.0,
             "#0d0887"
            ],
            [
             0.1111111111111111,
             "#46039f"
            ],
            [
             0.2222222222222222,
             "#7201a8"
            ],
            [
             0.3333333333333333,
             "#9c179e"
            ],
            [
             0.4444444444444444,
             "#bd3786"
            ],
            [
             0.5555555555555556,
             "#d8576b"
            ],
            [
             0.6666666666666666,
             "#ed7953"
            ],
            [
             0.7777777777777778,
             "#fb9f3a"
            ],
            [
             0.8888888888888888,
             "#fdca26"
            ],
            [
             1.0,
             "#f0f921"
            ]
           ]
          },
          "colorway": [
           "#636efa",
           "#EF553B",
           "#00cc96",
           "#ab63fa",
           "#FFA15A",
           "#19d3f3",
           "#FF6692",
           "#B6E880",
           "#FF97FF",
           "#FECB52"
          ],
          "font": {
           "color": "#2a3f5f"
          },
          "geo": {
           "bgcolor": "white",
           "lakecolor": "white",
           "landcolor": "#E5ECF6",
           "showlakes": true,
           "showland": true,
           "subunitcolor": "white"
          },
          "hoverlabel": {
           "align": "left"
          },
          "hovermode": "closest",
          "mapbox": {
           "style": "light"
          },
          "paper_bgcolor": "white",
          "plot_bgcolor": "#E5ECF6",
          "polar": {
           "angularaxis": {
            "gridcolor": "white",
            "linecolor": "white",
            "ticks": ""
           },
           "bgcolor": "#E5ECF6",
           "radialaxis": {
            "gridcolor": "white",
            "linecolor": "white",
            "ticks": ""
           }
          },
          "scene": {
           "xaxis": {
            "backgroundcolor": "#E5ECF6",
            "gridcolor": "white",
            "gridwidth": 2,
            "linecolor": "white",
            "showbackground": true,
            "ticks": "",
            "zerolinecolor": "white"
           },
           "yaxis": {
            "backgroundcolor": "#E5ECF6",
            "gridcolor": "white",
            "gridwidth": 2,
            "linecolor": "white",
            "showbackground": true,
            "ticks": "",
            "zerolinecolor": "white"
           },
           "zaxis": {
            "backgroundcolor": "#E5ECF6",
            "gridcolor": "white",
            "gridwidth": 2,
            "linecolor": "white",
            "showbackground": true,
            "ticks": "",
            "zerolinecolor": "white"
           }
          },
          "shapedefaults": {
           "line": {
            "color": "#2a3f5f"
           }
          },
          "ternary": {
           "aaxis": {
            "gridcolor": "white",
            "linecolor": "white",
            "ticks": ""
           },
           "baxis": {
            "gridcolor": "white",
            "linecolor": "white",
            "ticks": ""
           },
           "bgcolor": "#E5ECF6",
           "caxis": {
            "gridcolor": "white",
            "linecolor": "white",
            "ticks": ""
           }
          },
          "title": {
           "x": 0.05
          },
          "xaxis": {
           "automargin": true,
           "gridcolor": "white",
           "linecolor": "white",
           "ticks": "",
           "title": {
            "standoff": 15
           },
           "zerolinecolor": "white",
           "zerolinewidth": 2
          },
          "yaxis": {
           "automargin": true,
           "gridcolor": "white",
           "linecolor": "white",
           "ticks": "",
           "title": {
            "standoff": 15
           },
           "zerolinecolor": "white",
           "zerolinewidth": 2
          }
         }
        },
        "xaxis": {
         "anchor": "y",
         "domain": [
          0.0,
          1.0
         ],
         "title": {
          "text": "methods"
         }
        },
        "yaxis": {
         "anchor": "x",
         "domain": [
          0.0,
          1.0
         ],
         "title": {
          "text": "count"
         }
        },
        "legend": {
         "title": {
          "text": "classes"
         },
         "tracegroupgap": 0
        },
        "title": {
         "text": "Class distributions"
        },
        "barmode": "relative",
        "height": 400,
        "width": 600
       },
       "config": {
        "plotlyServerURL": "https://plot.ly"
       }
      },
      "text/html": "<div>                            <div id=\"54153139-296c-43aa-af5d-fabe18e51fb1\" class=\"plotly-graph-div\" style=\"height:400px; width:600px;\"></div>            <script type=\"text/javascript\">                require([\"plotly\"], function(Plotly) {                    window.PLOTLYENV=window.PLOTLYENV || {};                                    if (document.getElementById(\"54153139-296c-43aa-af5d-fabe18e51fb1\")) {                    Plotly.newPlot(                        \"54153139-296c-43aa-af5d-fabe18e51fb1\",                        [{\"alignmentgroup\":\"True\",\"hovertemplate\":\"classes=None<br>methods=%{x}<br>count=%{y}<extra></extra>\",\"legendgroup\":\"None\",\"marker\":{\"color\":\"rgb(102, 102, 102)\",\"pattern\":{\"shape\":\"\"}},\"name\":\"None\",\"offsetgroup\":\"None\",\"orientation\":\"v\",\"showlegend\":true,\"textposition\":\"auto\",\"x\":[\"1.\",\"2.\",\"3.\"],\"xaxis\":\"x\",\"y\":[191.0,0.0,0.0],\"yaxis\":\"y\",\"type\":\"bar\"},{\"alignmentgroup\":\"True\",\"hovertemplate\":\"classes=angry<br>methods=%{x}<br>count=%{y}<extra></extra>\",\"legendgroup\":\"angry\",\"marker\":{\"color\":\"rgb(204, 80, 62)\",\"pattern\":{\"shape\":\"\"}},\"name\":\"angry\",\"offsetgroup\":\"angry\",\"orientation\":\"v\",\"showlegend\":true,\"textposition\":\"auto\",\"x\":[\"1.\",\"2.\",\"3.\"],\"xaxis\":\"x\",\"y\":[516.0,516.0,642.0],\"yaxis\":\"y\",\"type\":\"bar\"},{\"alignmentgroup\":\"True\",\"hovertemplate\":\"classes=happy<br>methods=%{x}<br>count=%{y}<extra></extra>\",\"legendgroup\":\"happy\",\"marker\":{\"color\":\"rgb(237, 173, 8)\",\"pattern\":{\"shape\":\"\"}},\"name\":\"happy\",\"offsetgroup\":\"happy\",\"orientation\":\"v\",\"showlegend\":true,\"textposition\":\"auto\",\"x\":[\"1.\",\"2.\",\"3.\"],\"xaxis\":\"x\",\"y\":[635.0,826.0,588.0],\"yaxis\":\"y\",\"type\":\"bar\"},{\"alignmentgroup\":\"True\",\"hovertemplate\":\"classes=relaxed<br>methods=%{x}<br>count=%{y}<extra></extra>\",\"legendgroup\":\"relaxed\",\"marker\":{\"color\":\"rgb(115, 175, 72)\",\"pattern\":{\"shape\":\"\"}},\"name\":\"relaxed\",\"offsetgroup\":\"relaxed\",\"orientation\":\"v\",\"showlegend\":true,\"textposition\":\"auto\",\"x\":[\"1.\",\"2.\",\"3.\"],\"xaxis\":\"x\",\"y\":[692.0,692.0,817.0],\"yaxis\":\"y\",\"type\":\"bar\"},{\"alignmentgroup\":\"True\",\"hovertemplate\":\"classes=sad<br>methods=%{x}<br>count=%{y}<extra></extra>\",\"legendgroup\":\"sad\",\"marker\":{\"color\":\"rgb(29, 105, 150)\",\"pattern\":{\"shape\":\"\"}},\"name\":\"sad\",\"offsetgroup\":\"sad\",\"orientation\":\"v\",\"showlegend\":true,\"textposition\":\"auto\",\"x\":[\"1.\",\"2.\",\"3.\"],\"xaxis\":\"x\",\"y\":[604.0,604.0,591.0],\"yaxis\":\"y\",\"type\":\"bar\"}],                        {\"template\":{\"data\":{\"bar\":[{\"error_x\":{\"color\":\"#2a3f5f\"},\"error_y\":{\"color\":\"#2a3f5f\"},\"marker\":{\"line\":{\"color\":\"#E5ECF6\",\"width\":0.5},\"pattern\":{\"fillmode\":\"overlay\",\"size\":10,\"solidity\":0.2}},\"type\":\"bar\"}],\"barpolar\":[{\"marker\":{\"line\":{\"color\":\"#E5ECF6\",\"width\":0.5},\"pattern\":{\"fillmode\":\"overlay\",\"size\":10,\"solidity\":0.2}},\"type\":\"barpolar\"}],\"carpet\":[{\"aaxis\":{\"endlinecolor\":\"#2a3f5f\",\"gridcolor\":\"white\",\"linecolor\":\"white\",\"minorgridcolor\":\"white\",\"startlinecolor\":\"#2a3f5f\"},\"baxis\":{\"endlinecolor\":\"#2a3f5f\",\"gridcolor\":\"white\",\"linecolor\":\"white\",\"minorgridcolor\":\"white\",\"startlinecolor\":\"#2a3f5f\"},\"type\":\"carpet\"}],\"choropleth\":[{\"colorbar\":{\"outlinewidth\":0,\"ticks\":\"\"},\"type\":\"choropleth\"}],\"contour\":[{\"colorbar\":{\"outlinewidth\":0,\"ticks\":\"\"},\"colorscale\":[[0.0,\"#0d0887\"],[0.1111111111111111,\"#46039f\"],[0.2222222222222222,\"#7201a8\"],[0.3333333333333333,\"#9c179e\"],[0.4444444444444444,\"#bd3786\"],[0.5555555555555556,\"#d8576b\"],[0.6666666666666666,\"#ed7953\"],[0.7777777777777778,\"#fb9f3a\"],[0.8888888888888888,\"#fdca26\"],[1.0,\"#f0f921\"]],\"type\":\"contour\"}],\"contourcarpet\":[{\"colorbar\":{\"outlinewidth\":0,\"ticks\":\"\"},\"type\":\"contourcarpet\"}],\"heatmap\":[{\"colorbar\":{\"outlinewidth\":0,\"ticks\":\"\"},\"colorscale\":[[0.0,\"#0d0887\"],[0.1111111111111111,\"#46039f\"],[0.2222222222222222,\"#7201a8\"],[0.3333333333333333,\"#9c179e\"],[0.4444444444444444,\"#bd3786\"],[0.5555555555555556,\"#d8576b\"],[0.6666666666666666,\"#ed7953\"],[0.7777777777777778,\"#fb9f3a\"],[0.8888888888888888,\"#fdca26\"],[1.0,\"#f0f921\"]],\"type\":\"heatmap\"}],\"heatmapgl\":[{\"colorbar\":{\"outlinewidth\":0,\"ticks\":\"\"},\"colorscale\":[[0.0,\"#0d0887\"],[0.1111111111111111,\"#46039f\"],[0.2222222222222222,\"#7201a8\"],[0.3333333333333333,\"#9c179e\"],[0.4444444444444444,\"#bd3786\"],[0.5555555555555556,\"#d8576b\"],[0.6666666666666666,\"#ed7953\"],[0.7777777777777778,\"#fb9f3a\"],[0.8888888888888888,\"#fdca26\"],[1.0,\"#f0f921\"]],\"type\":\"heatmapgl\"}],\"histogram\":[{\"marker\":{\"pattern\":{\"fillmode\":\"overlay\",\"size\":10,\"solidity\":0.2}},\"type\":\"histogram\"}],\"histogram2d\":[{\"colorbar\":{\"outlinewidth\":0,\"ticks\":\"\"},\"colorscale\":[[0.0,\"#0d0887\"],[0.1111111111111111,\"#46039f\"],[0.2222222222222222,\"#7201a8\"],[0.3333333333333333,\"#9c179e\"],[0.4444444444444444,\"#bd3786\"],[0.5555555555555556,\"#d8576b\"],[0.6666666666666666,\"#ed7953\"],[0.7777777777777778,\"#fb9f3a\"],[0.8888888888888888,\"#fdca26\"],[1.0,\"#f0f921\"]],\"type\":\"histogram2d\"}],\"histogram2dcontour\":[{\"colorbar\":{\"outlinewidth\":0,\"ticks\":\"\"},\"colorscale\":[[0.0,\"#0d0887\"],[0.1111111111111111,\"#46039f\"],[0.2222222222222222,\"#7201a8\"],[0.3333333333333333,\"#9c179e\"],[0.4444444444444444,\"#bd3786\"],[0.5555555555555556,\"#d8576b\"],[0.6666666666666666,\"#ed7953\"],[0.7777777777777778,\"#fb9f3a\"],[0.8888888888888888,\"#fdca26\"],[1.0,\"#f0f921\"]],\"type\":\"histogram2dcontour\"}],\"mesh3d\":[{\"colorbar\":{\"outlinewidth\":0,\"ticks\":\"\"},\"type\":\"mesh3d\"}],\"parcoords\":[{\"line\":{\"colorbar\":{\"outlinewidth\":0,\"ticks\":\"\"}},\"type\":\"parcoords\"}],\"pie\":[{\"automargin\":true,\"type\":\"pie\"}],\"scatter\":[{\"marker\":{\"colorbar\":{\"outlinewidth\":0,\"ticks\":\"\"}},\"type\":\"scatter\"}],\"scatter3d\":[{\"line\":{\"colorbar\":{\"outlinewidth\":0,\"ticks\":\"\"}},\"marker\":{\"colorbar\":{\"outlinewidth\":0,\"ticks\":\"\"}},\"type\":\"scatter3d\"}],\"scattercarpet\":[{\"marker\":{\"colorbar\":{\"outlinewidth\":0,\"ticks\":\"\"}},\"type\":\"scattercarpet\"}],\"scattergeo\":[{\"marker\":{\"colorbar\":{\"outlinewidth\":0,\"ticks\":\"\"}},\"type\":\"scattergeo\"}],\"scattergl\":[{\"marker\":{\"colorbar\":{\"outlinewidth\":0,\"ticks\":\"\"}},\"type\":\"scattergl\"}],\"scattermapbox\":[{\"marker\":{\"colorbar\":{\"outlinewidth\":0,\"ticks\":\"\"}},\"type\":\"scattermapbox\"}],\"scatterpolar\":[{\"marker\":{\"colorbar\":{\"outlinewidth\":0,\"ticks\":\"\"}},\"type\":\"scatterpolar\"}],\"scatterpolargl\":[{\"marker\":{\"colorbar\":{\"outlinewidth\":0,\"ticks\":\"\"}},\"type\":\"scatterpolargl\"}],\"scatterternary\":[{\"marker\":{\"colorbar\":{\"outlinewidth\":0,\"ticks\":\"\"}},\"type\":\"scatterternary\"}],\"surface\":[{\"colorbar\":{\"outlinewidth\":0,\"ticks\":\"\"},\"colorscale\":[[0.0,\"#0d0887\"],[0.1111111111111111,\"#46039f\"],[0.2222222222222222,\"#7201a8\"],[0.3333333333333333,\"#9c179e\"],[0.4444444444444444,\"#bd3786\"],[0.5555555555555556,\"#d8576b\"],[0.6666666666666666,\"#ed7953\"],[0.7777777777777778,\"#fb9f3a\"],[0.8888888888888888,\"#fdca26\"],[1.0,\"#f0f921\"]],\"type\":\"surface\"}],\"table\":[{\"cells\":{\"fill\":{\"color\":\"#EBF0F8\"},\"line\":{\"color\":\"white\"}},\"header\":{\"fill\":{\"color\":\"#C8D4E3\"},\"line\":{\"color\":\"white\"}},\"type\":\"table\"}]},\"layout\":{\"annotationdefaults\":{\"arrowcolor\":\"#2a3f5f\",\"arrowhead\":0,\"arrowwidth\":1},\"autotypenumbers\":\"strict\",\"coloraxis\":{\"colorbar\":{\"outlinewidth\":0,\"ticks\":\"\"}},\"colorscale\":{\"diverging\":[[0,\"#8e0152\"],[0.1,\"#c51b7d\"],[0.2,\"#de77ae\"],[0.3,\"#f1b6da\"],[0.4,\"#fde0ef\"],[0.5,\"#f7f7f7\"],[0.6,\"#e6f5d0\"],[0.7,\"#b8e186\"],[0.8,\"#7fbc41\"],[0.9,\"#4d9221\"],[1,\"#276419\"]],\"sequential\":[[0.0,\"#0d0887\"],[0.1111111111111111,\"#46039f\"],[0.2222222222222222,\"#7201a8\"],[0.3333333333333333,\"#9c179e\"],[0.4444444444444444,\"#bd3786\"],[0.5555555555555556,\"#d8576b\"],[0.6666666666666666,\"#ed7953\"],[0.7777777777777778,\"#fb9f3a\"],[0.8888888888888888,\"#fdca26\"],[1.0,\"#f0f921\"]],\"sequentialminus\":[[0.0,\"#0d0887\"],[0.1111111111111111,\"#46039f\"],[0.2222222222222222,\"#7201a8\"],[0.3333333333333333,\"#9c179e\"],[0.4444444444444444,\"#bd3786\"],[0.5555555555555556,\"#d8576b\"],[0.6666666666666666,\"#ed7953\"],[0.7777777777777778,\"#fb9f3a\"],[0.8888888888888888,\"#fdca26\"],[1.0,\"#f0f921\"]]},\"colorway\":[\"#636efa\",\"#EF553B\",\"#00cc96\",\"#ab63fa\",\"#FFA15A\",\"#19d3f3\",\"#FF6692\",\"#B6E880\",\"#FF97FF\",\"#FECB52\"],\"font\":{\"color\":\"#2a3f5f\"},\"geo\":{\"bgcolor\":\"white\",\"lakecolor\":\"white\",\"landcolor\":\"#E5ECF6\",\"showlakes\":true,\"showland\":true,\"subunitcolor\":\"white\"},\"hoverlabel\":{\"align\":\"left\"},\"hovermode\":\"closest\",\"mapbox\":{\"style\":\"light\"},\"paper_bgcolor\":\"white\",\"plot_bgcolor\":\"#E5ECF6\",\"polar\":{\"angularaxis\":{\"gridcolor\":\"white\",\"linecolor\":\"white\",\"ticks\":\"\"},\"bgcolor\":\"#E5ECF6\",\"radialaxis\":{\"gridcolor\":\"white\",\"linecolor\":\"white\",\"ticks\":\"\"}},\"scene\":{\"xaxis\":{\"backgroundcolor\":\"#E5ECF6\",\"gridcolor\":\"white\",\"gridwidth\":2,\"linecolor\":\"white\",\"showbackground\":true,\"ticks\":\"\",\"zerolinecolor\":\"white\"},\"yaxis\":{\"backgroundcolor\":\"#E5ECF6\",\"gridcolor\":\"white\",\"gridwidth\":2,\"linecolor\":\"white\",\"showbackground\":true,\"ticks\":\"\",\"zerolinecolor\":\"white\"},\"zaxis\":{\"backgroundcolor\":\"#E5ECF6\",\"gridcolor\":\"white\",\"gridwidth\":2,\"linecolor\":\"white\",\"showbackground\":true,\"ticks\":\"\",\"zerolinecolor\":\"white\"}},\"shapedefaults\":{\"line\":{\"color\":\"#2a3f5f\"}},\"ternary\":{\"aaxis\":{\"gridcolor\":\"white\",\"linecolor\":\"white\",\"ticks\":\"\"},\"baxis\":{\"gridcolor\":\"white\",\"linecolor\":\"white\",\"ticks\":\"\"},\"bgcolor\":\"#E5ECF6\",\"caxis\":{\"gridcolor\":\"white\",\"linecolor\":\"white\",\"ticks\":\"\"}},\"title\":{\"x\":0.05},\"xaxis\":{\"automargin\":true,\"gridcolor\":\"white\",\"linecolor\":\"white\",\"ticks\":\"\",\"title\":{\"standoff\":15},\"zerolinecolor\":\"white\",\"zerolinewidth\":2},\"yaxis\":{\"automargin\":true,\"gridcolor\":\"white\",\"linecolor\":\"white\",\"ticks\":\"\",\"title\":{\"standoff\":15},\"zerolinecolor\":\"white\",\"zerolinewidth\":2}}},\"xaxis\":{\"anchor\":\"y\",\"domain\":[0.0,1.0],\"title\":{\"text\":\"methods\"}},\"yaxis\":{\"anchor\":\"x\",\"domain\":[0.0,1.0],\"title\":{\"text\":\"count\"}},\"legend\":{\"title\":{\"text\":\"classes\"},\"tracegroupgap\":0},\"title\":{\"text\":\"Class distributions\"},\"barmode\":\"relative\",\"height\":400,\"width\":600},                        {\"responsive\": true}                    ).then(function(){\n                            \nvar gd = document.getElementById('54153139-296c-43aa-af5d-fabe18e51fb1');\nvar x = new MutationObserver(function (mutations, observer) {{\n        var display = window.getComputedStyle(gd).display;\n        if (!display || display === 'none') {{\n            console.log([gd, 'removed!']);\n            Plotly.purge(gd);\n            observer.disconnect();\n        }}\n}});\n\n// Listen for the removal of the full notebook cells\nvar notebookContainer = gd.closest('#notebook-container');\nif (notebookContainer) {{\n    x.observe(notebookContainer, {childList: true});\n}}\n\n// Listen for the clearing of the current output cell\nvar outputEl = gd.closest('.output');\nif (outputEl) {{\n    x.observe(outputEl, {childList: true});\n}}\n\n                        })                };                });            </script>        </div>"
     },
     "metadata": {},
     "output_type": "display_data"
    }
   ],
   "source": [
    "fig = px.bar(bar_df,\n",
    "             x=\"methods\",\n",
    "             y=\"count\",\n",
    "             color=\"classes\",\n",
    "             width=600,\n",
    "             height=400,\n",
    "             color_discrete_map={\n",
    "             \"sad\": px.colors.qualitative.Prism[1],\n",
    "             \"angry\": px.colors.qualitative.Prism[7],\n",
    "             \"relaxed\": px.colors.qualitative.Prism[4],\n",
    "             \"happy\": px.colors.qualitative.Prism[5],\n",
    "             \"None\": px.colors.qualitative.Prism[10]},\n",
    "             title=\"Class distributions\",)\n",
    "fig.show()"
   ],
   "metadata": {
    "collapsed": false,
    "pycharm": {
     "name": "#%%\n"
    }
   }
  },
  {
   "cell_type": "code",
   "execution_count": 279,
   "outputs": [],
   "source": [],
   "metadata": {
    "collapsed": false,
    "pycharm": {
     "name": "#%%\n"
    }
   }
  }
 ],
 "metadata": {
  "kernelspec": {
   "display_name": "Python 3",
   "language": "python",
   "name": "python3"
  },
  "language_info": {
   "codemirror_mode": {
    "name": "ipython",
    "version": 2
   },
   "file_extension": ".py",
   "mimetype": "text/x-python",
   "name": "python",
   "nbconvert_exporter": "python",
   "pygments_lexer": "ipython2",
   "version": "2.7.6"
  }
 },
 "nbformat": 4,
 "nbformat_minor": 0
}